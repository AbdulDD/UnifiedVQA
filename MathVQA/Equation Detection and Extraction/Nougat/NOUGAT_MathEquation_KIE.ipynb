{
  "nbformat": 4,
  "nbformat_minor": 0,
  "metadata": {
    "colab": {
      "provenance": []
    },
    "kernelspec": {
      "name": "python3",
      "display_name": "Python 3"
    },
    "language_info": {
      "name": "python"
    },
    "widgets": {
      "application/vnd.jupyter.widget-state+json": {
        "73582b87e2034fc6938d2ad84304428f": {
          "model_module": "@jupyter-widgets/controls",
          "model_name": "HBoxModel",
          "model_module_version": "2.0.0",
          "state": {
            "_dom_classes": [],
            "_model_module": "@jupyter-widgets/controls",
            "_model_module_version": "2.0.0",
            "_model_name": "HBoxModel",
            "_view_count": null,
            "_view_module": "@jupyter-widgets/controls",
            "_view_module_version": "2.0.0",
            "_view_name": "HBoxView",
            "box_style": "",
            "children": [
              "IPY_MODEL_e9e6cd3197d547ac98aa498aa0467fb0",
              "IPY_MODEL_8b9487dc15904cd1b2938844e0ba82cb",
              "IPY_MODEL_c5052296074f4736bb156bd1a19c486d"
            ],
            "layout": "IPY_MODEL_1f3b3caf6cd64e478a43fb14c6a2d0dc",
            "tabbable": null,
            "tooltip": null
          }
        },
        "e9e6cd3197d547ac98aa498aa0467fb0": {
          "model_module": "@jupyter-widgets/controls",
          "model_name": "HTMLModel",
          "model_module_version": "2.0.0",
          "state": {
            "_dom_classes": [],
            "_model_module": "@jupyter-widgets/controls",
            "_model_module_version": "2.0.0",
            "_model_name": "HTMLModel",
            "_view_count": null,
            "_view_module": "@jupyter-widgets/controls",
            "_view_module_version": "2.0.0",
            "_view_name": "HTMLView",
            "description": "",
            "description_allow_html": false,
            "layout": "IPY_MODEL_8827861a8c73476493f283b7ac73d8a2",
            "placeholder": "​",
            "style": "IPY_MODEL_b37c340687fd44a6bae7f2ad6f83b08c",
            "tabbable": null,
            "tooltip": null,
            "value": "Map: 100%"
          }
        },
        "8b9487dc15904cd1b2938844e0ba82cb": {
          "model_module": "@jupyter-widgets/controls",
          "model_name": "FloatProgressModel",
          "model_module_version": "2.0.0",
          "state": {
            "_dom_classes": [],
            "_model_module": "@jupyter-widgets/controls",
            "_model_module_version": "2.0.0",
            "_model_name": "FloatProgressModel",
            "_view_count": null,
            "_view_module": "@jupyter-widgets/controls",
            "_view_module_version": "2.0.0",
            "_view_name": "ProgressView",
            "bar_style": "success",
            "description": "",
            "description_allow_html": false,
            "layout": "IPY_MODEL_eb6f4073e7a64d84a7b7073f838eaa78",
            "max": 100,
            "min": 0,
            "orientation": "horizontal",
            "style": "IPY_MODEL_5b4ad3a8ebab41d0bf4a9e35019f10db",
            "tabbable": null,
            "tooltip": null,
            "value": 100
          }
        },
        "c5052296074f4736bb156bd1a19c486d": {
          "model_module": "@jupyter-widgets/controls",
          "model_name": "HTMLModel",
          "model_module_version": "2.0.0",
          "state": {
            "_dom_classes": [],
            "_model_module": "@jupyter-widgets/controls",
            "_model_module_version": "2.0.0",
            "_model_name": "HTMLModel",
            "_view_count": null,
            "_view_module": "@jupyter-widgets/controls",
            "_view_module_version": "2.0.0",
            "_view_name": "HTMLView",
            "description": "",
            "description_allow_html": false,
            "layout": "IPY_MODEL_cd0de2c4b45d4748ab9f5ab3fc5515d7",
            "placeholder": "​",
            "style": "IPY_MODEL_47dd1dbfcbe340db96b63c07ed9b3c38",
            "tabbable": null,
            "tooltip": null,
            "value": " 100/100 [01:21&lt;00:00,  2.65 examples/s]"
          }
        },
        "1f3b3caf6cd64e478a43fb14c6a2d0dc": {
          "model_module": "@jupyter-widgets/base",
          "model_name": "LayoutModel",
          "model_module_version": "2.0.0",
          "state": {
            "_model_module": "@jupyter-widgets/base",
            "_model_module_version": "2.0.0",
            "_model_name": "LayoutModel",
            "_view_count": null,
            "_view_module": "@jupyter-widgets/base",
            "_view_module_version": "2.0.0",
            "_view_name": "LayoutView",
            "align_content": null,
            "align_items": null,
            "align_self": null,
            "border_bottom": null,
            "border_left": null,
            "border_right": null,
            "border_top": null,
            "bottom": null,
            "display": null,
            "flex": null,
            "flex_flow": null,
            "grid_area": null,
            "grid_auto_columns": null,
            "grid_auto_flow": null,
            "grid_auto_rows": null,
            "grid_column": null,
            "grid_gap": null,
            "grid_row": null,
            "grid_template_areas": null,
            "grid_template_columns": null,
            "grid_template_rows": null,
            "height": null,
            "justify_content": null,
            "justify_items": null,
            "left": null,
            "margin": null,
            "max_height": null,
            "max_width": null,
            "min_height": null,
            "min_width": null,
            "object_fit": null,
            "object_position": null,
            "order": null,
            "overflow": null,
            "padding": null,
            "right": null,
            "top": null,
            "visibility": null,
            "width": null
          }
        },
        "8827861a8c73476493f283b7ac73d8a2": {
          "model_module": "@jupyter-widgets/base",
          "model_name": "LayoutModel",
          "model_module_version": "2.0.0",
          "state": {
            "_model_module": "@jupyter-widgets/base",
            "_model_module_version": "2.0.0",
            "_model_name": "LayoutModel",
            "_view_count": null,
            "_view_module": "@jupyter-widgets/base",
            "_view_module_version": "2.0.0",
            "_view_name": "LayoutView",
            "align_content": null,
            "align_items": null,
            "align_self": null,
            "border_bottom": null,
            "border_left": null,
            "border_right": null,
            "border_top": null,
            "bottom": null,
            "display": null,
            "flex": null,
            "flex_flow": null,
            "grid_area": null,
            "grid_auto_columns": null,
            "grid_auto_flow": null,
            "grid_auto_rows": null,
            "grid_column": null,
            "grid_gap": null,
            "grid_row": null,
            "grid_template_areas": null,
            "grid_template_columns": null,
            "grid_template_rows": null,
            "height": null,
            "justify_content": null,
            "justify_items": null,
            "left": null,
            "margin": null,
            "max_height": null,
            "max_width": null,
            "min_height": null,
            "min_width": null,
            "object_fit": null,
            "object_position": null,
            "order": null,
            "overflow": null,
            "padding": null,
            "right": null,
            "top": null,
            "visibility": null,
            "width": null
          }
        },
        "b37c340687fd44a6bae7f2ad6f83b08c": {
          "model_module": "@jupyter-widgets/controls",
          "model_name": "HTMLStyleModel",
          "model_module_version": "2.0.0",
          "state": {
            "_model_module": "@jupyter-widgets/controls",
            "_model_module_version": "2.0.0",
            "_model_name": "HTMLStyleModel",
            "_view_count": null,
            "_view_module": "@jupyter-widgets/base",
            "_view_module_version": "2.0.0",
            "_view_name": "StyleView",
            "background": null,
            "description_width": "",
            "font_size": null,
            "text_color": null
          }
        },
        "eb6f4073e7a64d84a7b7073f838eaa78": {
          "model_module": "@jupyter-widgets/base",
          "model_name": "LayoutModel",
          "model_module_version": "2.0.0",
          "state": {
            "_model_module": "@jupyter-widgets/base",
            "_model_module_version": "2.0.0",
            "_model_name": "LayoutModel",
            "_view_count": null,
            "_view_module": "@jupyter-widgets/base",
            "_view_module_version": "2.0.0",
            "_view_name": "LayoutView",
            "align_content": null,
            "align_items": null,
            "align_self": null,
            "border_bottom": null,
            "border_left": null,
            "border_right": null,
            "border_top": null,
            "bottom": null,
            "display": null,
            "flex": null,
            "flex_flow": null,
            "grid_area": null,
            "grid_auto_columns": null,
            "grid_auto_flow": null,
            "grid_auto_rows": null,
            "grid_column": null,
            "grid_gap": null,
            "grid_row": null,
            "grid_template_areas": null,
            "grid_template_columns": null,
            "grid_template_rows": null,
            "height": null,
            "justify_content": null,
            "justify_items": null,
            "left": null,
            "margin": null,
            "max_height": null,
            "max_width": null,
            "min_height": null,
            "min_width": null,
            "object_fit": null,
            "object_position": null,
            "order": null,
            "overflow": null,
            "padding": null,
            "right": null,
            "top": null,
            "visibility": null,
            "width": null
          }
        },
        "5b4ad3a8ebab41d0bf4a9e35019f10db": {
          "model_module": "@jupyter-widgets/controls",
          "model_name": "ProgressStyleModel",
          "model_module_version": "2.0.0",
          "state": {
            "_model_module": "@jupyter-widgets/controls",
            "_model_module_version": "2.0.0",
            "_model_name": "ProgressStyleModel",
            "_view_count": null,
            "_view_module": "@jupyter-widgets/base",
            "_view_module_version": "2.0.0",
            "_view_name": "StyleView",
            "bar_color": null,
            "description_width": ""
          }
        },
        "cd0de2c4b45d4748ab9f5ab3fc5515d7": {
          "model_module": "@jupyter-widgets/base",
          "model_name": "LayoutModel",
          "model_module_version": "2.0.0",
          "state": {
            "_model_module": "@jupyter-widgets/base",
            "_model_module_version": "2.0.0",
            "_model_name": "LayoutModel",
            "_view_count": null,
            "_view_module": "@jupyter-widgets/base",
            "_view_module_version": "2.0.0",
            "_view_name": "LayoutView",
            "align_content": null,
            "align_items": null,
            "align_self": null,
            "border_bottom": null,
            "border_left": null,
            "border_right": null,
            "border_top": null,
            "bottom": null,
            "display": null,
            "flex": null,
            "flex_flow": null,
            "grid_area": null,
            "grid_auto_columns": null,
            "grid_auto_flow": null,
            "grid_auto_rows": null,
            "grid_column": null,
            "grid_gap": null,
            "grid_row": null,
            "grid_template_areas": null,
            "grid_template_columns": null,
            "grid_template_rows": null,
            "height": null,
            "justify_content": null,
            "justify_items": null,
            "left": null,
            "margin": null,
            "max_height": null,
            "max_width": null,
            "min_height": null,
            "min_width": null,
            "object_fit": null,
            "object_position": null,
            "order": null,
            "overflow": null,
            "padding": null,
            "right": null,
            "top": null,
            "visibility": null,
            "width": null
          }
        },
        "47dd1dbfcbe340db96b63c07ed9b3c38": {
          "model_module": "@jupyter-widgets/controls",
          "model_name": "HTMLStyleModel",
          "model_module_version": "2.0.0",
          "state": {
            "_model_module": "@jupyter-widgets/controls",
            "_model_module_version": "2.0.0",
            "_model_name": "HTMLStyleModel",
            "_view_count": null,
            "_view_module": "@jupyter-widgets/base",
            "_view_module_version": "2.0.0",
            "_view_name": "StyleView",
            "background": null,
            "description_width": "",
            "font_size": null,
            "text_color": null
          }
        },
        "eec87c9417f84f658a73a50581c350f9": {
          "model_module": "@jupyter-widgets/controls",
          "model_name": "HBoxModel",
          "model_module_version": "2.0.0",
          "state": {
            "_dom_classes": [],
            "_model_module": "@jupyter-widgets/controls",
            "_model_module_version": "2.0.0",
            "_model_name": "HBoxModel",
            "_view_count": null,
            "_view_module": "@jupyter-widgets/controls",
            "_view_module_version": "2.0.0",
            "_view_name": "HBoxView",
            "box_style": "",
            "children": [
              "IPY_MODEL_4d2f60e921c24c3d88ffada983b0af64",
              "IPY_MODEL_1c86e548ebf6487bb0d3519bdcc1686a",
              "IPY_MODEL_f128226221fa4e13a09fb7bf757bd1eb"
            ],
            "layout": "IPY_MODEL_9af0aaf26b314a5593bd34a2d24be2a2",
            "tabbable": null,
            "tooltip": null
          }
        },
        "4d2f60e921c24c3d88ffada983b0af64": {
          "model_module": "@jupyter-widgets/controls",
          "model_name": "HTMLModel",
          "model_module_version": "2.0.0",
          "state": {
            "_dom_classes": [],
            "_model_module": "@jupyter-widgets/controls",
            "_model_module_version": "2.0.0",
            "_model_name": "HTMLModel",
            "_view_count": null,
            "_view_module": "@jupyter-widgets/controls",
            "_view_module_version": "2.0.0",
            "_view_name": "HTMLView",
            "description": "",
            "description_allow_html": false,
            "layout": "IPY_MODEL_d273f70d16d946fdaaa51befb05e8932",
            "placeholder": "​",
            "style": "IPY_MODEL_719c6c6c47ef48218aac59747f980897",
            "tabbable": null,
            "tooltip": null,
            "value": "Map: 100%"
          }
        },
        "1c86e548ebf6487bb0d3519bdcc1686a": {
          "model_module": "@jupyter-widgets/controls",
          "model_name": "FloatProgressModel",
          "model_module_version": "2.0.0",
          "state": {
            "_dom_classes": [],
            "_model_module": "@jupyter-widgets/controls",
            "_model_module_version": "2.0.0",
            "_model_name": "FloatProgressModel",
            "_view_count": null,
            "_view_module": "@jupyter-widgets/controls",
            "_view_module_version": "2.0.0",
            "_view_name": "ProgressView",
            "bar_style": "success",
            "description": "",
            "description_allow_html": false,
            "layout": "IPY_MODEL_e8c9a2fc817743bda0fc7ed26c59fe04",
            "max": 154,
            "min": 0,
            "orientation": "horizontal",
            "style": "IPY_MODEL_34037371697a4b44b92fa9554e1140fc",
            "tabbable": null,
            "tooltip": null,
            "value": 154
          }
        },
        "f128226221fa4e13a09fb7bf757bd1eb": {
          "model_module": "@jupyter-widgets/controls",
          "model_name": "HTMLModel",
          "model_module_version": "2.0.0",
          "state": {
            "_dom_classes": [],
            "_model_module": "@jupyter-widgets/controls",
            "_model_module_version": "2.0.0",
            "_model_name": "HTMLModel",
            "_view_count": null,
            "_view_module": "@jupyter-widgets/controls",
            "_view_module_version": "2.0.0",
            "_view_name": "HTMLView",
            "description": "",
            "description_allow_html": false,
            "layout": "IPY_MODEL_2437436fe8904284ac8638fb81c01de0",
            "placeholder": "​",
            "style": "IPY_MODEL_7d754b1ddf1c453381794fa7b2203dc5",
            "tabbable": null,
            "tooltip": null,
            "value": " 154/154 [00:27&lt;00:00,  8.06 examples/s]"
          }
        },
        "9af0aaf26b314a5593bd34a2d24be2a2": {
          "model_module": "@jupyter-widgets/base",
          "model_name": "LayoutModel",
          "model_module_version": "2.0.0",
          "state": {
            "_model_module": "@jupyter-widgets/base",
            "_model_module_version": "2.0.0",
            "_model_name": "LayoutModel",
            "_view_count": null,
            "_view_module": "@jupyter-widgets/base",
            "_view_module_version": "2.0.0",
            "_view_name": "LayoutView",
            "align_content": null,
            "align_items": null,
            "align_self": null,
            "border_bottom": null,
            "border_left": null,
            "border_right": null,
            "border_top": null,
            "bottom": null,
            "display": null,
            "flex": null,
            "flex_flow": null,
            "grid_area": null,
            "grid_auto_columns": null,
            "grid_auto_flow": null,
            "grid_auto_rows": null,
            "grid_column": null,
            "grid_gap": null,
            "grid_row": null,
            "grid_template_areas": null,
            "grid_template_columns": null,
            "grid_template_rows": null,
            "height": null,
            "justify_content": null,
            "justify_items": null,
            "left": null,
            "margin": null,
            "max_height": null,
            "max_width": null,
            "min_height": null,
            "min_width": null,
            "object_fit": null,
            "object_position": null,
            "order": null,
            "overflow": null,
            "padding": null,
            "right": null,
            "top": null,
            "visibility": null,
            "width": null
          }
        },
        "d273f70d16d946fdaaa51befb05e8932": {
          "model_module": "@jupyter-widgets/base",
          "model_name": "LayoutModel",
          "model_module_version": "2.0.0",
          "state": {
            "_model_module": "@jupyter-widgets/base",
            "_model_module_version": "2.0.0",
            "_model_name": "LayoutModel",
            "_view_count": null,
            "_view_module": "@jupyter-widgets/base",
            "_view_module_version": "2.0.0",
            "_view_name": "LayoutView",
            "align_content": null,
            "align_items": null,
            "align_self": null,
            "border_bottom": null,
            "border_left": null,
            "border_right": null,
            "border_top": null,
            "bottom": null,
            "display": null,
            "flex": null,
            "flex_flow": null,
            "grid_area": null,
            "grid_auto_columns": null,
            "grid_auto_flow": null,
            "grid_auto_rows": null,
            "grid_column": null,
            "grid_gap": null,
            "grid_row": null,
            "grid_template_areas": null,
            "grid_template_columns": null,
            "grid_template_rows": null,
            "height": null,
            "justify_content": null,
            "justify_items": null,
            "left": null,
            "margin": null,
            "max_height": null,
            "max_width": null,
            "min_height": null,
            "min_width": null,
            "object_fit": null,
            "object_position": null,
            "order": null,
            "overflow": null,
            "padding": null,
            "right": null,
            "top": null,
            "visibility": null,
            "width": null
          }
        },
        "719c6c6c47ef48218aac59747f980897": {
          "model_module": "@jupyter-widgets/controls",
          "model_name": "HTMLStyleModel",
          "model_module_version": "2.0.0",
          "state": {
            "_model_module": "@jupyter-widgets/controls",
            "_model_module_version": "2.0.0",
            "_model_name": "HTMLStyleModel",
            "_view_count": null,
            "_view_module": "@jupyter-widgets/base",
            "_view_module_version": "2.0.0",
            "_view_name": "StyleView",
            "background": null,
            "description_width": "",
            "font_size": null,
            "text_color": null
          }
        },
        "e8c9a2fc817743bda0fc7ed26c59fe04": {
          "model_module": "@jupyter-widgets/base",
          "model_name": "LayoutModel",
          "model_module_version": "2.0.0",
          "state": {
            "_model_module": "@jupyter-widgets/base",
            "_model_module_version": "2.0.0",
            "_model_name": "LayoutModel",
            "_view_count": null,
            "_view_module": "@jupyter-widgets/base",
            "_view_module_version": "2.0.0",
            "_view_name": "LayoutView",
            "align_content": null,
            "align_items": null,
            "align_self": null,
            "border_bottom": null,
            "border_left": null,
            "border_right": null,
            "border_top": null,
            "bottom": null,
            "display": null,
            "flex": null,
            "flex_flow": null,
            "grid_area": null,
            "grid_auto_columns": null,
            "grid_auto_flow": null,
            "grid_auto_rows": null,
            "grid_column": null,
            "grid_gap": null,
            "grid_row": null,
            "grid_template_areas": null,
            "grid_template_columns": null,
            "grid_template_rows": null,
            "height": null,
            "justify_content": null,
            "justify_items": null,
            "left": null,
            "margin": null,
            "max_height": null,
            "max_width": null,
            "min_height": null,
            "min_width": null,
            "object_fit": null,
            "object_position": null,
            "order": null,
            "overflow": null,
            "padding": null,
            "right": null,
            "top": null,
            "visibility": null,
            "width": null
          }
        },
        "34037371697a4b44b92fa9554e1140fc": {
          "model_module": "@jupyter-widgets/controls",
          "model_name": "ProgressStyleModel",
          "model_module_version": "2.0.0",
          "state": {
            "_model_module": "@jupyter-widgets/controls",
            "_model_module_version": "2.0.0",
            "_model_name": "ProgressStyleModel",
            "_view_count": null,
            "_view_module": "@jupyter-widgets/base",
            "_view_module_version": "2.0.0",
            "_view_name": "StyleView",
            "bar_color": null,
            "description_width": ""
          }
        },
        "2437436fe8904284ac8638fb81c01de0": {
          "model_module": "@jupyter-widgets/base",
          "model_name": "LayoutModel",
          "model_module_version": "2.0.0",
          "state": {
            "_model_module": "@jupyter-widgets/base",
            "_model_module_version": "2.0.0",
            "_model_name": "LayoutModel",
            "_view_count": null,
            "_view_module": "@jupyter-widgets/base",
            "_view_module_version": "2.0.0",
            "_view_name": "LayoutView",
            "align_content": null,
            "align_items": null,
            "align_self": null,
            "border_bottom": null,
            "border_left": null,
            "border_right": null,
            "border_top": null,
            "bottom": null,
            "display": null,
            "flex": null,
            "flex_flow": null,
            "grid_area": null,
            "grid_auto_columns": null,
            "grid_auto_flow": null,
            "grid_auto_rows": null,
            "grid_column": null,
            "grid_gap": null,
            "grid_row": null,
            "grid_template_areas": null,
            "grid_template_columns": null,
            "grid_template_rows": null,
            "height": null,
            "justify_content": null,
            "justify_items": null,
            "left": null,
            "margin": null,
            "max_height": null,
            "max_width": null,
            "min_height": null,
            "min_width": null,
            "object_fit": null,
            "object_position": null,
            "order": null,
            "overflow": null,
            "padding": null,
            "right": null,
            "top": null,
            "visibility": null,
            "width": null
          }
        },
        "7d754b1ddf1c453381794fa7b2203dc5": {
          "model_module": "@jupyter-widgets/controls",
          "model_name": "HTMLStyleModel",
          "model_module_version": "2.0.0",
          "state": {
            "_model_module": "@jupyter-widgets/controls",
            "_model_module_version": "2.0.0",
            "_model_name": "HTMLStyleModel",
            "_view_count": null,
            "_view_module": "@jupyter-widgets/base",
            "_view_module_version": "2.0.0",
            "_view_name": "StyleView",
            "background": null,
            "description_width": "",
            "font_size": null,
            "text_color": null
          }
        },
        "a8443366fdde43b8a2479ecb5b454d63": {
          "model_module": "@jupyter-widgets/controls",
          "model_name": "HBoxModel",
          "model_module_version": "2.0.0",
          "state": {
            "_dom_classes": [],
            "_model_module": "@jupyter-widgets/controls",
            "_model_module_version": "2.0.0",
            "_model_name": "HBoxModel",
            "_view_count": null,
            "_view_module": "@jupyter-widgets/controls",
            "_view_module_version": "2.0.0",
            "_view_name": "HBoxView",
            "box_style": "",
            "children": [
              "IPY_MODEL_d72195616c0146d39865c6ad8eb85589",
              "IPY_MODEL_86141cd6aa17417ba10036c4f4e2edbb",
              "IPY_MODEL_0ef287038a1840158003945ef1c70ffd"
            ],
            "layout": "IPY_MODEL_6cff918f64e8466983a45eaa9359a6c7",
            "tabbable": null,
            "tooltip": null
          }
        },
        "d72195616c0146d39865c6ad8eb85589": {
          "model_module": "@jupyter-widgets/controls",
          "model_name": "HTMLModel",
          "model_module_version": "2.0.0",
          "state": {
            "_dom_classes": [],
            "_model_module": "@jupyter-widgets/controls",
            "_model_module_version": "2.0.0",
            "_model_name": "HTMLModel",
            "_view_count": null,
            "_view_module": "@jupyter-widgets/controls",
            "_view_module_version": "2.0.0",
            "_view_name": "HTMLView",
            "description": "",
            "description_allow_html": false,
            "layout": "IPY_MODEL_40beff2011b54091a55ee2d42a629dba",
            "placeholder": "​",
            "style": "IPY_MODEL_d4b93912341f49b1954faca647aeb9f6",
            "tabbable": null,
            "tooltip": null,
            "value": "Map: 100%"
          }
        },
        "86141cd6aa17417ba10036c4f4e2edbb": {
          "model_module": "@jupyter-widgets/controls",
          "model_name": "FloatProgressModel",
          "model_module_version": "2.0.0",
          "state": {
            "_dom_classes": [],
            "_model_module": "@jupyter-widgets/controls",
            "_model_module_version": "2.0.0",
            "_model_name": "FloatProgressModel",
            "_view_count": null,
            "_view_module": "@jupyter-widgets/controls",
            "_view_module_version": "2.0.0",
            "_view_name": "ProgressView",
            "bar_style": "success",
            "description": "",
            "description_allow_html": false,
            "layout": "IPY_MODEL_faaf21d2c54d45bab52c5a4a830f3c7d",
            "max": 700,
            "min": 0,
            "orientation": "horizontal",
            "style": "IPY_MODEL_c3b92f91a8b64e0bb989586feb508652",
            "tabbable": null,
            "tooltip": null,
            "value": 700
          }
        },
        "0ef287038a1840158003945ef1c70ffd": {
          "model_module": "@jupyter-widgets/controls",
          "model_name": "HTMLModel",
          "model_module_version": "2.0.0",
          "state": {
            "_dom_classes": [],
            "_model_module": "@jupyter-widgets/controls",
            "_model_module_version": "2.0.0",
            "_model_name": "HTMLModel",
            "_view_count": null,
            "_view_module": "@jupyter-widgets/controls",
            "_view_module_version": "2.0.0",
            "_view_name": "HTMLView",
            "description": "",
            "description_allow_html": false,
            "layout": "IPY_MODEL_834e7e1d7fbf43648fd633aaedb5b271",
            "placeholder": "​",
            "style": "IPY_MODEL_9f100ab0eaa04646a1067d308e3f5934",
            "tabbable": null,
            "tooltip": null,
            "value": " 700/700 [02:04&lt;00:00,  5.65 examples/s]"
          }
        },
        "6cff918f64e8466983a45eaa9359a6c7": {
          "model_module": "@jupyter-widgets/base",
          "model_name": "LayoutModel",
          "model_module_version": "2.0.0",
          "state": {
            "_model_module": "@jupyter-widgets/base",
            "_model_module_version": "2.0.0",
            "_model_name": "LayoutModel",
            "_view_count": null,
            "_view_module": "@jupyter-widgets/base",
            "_view_module_version": "2.0.0",
            "_view_name": "LayoutView",
            "align_content": null,
            "align_items": null,
            "align_self": null,
            "border_bottom": null,
            "border_left": null,
            "border_right": null,
            "border_top": null,
            "bottom": null,
            "display": null,
            "flex": null,
            "flex_flow": null,
            "grid_area": null,
            "grid_auto_columns": null,
            "grid_auto_flow": null,
            "grid_auto_rows": null,
            "grid_column": null,
            "grid_gap": null,
            "grid_row": null,
            "grid_template_areas": null,
            "grid_template_columns": null,
            "grid_template_rows": null,
            "height": null,
            "justify_content": null,
            "justify_items": null,
            "left": null,
            "margin": null,
            "max_height": null,
            "max_width": null,
            "min_height": null,
            "min_width": null,
            "object_fit": null,
            "object_position": null,
            "order": null,
            "overflow": null,
            "padding": null,
            "right": null,
            "top": null,
            "visibility": null,
            "width": null
          }
        },
        "40beff2011b54091a55ee2d42a629dba": {
          "model_module": "@jupyter-widgets/base",
          "model_name": "LayoutModel",
          "model_module_version": "2.0.0",
          "state": {
            "_model_module": "@jupyter-widgets/base",
            "_model_module_version": "2.0.0",
            "_model_name": "LayoutModel",
            "_view_count": null,
            "_view_module": "@jupyter-widgets/base",
            "_view_module_version": "2.0.0",
            "_view_name": "LayoutView",
            "align_content": null,
            "align_items": null,
            "align_self": null,
            "border_bottom": null,
            "border_left": null,
            "border_right": null,
            "border_top": null,
            "bottom": null,
            "display": null,
            "flex": null,
            "flex_flow": null,
            "grid_area": null,
            "grid_auto_columns": null,
            "grid_auto_flow": null,
            "grid_auto_rows": null,
            "grid_column": null,
            "grid_gap": null,
            "grid_row": null,
            "grid_template_areas": null,
            "grid_template_columns": null,
            "grid_template_rows": null,
            "height": null,
            "justify_content": null,
            "justify_items": null,
            "left": null,
            "margin": null,
            "max_height": null,
            "max_width": null,
            "min_height": null,
            "min_width": null,
            "object_fit": null,
            "object_position": null,
            "order": null,
            "overflow": null,
            "padding": null,
            "right": null,
            "top": null,
            "visibility": null,
            "width": null
          }
        },
        "d4b93912341f49b1954faca647aeb9f6": {
          "model_module": "@jupyter-widgets/controls",
          "model_name": "HTMLStyleModel",
          "model_module_version": "2.0.0",
          "state": {
            "_model_module": "@jupyter-widgets/controls",
            "_model_module_version": "2.0.0",
            "_model_name": "HTMLStyleModel",
            "_view_count": null,
            "_view_module": "@jupyter-widgets/base",
            "_view_module_version": "2.0.0",
            "_view_name": "StyleView",
            "background": null,
            "description_width": "",
            "font_size": null,
            "text_color": null
          }
        },
        "faaf21d2c54d45bab52c5a4a830f3c7d": {
          "model_module": "@jupyter-widgets/base",
          "model_name": "LayoutModel",
          "model_module_version": "2.0.0",
          "state": {
            "_model_module": "@jupyter-widgets/base",
            "_model_module_version": "2.0.0",
            "_model_name": "LayoutModel",
            "_view_count": null,
            "_view_module": "@jupyter-widgets/base",
            "_view_module_version": "2.0.0",
            "_view_name": "LayoutView",
            "align_content": null,
            "align_items": null,
            "align_self": null,
            "border_bottom": null,
            "border_left": null,
            "border_right": null,
            "border_top": null,
            "bottom": null,
            "display": null,
            "flex": null,
            "flex_flow": null,
            "grid_area": null,
            "grid_auto_columns": null,
            "grid_auto_flow": null,
            "grid_auto_rows": null,
            "grid_column": null,
            "grid_gap": null,
            "grid_row": null,
            "grid_template_areas": null,
            "grid_template_columns": null,
            "grid_template_rows": null,
            "height": null,
            "justify_content": null,
            "justify_items": null,
            "left": null,
            "margin": null,
            "max_height": null,
            "max_width": null,
            "min_height": null,
            "min_width": null,
            "object_fit": null,
            "object_position": null,
            "order": null,
            "overflow": null,
            "padding": null,
            "right": null,
            "top": null,
            "visibility": null,
            "width": null
          }
        },
        "c3b92f91a8b64e0bb989586feb508652": {
          "model_module": "@jupyter-widgets/controls",
          "model_name": "ProgressStyleModel",
          "model_module_version": "2.0.0",
          "state": {
            "_model_module": "@jupyter-widgets/controls",
            "_model_module_version": "2.0.0",
            "_model_name": "ProgressStyleModel",
            "_view_count": null,
            "_view_module": "@jupyter-widgets/base",
            "_view_module_version": "2.0.0",
            "_view_name": "StyleView",
            "bar_color": null,
            "description_width": ""
          }
        },
        "834e7e1d7fbf43648fd633aaedb5b271": {
          "model_module": "@jupyter-widgets/base",
          "model_name": "LayoutModel",
          "model_module_version": "2.0.0",
          "state": {
            "_model_module": "@jupyter-widgets/base",
            "_model_module_version": "2.0.0",
            "_model_name": "LayoutModel",
            "_view_count": null,
            "_view_module": "@jupyter-widgets/base",
            "_view_module_version": "2.0.0",
            "_view_name": "LayoutView",
            "align_content": null,
            "align_items": null,
            "align_self": null,
            "border_bottom": null,
            "border_left": null,
            "border_right": null,
            "border_top": null,
            "bottom": null,
            "display": null,
            "flex": null,
            "flex_flow": null,
            "grid_area": null,
            "grid_auto_columns": null,
            "grid_auto_flow": null,
            "grid_auto_rows": null,
            "grid_column": null,
            "grid_gap": null,
            "grid_row": null,
            "grid_template_areas": null,
            "grid_template_columns": null,
            "grid_template_rows": null,
            "height": null,
            "justify_content": null,
            "justify_items": null,
            "left": null,
            "margin": null,
            "max_height": null,
            "max_width": null,
            "min_height": null,
            "min_width": null,
            "object_fit": null,
            "object_position": null,
            "order": null,
            "overflow": null,
            "padding": null,
            "right": null,
            "top": null,
            "visibility": null,
            "width": null
          }
        },
        "9f100ab0eaa04646a1067d308e3f5934": {
          "model_module": "@jupyter-widgets/controls",
          "model_name": "HTMLStyleModel",
          "model_module_version": "2.0.0",
          "state": {
            "_model_module": "@jupyter-widgets/controls",
            "_model_module_version": "2.0.0",
            "_model_name": "HTMLStyleModel",
            "_view_count": null,
            "_view_module": "@jupyter-widgets/base",
            "_view_module_version": "2.0.0",
            "_view_name": "StyleView",
            "background": null,
            "description_width": "",
            "font_size": null,
            "text_color": null
          }
        }
      }
    }
  },
  "cells": [
    {
      "cell_type": "code",
      "source": [
        "# GPU setup\n",
        "import torch\n",
        "device = \"cuda\" if torch.cuda.is_available() else \"cpu\"\n",
        "device"
      ],
      "metadata": {
        "colab": {
          "base_uri": "https://localhost:8080/"
        },
        "id": "2J_TovycQD0V",
        "outputId": "1a56b6d6-51af-466b-91c8-7ac41d3d4046"
      },
      "execution_count": null,
      "outputs": [
        {
          "output_type": "execute_result",
          "data": {
            "text/plain": [
              "'cuda'"
            ]
          },
          "metadata": {},
          "execution_count": 1
        }
      ]
    },
    {
      "cell_type": "code",
      "source": [
        "from transformers import NougatProcessor, VisionEncoderDecoderModel\n",
        "processor = NougatProcessor.from_pretrained(r\"E:\\Abdul_Muqtadir\\Thesis\\NOUGAT_MathOCR\\checkpoint-2200\")"
      ],
      "metadata": {
        "colab": {
          "base_uri": "https://localhost:8080/"
        },
        "id": "fMa62ZP7R_vI",
        "outputId": "e0dc8928-1a8c-42bd-a135-34319d580740"
      },
      "execution_count": null,
      "outputs": [
        {
          "output_type": "stream",
          "name": "stderr",
          "text": [
            "Special tokens have been added in the vocabulary, make sure the associated word embeddings are fine-tuned or trained.\n"
          ]
        }
      ]
    },
    {
      "cell_type": "code",
      "source": [
        "model = VisionEncoderDecoderModel.from_pretrained(r\"E:\\Abdul_Muqtadir\\Thesis\\NOUGAT_MathOCR\\checkpoint-2200\")\n",
        "model.to(device)"
      ],
      "metadata": {
        "id": "r1YSeuX0ZZqM"
      },
      "execution_count": null,
      "outputs": []
    },
    {
      "cell_type": "markdown",
      "source": [
        "# Dataset"
      ],
      "metadata": {
        "id": "KuJebZo9E0Ts"
      }
    },
    {
      "cell_type": "code",
      "source": [
        "from datasets import load_from_disk\n",
        "\n",
        "dataset = load_from_disk(r\"E:\\Abdul_Muqtadir\\Thesis\\Dataset\\Test_Iamlatex4\\Processed_Dataset\")\n",
        "dataset"
      ],
      "metadata": {
        "colab": {
          "base_uri": "https://localhost:8080/"
        },
        "id": "6ZiuDQXaiP5b",
        "outputId": "2e7b8a6f-6d6a-4fe8-f344-4c10b3934ab1"
      },
      "execution_count": null,
      "outputs": [
        {
          "output_type": "execute_result",
          "data": {
            "text/plain": [
              "DatasetDict({\n",
              "    train: Dataset({\n",
              "        features: ['image', 'text'],\n",
              "        num_rows: 700\n",
              "    })\n",
              "    valid: Dataset({\n",
              "        features: ['image', 'text'],\n",
              "        num_rows: 154\n",
              "    })\n",
              "})"
            ]
          },
          "metadata": {},
          "execution_count": 6
        }
      ]
    },
    {
      "cell_type": "code",
      "source": [
        "import random\n",
        "random_sample_train = random.randint(0, len(dataset['train']) - 1)\n",
        "print(f\"Random sample from 'train' is {random_sample_train}\")\n",
        "print(f\"Ground Truth is {dataset['train'][random_sample_train]['text']}\")\n",
        "dataset['train'][random_sample_train]['image'].resize((250, 400))"
      ],
      "metadata": {
        "colab": {
          "base_uri": "https://localhost:8080/",
          "height": 474
        },
        "id": "pPTmEJRSFGBg",
        "outputId": "c7a211ec-a53c-4c35-a916-3e1afdcc1e7b"
      },
      "execution_count": null,
      "outputs": [
        {
          "output_type": "stream",
          "name": "stdout",
          "text": [
            "Random sample from 'train' is 546\n",
            "Ground Truth is {'latex_0': 'k _ { 1 } \\\\approx \\\\pm \\\\alpha k _ { 2 }', 'latex_1': 'L = L _ { + } \\\\oplus L _ { - }', 'latex_2': 'd _ { 2 } = 2 p , d _ { 3 } = 3 q + 1 ,', 'latex_3': 'e _ { a } = \\\\lparen 1 / 2 \\\\rparen w _ { a } ,', 'latex_4': 'N = 4 \\\\sum _ { a } n _ { a } .', 'latex_5': 'G _ { \\\\mu \\\\nu } = \\\\eta _ { \\\\mu \\\\nu } .', 'latex_6': 'R - \\\\Lambda = 8 \\\\pi G T', 'latex_7': 'P _ { X } = a ^ { \\\\Lambda } P _ { \\\\Lambda }', 'latex_8': '\\\\int \\\\mathrm { d } g \\\\lbrace F , G \\\\rbrace = 0 ,', 'latex_9': 'k = \\\\sqrt { - a ^ { n } a _ { n } }'}\n"
          ]
        },
        {
          "output_type": "execute_result",
          "data": {
            "text/plain": [
              "<PIL.Image.Image image mode=RGB size=250x400>"
            ],
            "image/png": "[encoded data removed]",
            "image/jpeg": "[encoded data removed]"
          },
          "metadata": {},
          "execution_count": 7
        }
      ]
    },
    {
      "cell_type": "code",
      "source": [
        "def json2token(data):\n",
        "    # Initialize an empty string to build the formatted output\n",
        "    formatted_output = ''\n",
        "\n",
        "    # Loop through each key-value pair in the dictionary\n",
        "    for key, value in data.items():\n",
        "        # Remove commas and format each pair without single quotes\n",
        "        value = str(value).replace(',', '')  # Remove commas\n",
        "        value = str(value).replace('.', '')\n",
        "        formatted_output += f\"<s_{key}>{value}</s_{key}>\"\n",
        "\n",
        "    # Return the final formatted output string\n",
        "    return formatted_output.strip()  # Remove trailing whitespace\n",
        "\n",
        "\n",
        "# # Example dictionary input\n",
        "# A = {\n",
        "#     'latex1': '\\\\lbrace \\\\dot { X } ^ { \\\\mu } , X _ { \\\\mu } \\\\rbrace = 0 .',\n",
        "#     'latex2': 'J ^ { \\\\mu \\\\nu } = L ^ { \\\\mu \\\\nu } + S ^ { \\\\mu \\\\nu } ,',\n",
        "#     'latex3': 'e ^ { - C } = H _ { 1 } , e ^ { - \\\\chi } = H _ { 2 } .',\n",
        "#     'latex4': 'N _ { \\\\mu \\\\nu } \\\\equiv G _ { \\\\mu \\\\nu } - B _ { \\\\mu \\\\nu } ,',\n",
        "#     'latex5': 'I ^ { \\\\omega } = \\\\bigcup I ^ { \\\\omega } \\\\lparen O \\\\rparen .',\n",
        "#     'latex6': '\\\\partial _ { \\\\mu } h _ { \\\\nu } + \\\\partial _ { \\\\nu }',\n",
        "#     'latex7': '\\\\mu _ { p } = N \\\\sqrt { 1 6 \\\\pi G _ { D } } \\\\tau _ { p } .',\n",
        "#     'latex8': '\\\\nu = l \\\\sinh \\\\rho , \\\\sigma = l \\\\cosh \\\\rho .'\n",
        "# }\n",
        "\n",
        "# # Convert the dictionary to the desired format\n",
        "# output = json2token(A)\n",
        "# print(output)\n"
      ],
      "metadata": {
        "id": "yeAEUue9GXtL"
      },
      "execution_count": null,
      "outputs": []
    },
    {
      "cell_type": "code",
      "source": [
        "\n",
        "special_tokens = ['<s_latex0>', '</s_latex0>', '<s_latex1>', '</s_latex1>', '<s_latex2>', '</s_latex2>', '<s_latex3>', '</s_latex3>', '<s_latex4>', '</s_latex4>', '<s_latex5>', '</s_latex5>', '<s_latex6>', '</s_latex6>', '<s_latex7>', '</s_latex7>', '<s_latex8>', '</s_latex8>', '<s_latex9>', '</s_latex9>' ]"
      ],
      "metadata": {
        "id": "MnoYU3FMLENr"
      },
      "execution_count": null,
      "outputs": []
    },
    {
      "cell_type": "code",
      "source": [
        "import json\n",
        "\n",
        "task_start_token = '<s>'\n",
        "eos_token = '</s>'\n",
        "\n",
        "def process_documents(sample):\n",
        "\n",
        "  GT_string_single_quote = sample[\"text\"]\n",
        "  GT_string_single_quote = str(GT_string_single_quote)\n",
        "  #print(type(sample[\"text\"]))\n",
        "\n",
        "  GT_string_double_quote = GT_string_single_quote.replace(\"'\", '\"')\n",
        "  text = json.loads(GT_string_double_quote)\n",
        "  d_doc = task_start_token + json2token(text) + eos_token\n",
        "  print('d_doc', d_doc)\n",
        "  image = sample[\"image\"].convert('RGB')\n",
        "  return {\"image\": image, \"text\": d_doc}"
      ],
      "metadata": {
        "id": "oaIM1FL-HzwP"
      },
      "execution_count": null,
      "outputs": []
    },
    {
      "cell_type": "code",
      "source": [
        "valid_dataset = dataset['valid']\n",
        "proc_valid_dataset = valid_dataset.map(process_documents)"
      ],
      "metadata": {
        "id": "uR1HIY-iIwyL"
      },
      "execution_count": null,
      "outputs": []
    },
    {
      "cell_type": "code",
      "source": [
        "train_dataset = dataset['train']\n",
        "proc_train_dataset = train_dataset.map(process_documents)"
      ],
      "metadata": {
        "id": "hCyONw5FIyhi"
      },
      "execution_count": null,
      "outputs": []
    },
    {
      "cell_type": "code",
      "source": [
        "len(proc_train_dataset), len(proc_valid_dataset)"
      ],
      "metadata": {
        "colab": {
          "base_uri": "https://localhost:8080/"
        },
        "id": "96awWvygJO2g",
        "outputId": "605eeb19-94b5-4fe5-b6da-90d9d29de3a0"
      },
      "execution_count": null,
      "outputs": [
        {
          "output_type": "execute_result",
          "data": {
            "text/plain": [
              "(700, 154)"
            ]
          },
          "metadata": {},
          "execution_count": 13
        }
      ]
    },
    {
      "cell_type": "code",
      "source": [
        "proc_train_dataset['text'][322]"
      ],
      "metadata": {
        "colab": {
          "base_uri": "https://localhost:8080/"
        },
        "id": "KSjnu763Jv62",
        "outputId": "5786e889-490e-4edf-fb7f-fb2ae38d72e0"
      },
      "execution_count": null,
      "outputs": [
        {
          "output_type": "execute_result",
          "data": {
            "text/plain": [
              "'<s><s_latex_0>S = \\\\frac { A } { 4 G \\\\hbar } </s_latex_0><s_latex_1>D _ { \\\\mu } \\\\hat { F } ^ { a \\\\mu \\\\nu } = 0</s_latex_1><s_latex_2>\\\\sum _ { i = 1 } ^ { n } \\\\sigma _ { i } = 0 </s_latex_2><s_latex_3>D _ { - } = i \\\\bar { \\\\partial }</s_latex_3><s_latex_4>D ^ { \\\\dagger } D = H + V</s_latex_4><s_latex_5>S = \\\\int d ^ { 2 } x L ^ { \\\\mathrm { a b t m } }</s_latex_5><s_latex_6>L = - \\\\frac { T } { 2 } \\\\eta _ { \\\\mu \\\\nu }</s_latex_6><s_latex_7>None</s_latex_7><s_latex_8>None</s_latex_8><s_latex_9>None</s_latex_9></s>'"
            ]
          },
          "metadata": {},
          "execution_count": 14
        }
      ]
    },
    {
      "cell_type": "code",
      "source": [
        "proc_valid_dataset['text'][64]"
      ],
      "metadata": {
        "colab": {
          "base_uri": "https://localhost:8080/"
        },
        "id": "QHMSZpbqJzFH",
        "outputId": "76b00f78-8395-4db6-ac0f-a77c074f8568"
      },
      "execution_count": null,
      "outputs": [
        {
          "output_type": "execute_result",
          "data": {
            "text/plain": [
              "'<s><s_latex_0>S _ { \\\\eta F } = \\\\int \\\\lt \\\\eta  F \\\\gt </s_latex_0><s_latex_1>m _ { _ { J } }</s_latex_1><s_latex_2>\\\\frac { \\\\partial S } { \\\\partial t } \\\\pm \\\\omega = 0</s_latex_2><s_latex_3>\\\\Xi ^ { \\\\dagger } H \\\\Xi = \\\\bar { H } </s_latex_3><s_latex_4>W = W _ { o } + W _ { A B } A B </s_latex_4><s_latex_5>g = k \\\\cdot a \\\\cdot n \\\\in K \\\\cdot A \\\\cdot N </s_latex_5><s_latex_6>\\\\lambda = 8 + 2 t  t \\\\in N _ { 0 } </s_latex_6><s_latex_7>- C ^ { T } = C = \\\\beta C \\\\beta C ^ { 2 } = - 1</s_latex_7><s_latex_8>None</s_latex_8><s_latex_9>None</s_latex_9></s>'"
            ]
          },
          "metadata": {},
          "execution_count": 15
        }
      ]
    },
    {
      "cell_type": "markdown",
      "source": [
        "# processor and model token setup"
      ],
      "metadata": {
        "id": "NZRRICJBLlvb"
      }
    },
    {
      "cell_type": "code",
      "source": [
        "from transformers import VisionEncoderDecoderConfig\n",
        "\n",
        "image_size = [720, 960]\n",
        "max_length = 512\n",
        "\n",
        "# update image_size of the encoder\n",
        "# during pre-training, a larger image size was used\n",
        "config = model.config\n",
        "#config = VisionEncoderDecoderConfig.from_pretrained(r\"E:\\Abdul_Muqtadir\\NRPU_HMP_Project\\Weights\\DONUT\\Processor1\")\n",
        "config.encoder.image_size = image_size # (height, width)\n",
        "# update max_length of the decoder (for generation)\n",
        "config.decoder.max_length = max_length"
      ],
      "metadata": {
        "id": "zKIRj9H8LpZz"
      },
      "execution_count": null,
      "outputs": []
    },
    {
      "cell_type": "code",
      "source": [
        "processor.tokenizer.add_special_tokens({\"additional_special_tokens\": special_tokens + [task_start_token] + [eos_token]})"
      ],
      "metadata": {
        "colab": {
          "base_uri": "https://localhost:8080/"
        },
        "id": "faMBHH8RO7mS",
        "outputId": "0737a5c8-7ed2-491a-8255-11f5aec2f8fe"
      },
      "execution_count": null,
      "outputs": [
        {
          "output_type": "execute_result",
          "data": {
            "text/plain": [
              "4"
            ]
          },
          "metadata": {},
          "execution_count": 17
        }
      ]
    },
    {
      "cell_type": "code",
      "source": [
        "model.decoder.resize_token_embeddings(len(processor.tokenizer))"
      ],
      "metadata": {
        "colab": {
          "base_uri": "https://localhost:8080/"
        },
        "id": "dlIBNZ2WOZA9",
        "outputId": "9515a3e0-290a-433d-ee36-2ae2c48e5354"
      },
      "execution_count": null,
      "outputs": [
        {
          "output_type": "execute_result",
          "data": {
            "text/plain": [
              "Embedding(50020, 1024)"
            ]
          },
          "metadata": {},
          "execution_count": 18
        }
      ]
    },
    {
      "cell_type": "code",
      "source": [
        "# Print standard special tokens\n",
        "print(\"Special Tokens:\")\n",
        "print(\"Start token:\", processor.tokenizer.cls_token)\n",
        "print(\"End token:\", processor.tokenizer.sep_token)\n",
        "print(\"Padding token:\", processor.tokenizer.pad_token)\n",
        "print(\"Unknown token:\", processor.tokenizer.unk_token)\n",
        "print(\"Mask token:\", processor.tokenizer.mask_token)\n",
        "\n",
        "# Print any additional tokens that have been added, like custom tags\n",
        "print(\"\\nAdditional Special Tokens:\")\n",
        "for token, idx in processor.tokenizer.get_vocab().items():\n",
        "    if token.startswith(\"<s\") or token.startswith(\"</s\"):\n",
        "        print(f\"{token}: {idx}\")\n"
      ],
      "metadata": {
        "colab": {
          "base_uri": "https://localhost:8080/"
        },
        "id": "haF4qASxOvom",
        "outputId": "d55004e6-ebd1-4aeb-c660-de4408a02641"
      },
      "execution_count": null,
      "outputs": [
        {
          "output_type": "stream",
          "name": "stdout",
          "text": [
            "Special Tokens:\n",
            "Start token: None\n",
            "End token: None\n",
            "Padding token: <pad>\n",
            "Unknown token: <unk>\n",
            "Mask token: None\n",
            "\n",
            "Additional Special Tokens:\n",
            "</s_latex4>: 50006\n",
            "<s_latex6>: 50008\n",
            "<s_latex8>: 50003\n",
            "</s_latex6>: 50011\n",
            "</s_latex2>: 50009\n",
            "</s_latex3>: 50007\n",
            "<s_latex2>: 50002\n",
            "<s_latex4>: 50001\n",
            "<s>: 0\n",
            "</s_latex1>: 50000\n",
            "</s_latex8>: 50004\n",
            "</s_latex9>: 50019\n",
            "</s_latex0>: 50018\n",
            "<s_latex3>: 50012\n",
            "<s_latex5>: 50005\n",
            "</s_latex7>: 50013\n",
            "<s_latex9>: 50017\n",
            "<s_latex0>: 50016\n",
            "</s_latex5>: 50015\n",
            "<s_latex1>: 50010\n",
            "<s_latex7>: 50014\n",
            "</s>: 2\n"
          ]
        }
      ]
    },
    {
      "cell_type": "code",
      "source": [
        "config.decoder_start_token_id = processor.tokenizer.convert_tokens_to_ids(['<s>'])[0]"
      ],
      "metadata": {
        "id": "aUVNsoxYwAVr"
      },
      "execution_count": null,
      "outputs": []
    },
    {
      "cell_type": "code",
      "source": [
        "# Set tokens in the model's configuration\n",
        "model.config.bos_token_id = processor.tokenizer.cls_token_id  # Start token\n",
        "model.config.eos_token_id = processor.tokenizer.sep_token_id  # End token\n",
        "model.config.pad_token_id = processor.tokenizer.pad_token_id  # Padding token\n",
        "\n",
        "print(\"Start token ID:\", model.config.bos_token_id)\n",
        "print(\"End token ID:\", model.config.eos_token_id)\n",
        "print(\"Padding token ID:\", model.config.pad_token_id)\n"
      ],
      "metadata": {
        "colab": {
          "base_uri": "https://localhost:8080/"
        },
        "id": "O0YWxMrBPIKJ",
        "outputId": "94ad8273-7568-4bf6-e86d-507f0925a39a"
      },
      "execution_count": null,
      "outputs": [
        {
          "output_type": "stream",
          "name": "stdout",
          "text": [
            "Start token ID: None\n",
            "End token ID: None\n",
            "Padding token ID: 1\n"
          ]
        }
      ]
    },
    {
      "cell_type": "code",
      "source": [
        "# Checking the added special tokens\n",
        "added_special_tokens_for_processor_1 = processor.tokenizer.get_added_vocab()\n",
        "print(\"Added special tokens and their IDs:\", added_special_tokens_for_processor_1)\n",
        "print(\"Number of added special tokens:\", len(added_special_tokens_for_processor_1))"
      ],
      "metadata": {
        "colab": {
          "base_uri": "https://localhost:8080/"
        },
        "id": "MinM-JpkSiLR",
        "outputId": "d695af12-f2e7-4977-d329-349a37dc22c9"
      },
      "execution_count": null,
      "outputs": [
        {
          "output_type": "stream",
          "name": "stdout",
          "text": [
            "Added special tokens and their IDs: {'<s>': 0, '<pad>': 1, '</s>': 2, '<unk>': 3, '[START_REF]': 4, '[END_REF]': 5, '[IMAGE]': 6, '<fragments>': 7, '</fragments>': 8, '<work>': 9, '</work>': 10, '[START_SUP]': 11, '[END_SUP]': 12, '[START_SUB]': 13, '[END_SUB]': 14, '[START_DNA]': 15, '[END_DNA]': 16, '[START_AMINO]': 17, '[END_AMINO]': 18, '[START_SMILES]': 19, '[END_SMILES]': 20, '[START_I_SMILES]': 21, '[END_I_SMILES]': 22, '</s_latex1>': 50000, '<s_latex4>': 50001, '<s_latex2>': 50002, '<s_latex8>': 50003, '</s_latex8>': 50004, '<s_latex5>': 50005, '</s_latex4>': 50006, '</s_latex3>': 50007, '<s_latex6>': 50008, '</s_latex2>': 50009, '<s_latex1>': 50010, '</s_latex6>': 50011, '<s_latex3>': 50012, '</s_latex7>': 50013, '<s_latex7>': 50014, '</s_latex5>': 50015, '<s_latex0>': 50016, '<s_latex9>': 50017, '</s_latex0>': 50018, '</s_latex9>': 50019}\n",
            "Number of added special tokens: 43\n"
          ]
        }
      ]
    },
    {
      "cell_type": "code",
      "source": [
        "def transform_and_tokenize(sample, max_length=512, ignore_id=1):\n",
        "    # Create tensor from image\n",
        "    try:\n",
        "        pixel_values = processor(\n",
        "            sample[\"image\"], return_tensors=\"pt\"\n",
        "        ).pixel_values.squeeze()\n",
        "    except Exception as e:\n",
        "        print(f\"Error processing image: {e}\")\n",
        "        return {}\n",
        "\n",
        "    # Tokenize the document\n",
        "    input_ids = processor.tokenizer(\n",
        "        sample[\"text\"],\n",
        "        add_special_tokens=True,  # Add special tokens like [CLS] and [SEP]\n",
        "        max_length=max_length,\n",
        "        padding=\"max_length\",  # Pad to max_length\n",
        "        truncation=True,  # Truncate if longer than max_length\n",
        "        return_tensors=\"pt\",\n",
        "    )[\"input_ids\"].squeeze(0)\n",
        "\n",
        "    # Prepare labels for the model\n",
        "    labels = input_ids.clone()\n",
        "    labels[labels == processor.tokenizer.pad_token_id] = ignore_id  # Ignore padding tokens\n",
        "\n",
        "    return {\n",
        "        \"pixel_values\": pixel_values,\n",
        "        \"labels\": labels,\n",
        "        \"target_sequence\": sample[\"text\"]  # Include the original text if needed\n",
        "    }\n"
      ],
      "metadata": {
        "id": "_DKjVpZ2PaTe"
      },
      "execution_count": null,
      "outputs": []
    },
    {
      "cell_type": "code",
      "source": [
        "# Limit to the first 10 samples\n",
        "small_train_dataset1 = proc_train_dataset.select(range(100))\n",
        "\n",
        "small_processed_train_dataset1 = small_train_dataset1.map(transform_and_tokenize,remove_columns=[\"image\",\"text\"])"
      ],
      "metadata": {
        "id": "dC10O60_tAmM"
      },
      "execution_count": null,
      "outputs": []
    },
    {
      "cell_type": "code",
      "source": [
        "# Limit to the first 10 samples\n",
        "small_train_dataset2 = proc_train_dataset.select(range(300, 400))\n",
        "\n",
        "small_processed_train_dataset2 = small_train_dataset2.map(transform_and_tokenize,remove_columns=[\"image\",\"text\"])"
      ],
      "metadata": {
        "id": "0Ygxekk0PtTS",
        "colab": {
          "base_uri": "https://localhost:8080/",
          "height": 17,
          "referenced_widgets": [
            "73582b87e2034fc6938d2ad84304428f",
            "e9e6cd3197d547ac98aa498aa0467fb0",
            "8b9487dc15904cd1b2938844e0ba82cb",
            "c5052296074f4736bb156bd1a19c486d",
            "1f3b3caf6cd64e478a43fb14c6a2d0dc",
            "8827861a8c73476493f283b7ac73d8a2",
            "b37c340687fd44a6bae7f2ad6f83b08c",
            "eb6f4073e7a64d84a7b7073f838eaa78",
            "5b4ad3a8ebab41d0bf4a9e35019f10db",
            "cd0de2c4b45d4748ab9f5ab3fc5515d7",
            "47dd1dbfcbe340db96b63c07ed9b3c38"
          ]
        },
        "outputId": "06f79fe0-8cee-4473-f720-be754e9cd02d"
      },
      "execution_count": null,
      "outputs": [
        {
          "output_type": "display_data",
          "data": {
            "text/plain": [
              "Map:   0%|          | 0/100 [00:00<?, ? examples/s]"
            ],
            "application/vnd.jupyter.widget-view+json": {
              "version_major": 2,
              "version_minor": 0,
              "model_id": "73582b87e2034fc6938d2ad84304428f"
            }
          },
          "metadata": {}
        }
      ]
    },
    {
      "cell_type": "code",
      "source": [
        "small_processed_train_dataset1, small_processed_train_dataset2"
      ],
      "metadata": {
        "colab": {
          "base_uri": "https://localhost:8080/"
        },
        "id": "55I4uf_7qbS4",
        "outputId": "2fbb7c45-e49e-42b4-94e7-a9577cbce02a"
      },
      "execution_count": null,
      "outputs": [
        {
          "output_type": "execute_result",
          "data": {
            "text/plain": [
              "(Dataset({\n",
              "     features: ['pixel_values', 'labels', 'target_sequence'],\n",
              "     num_rows: 100\n",
              " }),\n",
              " Dataset({\n",
              "     features: ['pixel_values', 'labels', 'target_sequence'],\n",
              "     num_rows: 100\n",
              " }))"
            ]
          },
          "metadata": {},
          "execution_count": 25
        }
      ]
    },
    {
      "cell_type": "code",
      "source": [
        "processed_valid_dataset = proc_valid_dataset.map(transform_and_tokenize,remove_columns=[\"image\",\"text\"])"
      ],
      "metadata": {
        "colab": {
          "base_uri": "https://localhost:8080/",
          "height": 17,
          "referenced_widgets": [
            "eec87c9417f84f658a73a50581c350f9",
            "4d2f60e921c24c3d88ffada983b0af64",
            "1c86e548ebf6487bb0d3519bdcc1686a",
            "f128226221fa4e13a09fb7bf757bd1eb",
            "9af0aaf26b314a5593bd34a2d24be2a2",
            "d273f70d16d946fdaaa51befb05e8932",
            "719c6c6c47ef48218aac59747f980897",
            "e8c9a2fc817743bda0fc7ed26c59fe04",
            "34037371697a4b44b92fa9554e1140fc",
            "2437436fe8904284ac8638fb81c01de0",
            "7d754b1ddf1c453381794fa7b2203dc5"
          ]
        },
        "id": "IjPbPAIkchhH",
        "outputId": "71a29add-48c2-47c9-8eba-01d70618679d"
      },
      "execution_count": null,
      "outputs": [
        {
          "output_type": "display_data",
          "data": {
            "text/plain": [
              "Map:   0%|          | 0/154 [00:00<?, ? examples/s]"
            ],
            "application/vnd.jupyter.widget-view+json": {
              "version_major": 2,
              "version_minor": 0,
              "model_id": "eec87c9417f84f658a73a50581c350f9"
            }
          },
          "metadata": {}
        }
      ]
    },
    {
      "cell_type": "code",
      "source": [
        "# Assuming proc_train_dataset is your loaded dataset and transform_and_tokenize is the function to process each sample\n",
        "processed_train_dataset = proc_train_dataset.map(\n",
        "    transform_and_tokenize,\n",
        "    batched=True,\n",
        "    batch_size=100,\n",
        "    remove_columns=[\"image\", \"text\"]\n",
        ")\n"
      ],
      "metadata": {
        "colab": {
          "base_uri": "https://localhost:8080/",
          "height": 17,
          "referenced_widgets": [
            "a8443366fdde43b8a2479ecb5b454d63",
            "d72195616c0146d39865c6ad8eb85589",
            "86141cd6aa17417ba10036c4f4e2edbb",
            "0ef287038a1840158003945ef1c70ffd",
            "6cff918f64e8466983a45eaa9359a6c7",
            "40beff2011b54091a55ee2d42a629dba",
            "d4b93912341f49b1954faca647aeb9f6",
            "faaf21d2c54d45bab52c5a4a830f3c7d",
            "c3b92f91a8b64e0bb989586feb508652",
            "834e7e1d7fbf43648fd633aaedb5b271",
            "9f100ab0eaa04646a1067d308e3f5934"
          ]
        },
        "id": "_owLH5vleDAZ",
        "outputId": "7680e412-8323-43e8-d505-194d6ce9284a"
      },
      "execution_count": null,
      "outputs": [
        {
          "output_type": "display_data",
          "data": {
            "text/plain": [
              "Map:   0%|          | 0/700 [00:00<?, ? examples/s]"
            ],
            "application/vnd.jupyter.widget-view+json": {
              "version_major": 2,
              "version_minor": 0,
              "model_id": "a8443366fdde43b8a2479ecb5b454d63"
            }
          },
          "metadata": {}
        }
      ]
    },
    {
      "cell_type": "code",
      "source": [
        "# from datasets import concatenate_datasets\n",
        "\n",
        "# # Combine the datasets\n",
        "# combined_dataset = concatenate_datasets([small_processed_train_dataset1, small_processed_train_dataset2])\n",
        "\n",
        "# # Display the combined dataset\n",
        "# print(combined_dataset)\n"
      ],
      "metadata": {
        "id": "OkK1Kny-ucGv"
      },
      "execution_count": null,
      "outputs": []
    },
    {
      "cell_type": "code",
      "source": [
        "# # Limit to the first 10 samples\n",
        "# small_valid_dataset = proc_valid_dataset.select(range(100))\n",
        "\n",
        "# # Apply the transformation only on these 10 samples\n",
        "# small_processed_valid_dataset = small_valid_dataset.map(transform_and_tokenize, remove_columns=[\"image\", \"text\"])\n"
      ],
      "metadata": {
        "id": "Dutbq4gNPxQg"
      },
      "execution_count": null,
      "outputs": []
    },
    {
      "cell_type": "code",
      "source": [
        "# small_processed_valid_dataset"
      ],
      "metadata": {
        "id": "JJcKIF2hVA6B"
      },
      "execution_count": null,
      "outputs": []
    },
    {
      "cell_type": "code",
      "source": [
        "# small_processed_valid_dataset['target_sequence'][0]"
      ],
      "metadata": {
        "id": "QGaqrP6KVDOC"
      },
      "execution_count": null,
      "outputs": []
    },
    {
      "cell_type": "code",
      "source": [
        "processed_train_dataset['target_sequence'][0]"
      ],
      "metadata": {
        "colab": {
          "base_uri": "https://localhost:8080/"
        },
        "id": "eowPr__7j0CG",
        "outputId": "8ea6e4f4-a8ac-4238-d1a2-53a8297da303"
      },
      "execution_count": null,
      "outputs": [
        {
          "output_type": "execute_result",
          "data": {
            "text/plain": [
              "'<s><s_latex_0>\\\\hat { H } = \\\\frac { g ^ { 2 } } { 2 }</s_latex_0><s_latex_1>F _ { L } ^ { 3 } = - \\\\frac { 1 } { g } \\\\omega </s_latex_1><s_latex_2>\\\\rho = \\\\sum _ { j } H _ { j } \\\\otimes h ^ { j } </s_latex_2><s_latex_3>q = 1 / \\\\sqrt { f _ { H } } </s_latex_3><s_latex_4>\\\\vec { x } = \\\\frac { \\\\vec { \\\\beta } } { \\\\alpha }</s_latex_4><s_latex_5>C ^ { 1 } _ { 1 \\\\mu } = - C ^ { 2 } _ { 2 \\\\mu } </s_latex_5><s_latex_6>\\\\varepsilon = \\\\varepsilon _ { \\\\infty }</s_latex_6><s_latex_7>None</s_latex_7><s_latex_8>None</s_latex_8><s_latex_9>None</s_latex_9></s>'"
            ]
          },
          "metadata": {},
          "execution_count": 28
        }
      ]
    },
    {
      "cell_type": "code",
      "source": [
        "# Decode the labels of the first sample in `small_processed_valid_dataset`\n",
        "decoded_labels = processor.tokenizer.decode(processed_train_dataset['labels'][0], skip_special_tokens=False)\n",
        "print(decoded_labels)\n"
      ],
      "metadata": {
        "colab": {
          "base_uri": "https://localhost:8080/"
        },
        "id": "jU_3eJkaVL81",
        "outputId": "be29b39f-f6cc-4a95-dd39-d36df7a942d1"
      },
      "execution_count": null,
      "outputs": [
        {
          "output_type": "stream",
          "name": "stdout",
          "text": [
            "<s><s><s_latex_0>\\hat { H } = \\frac { g ^ { 2 } } { 2 }</s_latex_0><s_latex_1>F _ { L } ^ { 3 } = - \\frac { 1 } { g } \\omega </s_latex_1><s_latex_2>\\rho = \\sum _ { j } H _ { j } \\otimes h ^ { j } </s_latex_2><s_latex_3>q = 1 / \\sqrt { f _ { H } } </s_latex_3><s_latex_4>\\vec { x } = \\frac { \\vec { \\beta } } { \\alpha }</s_latex_4><s_latex_5>C ^ { 1 } _ { 1 \\mu } = - C ^ { 2 } _ { 2 \\mu } </s_latex_5><s_latex_6>\\varepsilon = \\varepsilon _ { \\infty }</s_latex_6><s_latex_7>None</s_latex_7><s_latex_8>None</s_latex_8><s_latex_9>None</s_latex_9></s></s><pad><pad><pad><pad><pad><pad><pad><pad><pad><pad><pad><pad><pad><pad><pad><pad><pad><pad><pad><pad><pad><pad><pad><pad><pad><pad><pad><pad><pad><pad><pad><pad><pad><pad><pad><pad><pad><pad><pad><pad><pad><pad><pad><pad><pad><pad><pad><pad><pad><pad><pad><pad><pad><pad><pad><pad><pad><pad><pad><pad><pad><pad><pad><pad><pad><pad><pad><pad><pad><pad><pad><pad><pad><pad><pad><pad><pad><pad><pad><pad><pad><pad><pad><pad><pad><pad><pad><pad><pad><pad><pad><pad><pad><pad><pad><pad><pad><pad><pad><pad><pad><pad><pad><pad><pad><pad><pad><pad><pad><pad><pad><pad><pad><pad><pad>\n"
          ]
        }
      ]
    },
    {
      "cell_type": "markdown",
      "source": [
        "# Training"
      ],
      "metadata": {
        "id": "VkU8dnCwumV0"
      }
    },
    {
      "cell_type": "code",
      "source": [
        "import wandb\n",
        "wandb.login(key='64b4c0e264e78227e0ef7ffd55e5236e5665e193')"
      ],
      "metadata": {
        "colab": {
          "base_uri": "https://localhost:8080/"
        },
        "id": "RZvLS1qjVWO9",
        "outputId": "8259233c-2aad-44fc-fab4-08005c42ef25"
      },
      "execution_count": null,
      "outputs": [
        {
          "output_type": "stream",
          "name": "stderr",
          "text": [
            "\u001b[34m\u001b[1mwandb\u001b[0m: Currently logged in as: \u001b[33mstudydrive-ee\u001b[0m (\u001b[33mabdul1\u001b[0m). Use \u001b[1m`wandb login --relogin`\u001b[0m to force relogin\n",
            "\u001b[34m\u001b[1mwandb\u001b[0m: \u001b[33mWARNING\u001b[0m If you're specifying your api key in code, ensure this code is not shared publicly.\n",
            "\u001b[34m\u001b[1mwandb\u001b[0m: \u001b[33mWARNING\u001b[0m Consider setting the WANDB_API_KEY environment variable, or running `wandb login` from the command line.\n",
            "\u001b[34m\u001b[1mwandb\u001b[0m: Appending key for api.wandb.ai to your netrc file: C:\\Users\\DataInsight GPU\\.netrc\n",
            "\u001b[34m\u001b[1mwandb\u001b[0m: \u001b[32m\u001b[41mERROR\u001b[0m Unable to read C:\\Users\\DataInsight GPU\\.netrc\n"
          ]
        },
        {
          "output_type": "execute_result",
          "data": {
            "text/plain": [
              "True"
            ]
          },
          "metadata": {},
          "execution_count": 31
        }
      ]
    },
    {
      "cell_type": "code",
      "source": [
        "import wandb\n",
        "from pytorch_lightning.loggers import WandbLogger\n",
        "\n",
        "wandb.init(project=\"Thesis\", name=\"DONUT_MathOCR_Iam2Latex\")\n",
        "wandb_logger = WandbLogger()"
      ],
      "metadata": {
        "colab": {
          "base_uri": "https://localhost:8080/",
          "height": 141
        },
        "id": "d5HKFcVwuvMb",
        "outputId": "1184330d-783c-4783-c993-9d60093f0995"
      },
      "execution_count": null,
      "outputs": [
        {
          "output_type": "stream",
          "name": "stderr",
          "text": [
            "\u001b[34m\u001b[1mwandb\u001b[0m: Currently logged in as: \u001b[33mstudydrive-ee\u001b[0m (\u001b[33mabdul1\u001b[0m). Use \u001b[1m`wandb login --relogin`\u001b[0m to force relogin\n"
          ]
        },
        {
          "output_type": "display_data",
          "data": {
            "text/plain": [
              "<IPython.core.display.HTML object>"
            ],
            "text/html": [
              "wandb version 0.18.5 is available!  To upgrade, please run:\n",
              " $ pip install wandb --upgrade"
            ]
          },
          "metadata": {}
        },
        {
          "output_type": "display_data",
          "data": {
            "text/plain": [
              "<IPython.core.display.HTML object>"
            ],
            "text/html": [
              "Tracking run with wandb version 0.16.3"
            ]
          },
          "metadata": {}
        },
        {
          "output_type": "display_data",
          "data": {
            "text/plain": [
              "<IPython.core.display.HTML object>"
            ],
            "text/html": [
              "Run data is saved locally in <code>C:\\Users\\DataInsight GPU\\wandb\\run-20241029_141815-ytf9w500</code>"
            ]
          },
          "metadata": {}
        },
        {
          "output_type": "display_data",
          "data": {
            "text/plain": [
              "<IPython.core.display.HTML object>"
            ],
            "text/html": [
              "Syncing run <strong><a href='https://wandb.ai/abdul1/Thesis/runs/ytf9w500' target=\"_blank\">DONUT_MathOCR_Iam2Latex</a></strong> to <a href='https://wandb.ai/abdul1/Thesis' target=\"_blank\">Weights & Biases</a> (<a href='https://wandb.me/run' target=\"_blank\">docs</a>)<br/>"
            ]
          },
          "metadata": {}
        },
        {
          "output_type": "display_data",
          "data": {
            "text/plain": [
              "<IPython.core.display.HTML object>"
            ],
            "text/html": [
              " View project at <a href='https://wandb.ai/abdul1/Thesis' target=\"_blank\">https://wandb.ai/abdul1/Thesis</a>"
            ]
          },
          "metadata": {}
        },
        {
          "output_type": "display_data",
          "data": {
            "text/plain": [
              "<IPython.core.display.HTML object>"
            ],
            "text/html": [
              " View run at <a href='https://wandb.ai/abdul1/Thesis/runs/ytf9w500' target=\"_blank\">https://wandb.ai/abdul1/Thesis/runs/ytf9w500</a>"
            ]
          },
          "metadata": {}
        }
      ]
    },
    {
      "cell_type": "code",
      "source": [
        "from huggingface_hub import HfFolder\n",
        "from transformers import Seq2SeqTrainingArguments, Seq2SeqTrainer\n",
        "\n",
        "# hyperparameters used for multiple args\n",
        "OUTPUT_DIRECTORY = r\"E:\\Abdul_Muqtadir\\Thesis\\NOUGAT_MathOCR\\model_save_dirctory\"\n",
        "\n",
        "# Arguments for training\n",
        "training_args = Seq2SeqTrainingArguments(\n",
        "    output_dir=OUTPUT_DIRECTORY,\n",
        "    num_train_epochs=10,  # for EUGD = 2\n",
        "    learning_rate=0.0001,\n",
        "    per_device_train_batch_size=1,\n",
        "    per_device_eval_batch_size=1,\n",
        "    lr_scheduler_type=\"cosine\",\n",
        "    warmup_steps=500,\n",
        "    weight_decay=0.001,\n",
        "    fp16=True,\n",
        "    logging_steps=100,\n",
        "    save_total_limit=15,\n",
        "    evaluation_strategy=\"steps\",\n",
        "    eval_steps=200,  # Evaluate every 500 steps\n",
        "    save_strategy=\"steps\",\n",
        "    save_steps=200,  # Save checkpoint every 500 steps\n",
        "    # predict_with_generate=True,\n",
        "    # push to hub parameters\n",
        "    #report_to=\"wandb\",\n",
        "    # push_to_hub=True,\n",
        "    # hub_strategy=\"every_save\",\n",
        "    # hub_model_id=hf_repository_id,\n",
        "    # hub_token=HfFolder.get_token(),\n",
        ")\n",
        "\n",
        "\n"
      ],
      "metadata": {
        "id": "ZHsgvAUpu3Hn"
      },
      "execution_count": null,
      "outputs": []
    },
    {
      "cell_type": "code",
      "source": [
        "trainer = Seq2SeqTrainer(\n",
        "    model=model,\n",
        "    args=training_args,\n",
        "    train_dataset=processed_train_dataset,\n",
        "    eval_dataset=processed_valid_dataset\n",
        ")\n"
      ],
      "metadata": {
        "id": "h26DAsMGvXUm"
      },
      "execution_count": null,
      "outputs": []
    },
    {
      "cell_type": "code",
      "source": [
        "trainer.train()"
      ],
      "metadata": {
        "colab": {
          "base_uri": "https://localhost:8080/",
          "height": 1000
        },
        "id": "eaNvhjBAE5nT",
        "outputId": "6926cf57-02bd-46ea-ad6d-6df6a40e1f3b"
      },
      "execution_count": null,
      "outputs": [
        {
          "output_type": "stream",
          "name": "stderr",
          "text": [
            "\u001b[34m\u001b[1mwandb\u001b[0m: Currently logged in as: \u001b[33mstudydrive-ee\u001b[0m (\u001b[33mabdul1\u001b[0m). Use \u001b[1m`wandb login --relogin`\u001b[0m to force relogin\n"
          ]
        },
        {
          "output_type": "display_data",
          "data": {
            "text/plain": [
              "<IPython.core.display.HTML object>"
            ],
            "text/html": [
              "wandb version 0.18.5 is available!  To upgrade, please run:\n",
              " $ pip install wandb --upgrade"
            ]
          },
          "metadata": {}
        },
        {
          "output_type": "display_data",
          "data": {
            "text/plain": [
              "<IPython.core.display.HTML object>"
            ],
            "text/html": [
              "Tracking run with wandb version 0.16.3"
            ]
          },
          "metadata": {}
        },
        {
          "output_type": "display_data",
          "data": {
            "text/plain": [
              "<IPython.core.display.HTML object>"
            ],
            "text/html": [
              "Run data is saved locally in <code>C:\\Users\\DataInsight GPU\\wandb\\run-20241103_223011-ucqaipn2</code>"
            ]
          },
          "metadata": {}
        },
        {
          "output_type": "display_data",
          "data": {
            "text/plain": [
              "<IPython.core.display.HTML object>"
            ],
            "text/html": [
              "Syncing run <strong><a href='https://wandb.ai/abdul1/huggingface/runs/ucqaipn2' target=\"_blank\">icy-leaf-125</a></strong> to <a href='https://wandb.ai/abdul1/huggingface' target=\"_blank\">Weights & Biases</a> (<a href='https://wandb.me/run' target=\"_blank\">docs</a>)<br/>"
            ]
          },
          "metadata": {}
        },
        {
          "output_type": "display_data",
          "data": {
            "text/plain": [
              "<IPython.core.display.HTML object>"
            ],
            "text/html": [
              " View project at <a href='https://wandb.ai/abdul1/huggingface' target=\"_blank\">https://wandb.ai/abdul1/huggingface</a>"
            ]
          },
          "metadata": {}
        },
        {
          "output_type": "display_data",
          "data": {
            "text/plain": [
              "<IPython.core.display.HTML object>"
            ],
            "text/html": [
              " View run at <a href='https://wandb.ai/abdul1/huggingface/runs/ucqaipn2' target=\"_blank\">https://wandb.ai/abdul1/huggingface/runs/ucqaipn2</a>"
            ]
          },
          "metadata": {}
        },
        {
          "output_type": "display_data",
          "data": {
            "text/plain": [
              "<IPython.core.display.HTML object>"
            ],
            "text/html": [
              "\n",
              "    <div>\n",
              "      \n",
              "      <progress value='418' max='7000' style='width:300px; height:20px; vertical-align: middle;'></progress>\n",
              "      [ 418/7000 25:41 < 6:46:29, 0.27 it/s, Epoch 0.60/10]\n",
              "    </div>\n",
              "    <table border=\"1\" class=\"dataframe\">\n",
              "  <thead>\n",
              " <tr style=\"text-align: left;\">\n",
              "      <th>Step</th>\n",
              "      <th>Training Loss</th>\n",
              "      <th>Validation Loss</th>\n",
              "    </tr>\n",
              "  </thead>\n",
              "  <tbody>\n",
              "    <tr>\n",
              "      <td>200</td>\n",
              "      <td>0.021000</td>\n",
              "      <td>0.011581</td>\n",
              "    </tr>\n",
              "    <tr>\n",
              "      <td>400</td>\n",
              "      <td>0.022900</td>\n",
              "      <td>0.017377</td>\n",
              "    </tr>\n",
              "  </tbody>\n",
              "</table><p>"
            ]
          },
          "metadata": {}
        },
        {
          "output_type": "stream",
          "name": "stderr",
          "text": [
            "Exception ignored in: <bound method IPythonKernel._clean_thread_parent_frames of <ipykernel.ipkernel.IPythonKernel object at 0x00000283E69A4210>>\n",
            "Traceback (most recent call last):\n",
            "  File \"C:\\Users\\DataInsight GPU\\AppData\\Roaming\\Python\\Python311\\site-packages\\ipykernel\\ipkernel.py\", line 785, in _clean_thread_parent_frames\n",
            "    active_threads = {thread.ident for thread in threading.enumerate()}\n",
            "                                                 ^^^^^^^^^^^^^^^^^^^^^\n",
            "  File \"C:\\Anaconda3\\envs\\newdonut\\Lib\\threading.py\", line 1501, in enumerate\n",
            "    def enumerate():\n",
            "    \n",
            "KeyboardInterrupt: \n",
            "Exception ignored in: <bound method IPythonKernel._clean_thread_parent_frames of <ipykernel.ipkernel.IPythonKernel object at 0x00000283E69A4210>>\n",
            "Traceback (most recent call last):\n",
            "  File \"C:\\Users\\DataInsight GPU\\AppData\\Roaming\\Python\\Python311\\site-packages\\ipykernel\\ipkernel.py\", line 785, in _clean_thread_parent_frames\n",
            "    active_threads = {thread.ident for thread in threading.enumerate()}\n",
            "                                                 ^^^^^^^^^^^^^^^^^^^^^\n",
            "  File \"C:\\Anaconda3\\envs\\newdonut\\Lib\\threading.py\", line 1501, in enumerate\n",
            "    def enumerate():\n",
            "    \n",
            "KeyboardInterrupt: \n"
          ]
        },
        {
          "output_type": "error",
          "ename": "KeyboardInterrupt",
          "evalue": "",
          "traceback": [
            "\u001b[1;31m---------------------------------------------------------------------------\u001b[0m",
            "\u001b[1;31mKeyboardInterrupt\u001b[0m                         Traceback (most recent call last)",
            "Cell \u001b[1;32mIn[32], line 1\u001b[0m\n\u001b[1;32m----> 1\u001b[0m \u001b[43mtrainer\u001b[49m\u001b[38;5;241;43m.\u001b[39;49m\u001b[43mtrain\u001b[49m\u001b[43m(\u001b[49m\u001b[43m)\u001b[49m\n",
            "File \u001b[1;32mC:\\Anaconda3\\envs\\newdonut\\Lib\\site-packages\\transformers\\trainer.py:1555\u001b[0m, in \u001b[0;36mTrainer.train\u001b[1;34m(self, resume_from_checkpoint, trial, ignore_keys_for_eval, **kwargs)\u001b[0m\n\u001b[0;32m   1553\u001b[0m         hf_hub_utils\u001b[38;5;241m.\u001b[39menable_progress_bars()\n\u001b[0;32m   1554\u001b[0m \u001b[38;5;28;01melse\u001b[39;00m:\n\u001b[1;32m-> 1555\u001b[0m     \u001b[38;5;28;01mreturn\u001b[39;00m \u001b[43minner_training_loop\u001b[49m\u001b[43m(\u001b[49m\n\u001b[0;32m   1556\u001b[0m \u001b[43m        \u001b[49m\u001b[43margs\u001b[49m\u001b[38;5;241;43m=\u001b[39;49m\u001b[43margs\u001b[49m\u001b[43m,\u001b[49m\n\u001b[0;32m   1557\u001b[0m \u001b[43m        \u001b[49m\u001b[43mresume_from_checkpoint\u001b[49m\u001b[38;5;241;43m=\u001b[39;49m\u001b[43mresume_from_checkpoint\u001b[49m\u001b[43m,\u001b[49m\n\u001b[0;32m   1558\u001b[0m \u001b[43m        \u001b[49m\u001b[43mtrial\u001b[49m\u001b[38;5;241;43m=\u001b[39;49m\u001b[43mtrial\u001b[49m\u001b[43m,\u001b[49m\n\u001b[0;32m   1559\u001b[0m \u001b[43m        \u001b[49m\u001b[43mignore_keys_for_eval\u001b[49m\u001b[38;5;241;43m=\u001b[39;49m\u001b[43mignore_keys_for_eval\u001b[49m\u001b[43m,\u001b[49m\n\u001b[0;32m   1560\u001b[0m \u001b[43m    \u001b[49m\u001b[43m)\u001b[49m\n",
            "File \u001b[1;32mC:\\Anaconda3\\envs\\newdonut\\Lib\\site-packages\\transformers\\trainer.py:1838\u001b[0m, in \u001b[0;36mTrainer._inner_training_loop\u001b[1;34m(self, batch_size, args, resume_from_checkpoint, trial, ignore_keys_for_eval)\u001b[0m\n\u001b[0;32m   1835\u001b[0m     rng_to_sync \u001b[38;5;241m=\u001b[39m \u001b[38;5;28;01mTrue\u001b[39;00m\n\u001b[0;32m   1837\u001b[0m step \u001b[38;5;241m=\u001b[39m \u001b[38;5;241m-\u001b[39m\u001b[38;5;241m1\u001b[39m\n\u001b[1;32m-> 1838\u001b[0m \u001b[43m\u001b[49m\u001b[38;5;28;43;01mfor\u001b[39;49;00m\u001b[43m \u001b[49m\u001b[43mstep\u001b[49m\u001b[43m,\u001b[49m\u001b[43m \u001b[49m\u001b[43minputs\u001b[49m\u001b[43m \u001b[49m\u001b[38;5;129;43;01min\u001b[39;49;00m\u001b[43m \u001b[49m\u001b[38;5;28;43menumerate\u001b[39;49m\u001b[43m(\u001b[49m\u001b[43mepoch_iterator\u001b[49m\u001b[43m)\u001b[49m\u001b[43m:\u001b[49m\n\u001b[0;32m   1839\u001b[0m \u001b[43m    \u001b[49m\u001b[43mtotal_batched_samples\u001b[49m\u001b[43m \u001b[49m\u001b[38;5;241;43m+\u001b[39;49m\u001b[38;5;241;43m=\u001b[39;49m\u001b[43m \u001b[49m\u001b[38;5;241;43m1\u001b[39;49m\n\u001b[0;32m   1840\u001b[0m \u001b[43m    \u001b[49m\u001b[38;5;28;43;01mif\u001b[39;49;00m\u001b[43m \u001b[49m\u001b[43mrng_to_sync\u001b[49m\u001b[43m:\u001b[49m\n",
            "File \u001b[1;32mC:\\Anaconda3\\envs\\newdonut\\Lib\\site-packages\\accelerate\\data_loader.py:462\u001b[0m, in \u001b[0;36mDataLoaderShard.__iter__\u001b[1;34m(self)\u001b[0m\n\u001b[0;32m    460\u001b[0m \u001b[38;5;28;01mif\u001b[39;00m \u001b[38;5;28mself\u001b[39m\u001b[38;5;241m.\u001b[39mdevice \u001b[38;5;129;01mis\u001b[39;00m \u001b[38;5;129;01mnot\u001b[39;00m \u001b[38;5;28;01mNone\u001b[39;00m:\n\u001b[0;32m    461\u001b[0m     current_batch \u001b[38;5;241m=\u001b[39m send_to_device(current_batch, \u001b[38;5;28mself\u001b[39m\u001b[38;5;241m.\u001b[39mdevice)\n\u001b[1;32m--> 462\u001b[0m next_batch \u001b[38;5;241m=\u001b[39m \u001b[38;5;28mnext\u001b[39m(dataloader_iter)\n\u001b[0;32m    463\u001b[0m \u001b[38;5;28;01mif\u001b[39;00m batch_index \u001b[38;5;241m>\u001b[39m\u001b[38;5;241m=\u001b[39m \u001b[38;5;28mself\u001b[39m\u001b[38;5;241m.\u001b[39mskip_batches:\n\u001b[0;32m    464\u001b[0m     \u001b[38;5;28;01myield\u001b[39;00m current_batch\n",
            "File \u001b[1;32mC:\\Anaconda3\\envs\\newdonut\\Lib\\site-packages\\torch\\utils\\data\\dataloader.py:631\u001b[0m, in \u001b[0;36m_BaseDataLoaderIter.__next__\u001b[1;34m(self)\u001b[0m\n\u001b[0;32m    628\u001b[0m \u001b[38;5;28;01mif\u001b[39;00m \u001b[38;5;28mself\u001b[39m\u001b[38;5;241m.\u001b[39m_sampler_iter \u001b[38;5;129;01mis\u001b[39;00m \u001b[38;5;28;01mNone\u001b[39;00m:\n\u001b[0;32m    629\u001b[0m     \u001b[38;5;66;03m# TODO(https://github.com/pytorch/pytorch/issues/76750)\u001b[39;00m\n\u001b[0;32m    630\u001b[0m     \u001b[38;5;28mself\u001b[39m\u001b[38;5;241m.\u001b[39m_reset()  \u001b[38;5;66;03m# type: ignore[call-arg]\u001b[39;00m\n\u001b[1;32m--> 631\u001b[0m data \u001b[38;5;241m=\u001b[39m \u001b[38;5;28;43mself\u001b[39;49m\u001b[38;5;241;43m.\u001b[39;49m\u001b[43m_next_data\u001b[49m\u001b[43m(\u001b[49m\u001b[43m)\u001b[49m\n\u001b[0;32m    632\u001b[0m \u001b[38;5;28mself\u001b[39m\u001b[38;5;241m.\u001b[39m_num_yielded \u001b[38;5;241m+\u001b[39m\u001b[38;5;241m=\u001b[39m \u001b[38;5;241m1\u001b[39m\n\u001b[0;32m    633\u001b[0m \u001b[38;5;28;01mif\u001b[39;00m \u001b[38;5;28mself\u001b[39m\u001b[38;5;241m.\u001b[39m_dataset_kind \u001b[38;5;241m==\u001b[39m _DatasetKind\u001b[38;5;241m.\u001b[39mIterable \u001b[38;5;129;01mand\u001b[39;00m \\\n\u001b[0;32m    634\u001b[0m         \u001b[38;5;28mself\u001b[39m\u001b[38;5;241m.\u001b[39m_IterableDataset_len_called \u001b[38;5;129;01mis\u001b[39;00m \u001b[38;5;129;01mnot\u001b[39;00m \u001b[38;5;28;01mNone\u001b[39;00m \u001b[38;5;129;01mand\u001b[39;00m \\\n\u001b[0;32m    635\u001b[0m         \u001b[38;5;28mself\u001b[39m\u001b[38;5;241m.\u001b[39m_num_yielded \u001b[38;5;241m>\u001b[39m \u001b[38;5;28mself\u001b[39m\u001b[38;5;241m.\u001b[39m_IterableDataset_len_called:\n",
            "File \u001b[1;32mC:\\Anaconda3\\envs\\newdonut\\Lib\\site-packages\\torch\\utils\\data\\dataloader.py:675\u001b[0m, in \u001b[0;36m_SingleProcessDataLoaderIter._next_data\u001b[1;34m(self)\u001b[0m\n\u001b[0;32m    673\u001b[0m \u001b[38;5;28;01mdef\u001b[39;00m \u001b[38;5;21m_next_data\u001b[39m(\u001b[38;5;28mself\u001b[39m):\n\u001b[0;32m    674\u001b[0m     index \u001b[38;5;241m=\u001b[39m \u001b[38;5;28mself\u001b[39m\u001b[38;5;241m.\u001b[39m_next_index()  \u001b[38;5;66;03m# may raise StopIteration\u001b[39;00m\n\u001b[1;32m--> 675\u001b[0m     data \u001b[38;5;241m=\u001b[39m \u001b[38;5;28;43mself\u001b[39;49m\u001b[38;5;241;43m.\u001b[39;49m\u001b[43m_dataset_fetcher\u001b[49m\u001b[38;5;241;43m.\u001b[39;49m\u001b[43mfetch\u001b[49m\u001b[43m(\u001b[49m\u001b[43mindex\u001b[49m\u001b[43m)\u001b[49m  \u001b[38;5;66;03m# may raise StopIteration\u001b[39;00m\n\u001b[0;32m    676\u001b[0m     \u001b[38;5;28;01mif\u001b[39;00m \u001b[38;5;28mself\u001b[39m\u001b[38;5;241m.\u001b[39m_pin_memory:\n\u001b[0;32m    677\u001b[0m         data \u001b[38;5;241m=\u001b[39m _utils\u001b[38;5;241m.\u001b[39mpin_memory\u001b[38;5;241m.\u001b[39mpin_memory(data, \u001b[38;5;28mself\u001b[39m\u001b[38;5;241m.\u001b[39m_pin_memory_device)\n",
            "File \u001b[1;32mC:\\Anaconda3\\envs\\newdonut\\Lib\\site-packages\\torch\\utils\\data\\_utils\\fetch.py:49\u001b[0m, in \u001b[0;36m_MapDatasetFetcher.fetch\u001b[1;34m(self, possibly_batched_index)\u001b[0m\n\u001b[0;32m     47\u001b[0m \u001b[38;5;28;01mif\u001b[39;00m \u001b[38;5;28mself\u001b[39m\u001b[38;5;241m.\u001b[39mauto_collation:\n\u001b[0;32m     48\u001b[0m     \u001b[38;5;28;01mif\u001b[39;00m \u001b[38;5;28mhasattr\u001b[39m(\u001b[38;5;28mself\u001b[39m\u001b[38;5;241m.\u001b[39mdataset, \u001b[38;5;124m\"\u001b[39m\u001b[38;5;124m__getitems__\u001b[39m\u001b[38;5;124m\"\u001b[39m) \u001b[38;5;129;01mand\u001b[39;00m \u001b[38;5;28mself\u001b[39m\u001b[38;5;241m.\u001b[39mdataset\u001b[38;5;241m.\u001b[39m__getitems__:\n\u001b[1;32m---> 49\u001b[0m         data \u001b[38;5;241m=\u001b[39m \u001b[38;5;28;43mself\u001b[39;49m\u001b[38;5;241;43m.\u001b[39;49m\u001b[43mdataset\u001b[49m\u001b[38;5;241;43m.\u001b[39;49m\u001b[43m__getitems__\u001b[49m\u001b[43m(\u001b[49m\u001b[43mpossibly_batched_index\u001b[49m\u001b[43m)\u001b[49m\n\u001b[0;32m     50\u001b[0m     \u001b[38;5;28;01melse\u001b[39;00m:\n\u001b[0;32m     51\u001b[0m         data \u001b[38;5;241m=\u001b[39m [\u001b[38;5;28mself\u001b[39m\u001b[38;5;241m.\u001b[39mdataset[idx] \u001b[38;5;28;01mfor\u001b[39;00m idx \u001b[38;5;129;01min\u001b[39;00m possibly_batched_index]\n",
            "File \u001b[1;32mC:\\Anaconda3\\envs\\newdonut\\Lib\\site-packages\\datasets\\arrow_dataset.py:2814\u001b[0m, in \u001b[0;36mDataset.__getitems__\u001b[1;34m(self, keys)\u001b[0m\n\u001b[0;32m   2812\u001b[0m \u001b[38;5;28;01mdef\u001b[39;00m \u001b[38;5;21m__getitems__\u001b[39m(\u001b[38;5;28mself\u001b[39m, keys: List) \u001b[38;5;241m-\u001b[39m\u001b[38;5;241m>\u001b[39m List:\n\u001b[0;32m   2813\u001b[0m \u001b[38;5;250m    \u001b[39m\u001b[38;5;124;03m\"\"\"Can be used to get a batch using a list of integers indices.\"\"\"\u001b[39;00m\n\u001b[1;32m-> 2814\u001b[0m     batch \u001b[38;5;241m=\u001b[39m \u001b[38;5;28;43mself\u001b[39;49m\u001b[38;5;241;43m.\u001b[39;49m\u001b[38;5;21;43m__getitem__\u001b[39;49m\u001b[43m(\u001b[49m\u001b[43mkeys\u001b[49m\u001b[43m)\u001b[49m\n\u001b[0;32m   2815\u001b[0m     n_examples \u001b[38;5;241m=\u001b[39m \u001b[38;5;28mlen\u001b[39m(batch[\u001b[38;5;28mnext\u001b[39m(\u001b[38;5;28miter\u001b[39m(batch))])\n\u001b[0;32m   2816\u001b[0m     \u001b[38;5;28;01mreturn\u001b[39;00m [{col: array[i] \u001b[38;5;28;01mfor\u001b[39;00m col, array \u001b[38;5;129;01min\u001b[39;00m batch\u001b[38;5;241m.\u001b[39mitems()} \u001b[38;5;28;01mfor\u001b[39;00m i \u001b[38;5;129;01min\u001b[39;00m \u001b[38;5;28mrange\u001b[39m(n_examples)]\n",
            "File \u001b[1;32mC:\\Anaconda3\\envs\\newdonut\\Lib\\site-packages\\datasets\\arrow_dataset.py:2810\u001b[0m, in \u001b[0;36mDataset.__getitem__\u001b[1;34m(self, key)\u001b[0m\n\u001b[0;32m   2808\u001b[0m \u001b[38;5;28;01mdef\u001b[39;00m \u001b[38;5;21m__getitem__\u001b[39m(\u001b[38;5;28mself\u001b[39m, key):  \u001b[38;5;66;03m# noqa: F811\u001b[39;00m\n\u001b[0;32m   2809\u001b[0m \u001b[38;5;250m    \u001b[39m\u001b[38;5;124;03m\"\"\"Can be used to index columns (by string names) or rows (by integer index or iterable of indices or bools).\"\"\"\u001b[39;00m\n\u001b[1;32m-> 2810\u001b[0m     \u001b[38;5;28;01mreturn\u001b[39;00m \u001b[38;5;28;43mself\u001b[39;49m\u001b[38;5;241;43m.\u001b[39;49m\u001b[43m_getitem\u001b[49m\u001b[43m(\u001b[49m\u001b[43mkey\u001b[49m\u001b[43m)\u001b[49m\n",
            "File \u001b[1;32mC:\\Anaconda3\\envs\\newdonut\\Lib\\site-packages\\datasets\\arrow_dataset.py:2795\u001b[0m, in \u001b[0;36mDataset._getitem\u001b[1;34m(self, key, **kwargs)\u001b[0m\n\u001b[0;32m   2793\u001b[0m formatter \u001b[38;5;241m=\u001b[39m get_formatter(format_type, features\u001b[38;5;241m=\u001b[39m\u001b[38;5;28mself\u001b[39m\u001b[38;5;241m.\u001b[39m_info\u001b[38;5;241m.\u001b[39mfeatures, \u001b[38;5;241m*\u001b[39m\u001b[38;5;241m*\u001b[39mformat_kwargs)\n\u001b[0;32m   2794\u001b[0m pa_subtable \u001b[38;5;241m=\u001b[39m query_table(\u001b[38;5;28mself\u001b[39m\u001b[38;5;241m.\u001b[39m_data, key, indices\u001b[38;5;241m=\u001b[39m\u001b[38;5;28mself\u001b[39m\u001b[38;5;241m.\u001b[39m_indices)\n\u001b[1;32m-> 2795\u001b[0m formatted_output \u001b[38;5;241m=\u001b[39m \u001b[43mformat_table\u001b[49m\u001b[43m(\u001b[49m\n\u001b[0;32m   2796\u001b[0m \u001b[43m    \u001b[49m\u001b[43mpa_subtable\u001b[49m\u001b[43m,\u001b[49m\u001b[43m \u001b[49m\u001b[43mkey\u001b[49m\u001b[43m,\u001b[49m\u001b[43m \u001b[49m\u001b[43mformatter\u001b[49m\u001b[38;5;241;43m=\u001b[39;49m\u001b[43mformatter\u001b[49m\u001b[43m,\u001b[49m\u001b[43m \u001b[49m\u001b[43mformat_columns\u001b[49m\u001b[38;5;241;43m=\u001b[39;49m\u001b[43mformat_columns\u001b[49m\u001b[43m,\u001b[49m\u001b[43m \u001b[49m\u001b[43moutput_all_columns\u001b[49m\u001b[38;5;241;43m=\u001b[39;49m\u001b[43moutput_all_columns\u001b[49m\n\u001b[0;32m   2797\u001b[0m \u001b[43m\u001b[49m\u001b[43m)\u001b[49m\n\u001b[0;32m   2798\u001b[0m \u001b[38;5;28;01mreturn\u001b[39;00m formatted_output\n",
            "File \u001b[1;32mC:\\Anaconda3\\envs\\newdonut\\Lib\\site-packages\\datasets\\formatting\\formatting.py:629\u001b[0m, in \u001b[0;36mformat_table\u001b[1;34m(table, key, formatter, format_columns, output_all_columns)\u001b[0m\n\u001b[0;32m    627\u001b[0m python_formatter \u001b[38;5;241m=\u001b[39m PythonFormatter(features\u001b[38;5;241m=\u001b[39mformatter\u001b[38;5;241m.\u001b[39mfeatures)\n\u001b[0;32m    628\u001b[0m \u001b[38;5;28;01mif\u001b[39;00m format_columns \u001b[38;5;129;01mis\u001b[39;00m \u001b[38;5;28;01mNone\u001b[39;00m:\n\u001b[1;32m--> 629\u001b[0m     \u001b[38;5;28;01mreturn\u001b[39;00m \u001b[43mformatter\u001b[49m\u001b[43m(\u001b[49m\u001b[43mpa_table\u001b[49m\u001b[43m,\u001b[49m\u001b[43m \u001b[49m\u001b[43mquery_type\u001b[49m\u001b[38;5;241;43m=\u001b[39;49m\u001b[43mquery_type\u001b[49m\u001b[43m)\u001b[49m\n\u001b[0;32m    630\u001b[0m \u001b[38;5;28;01melif\u001b[39;00m query_type \u001b[38;5;241m==\u001b[39m \u001b[38;5;124m\"\u001b[39m\u001b[38;5;124mcolumn\u001b[39m\u001b[38;5;124m\"\u001b[39m:\n\u001b[0;32m    631\u001b[0m     \u001b[38;5;28;01mif\u001b[39;00m key \u001b[38;5;129;01min\u001b[39;00m format_columns:\n",
            "File \u001b[1;32mC:\\Anaconda3\\envs\\newdonut\\Lib\\site-packages\\datasets\\formatting\\formatting.py:400\u001b[0m, in \u001b[0;36mFormatter.__call__\u001b[1;34m(self, pa_table, query_type)\u001b[0m\n\u001b[0;32m    398\u001b[0m     \u001b[38;5;28;01mreturn\u001b[39;00m \u001b[38;5;28mself\u001b[39m\u001b[38;5;241m.\u001b[39mformat_column(pa_table)\n\u001b[0;32m    399\u001b[0m \u001b[38;5;28;01melif\u001b[39;00m query_type \u001b[38;5;241m==\u001b[39m \u001b[38;5;124m\"\u001b[39m\u001b[38;5;124mbatch\u001b[39m\u001b[38;5;124m\"\u001b[39m:\n\u001b[1;32m--> 400\u001b[0m     \u001b[38;5;28;01mreturn\u001b[39;00m \u001b[38;5;28;43mself\u001b[39;49m\u001b[38;5;241;43m.\u001b[39;49m\u001b[43mformat_batch\u001b[49m\u001b[43m(\u001b[49m\u001b[43mpa_table\u001b[49m\u001b[43m)\u001b[49m\n",
            "File \u001b[1;32mC:\\Anaconda3\\envs\\newdonut\\Lib\\site-packages\\datasets\\formatting\\formatting.py:449\u001b[0m, in \u001b[0;36mPythonFormatter.format_batch\u001b[1;34m(self, pa_table)\u001b[0m\n\u001b[0;32m    447\u001b[0m     \u001b[38;5;28;01mreturn\u001b[39;00m LazyBatch(pa_table, \u001b[38;5;28mself\u001b[39m)\n\u001b[0;32m    448\u001b[0m batch \u001b[38;5;241m=\u001b[39m \u001b[38;5;28mself\u001b[39m\u001b[38;5;241m.\u001b[39mpython_arrow_extractor()\u001b[38;5;241m.\u001b[39mextract_batch(pa_table)\n\u001b[1;32m--> 449\u001b[0m batch \u001b[38;5;241m=\u001b[39m \u001b[38;5;28;43mself\u001b[39;49m\u001b[38;5;241;43m.\u001b[39;49m\u001b[43mpython_features_decoder\u001b[49m\u001b[38;5;241;43m.\u001b[39;49m\u001b[43mdecode_batch\u001b[49m\u001b[43m(\u001b[49m\u001b[43mbatch\u001b[49m\u001b[43m)\u001b[49m\n\u001b[0;32m    450\u001b[0m \u001b[38;5;28;01mreturn\u001b[39;00m batch\n",
            "File \u001b[1;32mC:\\Anaconda3\\envs\\newdonut\\Lib\\site-packages\\datasets\\formatting\\formatting.py:220\u001b[0m, in \u001b[0;36mPythonFeaturesDecoder.decode_batch\u001b[1;34m(self, batch)\u001b[0m\n\u001b[0;32m    217\u001b[0m \u001b[38;5;28;01mdef\u001b[39;00m \u001b[38;5;21mdecode_column\u001b[39m(\u001b[38;5;28mself\u001b[39m, column: \u001b[38;5;28mlist\u001b[39m, column_name: \u001b[38;5;28mstr\u001b[39m) \u001b[38;5;241m-\u001b[39m\u001b[38;5;241m>\u001b[39m \u001b[38;5;28mlist\u001b[39m:\n\u001b[0;32m    218\u001b[0m     \u001b[38;5;28;01mreturn\u001b[39;00m \u001b[38;5;28mself\u001b[39m\u001b[38;5;241m.\u001b[39mfeatures\u001b[38;5;241m.\u001b[39mdecode_column(column, column_name) \u001b[38;5;28;01mif\u001b[39;00m \u001b[38;5;28mself\u001b[39m\u001b[38;5;241m.\u001b[39mfeatures \u001b[38;5;28;01melse\u001b[39;00m column\n\u001b[1;32m--> 220\u001b[0m \u001b[38;5;28;01mdef\u001b[39;00m \u001b[38;5;21mdecode_batch\u001b[39m(\u001b[38;5;28mself\u001b[39m, batch: \u001b[38;5;28mdict\u001b[39m) \u001b[38;5;241m-\u001b[39m\u001b[38;5;241m>\u001b[39m \u001b[38;5;28mdict\u001b[39m:\n\u001b[0;32m    221\u001b[0m     \u001b[38;5;28;01mreturn\u001b[39;00m \u001b[38;5;28mself\u001b[39m\u001b[38;5;241m.\u001b[39mfeatures\u001b[38;5;241m.\u001b[39mdecode_batch(batch) \u001b[38;5;28;01mif\u001b[39;00m \u001b[38;5;28mself\u001b[39m\u001b[38;5;241m.\u001b[39mfeatures \u001b[38;5;28;01melse\u001b[39;00m batch\n",
            "\u001b[1;31mKeyboardInterrupt\u001b[0m: "
          ]
        }
      ]
    },
    {
      "cell_type": "code",
      "source": [
        "trainer.train()"
      ],
      "metadata": {
        "colab": {
          "base_uri": "https://localhost:8080/",
          "height": 1000
        },
        "id": "OVOb-TgJvaZb",
        "outputId": "67af995c-7b0c-4f69-c584-4cd130eed2a5"
      },
      "execution_count": null,
      "outputs": [
        {
          "output_type": "stream",
          "name": "stderr",
          "text": [
            "\u001b[34m\u001b[1mwandb\u001b[0m: Currently logged in as: \u001b[33mstudydrive-ee\u001b[0m (\u001b[33mabdul1\u001b[0m). Use \u001b[1m`wandb login --relogin`\u001b[0m to force relogin\n"
          ]
        },
        {
          "output_type": "display_data",
          "data": {
            "text/plain": [
              "<IPython.core.display.HTML object>"
            ],
            "text/html": [
              "wandb version 0.18.5 is available!  To upgrade, please run:\n",
              " $ pip install wandb --upgrade"
            ]
          },
          "metadata": {}
        },
        {
          "output_type": "display_data",
          "data": {
            "text/plain": [
              "<IPython.core.display.HTML object>"
            ],
            "text/html": [
              "Tracking run with wandb version 0.16.3"
            ]
          },
          "metadata": {}
        },
        {
          "output_type": "display_data",
          "data": {
            "text/plain": [
              "<IPython.core.display.HTML object>"
            ],
            "text/html": [
              "Run data is saved locally in <code>C:\\Users\\DataInsight GPU\\wandb\\run-20241102_170011-2jsxfxav</code>"
            ]
          },
          "metadata": {}
        },
        {
          "output_type": "display_data",
          "data": {
            "text/plain": [
              "<IPython.core.display.HTML object>"
            ],
            "text/html": [
              "Syncing run <strong><a href='https://wandb.ai/abdul1/huggingface/runs/2jsxfxav' target=\"_blank\">wobbly-silence-123</a></strong> to <a href='https://wandb.ai/abdul1/huggingface' target=\"_blank\">Weights & Biases</a> (<a href='https://wandb.me/run' target=\"_blank\">docs</a>)<br/>"
            ]
          },
          "metadata": {}
        },
        {
          "output_type": "display_data",
          "data": {
            "text/plain": [
              "<IPython.core.display.HTML object>"
            ],
            "text/html": [
              " View project at <a href='https://wandb.ai/abdul1/huggingface' target=\"_blank\">https://wandb.ai/abdul1/huggingface</a>"
            ]
          },
          "metadata": {}
        },
        {
          "output_type": "display_data",
          "data": {
            "text/plain": [
              "<IPython.core.display.HTML object>"
            ],
            "text/html": [
              " View run at <a href='https://wandb.ai/abdul1/huggingface/runs/2jsxfxav' target=\"_blank\">https://wandb.ai/abdul1/huggingface/runs/2jsxfxav</a>"
            ]
          },
          "metadata": {}
        },
        {
          "output_type": "display_data",
          "data": {
            "text/plain": [
              "<IPython.core.display.HTML object>"
            ],
            "text/html": [
              "\n",
              "    <div>\n",
              "      \n",
              "      <progress value='2645' max='6000' style='width:300px; height:20px; vertical-align: middle;'></progress>\n",
              "      [2645/6000 2:35:22 < 3:17:14, 0.28 it/s, Epoch 4.41/10]\n",
              "    </div>\n",
              "    <table border=\"1\" class=\"dataframe\">\n",
              "  <thead>\n",
              " <tr style=\"text-align: left;\">\n",
              "      <th>Step</th>\n",
              "      <th>Training Loss</th>\n",
              "      <th>Validation Loss</th>\n",
              "    </tr>\n",
              "  </thead>\n",
              "  <tbody>\n",
              "    <tr>\n",
              "      <td>200</td>\n",
              "      <td>0.132800</td>\n",
              "      <td>0.077514</td>\n",
              "    </tr>\n",
              "    <tr>\n",
              "      <td>400</td>\n",
              "      <td>0.098800</td>\n",
              "      <td>0.060484</td>\n",
              "    </tr>\n",
              "    <tr>\n",
              "      <td>600</td>\n",
              "      <td>0.085500</td>\n",
              "      <td>0.058343</td>\n",
              "    </tr>\n",
              "    <tr>\n",
              "      <td>800</td>\n",
              "      <td>0.052500</td>\n",
              "      <td>0.053183</td>\n",
              "    </tr>\n",
              "    <tr>\n",
              "      <td>1000</td>\n",
              "      <td>0.049500</td>\n",
              "      <td>0.043733</td>\n",
              "    </tr>\n",
              "    <tr>\n",
              "      <td>1200</td>\n",
              "      <td>0.039000</td>\n",
              "      <td>0.030249</td>\n",
              "    </tr>\n",
              "    <tr>\n",
              "      <td>1400</td>\n",
              "      <td>0.030000</td>\n",
              "      <td>0.030161</td>\n",
              "    </tr>\n",
              "    <tr>\n",
              "      <td>1600</td>\n",
              "      <td>0.027400</td>\n",
              "      <td>0.029163</td>\n",
              "    </tr>\n",
              "    <tr>\n",
              "      <td>1800</td>\n",
              "      <td>0.023900</td>\n",
              "      <td>0.024770</td>\n",
              "    </tr>\n",
              "    <tr>\n",
              "      <td>2000</td>\n",
              "      <td>0.018700</td>\n",
              "      <td>0.027586</td>\n",
              "    </tr>\n",
              "    <tr>\n",
              "      <td>2200</td>\n",
              "      <td>0.017500</td>\n",
              "      <td>0.026277</td>\n",
              "    </tr>\n",
              "    <tr>\n",
              "      <td>2400</td>\n",
              "      <td>0.015100</td>\n",
              "      <td>0.019002</td>\n",
              "    </tr>\n",
              "    <tr>\n",
              "      <td>2600</td>\n",
              "      <td>0.007300</td>\n",
              "      <td>0.019584</td>\n",
              "    </tr>\n",
              "  </tbody>\n",
              "</table><p>"
            ]
          },
          "metadata": {}
        },
        {
          "output_type": "error",
          "ename": "KeyboardInterrupt",
          "evalue": "",
          "traceback": [
            "\u001b[1;31m---------------------------------------------------------------------------\u001b[0m",
            "\u001b[1;31mKeyboardInterrupt\u001b[0m                         Traceback (most recent call last)",
            "Cell \u001b[1;32mIn[31], line 1\u001b[0m\n\u001b[1;32m----> 1\u001b[0m \u001b[43mtrainer\u001b[49m\u001b[38;5;241;43m.\u001b[39;49m\u001b[43mtrain\u001b[49m\u001b[43m(\u001b[49m\u001b[43m)\u001b[49m\n",
            "File \u001b[1;32mC:\\Anaconda3\\envs\\newdonut\\Lib\\site-packages\\transformers\\trainer.py:1555\u001b[0m, in \u001b[0;36mTrainer.train\u001b[1;34m(self, resume_from_checkpoint, trial, ignore_keys_for_eval, **kwargs)\u001b[0m\n\u001b[0;32m   1553\u001b[0m         hf_hub_utils\u001b[38;5;241m.\u001b[39menable_progress_bars()\n\u001b[0;32m   1554\u001b[0m \u001b[38;5;28;01melse\u001b[39;00m:\n\u001b[1;32m-> 1555\u001b[0m     \u001b[38;5;28;01mreturn\u001b[39;00m \u001b[43minner_training_loop\u001b[49m\u001b[43m(\u001b[49m\n\u001b[0;32m   1556\u001b[0m \u001b[43m        \u001b[49m\u001b[43margs\u001b[49m\u001b[38;5;241;43m=\u001b[39;49m\u001b[43margs\u001b[49m\u001b[43m,\u001b[49m\n\u001b[0;32m   1557\u001b[0m \u001b[43m        \u001b[49m\u001b[43mresume_from_checkpoint\u001b[49m\u001b[38;5;241;43m=\u001b[39;49m\u001b[43mresume_from_checkpoint\u001b[49m\u001b[43m,\u001b[49m\n\u001b[0;32m   1558\u001b[0m \u001b[43m        \u001b[49m\u001b[43mtrial\u001b[49m\u001b[38;5;241;43m=\u001b[39;49m\u001b[43mtrial\u001b[49m\u001b[43m,\u001b[49m\n\u001b[0;32m   1559\u001b[0m \u001b[43m        \u001b[49m\u001b[43mignore_keys_for_eval\u001b[49m\u001b[38;5;241;43m=\u001b[39;49m\u001b[43mignore_keys_for_eval\u001b[49m\u001b[43m,\u001b[49m\n\u001b[0;32m   1560\u001b[0m \u001b[43m    \u001b[49m\u001b[43m)\u001b[49m\n",
            "File \u001b[1;32mC:\\Anaconda3\\envs\\newdonut\\Lib\\site-packages\\transformers\\trainer.py:1838\u001b[0m, in \u001b[0;36mTrainer._inner_training_loop\u001b[1;34m(self, batch_size, args, resume_from_checkpoint, trial, ignore_keys_for_eval)\u001b[0m\n\u001b[0;32m   1835\u001b[0m     rng_to_sync \u001b[38;5;241m=\u001b[39m \u001b[38;5;28;01mTrue\u001b[39;00m\n\u001b[0;32m   1837\u001b[0m step \u001b[38;5;241m=\u001b[39m \u001b[38;5;241m-\u001b[39m\u001b[38;5;241m1\u001b[39m\n\u001b[1;32m-> 1838\u001b[0m \u001b[43m\u001b[49m\u001b[38;5;28;43;01mfor\u001b[39;49;00m\u001b[43m \u001b[49m\u001b[43mstep\u001b[49m\u001b[43m,\u001b[49m\u001b[43m \u001b[49m\u001b[43minputs\u001b[49m\u001b[43m \u001b[49m\u001b[38;5;129;43;01min\u001b[39;49;00m\u001b[43m \u001b[49m\u001b[38;5;28;43menumerate\u001b[39;49m\u001b[43m(\u001b[49m\u001b[43mepoch_iterator\u001b[49m\u001b[43m)\u001b[49m\u001b[43m:\u001b[49m\n\u001b[0;32m   1839\u001b[0m \u001b[43m    \u001b[49m\u001b[43mtotal_batched_samples\u001b[49m\u001b[43m \u001b[49m\u001b[38;5;241;43m+\u001b[39;49m\u001b[38;5;241;43m=\u001b[39;49m\u001b[43m \u001b[49m\u001b[38;5;241;43m1\u001b[39;49m\n\u001b[0;32m   1840\u001b[0m \u001b[43m    \u001b[49m\u001b[38;5;28;43;01mif\u001b[39;49;00m\u001b[43m \u001b[49m\u001b[43mrng_to_sync\u001b[49m\u001b[43m:\u001b[49m\n",
            "File \u001b[1;32mC:\\Anaconda3\\envs\\newdonut\\Lib\\site-packages\\accelerate\\data_loader.py:462\u001b[0m, in \u001b[0;36mDataLoaderShard.__iter__\u001b[1;34m(self)\u001b[0m\n\u001b[0;32m    460\u001b[0m \u001b[38;5;28;01mif\u001b[39;00m \u001b[38;5;28mself\u001b[39m\u001b[38;5;241m.\u001b[39mdevice \u001b[38;5;129;01mis\u001b[39;00m \u001b[38;5;129;01mnot\u001b[39;00m \u001b[38;5;28;01mNone\u001b[39;00m:\n\u001b[0;32m    461\u001b[0m     current_batch \u001b[38;5;241m=\u001b[39m send_to_device(current_batch, \u001b[38;5;28mself\u001b[39m\u001b[38;5;241m.\u001b[39mdevice)\n\u001b[1;32m--> 462\u001b[0m next_batch \u001b[38;5;241m=\u001b[39m \u001b[38;5;28mnext\u001b[39m(dataloader_iter)\n\u001b[0;32m    463\u001b[0m \u001b[38;5;28;01mif\u001b[39;00m batch_index \u001b[38;5;241m>\u001b[39m\u001b[38;5;241m=\u001b[39m \u001b[38;5;28mself\u001b[39m\u001b[38;5;241m.\u001b[39mskip_batches:\n\u001b[0;32m    464\u001b[0m     \u001b[38;5;28;01myield\u001b[39;00m current_batch\n",
            "File \u001b[1;32mC:\\Anaconda3\\envs\\newdonut\\Lib\\site-packages\\torch\\utils\\data\\dataloader.py:631\u001b[0m, in \u001b[0;36m_BaseDataLoaderIter.__next__\u001b[1;34m(self)\u001b[0m\n\u001b[0;32m    628\u001b[0m \u001b[38;5;28;01mif\u001b[39;00m \u001b[38;5;28mself\u001b[39m\u001b[38;5;241m.\u001b[39m_sampler_iter \u001b[38;5;129;01mis\u001b[39;00m \u001b[38;5;28;01mNone\u001b[39;00m:\n\u001b[0;32m    629\u001b[0m     \u001b[38;5;66;03m# TODO(https://github.com/pytorch/pytorch/issues/76750)\u001b[39;00m\n\u001b[0;32m    630\u001b[0m     \u001b[38;5;28mself\u001b[39m\u001b[38;5;241m.\u001b[39m_reset()  \u001b[38;5;66;03m# type: ignore[call-arg]\u001b[39;00m\n\u001b[1;32m--> 631\u001b[0m data \u001b[38;5;241m=\u001b[39m \u001b[38;5;28;43mself\u001b[39;49m\u001b[38;5;241;43m.\u001b[39;49m\u001b[43m_next_data\u001b[49m\u001b[43m(\u001b[49m\u001b[43m)\u001b[49m\n\u001b[0;32m    632\u001b[0m \u001b[38;5;28mself\u001b[39m\u001b[38;5;241m.\u001b[39m_num_yielded \u001b[38;5;241m+\u001b[39m\u001b[38;5;241m=\u001b[39m \u001b[38;5;241m1\u001b[39m\n\u001b[0;32m    633\u001b[0m \u001b[38;5;28;01mif\u001b[39;00m \u001b[38;5;28mself\u001b[39m\u001b[38;5;241m.\u001b[39m_dataset_kind \u001b[38;5;241m==\u001b[39m _DatasetKind\u001b[38;5;241m.\u001b[39mIterable \u001b[38;5;129;01mand\u001b[39;00m \\\n\u001b[0;32m    634\u001b[0m         \u001b[38;5;28mself\u001b[39m\u001b[38;5;241m.\u001b[39m_IterableDataset_len_called \u001b[38;5;129;01mis\u001b[39;00m \u001b[38;5;129;01mnot\u001b[39;00m \u001b[38;5;28;01mNone\u001b[39;00m \u001b[38;5;129;01mand\u001b[39;00m \\\n\u001b[0;32m    635\u001b[0m         \u001b[38;5;28mself\u001b[39m\u001b[38;5;241m.\u001b[39m_num_yielded \u001b[38;5;241m>\u001b[39m \u001b[38;5;28mself\u001b[39m\u001b[38;5;241m.\u001b[39m_IterableDataset_len_called:\n",
            "File \u001b[1;32mC:\\Anaconda3\\envs\\newdonut\\Lib\\site-packages\\torch\\utils\\data\\dataloader.py:675\u001b[0m, in \u001b[0;36m_SingleProcessDataLoaderIter._next_data\u001b[1;34m(self)\u001b[0m\n\u001b[0;32m    673\u001b[0m \u001b[38;5;28;01mdef\u001b[39;00m \u001b[38;5;21m_next_data\u001b[39m(\u001b[38;5;28mself\u001b[39m):\n\u001b[0;32m    674\u001b[0m     index \u001b[38;5;241m=\u001b[39m \u001b[38;5;28mself\u001b[39m\u001b[38;5;241m.\u001b[39m_next_index()  \u001b[38;5;66;03m# may raise StopIteration\u001b[39;00m\n\u001b[1;32m--> 675\u001b[0m     data \u001b[38;5;241m=\u001b[39m \u001b[38;5;28;43mself\u001b[39;49m\u001b[38;5;241;43m.\u001b[39;49m\u001b[43m_dataset_fetcher\u001b[49m\u001b[38;5;241;43m.\u001b[39;49m\u001b[43mfetch\u001b[49m\u001b[43m(\u001b[49m\u001b[43mindex\u001b[49m\u001b[43m)\u001b[49m  \u001b[38;5;66;03m# may raise StopIteration\u001b[39;00m\n\u001b[0;32m    676\u001b[0m     \u001b[38;5;28;01mif\u001b[39;00m \u001b[38;5;28mself\u001b[39m\u001b[38;5;241m.\u001b[39m_pin_memory:\n\u001b[0;32m    677\u001b[0m         data \u001b[38;5;241m=\u001b[39m _utils\u001b[38;5;241m.\u001b[39mpin_memory\u001b[38;5;241m.\u001b[39mpin_memory(data, \u001b[38;5;28mself\u001b[39m\u001b[38;5;241m.\u001b[39m_pin_memory_device)\n",
            "File \u001b[1;32mC:\\Anaconda3\\envs\\newdonut\\Lib\\site-packages\\torch\\utils\\data\\_utils\\fetch.py:49\u001b[0m, in \u001b[0;36m_MapDatasetFetcher.fetch\u001b[1;34m(self, possibly_batched_index)\u001b[0m\n\u001b[0;32m     47\u001b[0m \u001b[38;5;28;01mif\u001b[39;00m \u001b[38;5;28mself\u001b[39m\u001b[38;5;241m.\u001b[39mauto_collation:\n\u001b[0;32m     48\u001b[0m     \u001b[38;5;28;01mif\u001b[39;00m \u001b[38;5;28mhasattr\u001b[39m(\u001b[38;5;28mself\u001b[39m\u001b[38;5;241m.\u001b[39mdataset, \u001b[38;5;124m\"\u001b[39m\u001b[38;5;124m__getitems__\u001b[39m\u001b[38;5;124m\"\u001b[39m) \u001b[38;5;129;01mand\u001b[39;00m \u001b[38;5;28mself\u001b[39m\u001b[38;5;241m.\u001b[39mdataset\u001b[38;5;241m.\u001b[39m__getitems__:\n\u001b[1;32m---> 49\u001b[0m         data \u001b[38;5;241m=\u001b[39m \u001b[38;5;28;43mself\u001b[39;49m\u001b[38;5;241;43m.\u001b[39;49m\u001b[43mdataset\u001b[49m\u001b[38;5;241;43m.\u001b[39;49m\u001b[43m__getitems__\u001b[49m\u001b[43m(\u001b[49m\u001b[43mpossibly_batched_index\u001b[49m\u001b[43m)\u001b[49m\n\u001b[0;32m     50\u001b[0m     \u001b[38;5;28;01melse\u001b[39;00m:\n\u001b[0;32m     51\u001b[0m         data \u001b[38;5;241m=\u001b[39m [\u001b[38;5;28mself\u001b[39m\u001b[38;5;241m.\u001b[39mdataset[idx] \u001b[38;5;28;01mfor\u001b[39;00m idx \u001b[38;5;129;01min\u001b[39;00m possibly_batched_index]\n",
            "File \u001b[1;32mC:\\Anaconda3\\envs\\newdonut\\Lib\\site-packages\\datasets\\arrow_dataset.py:2814\u001b[0m, in \u001b[0;36mDataset.__getitems__\u001b[1;34m(self, keys)\u001b[0m\n\u001b[0;32m   2812\u001b[0m \u001b[38;5;28;01mdef\u001b[39;00m \u001b[38;5;21m__getitems__\u001b[39m(\u001b[38;5;28mself\u001b[39m, keys: List) \u001b[38;5;241m-\u001b[39m\u001b[38;5;241m>\u001b[39m List:\n\u001b[0;32m   2813\u001b[0m \u001b[38;5;250m    \u001b[39m\u001b[38;5;124;03m\"\"\"Can be used to get a batch using a list of integers indices.\"\"\"\u001b[39;00m\n\u001b[1;32m-> 2814\u001b[0m     batch \u001b[38;5;241m=\u001b[39m \u001b[38;5;28;43mself\u001b[39;49m\u001b[38;5;241;43m.\u001b[39;49m\u001b[38;5;21;43m__getitem__\u001b[39;49m\u001b[43m(\u001b[49m\u001b[43mkeys\u001b[49m\u001b[43m)\u001b[49m\n\u001b[0;32m   2815\u001b[0m     n_examples \u001b[38;5;241m=\u001b[39m \u001b[38;5;28mlen\u001b[39m(batch[\u001b[38;5;28mnext\u001b[39m(\u001b[38;5;28miter\u001b[39m(batch))])\n\u001b[0;32m   2816\u001b[0m     \u001b[38;5;28;01mreturn\u001b[39;00m [{col: array[i] \u001b[38;5;28;01mfor\u001b[39;00m col, array \u001b[38;5;129;01min\u001b[39;00m batch\u001b[38;5;241m.\u001b[39mitems()} \u001b[38;5;28;01mfor\u001b[39;00m i \u001b[38;5;129;01min\u001b[39;00m \u001b[38;5;28mrange\u001b[39m(n_examples)]\n",
            "File \u001b[1;32mC:\\Anaconda3\\envs\\newdonut\\Lib\\site-packages\\datasets\\arrow_dataset.py:2810\u001b[0m, in \u001b[0;36mDataset.__getitem__\u001b[1;34m(self, key)\u001b[0m\n\u001b[0;32m   2808\u001b[0m \u001b[38;5;28;01mdef\u001b[39;00m \u001b[38;5;21m__getitem__\u001b[39m(\u001b[38;5;28mself\u001b[39m, key):  \u001b[38;5;66;03m# noqa: F811\u001b[39;00m\n\u001b[0;32m   2809\u001b[0m \u001b[38;5;250m    \u001b[39m\u001b[38;5;124;03m\"\"\"Can be used to index columns (by string names) or rows (by integer index or iterable of indices or bools).\"\"\"\u001b[39;00m\n\u001b[1;32m-> 2810\u001b[0m     \u001b[38;5;28;01mreturn\u001b[39;00m \u001b[38;5;28;43mself\u001b[39;49m\u001b[38;5;241;43m.\u001b[39;49m\u001b[43m_getitem\u001b[49m\u001b[43m(\u001b[49m\u001b[43mkey\u001b[49m\u001b[43m)\u001b[49m\n",
            "File \u001b[1;32mC:\\Anaconda3\\envs\\newdonut\\Lib\\site-packages\\datasets\\arrow_dataset.py:2795\u001b[0m, in \u001b[0;36mDataset._getitem\u001b[1;34m(self, key, **kwargs)\u001b[0m\n\u001b[0;32m   2793\u001b[0m formatter \u001b[38;5;241m=\u001b[39m get_formatter(format_type, features\u001b[38;5;241m=\u001b[39m\u001b[38;5;28mself\u001b[39m\u001b[38;5;241m.\u001b[39m_info\u001b[38;5;241m.\u001b[39mfeatures, \u001b[38;5;241m*\u001b[39m\u001b[38;5;241m*\u001b[39mformat_kwargs)\n\u001b[0;32m   2794\u001b[0m pa_subtable \u001b[38;5;241m=\u001b[39m query_table(\u001b[38;5;28mself\u001b[39m\u001b[38;5;241m.\u001b[39m_data, key, indices\u001b[38;5;241m=\u001b[39m\u001b[38;5;28mself\u001b[39m\u001b[38;5;241m.\u001b[39m_indices)\n\u001b[1;32m-> 2795\u001b[0m formatted_output \u001b[38;5;241m=\u001b[39m \u001b[43mformat_table\u001b[49m\u001b[43m(\u001b[49m\n\u001b[0;32m   2796\u001b[0m \u001b[43m    \u001b[49m\u001b[43mpa_subtable\u001b[49m\u001b[43m,\u001b[49m\u001b[43m \u001b[49m\u001b[43mkey\u001b[49m\u001b[43m,\u001b[49m\u001b[43m \u001b[49m\u001b[43mformatter\u001b[49m\u001b[38;5;241;43m=\u001b[39;49m\u001b[43mformatter\u001b[49m\u001b[43m,\u001b[49m\u001b[43m \u001b[49m\u001b[43mformat_columns\u001b[49m\u001b[38;5;241;43m=\u001b[39;49m\u001b[43mformat_columns\u001b[49m\u001b[43m,\u001b[49m\u001b[43m \u001b[49m\u001b[43moutput_all_columns\u001b[49m\u001b[38;5;241;43m=\u001b[39;49m\u001b[43moutput_all_columns\u001b[49m\n\u001b[0;32m   2797\u001b[0m \u001b[43m\u001b[49m\u001b[43m)\u001b[49m\n\u001b[0;32m   2798\u001b[0m \u001b[38;5;28;01mreturn\u001b[39;00m formatted_output\n",
            "File \u001b[1;32mC:\\Anaconda3\\envs\\newdonut\\Lib\\site-packages\\datasets\\formatting\\formatting.py:629\u001b[0m, in \u001b[0;36mformat_table\u001b[1;34m(table, key, formatter, format_columns, output_all_columns)\u001b[0m\n\u001b[0;32m    627\u001b[0m python_formatter \u001b[38;5;241m=\u001b[39m PythonFormatter(features\u001b[38;5;241m=\u001b[39mformatter\u001b[38;5;241m.\u001b[39mfeatures)\n\u001b[0;32m    628\u001b[0m \u001b[38;5;28;01mif\u001b[39;00m format_columns \u001b[38;5;129;01mis\u001b[39;00m \u001b[38;5;28;01mNone\u001b[39;00m:\n\u001b[1;32m--> 629\u001b[0m     \u001b[38;5;28;01mreturn\u001b[39;00m \u001b[43mformatter\u001b[49m\u001b[43m(\u001b[49m\u001b[43mpa_table\u001b[49m\u001b[43m,\u001b[49m\u001b[43m \u001b[49m\u001b[43mquery_type\u001b[49m\u001b[38;5;241;43m=\u001b[39;49m\u001b[43mquery_type\u001b[49m\u001b[43m)\u001b[49m\n\u001b[0;32m    630\u001b[0m \u001b[38;5;28;01melif\u001b[39;00m query_type \u001b[38;5;241m==\u001b[39m \u001b[38;5;124m\"\u001b[39m\u001b[38;5;124mcolumn\u001b[39m\u001b[38;5;124m\"\u001b[39m:\n\u001b[0;32m    631\u001b[0m     \u001b[38;5;28;01mif\u001b[39;00m key \u001b[38;5;129;01min\u001b[39;00m format_columns:\n",
            "File \u001b[1;32mC:\\Anaconda3\\envs\\newdonut\\Lib\\site-packages\\datasets\\formatting\\formatting.py:400\u001b[0m, in \u001b[0;36mFormatter.__call__\u001b[1;34m(self, pa_table, query_type)\u001b[0m\n\u001b[0;32m    398\u001b[0m     \u001b[38;5;28;01mreturn\u001b[39;00m \u001b[38;5;28mself\u001b[39m\u001b[38;5;241m.\u001b[39mformat_column(pa_table)\n\u001b[0;32m    399\u001b[0m \u001b[38;5;28;01melif\u001b[39;00m query_type \u001b[38;5;241m==\u001b[39m \u001b[38;5;124m\"\u001b[39m\u001b[38;5;124mbatch\u001b[39m\u001b[38;5;124m\"\u001b[39m:\n\u001b[1;32m--> 400\u001b[0m     \u001b[38;5;28;01mreturn\u001b[39;00m \u001b[38;5;28;43mself\u001b[39;49m\u001b[38;5;241;43m.\u001b[39;49m\u001b[43mformat_batch\u001b[49m\u001b[43m(\u001b[49m\u001b[43mpa_table\u001b[49m\u001b[43m)\u001b[49m\n",
            "File \u001b[1;32mC:\\Anaconda3\\envs\\newdonut\\Lib\\site-packages\\datasets\\formatting\\formatting.py:449\u001b[0m, in \u001b[0;36mPythonFormatter.format_batch\u001b[1;34m(self, pa_table)\u001b[0m\n\u001b[0;32m    447\u001b[0m     \u001b[38;5;28;01mreturn\u001b[39;00m LazyBatch(pa_table, \u001b[38;5;28mself\u001b[39m)\n\u001b[0;32m    448\u001b[0m batch \u001b[38;5;241m=\u001b[39m \u001b[38;5;28mself\u001b[39m\u001b[38;5;241m.\u001b[39mpython_arrow_extractor()\u001b[38;5;241m.\u001b[39mextract_batch(pa_table)\n\u001b[1;32m--> 449\u001b[0m batch \u001b[38;5;241m=\u001b[39m \u001b[38;5;28;43mself\u001b[39;49m\u001b[38;5;241;43m.\u001b[39;49m\u001b[43mpython_features_decoder\u001b[49m\u001b[38;5;241;43m.\u001b[39;49m\u001b[43mdecode_batch\u001b[49m\u001b[43m(\u001b[49m\u001b[43mbatch\u001b[49m\u001b[43m)\u001b[49m\n\u001b[0;32m    450\u001b[0m \u001b[38;5;28;01mreturn\u001b[39;00m batch\n",
            "File \u001b[1;32mC:\\Anaconda3\\envs\\newdonut\\Lib\\site-packages\\datasets\\formatting\\formatting.py:220\u001b[0m, in \u001b[0;36mPythonFeaturesDecoder.decode_batch\u001b[1;34m(self, batch)\u001b[0m\n\u001b[0;32m    217\u001b[0m \u001b[38;5;28;01mdef\u001b[39;00m \u001b[38;5;21mdecode_column\u001b[39m(\u001b[38;5;28mself\u001b[39m, column: \u001b[38;5;28mlist\u001b[39m, column_name: \u001b[38;5;28mstr\u001b[39m) \u001b[38;5;241m-\u001b[39m\u001b[38;5;241m>\u001b[39m \u001b[38;5;28mlist\u001b[39m:\n\u001b[0;32m    218\u001b[0m     \u001b[38;5;28;01mreturn\u001b[39;00m \u001b[38;5;28mself\u001b[39m\u001b[38;5;241m.\u001b[39mfeatures\u001b[38;5;241m.\u001b[39mdecode_column(column, column_name) \u001b[38;5;28;01mif\u001b[39;00m \u001b[38;5;28mself\u001b[39m\u001b[38;5;241m.\u001b[39mfeatures \u001b[38;5;28;01melse\u001b[39;00m column\n\u001b[1;32m--> 220\u001b[0m \u001b[38;5;28;01mdef\u001b[39;00m \u001b[38;5;21mdecode_batch\u001b[39m(\u001b[38;5;28mself\u001b[39m, batch: \u001b[38;5;28mdict\u001b[39m) \u001b[38;5;241m-\u001b[39m\u001b[38;5;241m>\u001b[39m \u001b[38;5;28mdict\u001b[39m:\n\u001b[0;32m    221\u001b[0m     \u001b[38;5;28;01mreturn\u001b[39;00m \u001b[38;5;28mself\u001b[39m\u001b[38;5;241m.\u001b[39mfeatures\u001b[38;5;241m.\u001b[39mdecode_batch(batch) \u001b[38;5;28;01mif\u001b[39;00m \u001b[38;5;28mself\u001b[39m\u001b[38;5;241m.\u001b[39mfeatures \u001b[38;5;28;01melse\u001b[39;00m batch\n",
            "\u001b[1;31mKeyboardInterrupt\u001b[0m: "
          ]
        }
      ]
    },
    {
      "cell_type": "code",
      "source": [
        "processor.save_pretrained(r\"E:\\Abdul_Muqtadir\\Thesis\\NOUGAT_MathOCR\\model_save_dirctory\\checkpoint-2200\")"
      ],
      "metadata": {
        "id": "2kpDUt0IaKBe"
      },
      "execution_count": null,
      "outputs": []
    },
    {
      "cell_type": "markdown",
      "source": [
        "# Inference and Evaluation"
      ],
      "metadata": {
        "id": "ndT0ht0Tbo6S"
      }
    },
    {
      "cell_type": "code",
      "source": [
        "model = VisionEncoderDecoderModel.from_pretrained(r\"E:\\Abdul_Muqtadir\\Thesis\\NOUGAT_MathOCR\\model_save_dirctory\\checkpoint-2200\")\n",
        "#processor = DonutProcessor.from_pretrained(r\"E:\\Abdul_Muqtadir\\Thesis\\DONUT_MathOCR\\FW\")"
      ],
      "metadata": {
        "id": "zvyHXX3RfoqT"
      },
      "execution_count": null,
      "outputs": []
    },
    {
      "cell_type": "code",
      "source": [
        "model.num_parameters()"
      ],
      "metadata": {
        "colab": {
          "base_uri": "https://localhost:8080/"
        },
        "id": "r8IdIyCsegBq",
        "outputId": "da56c051-652c-4ed6-dc07-e33fdfbf5754"
      },
      "execution_count": null,
      "outputs": [
        {
          "output_type": "execute_result",
          "data": {
            "text/plain": [
              "201868408"
            ]
          },
          "metadata": {},
          "execution_count": 3
        }
      ]
    },
    {
      "cell_type": "code",
      "source": [
        "model.to(device)"
      ],
      "metadata": {
        "colab": {
          "base_uri": "https://localhost:8080/"
        },
        "id": "Y9hpnMC6fwmi",
        "outputId": "e7106290-59f4-4252-e7ba-709912595cfa"
      },
      "execution_count": null,
      "outputs": [
        {
          "output_type": "execute_result",
          "data": {
            "text/plain": [
              "VisionEncoderDecoderModel(\n",
              "  (encoder): DonutSwinModel(\n",
              "    (embeddings): DonutSwinEmbeddings(\n",
              "      (patch_embeddings): DonutSwinPatchEmbeddings(\n",
              "        (projection): Conv2d(3, 128, kernel_size=(4, 4), stride=(4, 4))\n",
              "      )\n",
              "      (norm): LayerNorm((128,), eps=1e-05, elementwise_affine=True)\n",
              "      (dropout): Dropout(p=0.0, inplace=False)\n",
              "    )\n",
              "    (encoder): DonutSwinEncoder(\n",
              "      (layers): ModuleList(\n",
              "        (0): DonutSwinStage(\n",
              "          (blocks): ModuleList(\n",
              "            (0-1): 2 x DonutSwinLayer(\n",
              "              (layernorm_before): LayerNorm((128,), eps=1e-05, elementwise_affine=True)\n",
              "              (attention): DonutSwinAttention(\n",
              "                (self): DonutSwinSelfAttention(\n",
              "                  (query): Linear(in_features=128, out_features=128, bias=True)\n",
              "                  (key): Linear(in_features=128, out_features=128, bias=True)\n",
              "                  (value): Linear(in_features=128, out_features=128, bias=True)\n",
              "                  (dropout): Dropout(p=0.0, inplace=False)\n",
              "                )\n",
              "                (output): DonutSwinSelfOutput(\n",
              "                  (dense): Linear(in_features=128, out_features=128, bias=True)\n",
              "                  (dropout): Dropout(p=0.0, inplace=False)\n",
              "                )\n",
              "              )\n",
              "              (drop_path): DonutSwinDropPath(p=0.1)\n",
              "              (layernorm_after): LayerNorm((128,), eps=1e-05, elementwise_affine=True)\n",
              "              (intermediate): DonutSwinIntermediate(\n",
              "                (dense): Linear(in_features=128, out_features=512, bias=True)\n",
              "                (intermediate_act_fn): GELUActivation()\n",
              "              )\n",
              "              (output): DonutSwinOutput(\n",
              "                (dense): Linear(in_features=512, out_features=128, bias=True)\n",
              "                (dropout): Dropout(p=0.0, inplace=False)\n",
              "              )\n",
              "            )\n",
              "          )\n",
              "          (downsample): DonutSwinPatchMerging(\n",
              "            (reduction): Linear(in_features=512, out_features=256, bias=False)\n",
              "            (norm): LayerNorm((512,), eps=1e-05, elementwise_affine=True)\n",
              "          )\n",
              "        )\n",
              "        (1): DonutSwinStage(\n",
              "          (blocks): ModuleList(\n",
              "            (0-1): 2 x DonutSwinLayer(\n",
              "              (layernorm_before): LayerNorm((256,), eps=1e-05, elementwise_affine=True)\n",
              "              (attention): DonutSwinAttention(\n",
              "                (self): DonutSwinSelfAttention(\n",
              "                  (query): Linear(in_features=256, out_features=256, bias=True)\n",
              "                  (key): Linear(in_features=256, out_features=256, bias=True)\n",
              "                  (value): Linear(in_features=256, out_features=256, bias=True)\n",
              "                  (dropout): Dropout(p=0.0, inplace=False)\n",
              "                )\n",
              "                (output): DonutSwinSelfOutput(\n",
              "                  (dense): Linear(in_features=256, out_features=256, bias=True)\n",
              "                  (dropout): Dropout(p=0.0, inplace=False)\n",
              "                )\n",
              "              )\n",
              "              (drop_path): DonutSwinDropPath(p=0.1)\n",
              "              (layernorm_after): LayerNorm((256,), eps=1e-05, elementwise_affine=True)\n",
              "              (intermediate): DonutSwinIntermediate(\n",
              "                (dense): Linear(in_features=256, out_features=1024, bias=True)\n",
              "                (intermediate_act_fn): GELUActivation()\n",
              "              )\n",
              "              (output): DonutSwinOutput(\n",
              "                (dense): Linear(in_features=1024, out_features=256, bias=True)\n",
              "                (dropout): Dropout(p=0.0, inplace=False)\n",
              "              )\n",
              "            )\n",
              "          )\n",
              "          (downsample): DonutSwinPatchMerging(\n",
              "            (reduction): Linear(in_features=1024, out_features=512, bias=False)\n",
              "            (norm): LayerNorm((1024,), eps=1e-05, elementwise_affine=True)\n",
              "          )\n",
              "        )\n",
              "        (2): DonutSwinStage(\n",
              "          (blocks): ModuleList(\n",
              "            (0-13): 14 x DonutSwinLayer(\n",
              "              (layernorm_before): LayerNorm((512,), eps=1e-05, elementwise_affine=True)\n",
              "              (attention): DonutSwinAttention(\n",
              "                (self): DonutSwinSelfAttention(\n",
              "                  (query): Linear(in_features=512, out_features=512, bias=True)\n",
              "                  (key): Linear(in_features=512, out_features=512, bias=True)\n",
              "                  (value): Linear(in_features=512, out_features=512, bias=True)\n",
              "                  (dropout): Dropout(p=0.0, inplace=False)\n",
              "                )\n",
              "                (output): DonutSwinSelfOutput(\n",
              "                  (dense): Linear(in_features=512, out_features=512, bias=True)\n",
              "                  (dropout): Dropout(p=0.0, inplace=False)\n",
              "                )\n",
              "              )\n",
              "              (drop_path): DonutSwinDropPath(p=0.1)\n",
              "              (layernorm_after): LayerNorm((512,), eps=1e-05, elementwise_affine=True)\n",
              "              (intermediate): DonutSwinIntermediate(\n",
              "                (dense): Linear(in_features=512, out_features=2048, bias=True)\n",
              "                (intermediate_act_fn): GELUActivation()\n",
              "              )\n",
              "              (output): DonutSwinOutput(\n",
              "                (dense): Linear(in_features=2048, out_features=512, bias=True)\n",
              "                (dropout): Dropout(p=0.0, inplace=False)\n",
              "              )\n",
              "            )\n",
              "          )\n",
              "          (downsample): DonutSwinPatchMerging(\n",
              "            (reduction): Linear(in_features=2048, out_features=1024, bias=False)\n",
              "            (norm): LayerNorm((2048,), eps=1e-05, elementwise_affine=True)\n",
              "          )\n",
              "        )\n",
              "        (3): DonutSwinStage(\n",
              "          (blocks): ModuleList(\n",
              "            (0-1): 2 x DonutSwinLayer(\n",
              "              (layernorm_before): LayerNorm((1024,), eps=1e-05, elementwise_affine=True)\n",
              "              (attention): DonutSwinAttention(\n",
              "                (self): DonutSwinSelfAttention(\n",
              "                  (query): Linear(in_features=1024, out_features=1024, bias=True)\n",
              "                  (key): Linear(in_features=1024, out_features=1024, bias=True)\n",
              "                  (value): Linear(in_features=1024, out_features=1024, bias=True)\n",
              "                  (dropout): Dropout(p=0.0, inplace=False)\n",
              "                )\n",
              "                (output): DonutSwinSelfOutput(\n",
              "                  (dense): Linear(in_features=1024, out_features=1024, bias=True)\n",
              "                  (dropout): Dropout(p=0.0, inplace=False)\n",
              "                )\n",
              "              )\n",
              "              (drop_path): DonutSwinDropPath(p=0.1)\n",
              "              (layernorm_after): LayerNorm((1024,), eps=1e-05, elementwise_affine=True)\n",
              "              (intermediate): DonutSwinIntermediate(\n",
              "                (dense): Linear(in_features=1024, out_features=4096, bias=True)\n",
              "                (intermediate_act_fn): GELUActivation()\n",
              "              )\n",
              "              (output): DonutSwinOutput(\n",
              "                (dense): Linear(in_features=4096, out_features=1024, bias=True)\n",
              "                (dropout): Dropout(p=0.0, inplace=False)\n",
              "              )\n",
              "            )\n",
              "          )\n",
              "        )\n",
              "      )\n",
              "    )\n",
              "    (pooler): AdaptiveAvgPool1d(output_size=1)\n",
              "  )\n",
              "  (decoder): MBartForCausalLM(\n",
              "    (model): MBartDecoderWrapper(\n",
              "      (decoder): MBartDecoder(\n",
              "        (embed_tokens): Embedding(50016, 1024, padding_idx=1)\n",
              "        (embed_positions): MBartLearnedPositionalEmbedding(4098, 1024)\n",
              "        (layers): ModuleList(\n",
              "          (0-9): 10 x MBartDecoderLayer(\n",
              "            (self_attn): MBartAttention(\n",
              "              (k_proj): Linear(in_features=1024, out_features=1024, bias=True)\n",
              "              (v_proj): Linear(in_features=1024, out_features=1024, bias=True)\n",
              "              (q_proj): Linear(in_features=1024, out_features=1024, bias=True)\n",
              "              (out_proj): Linear(in_features=1024, out_features=1024, bias=True)\n",
              "            )\n",
              "            (activation_fn): GELUActivation()\n",
              "            (self_attn_layer_norm): LayerNorm((1024,), eps=1e-05, elementwise_affine=True)\n",
              "            (encoder_attn): MBartAttention(\n",
              "              (k_proj): Linear(in_features=1024, out_features=1024, bias=True)\n",
              "              (v_proj): Linear(in_features=1024, out_features=1024, bias=True)\n",
              "              (q_proj): Linear(in_features=1024, out_features=1024, bias=True)\n",
              "              (out_proj): Linear(in_features=1024, out_features=1024, bias=True)\n",
              "            )\n",
              "            (encoder_attn_layer_norm): LayerNorm((1024,), eps=1e-05, elementwise_affine=True)\n",
              "            (fc1): Linear(in_features=1024, out_features=4096, bias=True)\n",
              "            (fc2): Linear(in_features=4096, out_features=1024, bias=True)\n",
              "            (final_layer_norm): LayerNorm((1024,), eps=1e-05, elementwise_affine=True)\n",
              "          )\n",
              "        )\n",
              "        (layernorm_embedding): LayerNorm((1024,), eps=1e-05, elementwise_affine=True)\n",
              "        (layer_norm): LayerNorm((1024,), eps=1e-05, elementwise_affine=True)\n",
              "      )\n",
              "    )\n",
              "    (lm_head): Linear(in_features=1024, out_features=50016, bias=False)\n",
              "  )\n",
              ")"
            ]
          },
          "metadata": {},
          "execution_count": 33
        }
      ]
    },
    {
      "cell_type": "code",
      "source": [
        "imag_path = r\"E:\\Abdul_Muqtadir\\Thesis\\Dataset\\Test_Iamlatex\\testing\\generated_template_1.jpg\""
      ],
      "metadata": {
        "id": "Ev7SBVbpvkGt"
      },
      "execution_count": null,
      "outputs": []
    },
    {
      "cell_type": "code",
      "source": [
        "from PIL import Image\n",
        "img = Image.open(imag_path)"
      ],
      "metadata": {
        "id": "ykMW6n7rP-1c"
      },
      "execution_count": null,
      "outputs": []
    },
    {
      "cell_type": "code",
      "source": [
        "def inference(img):\n",
        "  inputs = processor(images=img, return_tensors=\"pt\")\n",
        "  generated_ids = model.generate(pixel_values=inputs[\"pixel_values\"].to(device))\n",
        "  generated_text = processor.batch_decode(generated_ids, skip_special_tokens=False)[0]\n",
        "  return generated_text"
      ],
      "metadata": {
        "id": "wnmd29KLQDg7"
      },
      "execution_count": null,
      "outputs": []
    },
    {
      "cell_type": "code",
      "source": [
        "import re\n",
        "import json\n",
        "\n",
        "import re\n",
        "\n",
        "def extract_latex_equations(input_str):\n",
        "    # Regular expression to match both numbered and unknown latex tags\n",
        "    matches = re.findall(r'<s_latex(?:_(\\d+|<unk>))>(.*?)</s_latex(?:_\\1)>', input_str)\n",
        "\n",
        "    # Create the dictionary with formatted keys and LaTeX content\n",
        "    latex_dict = {}\n",
        "    for num, content in matches:\n",
        "        if num == \"<unk>\":\n",
        "            latex_dict[\"latex_1\"] = content.strip()  # Map unknown tag to latex_1\n",
        "        else:\n",
        "            latex_dict[f\"latex_{num}\"] = content.strip()\n",
        "\n",
        "    return latex_dict\n",
        "\n"
      ],
      "metadata": {
        "id": "yb1biZQ_QPue"
      },
      "execution_count": null,
      "outputs": []
    },
    {
      "cell_type": "code",
      "source": [
        "import os\n",
        "import json\n",
        "from PIL import Image\n",
        "\n",
        "# Define the directory containing images and JSON output directory\n",
        "image_dir = r'E:\\Abdul_Muqtadir\\Thesis\\Dataset\\Test_Iamlatex2\\test\\Images'\n",
        "json_output_dir = r'E:\\Abdul_Muqtadir\\Thesis\\Dataset\\Test_Iamlatex2\\nougat_output'\n",
        "\n",
        "# Create the output directory if it doesn't exist\n",
        "os.makedirs(json_output_dir, exist_ok=True)\n",
        "\n",
        "# Loop through each file in the image directory\n",
        "for filename in os.listdir(image_dir):\n",
        "    # Check if the file is an image (e.g., .jpg or .png)\n",
        "    if filename.lower().endswith(('.jpg', '.jpeg', '.png')):  # Convert to lowercase for consistent matching\n",
        "        image_path = os.path.join(image_dir, filename)\n",
        "\n",
        "        # Open the image using PIL\n",
        "        img = Image.open(image_path)\n",
        "\n",
        "        # Perform inference and extract LaTeX equations\n",
        "        inference_text = inference(img)\n",
        "        print(inference_text)\n",
        "        generated_text = extract_latex_equations(inference_text)\n",
        "\n",
        "        # Prepare the data to be saved in JSON format\n",
        "        data = generated_text\n",
        "        #print(generated_text)\n",
        "\n",
        "        # Define the output JSON file path with the same name as the image but with a .json extension\n",
        "        json_filename = os.path.splitext(filename)[0] + '.json'\n",
        "        json_path = os.path.join(json_output_dir, json_filename)\n",
        "\n",
        "        # Save the generated LaTeX equation to the JSON file\n",
        "        with open(json_path, 'w') as json_file:\n",
        "            json.dump(data, json_file, indent=4)\n",
        "\n",
        "        print(f\"Generated LaTeX for {filename} saved to {json_filename}\")\n"
      ],
      "metadata": {
        "colab": {
          "base_uri": "https://localhost:8080/"
        },
        "id": "Mdg4BpbMVPBx",
        "outputId": "ac7fb927-55ac-4656-fcaf-7ebc5f45827b"
      },
      "execution_count": null,
      "outputs": [
        {
          "output_type": "stream",
          "name": "stderr",
          "text": [
            "C:\\Anaconda3\\envs\\newdonut\\Lib\\site-packages\\transformers\\generation\\utils.py:1473: UserWarning: You have modified the pretrained model configuration to control generation. This is a deprecated strategy to control generation and will be removed soon, in a future version. Please use and modify the model generation configuration (see https://huggingface.co/docs/transformers/generation_strategies#default-text-generation-configuration )\n",
            "  warnings.warn(\n"
          ]
        },
        {
          "output_type": "stream",
          "name": "stdout",
          "text": [
            "<s><s><s><s_latex_1>\\delta p = v _ { s } ^ { 2 } \\delta \\rho </s_latex_1><E ^ { 2 } = 4 + 4 \\omega \\lparen N + 2 \\rparen </s_latex_2><s_latex_3>u ^ { 2 } \\equiv 2 r ^ { 2 } - C \\geq 5 </s_latex_3><s_latex_4>0 \\lt \\frac { \\nu \\pi } { p \\pi } \\lt \\pi \\vert / 2</s_latex_4><s_latex_5>E _ { C } R = \\frac { 3 } { 2 \\pi } S \\Delta </s_latex_5><s_latex_6>\\omega _ { k } = \\frac { k + 1 } { R }</s_latex_6><s_latex_7>g _ { m \\parallel } \\geq \\delta </s_latex_7><s_latex_8>A U - i B V = U E </s_latex_8></s>\n",
            "Generated LaTeX for generated_template_106.jpg saved to generated_template_106.json\n",
            "<s><s><s><s_latex_1>\\partial \\psi _ { M } = D _ { M } \\eta = 0</s_latex_1><L _ { T } = L _ { F } + L _ { I }</s_latex_2><s_latex_3>\\psi \\rightarrow \\psi</s_latex_3><s_latex_4>\\Omega _ { 1 } = P ^ { m }  \\Omega _ { 2 } = Q </s_latex_4><s_latex_5>R = m \\oplus m \\oplus \\@cdots </s_latex_5><s_latex_6>\\delta A = \\lbrack D + A  V \\rbrack </s_latex_6><s_latex_7>\\lparen A  B \\rparen = \\int \\lbrace a  b \\rbrace</s_latex_7><s_latex_8>\\int \\Omega _ { x x } = \\pi q  Q \\in Z </s_latex_8></s>\n",
            "Generated LaTeX for generated_template_129.jpg saved to generated_template_129.json\n",
            "<s><s><s><s_latex_1>d E _ { R } = \\frac { 1 } { 2 \\pi } d S _ { R } </s_latex_1><s_latex_2>M = R ^ { 3 } \\times S ^ { 1 } \\times R ^ { 4 }</s_latex_2><s_latex_3>S = 2 i \\int d ^ { 2 } z d ^ { 2 } \\partial E S </s_latex_3><s_latex_4>\\Delta f + \\star ^ { - 1 } \\rho _ { m } = 0 </s_latex_4><s_latex_5>\\sigma \\times _ { B } C = C </s_latex_5><s_latex_6>\\lparen 1 \\rparen : N \\times N \\longrightarrow N</s_latex_6><s_latex_7>q \\tilde { q } = 2 \\pi p  p \\mathrm { p } \\in Z </s_latex_7><s_latex_8>\\bar { r } = r ^ { \\dagger } </s_latex_8></s>\n",
            "Generated LaTeX for generated_template_131.jpg saved to generated_template_131.json\n",
            "<s><s><s><s_latex_1>A = g ^ { - 1 } d g + g ^ { - 1 } H g </s_latex_1><s_latex_2>\\Omega = d u \\wedge \\frac { d x } { y } </s_latex_2><s_latex_3>F _ { i j } \\ i ^ { j } + E _ { i } = 0 </s_latex_3><s_latex_4>S = - \\lparen r - q \\rparen \\times m u </s_latex_4><s_latex_5>\\frac { 0 } { d g } B = - 2 \\mu \\bar { A }</s_latex_5><s_latex_6>\\gamma _ { \\lambda } = \\gamma _ { c } </s_latex_6><s_latex_7>F \\equiv e ^ { - i F m \\Delta t } </s_latex_7><s_latex_8>\\Pi _ { \\sigma } \\lparen p \\rparen</s_latex_8></s>\n",
            "Generated LaTeX for generated_template_155.jpg saved to generated_template_155.json\n",
            "<s><s><s><s_latex_1>\\lparen \\rho  \\rparen : \\Xi \\longrightarrow A</s_latex_1><s_latex_2>\\delta A = \\lbrack D + A  V \\rbrack </s_latex_2><s_latex_3>\\lparen 1  \\rparen : N \\times N \\longrightarrow N</s_latex_3><s_latex_4>k _ { \\mu } \\varepsilon ^ { \\mu \\nu } = 0</s_latex_4><s_latex_5>\\ast \\gamma = \\gamma _ { 5 } \\gamma </s_latex_5><s_latex_6>G _ { x } = Q ^ { \\dagger } \\bar { C } Q </s_latex_6><s_latex_7>\\omega ^ { a } \\equiv e ^ { a }</s_latex_7><s_latex_8>W _ { \\mathrm { a } / 3 } + W _ { 0 } + W _ { 2 } \\lbrack 3 </s_latex_8></s>\n",
            "Generated LaTeX for generated_template_157.jpg saved to generated_template_157.json\n",
            "<s><s><s><s_latex_1>\\epsilon : = \\sqrt { - E }  \\epsilon \\gt 0</s_latex_1><s_latex_2>b - 2 a = 3  \\lambda = \\frac { 3 } { 4 } </s_latex_2><s_latex_3>b - 2 a = 3  \\lambda = \\frac { 3 } { 2 } </s_latex_3><s_latex_4>\\partial _ { \\mu } F ^ { \\mu \\nu } = J ^ { \\nu }</s_latex_4><s_latex_5>\\pi _ { 2 } \\lparen S ^ { 2 } \\rparen = Z </s_latex_5><s_latex_6>\\int _ { d } g \\lbrace F  G \\rbrace = 0 </s_latex_6><s_latex_7>\\nabla _ { a } = \\partial _ { a } + \\sigma _ { a }</s_latex_7><s_latex_8>E \\rightarrow B  B \\rightarrow - E </s_latex_8></s>\n",
            "Generated LaTeX for generated_template_158.jpg saved to generated_template_158.json\n",
            "<s><s><s><s_latex_1>\\int d \\eta \\neq 0  \\int d \\eta = 0 </s_latex_1><s_latex_2>f = 1 + a l _ { p } ^ { 2 } k ^ { 2 } </s_latex_2><s_latex_3>\\sigma _ { \\mathrm { a b s } } = 0</s_latex_3><s_latex_4>\\partial ^ { 2 } \\eta = 0 </s_latex_4><s_latex_5>x ^ { - } \\simeq x ^ { - } + 2 \\pi R </s_latex_5><s_latex_6>g m _ { I } = a _ { I } / 2 r _ { 1 1 } </s_latex_6><s_latex_7>\\frac { i } { R } F ^ { i j } F _ { j 0 } </s_latex_7><s_latex_8>\\lambda = \\lparen + n ; n = 1  2  \\ldots </s_latex_8></s>\n",
            "Generated LaTeX for generated_template_16.jpg saved to generated_template_16.json\n",
            "<s><s><s><s_latex_1>E \\simeq C _ { 0 } \\lparen \\Sigma  K \\rparen </s_latex_1><s_latex_2>\\# \\beta = \\# \\gamma  \\# \\alpha _ { i } = 0 </s_latex_2><s_latex_3>\\alpha = 1  u = J _ { 0 }  h = J _ { 1 }</s_latex_3><s_latex_4>\\phi = - \\frac { 2 Y } { k } + c o n s t </s_latex_4><s_latex_5>d \\theta + \\theta \\wedge \\theta = 0 </s_latex_5><s_latex_6>\\sum _ { i = 1 } ^ { 4 } z _ { i } ^ { 2 } =</s_latex_6><s_latex_7>\\# \\beta = \\# \\gamma  \\# \\alpha _ { i } = 0 </s_latex_7><s_latex_8>S = \\frac { A } { 4 G \\hbar } </s_latex_8></s>\n",
            "Generated LaTeX for generated_template_162.jpg saved to generated_template_162.json\n",
            "<s><s><s><s_latex_1>\\hat { H } = \\frac { g ^ { 2 } } { 2 }</s_latex_1><s_latex_2>F _ { i j } \\mathrm { i } ^ { j } + E _ { j } = 0 </s_latex_2><s_latex_3>H _ { s t r } = H _ { L } \\otimes H _ { R } </s_latex_3><s_latex_4>\\# \\mathrm { z e r o \\space m o d e s } = 2 N k </s_latex_4><s_latex_5>d = d _ { 1 } + d _ { 2 } + d _ { 3 } \\in 5 Z </s_latex_5><s_latex_6>e _ { a } = \\lparen 1 / 2 \\rparen w _ { a } </s_latex_6><s_latex_7>\\Delta _ { a 0 } = 1  \\Lambda _ { b 0 } = 0 </s_latex_7><s_latex_8>\\lparen \\lparen A _ { \\pm } + \\alpha C _ { \\pm } \\rparen</s_latex_8></s>\n",
            "Generated LaTeX for generated_template_169.jpg saved to generated_template_169.json\n",
            "<s><s><s><s_latex_1>W = W _ { o } + W _ { A B } A B </s_latex_1><s_latex_2>\\Omega = \\Omega ^ { + } + i \\Omega ^ { - } </s_latex_2><s_latex_3>\\alpha = m ^ { - 1 } d m </s_latex_3><s_latex_4>Q \\vert \\Phi \\rangle = 0 </s_latex_4><s_latex_5>\\omega ^ { a } \\equiv e ^ { a }</s_latex_5><s_latex_6>k _ { 0 } \\sim \\frac { \\hbar } { \\lambda } </s_latex_6><s_latex_7>d \\Delta = q \\Delta d g \\Delta = q \\rho \\Delta = q</s_latex_7><s_latex_8>L = 2 P - 2 \\Phi </s_latex_8></s>\n",
            "Generated LaTeX for generated_template_17.jpg saved to generated_template_17.json\n",
            "<s><s><s><s_latex_1>\\# \\mathrm { z e r o d e s } = 2 N k </s_latex_1><s_latex_2>\\nabla ^ { \\mu } \\pi _ { \\mu \\nu } = 0  \\pi = 0 </s_latex_2><s_latex_3>\\Pi _ { \\mathrm { m } }</s_latex_3><s_latex_4>d = \\frac { 1 7 8 } { 7 } = 2 4 6  8 6 </s_latex_4><s_latex_5>\\chi = p \\gamma + 2 \\nu m \\hat { N } </s_latex_5><s_latex_6>0 \\leq \\sigma \\lt 4 \\pi l  0 \\leq \\tau \\lt \\pi </s_latex_6><s_latex_7>x = y + v _ { 1 } t </s_latex_7><s_latex_8>\\mathrm { c o t } \\alpha = B = \\theta ^ { - 1 }</s_latex_8></s>\n",
            "Generated LaTeX for generated_template_174.jpg saved to generated_template_174.json\n",
            "<s><s><s><s_latex_1>W \\equiv W _ { 2 / 3 } + W _ { 2 } + W _ { 2 / 3 } </s_latex_1><s_latex_2>\\partial _ { 0 } A _ { 0 } = 0 </s_latex_2><s_latex_3>A = g ^ { - 1 } d g + g ^ { - 1 } H g </s_latex_3><s_latex_4>F _ { 1 2 } = \\frac { 1 } { R ^ { \\prime } L }</s_latex_4><s_latex_5>H _ { p } = H _ { c } + u ^ { i } \\omega _ { i } </s_latex_5><s_latex_6>T ^ { + } \\Phi T = \\Phi </s_latex_6><s_latex_7>\\sigma _ { 1 } \\lparen T \\rparen = T ^ { 1 }</s_latex_7><s_latex_8>\\chi \\equiv \\partial ^ { j } A ^ { j } = 0 </s_latex_8></s>\n",
            "Generated LaTeX for generated_template_179.jpg saved to generated_template_179.json\n",
            "<s><s><s><s_latex_1>S _ { t o p } = \\int _ { M } B d C </s_latex_1><s_latex_2>f _ { a } = f _ { a } ^ { \\mu } d y \\mu </s_latex_2><s_latex_3>U = \\sum _ { p = 0 } ^ { r } U _ { p  r - p } </s_latex_3><s_latex_4>\\gamma _ { i j } = \\frac { 1 } { c } g _ { i j }</s_latex_4><s_latex_5>P ^ { \\prime } = \\nabla ^ { 2 } C </s_latex_5><s_latex_6>S _ { \\eta F } = \\int \\lt \\eta  F \\gt </s_latex_6><s_latex_7>\\lambda ^ { \\prime } \\omega = K </s_latex_7><s_latex_8>d F + \\beta \\ast F - F \\ast \\beta = 0 </s_latex_8></s>\n",
            "Generated LaTeX for generated_template_188.jpg saved to generated_template_188.json\n",
            "<s><s><s><s_latex_1>\\Phi = \\Phi _ { 0 } + \\tilde { \\Phi } </s_latex_1><s_latex_2>N _ { 3 } = 2 \\times N _ { 4 }</s_latex_2><s_latex_3>\\Gamma = - K \\frac { 1 } { \\gamma } K </s_latex_3><s_latex_4>\\partial _ { m } \\eta = 0 </s_latex_4><s_latex_5>\\eta = O \\lparen r \\rparen </s_latex_5><s_latex_6>\\Psi ^ { \\ast 4 } = g _ { B } ^ { A } \\Psi ^ { B } </s_latex_6><s_latex_7>H \\lparen \\eta _ { 0 } \\rparen = \\Lambda </s_latex_7><s_latex_8>\\lambda ^ { \\ast } \\omega = K </s_latex_8></s>\n",
            "Generated LaTeX for generated_template_221.jpg saved to generated_template_221.json\n",
            "<s><s><s><s_latex_1>\\sigma _ { \\mathrm { a b s } } = 0</s_latex_1><s_latex_2>A = \\int d ^ { 2 } \\sigma \\eta ^ { 1 / 2 }</s_latex_2><s_latex_3>M = R ^ { 3 } \\times S ^ { 1 } \\times R ^ { 4 }</s_latex_3><s_latex_4>\\Lambda = \\frac { d Y } { d G } G - Y</s_latex_4><s_latex_5>\\lparen k + 1 \\rparen = 2 p \\frac { n } { m }</s_latex_5><s_latex_6>\\delta \\psi _ { M } = D _ { M } \\eta = 0</s_latex_6><s_latex_7>n _ { 2 } = 2 q  q  q = 0  1    </s_latex_7><s_latex_8>D \\chi = \\prod _ { n } d c ^ { n } </s_latex_8></s>\n",
            "Generated LaTeX for generated_template_236.jpg saved to generated_template_236.json\n",
            "<s><s><s><s_latex_1>\\delta F \\lbrack h \\rbrack =</s_latex_1><s_latex_2>\\int d \\eta = 0  \\int d \\eta = 1 </s_latex_2><s_latex_3>L = 2 P - 2 \\Phi </s_latex_3><s_latex_4>\\theta ^ { a b } = - z ^ { 3 } P ^ { a b } </s_latex_4><s_latex_5>q + p - \\sigma = 0  \\pm 1  \\pm 2  \\ldots</s_latex_5><s_latex_6>S _ { t o p } = \\int _ { M } B d C </s_latex_6><s_latex_7>F _ { + 1 2 3 } = \\rho _ { 0 } \\lparen \\rho _ { 1 } \\lparen \\rho _ { 2 } \\neq 0 \\rparen</s_latex_7><s_latex_8>B _ { i } ^ { a } = D _ { i } \\Phi ^ { a }</s_latex_8></s>\n",
            "Generated LaTeX for generated_template_238.jpg saved to generated_template_238.json\n",
            "<s><s><s><s_latex_1>x _ { \\mu } ^ { c } = x _ { \\mu } + A _ { \\mu } </s_latex_1><s_latex_2>0 \\lt r \\leq \\frac { 1 _ { 2 } }</s_latex_2><s_latex_3>0 \\lt \\sigma \\lt 4 \\pi l  0 \\leq \\tau \\lt \\pi </s_latex_3><s_latex_4>S _ { B I } = \\int d t d \\theta L _ { B I }</s_latex_4><s_latex_5>\\lbrace Q  O _ { A } \\rbrace = - O _ { d A } </s_latex_5><s_latex_6>1  \\cos 2 n \\sigma  n = 1  2    </s_latex_6><s_latex_7>B _ { \\Sigma } \\int \\omega _ { D } ^ { 0 } = 0</s_latex_7><s_latex_8>\\partial _ { \\alpha } P _ { A \\alpha \\beta } = 0 </s_latex_8></s>\n",
            "Generated LaTeX for generated_template_243.jpg saved to generated_template_243.json\n",
            "<s><s><s><s_latex_1>A _ { 0 } = 4 \\lambda J \\Delta</s_latex_1><s_latex_2>S _ { B } = - \\int d t H _ { B }</s_latex_2><s_latex_3>\\lparen \\rho  \\rparen : \\Xi \\longrightarrow A</s_latex_3><s_latex_4>\\frac { 1 } { 2 4 } \\chi \\lparen X _ { 4 } \\rparen</s_latex_4><s_latex_5>S _ { \\Theta } = i \\Theta n </s_latex_5><s_latex_6>e _ { j } - e _ { k }  j \\neq k </s_latex_6><s_latex_7>\\deg \\Pi _ { m } = \\deg \\tilde { \\Pi } _ { m } = m</s_latex_7><s_latex_8>a \\pi R + c _ { 0 } + c _ { \\pi } = m \\pi </s_latex_8></s>\n",
            "Generated LaTeX for generated_template_244.jpg saved to generated_template_244.json\n",
            "<s><s><s><s_latex_1>\\hat { \\chi } = p \\gamma + 2 v _ { \\mathrm { A } } \\hat { \\chi } </s_latex_1><s_latex_2>\\vec { x } = \\frac { \\vec { \\beta } } { \\alpha }</s_latex_2><s_latex_3>1 \\rightleftharpoons \\sigma _ { 3 } </s_latex_3><s_latex_4>E = e \\lparen 1 + 4 \\theta _ { 1 } e \\rparen </s_latex_4><s_latex_5>\\chi ^ { a _ { 1 } } = \\xi ^ { a _ { 1 } } </s_latex_5><s_latex_6>\\hat { H } \\varphi = H _ { \\varphi } </s_latex_6><s_latex_7>\\frac { \\pi } { \\pi + 2 \\pi } p \\lt 1 </s_latex_7><s_latex_8>\\chi = \\chi \\star \\chi</s_latex_8></s>\n",
            "Generated LaTeX for generated_template_25.jpg saved to generated_template_25.json\n",
            "<s><s><s><s_latex_1>\\Phi = \\pi - \\frac { 1 } { 2 } \\phi _ { x }</s_latex_1><s_latex_2>\\psi = \\psi _ { \\alpha } e ^ { \\alpha } </s_latex_2><s_latex_3>U = \\frac { 1 } { 4 \\pi } \\alpha K d \\alpha </s_latex_3><s_latex_4>x ^ { 1 } \\rightarrow U ^ { 1 0 } X ^ { 2 } </s_latex_4><s_latex_5>M _ { J } \\cdot c ^ { J } = d ^ { J }</s_latex_5><s_latex_6>\\lim _ { E \\to \\infty } V = \\infty </s_latex_6><s_latex_7>\\delta _ { D } \\overline { C } = 0 </s_latex_7><s_latex_8>u \\lt 0  v \\lt \\pi \\lt \\pi / 2 </s_latex_8></s>\n",
            "Generated LaTeX for generated_template_26.jpg saved to generated_template_26.json\n",
            "<s><s><s><s_latex_1>\\lparen X _ { 1 }  X _ { 2 } \\rparen = \\theta </s_ { 2 }</s_latex_3><s_latex_4>c _ { 2 } = C _ { 3 } = - \\frac { 1 } { 2 } </s_latex_4><s_latex_5>K = \\bar { \\Phi } \\Phi + \\bar { X } X </s_latex_5><s_latex_6>q = 1 / \\sqrt { f _ { H } } </s_latex_6><s_latex_7>0 = \\gamma _ { + + } = \\gamma _ { - - }</s_latex_7><s_latex_8>\\Psi ^ { A } = g _ { B } ^ { A } \\Psi ^ { B } </s_latex_8></s>\n",
            "Generated LaTeX for generated_template_267.jpg saved to generated_template_267.json\n",
            "<s><s><s><s_latex_1>D \\varphi ^ { \\prime } = e ^ { \\phi } D \\varphi</s_latex_1><s_latex_2>\\cdot : G \\times G \\rightarrow G <G </s_latex_2><s_latex_3>\\delta X = Z \\delta ^ { x } X = Y</s_latex_3><s_latex_4>q \\tilde { q } = 2 \\pi p \\in Z </s_latex_4><s_latex_5>\\int d \\eta = 0  \\int d \\eta \\eta = 1 </s_latex_5><s_latex_6>\\pi _ { 1 } \\lparen C P ^ { n } \\rparen = 0 </s_latex_6><s_latex_7>N = 4 \\sum _ { a } n _ { a } </s_latex_7><s_latex_8>L = L _ { + } \\oplus L _ { - }</s_latex_8></s>\n",
            "Generated LaTeX for generated_template_268.jpg saved to generated_template_268.json\n",
            "<s><s><s><s_latex_1>\\lambda = 2 t \\in N _ { 0 } </s_latex_1><s_latex_2>E = \\pm \\sqrt { \\vec { p } ^ { 2 } + m ^ { 2 } } </s_latex_2><s_latex_3>p + b - c \\neq 0 + 1  \\pm 2  \\ldots</s_latex_3><s_latex_4>\\sigma ^ { n } \\lparen x \\rparen = x + h \\alpha </s_latex_4><s_latex_5>\\nabla _ { x } \\chi = 0 </s_latex_5><s_latex_6>\\Pi \\lparen H \\rparen \\eta ^ { x } = 0</s_latex_6><s_latex_7>\\ast \\gamma = \\gamma _ { 5 } \\gamma </s_latex_7><s_latex_8>\\Pi _ { \\mu } = \\frac { 1 } { R } l _ { \\mu 4 }</s_latex_8></s>\n",
            "Generated LaTeX for generated_template_269.jpg saved to generated_template_269.json\n",
            "<s><s><s><s_latex_1>I = - I </s_latex_1><s_latex_2>x ^ { - } \\simeq x ^ { - } + 2 \\pi R </s_latex_2><s_latex_3>0 = \\gamma _ { + + } = \\gamma _ { - - }</s_latex_3><s_latex_4>\\phi \\rightarrow e ^ { 2 i \\alpha } \\phi </s_latex_4><s_latex_5>\\int _ { C } \\omega ^ { n } = n + 1 </s_latex_5><s_latex_6>x \\cdot X = 0  X \\cdot P = 0  P \\cdot P = 0 </s_latex_6><s_latex_7>\\Delta + Q \\cdot X \\lt 0  M \\lt 0  N \\gt 0 </s_latex_7><s_latex_8>\\tau ^ { 2 } + M N \\lt 0  M \\gt 0  N \\gt 0 </s_latex_8></s>\n",
            "Generated LaTeX for generated_template_28.jpg saved to generated_template_28.json\n",
            "<s><s><s><s_latex_1>0 \\to M \\to \\Gamma _ { 8 } \\to \\Phi \\to 0 </s_latex_1><s_latex_2>G \\equiv S U \\lparen N \\rparen \\times Z _ { 2 } </s_latex_2><s_latex_3>d P ^ { \\mu } = P _ { \\sigma } ^ { \\mu } d \\tau </s_latex_3><s_latex_4>M _ { a b } M _ { c b } = \\delta _ { a c } </s_latex_4><s_latex_5>\\omega : T M \\rightarrow T ^ { \\ast } M </s_latex_5><s_latex_6>f \\vert _ { Y = 0 } = f _ { 0 } </s_latex_6><s_latex_7>\\mathrm { D i v } E = 4 \\pi \\rho </s_latex_7><s_latex_8>S = S _ { 0 } + \\int \\mu T + \\int \\nu G </s_latex_8></s>\n",
            "Generated LaTeX for generated_template_281.jpg saved to generated_template_281.json\n",
            "<s><s><s><s_latex_1>\\lparen l \\vert 0 \\rparen = 1 </s_latex_1><s_latex_2>O \\psi ^ { + } + \\bar { \\psi } ^ { + } O</s_latex_2><s_latex_3>F _ { 1 2 } = \\frac { 1 } { R ^ { \\prime } L }</s_latex_3><s_latex_4>\\xi ^ { 1 \\ast } \\lparen x \\rparen = 0 </s_latex_4><s_latex_5>F = \\frac { Q } { r ^ { 2 } } d t \\wedge d r</s_latex_5><s_latex_6>- k _ { n } ^ { + } = k _ { - n } ^ { - }</s_latex_6><s_latex_7>\\lbrack G \\omega \\gamma \\rbrack = 0 </s_latex_7><s_latex_8>S _ { f } ^ { \\lparen 2 \\rparen } \\cdot \\psi = 0 </s_latex_8></s>\n",
            "Generated LaTeX for generated_template_282.jpg saved to generated_template_282.json\n",
            "<s><s><s><s_latex_1>w _ { I } = P - \\rho </s_latex_1><s_latex_2>\\tilde { \\pi } ^ { \\dagger } = - i \\sigma \\xi </s_latex_2><s_latex_3>\\alpha  \\beta  \\ldots \\in \\lbrace 0  1 \\rbrace</s_latex_3><s_latex_4>k _ { \\mu } \\varepsilon ^ { \\mu \\nu } = 0</s_latex_4><s_latex_5>S = 2 i \\int d ^ { 2 } x d ^ { 2 } \\theta E S</s_latex_5><s_latex_6>e \\int j \\wedge A \\equiv e \\oint _ { C } Q A </s_latex_6><s_latex_7>\\rho _ { 0 } \\sim \\frac { M } { M } \\mu \\lt \\mu </s_latex_7><s_latex_8>E ^ { 2 } = E  E ^ { \\dagger } = E </s_latex_8></s>\n",
            "Generated LaTeX for generated_template_303.jpg saved to generated_template_303.json\n",
            "<s><s><s><s_latex_1>D _ { t } ^ { - 2 } \\Upsilon = \\Psi ^ { 2 } </s_latex_1><s_latex_2>H = p _ { \\mu } \\star \\dot { q } ^ { \\mu } - L</s_latex_2><s_latex_3>\\bar { s } _ { \\tilde { \\kappa } } = Q</s_latex_3><s_latex_4>\\int \\Omega _ { K } = \\pi Q \\circ z </s_latex_4><s_latex_5>\\Gamma = - K \\frac { 1 } { \\gamma } K </s_latex_5><s_latex_6>\\lambda = s + t  x = s / \\lambda </s_latex_6><s_latex_7>L _ { m a s s s } = H _ { 5 } ^ { \\dagger } M H _ { 0 } </s_latex_7><s_latex_8>R _ { m } ^ { 3 } J _ { p q } = 0 </s_latex_8></s>\n",
            "Generated LaTeX for generated_template_305.jpg saved to generated_template_305.json\n",
            "<s><s><s><s_latex_1>Q = \\alpha / \\sqrt { 1 - \\alpha ^ { 2 } } </s_latex_1><s_latex_2>d : x ^ { i } \\rightarrow d x ^ { i }</s_latex_2><s_latex_3>\\delta _ { v } u ^ { a } = D v ^ { a } </s_latex_3><s_latex_4>\\kappa = h _ { 3 } - h _ { 4 } - h _ { 2 } </s_latex_4><s_latex_5>\\bar { \\partial } \\psi ^ { + } + \\bar { \\psi } ^ { + } 0</s_latex_5><s_latex_6>\\Sigma _ { \\Psi ^ { \\prime \\prime } } = Z </s_latex_6><s_latex_7>l = - l </s_latex_7><s_latex_8>c _ { 0 } ^ { 2 } + \\vec { c } ^ { 2 } = 1</s_latex_8></s>\n",
            "Generated LaTeX for generated_template_310.jpg saved to generated_template_310.json\n",
            "<s><s><s><s_latex_1>G = Q ^ { \\dagger } \\bar { G } Q </s_latex_1><s_latex_2>\\eta = M + \\lambda M ^ { 2 } </s_latex_2><s_latex_3>H \\equiv - \\partial _ { t } ^ { 2 } + 2 H </s_latex_3><s_latex_4>u \\rightarrow \\underline { \\theta } ^ { - 1 } u</s_latex_4><s_latex_5>F = F _ { t } + F _ { 1 }</s_latex_5><s_latex_6>L \\sim \\sqrt { - \\det G _ { \\alpha \\beta } }</s_latex_6><s_latex_7>L = - \\frac { T } { 2 } \\eta _ { \\mu \\nu }</s_latex_7><s_latex_8>u \\rightarrow \\underline { \\theta } ^ { - 1 } u</s_latex_8></s>\n",
            "Generated LaTeX for generated_template_33.jpg saved to generated_template_33.json\n",
            "<s><s><s><s_latex_1>f _ { a } = f _ { a } ^ { \\mu } d y _ { \\mu } </s_latex_1><s_latex_2>\\sigma ^ { n } \\lparen x \\rparen = x + n \\alpha </s_latex_2><s_latex_3>\\int \\mathrm { d } g \\lbrace F  G \\rbrace = 0 </s_latex_3><s_latex_4>\\partial _ { \\mu } F ^ { \\mu \\nu } = J ^ { \\nu }</s_latex_4><s_latex_5>d _ { 2 } = 2 p  d _ { 3 } = 3 q + 1 </s_latex_5><s_latex_6>\\delta x _ { i } = \\delta y _ { i } = \\eta _ { i }</s_latex_6><s_latex_7>R = 1 + \\eta ^ { \\ast - 1 } \\cosh h </s_latex_7><s_latex_8>a _ { 0  1  2  3 } \\in R </s_latex_8></s>\n",
            "Generated LaTeX for generated_template_341.jpg saved to generated_template_341.json\n",
            "<s><s><s><s_latex_1>V ^ { \\lbrace a } V ^ { b \\rbrace } = 0 </s_latex_1><s_latex_2>m _ { _ { J } } c R = \\frac { h } { 2 \\pi }</s_latex_2><s_latex_3>\\varepsilon = \\varepsilon _ { \\infty }</s_latex_3><s_latex_4>T \\rightarrow \\frac { 1 } { T } </s_latex_4><s_latex_5>E = e \\lparen 1 + 4 \\theta _ { 1 } e \\rparen </s_latex_5><s_latex_6>\\oint _ { \\Sigma }  B = 2 \\pi n ^ { J }</s_latex_6><s_latex_7>\\Phi = \\pi - \\frac { 1 } { 2 } \\phi _ { x }</s_latex_7><s_latex_8>L \\sim \\sqrt { - \\det G _ { \\alpha \\beta } }</s_latex_8></s>\n",
            "Generated LaTeX for generated_template_346.jpg saved to generated_template_346.json\n",
            "<s><s><s><s_latex_1>a \\rightarrow - a  A \\rightarrow A </s_latex_1><s_latex_2>c ^ { \\# } = 2 6  a ^ { \\# } = 1 </s_latex_2><s_latex_3>m _ { 3 } / 2 = \\frac { \\omega } { 2 }</s_latex_3><s_latex_4>\\Delta A = - \\frac { 2 8 } { 3 } \\lambda _ { 1 } </s_latex_4><s_latex_5>H _ { L C } =</s_latex_5><s_latex_6>\\partial _ { \\lbrack i } F _ { j k \\rbrack } = 0 </s_latex_6><s_latex_7>\\Omega = \\Omega ^ { + } + i \\Omega ^ { - } </s_latex_7><s_latex_8>T ^ { + } \\Phi T = \\Phi </s_latex_8></s>\n",
            "Generated LaTeX for generated_template_349.jpg saved to generated_template_349.json\n",
            "<s><s><s><s_latex_1>A _ { m }</s_latex_1><s_latex_2>\\phi _ { t } - \\phi _ { x x } = - \\sin \\phi</s_latex_2><s_latex_3>\\tilde { A } _ { 0 } = 4 \\lambda J \\Delta</s_latex_3><s_latex_4>\\bar { \\phi } \\equiv \\varphi - 3 \\alpha </s_latex_4><s_latex_5>W _ { m } = - \\frac { m ^ { 3 } } { 1 2 \\pi } </s_latex_5><s_latex_6>\\hat { a } \\hat { b } \\rightarrow a \\star b </s_latex_6><s_latex_7>0 \\to M \\to \\Gamma _ { 8 } \\to \\Phi \\to 0 </s_latex_7><s_latex_8>q _ { n e e w } \\sim \\xi ^ { N } </s_latex_8></s>\n",
            "Generated LaTeX for generated_template_356.jpg saved to generated_template_356.json\n",
            "<s><s><s><s_latex_1>\\phi _ { t } - \\phi _ { x x } = - \\sin \\phi</s_latex_1><s_latex_2>\\vert  a  \\frac { 1 } { 2 } \\vert n + k \\rangle</s_latex_2><s_latex_3>P Q _ { A } P = - Q _ { A }  A = 0  1  2  3 </s_latex_3><s_latex_4>S _ { \\mathrm { m a t e r } } \\leq \\pi E h </s_latex_4><s_latex_5>N = 4 \\sum _ { a } n _ { a } </s_latex_5><s_latex_6>A \\subset M \\subset B</s_latex_6><s_latex_7>d : x ^ { i } \\rightarrow d x ^ { i }</s_latex_7><s_latex_8>\\hat { \\Phi } = e ^ { - p K / 2 } \\Phi</s_latex_8></s>\n",
            "Generated LaTeX for generated_template_365.jpg saved to generated_template_365.json\n",
            "<s><s><s><s_latex_1>m _ { _ { J } } c R = \\frac { \\hbar } { 2 \\pi }</s_latex_1><s_latex_2>\\Delta + Q \\sim k \\gg 1  \\Delta - Q \\ll k </s_latex_2><s_latex_3>L = - \\frac { 1 } { 2 } \\eta \\nu</s_latex_3><s_latex_4>\\lbrack P  Q \\rbrack = \\mathrm { i } \\hbar 1 </s_latex_4><s_latex_5>\\alpha = 1 / \\sqrt { \\mathrm { f } _ { H } } </s_latex_5><s_latex_6>e \\cdot g = g \\cdot e \\chi \\lparen g \\rparen</s_latex_6><s_latex_7>2 r \\frac { \\partial _ { 2 } \\beta } { \\beta } = 0</s_latex_7><s_latex_8>u \\rightarrow \\theta ^ { - 1 } u</s_latex_8></s>\n",
            "Generated LaTeX for generated_template_377.jpg saved to generated_template_377.json\n",
            "<s><s><s><s_latex_1>\\vartheta \\rightarrow \\vartheta - \\alpha</s_latex_1><s_latex_2>J ^ { M } = 2 \\pi \\lbrack D - \\Omega \\rbrack </s_latex_2><s_latex_3>e ^ { \\prime } = e - 2 g \\theta </s_latex_3><s_latex_4>e ^ { - K } = i \\langle \\bar { w }  w \\rangle</s_latex_4><s_latex_5>\\sigma _ { l } \\lparen T \\rparen = T ^ { l }</s_latex_5><s_latex_6>S = - \\frac { T } { \\eta }</s_latex_6><s_latex_7>\\deg \\Pi _ { m } = \\deg \\tilde { \\Pi } _ { m } = m</s_latex_7><s_latex_8>M = m + \\frac { 3 m } { e } q _ { m } \\sin \\beta ;</s_latex_8></s>\n",
            "Generated LaTeX for generated_template_378.jpg saved to generated_template_378.json\n",
            "<s><s><s><s_latex_1>F _ { L } ^ { 3 } = - \\frac { 1 } { g } \\omega </s_latex_1><s_latex_2>Q = \\alpha / \\sqrt { 1 - \\alpha ^ { 2 } } </s_latex_2><s_latex_3>\\lim _ { E \\to \\infty } V = \\infty </s_latex_3><s_latex_4>S _ { \\eta \\Phi } = \\int \\lt \\eta  F \\gt </s_latex_4><s_latex_5>S _ { t o p } = \\int _ { M } B d C </s_latex_5><s_latex_6>N ^ { p 0 } = - \\frac { 2 } { \\eta _ { N } ^ { 2 } } </s_latex_6><s_latex_7>S = \\frac { a } { 2 c } \\int \\nabla </s_latex_7><s_latex_8>\\rho = \\sum _ { j } H _ { j } \\otimes h ^ { j } </s_latex_8></s>\n",
            "Generated LaTeX for generated_template_383.jpg saved to generated_template_383.json\n",
            "<s><s><s><s_latex_1>D ^ { \\dagger } D = H + V</s_latex_1><s_latex_2>\\partial m ^ { 2 } = n _ { M } d</s_latex_2><s_latex_3>a \\rightarrow U \\circ a \\circ U ^ { - 1 } </s_latex_3><s_latex_4>\\sigma g = g i \\lambda - i \\bar { \\lambda } g</s_latex_4><s_latex_5>\\Pi \\lparen H \\rparen \\eta ^ { \\star } = 0</s_latex_5><s_latex_6>l _ { q } d K = q ^ { - 2 } d K l _ { q } </s_latex_6><s_latex_7>T = \\frac { \\lambda } { 2 \\pi } </s_latex_7><s_latex_8>\\varepsilon = - i Q \\epsilon </s_latex_8></s>\n",
            "Generated LaTeX for generated_template_389.jpg saved to generated_template_389.json\n",
            "<s><s><s><s_latex_1>\\tilde { H } = \\frac { 1 } { 2 } \\pi ^ { 2 } + L</s_latex_1><s_latex_2>\\Delta \\varphi = 2 R ^ { - 2 } e ^ { \\varphi }</s_latex_2><s_latex_3>\\bar { \\phi } \\equiv \\varphi - 3 \\alpha </s_latex_3><s_latex_4>H _ { \\hat { \\chi } } = 0  \\chi = \\pi _ { 2 } </s_latex_4><s_latex_5>\\partial _ { \\mathrm { a } }</s_latex_5><s_latex_6>L _ { 1 } + l _ { 3 } = \\Gamma _ { 2 } + l _ { R } </s_latex_6><s_latex_7>\\lparen q  O _ { A } \\rparen = - O _ { d A } </s_latex_7><s_latex_8>\\Delta M = \\lparen E + a F \\rparen / c ^ { 2 } </s_latex_8></s>\n",
            "Generated LaTeX for generated_template_394.jpg saved to generated_template_394.json\n",
            "<s><s><s><s_latex_1>\\chi \\equiv \\partial ^ { i j } A ^ { j } = 0 </s_latex_1><s_latex_2>\\mathrm { D i v } E = 4 \\pi \\rho </s_latex_2><s_latex_3>\\sum _ { d H \\neq 0 } 1 \\geq \\sum _ { n } B _ { n }</s_latex_3><s_latex_4>\\int d x = 0  \\int d x \\eta = 1 </s_latex_4><s_latex_5>c _ { 0 } ^ { 2 } + \\vec { c } ^ { 2 } = 1</s_latex_5><s_latex_6>\\vec { \\mu } \\cdot \\vec { k } = d </s_latex_6><s_latex_7>\\phi ^ { 6 } \\leftrightarrow - \\phi ^ { 6 } </s_latex_7><s_latex_8>s _ { \\pm } \\approx \\pm \\sqrt { - 2 \\kappa x }</s_latex_8></s>\n",
            "Generated LaTeX for generated_template_395.jpg saved to generated_template_395.json\n",
            "<s><s><s><s_latex_1>Q A + \\mathrm { X } A \\star A = 0 </s_latex_1><s_latex_2>\\Pi _ { \\mu } = \\frac { 1 } { R } l _ { \\mu }</s_latex_2><s_latex_3>\\frac { \\pi } { \\pi + g N } p \\lt 1 </s_latex_3><s_latex_4>\\delta \\tilde { P } = 0 </s_latex_4><s_latex_5>\\delta \\psi _ { M } = D _ { M } \\eta = 0</s_latex_5><s_latex_6>\\Psi = L - \\Theta _ { \\rho } s ^ { \\rho } </s_latex_6><s_latex_7>A _ { 0 } = 4 \\lambda U \\Delta</s_latex_7><s_latex_8>a + b \\rightarrow R \\rightarrow c + d</s_latex_8></s>\n",
            "Generated LaTeX for generated_template_40.jpg saved to generated_template_40.json\n",
            "<s><s><s><s_latex_1>D = - \\frac { Q ^ { \\ast 2 } } { 2 M } </s_latex_1><s_latex_2>\\Phi = \\Phi _ { + } \\Phi _ { - }</s_latex_2><s_latex_3>J _ { - k } \\equiv J _ { k }  k \\gt 0</s_latex_3><s_latex_4>\\Xi ^ { \\dagger } H \\Xi = \\bar { H } </s_latex_4><s_latex_5>D = - \\frac { Q ^ { \\ast 2 } } { 2 M } </s_latex_5><s_latex_6>a + b - c \\neq 0  \\pm 1  \\pm 2  \\ldots </s_latex_6><s_latex_7>\\cdot : G \\times G \\rightarrow G </s_latex_7><s_latex_8>p \\to m - p - 2  \\phi \\to - \\phi </s_latex_8></s>\n",
            "Generated LaTeX for generated_template_403.jpg saved to generated_template_403.json\n",
            "<s><s><s><s_latex_1>\\lparen I \\lbrack 0 \\rparen = 1 </s_latex_1><s_latex_2>\\partial _ { s } A _ { \\mu } = 0  A _ { s } = 0 </s_latex_2><s_latex_3>\\alpha = 1  u = J _ { 0 }  h = J </s_latex_3><s_latex_4>\\rho _ { \\chi } ^ { \\prime } = \\rho _ { \\chi } </s_latex_4><s_latex_5>\\int _ { C } \\omega ^ { n } = n + 1 </s_latex_5><s_latex_6>R \\lbrack 0 \\rbrack = \\pm \\lbrack 0 \\rbrack </s_latex_6><s_latex_7>\\bar { M } M + \\bar { D } D = \\bar { Q } Q</s_latex_7><s_latex_8>M _ { E } \\cdot c ^ { E } = d ^ { E }</s_latex_8></s>\n",
            "Generated LaTeX for generated_template_409.jpg saved to generated_template_409.json\n",
            "<s><s><s><s_latex_1>G \\equiv S U \\lparen N \\rparen \\times Z _ { 2 } </s_latex_1><s_latex_2>T = 2 n + m \\geq \\Delta _ { 0 } </s_latex_2><s_latex_3>S _ { t o p } = \\int _ { M } B d C </s_latex_3><s_latex_4>B = - \\frac { \\alpha } { 2 n \\nu } </s_latex_4><s_latex_5>\\lparen C _ { 0 } - C _ { 3 } \\rparen \\psi = 0 </s_latex_5><s_latex_6>H \\varphi = E \\varphi </s_latex_6><s_latex_7>\\nabla _ { a } P ^ { a \\mu } = 0 </s_latex_7><s_latex_8>F = \\mathrm { c o n s t a n t } </s_latex_8></s>\n",
            "Generated LaTeX for generated_template_412.jpg saved to generated_template_412.json\n",
            "<s><s><s><s_latex_1>\\iota = - \\frac { T } { 2 } \\eta _ { \\mu \\nu }</s_latex_1><s_latex_2>A = \\int _ { M ^ { 4 } \\subset S M } L</s_latex_2><s_latex_3>\\lambda = \\frac { 1 - 3 } { 1 + s } </s_latex_3><s_latex_4>\\lparen A  B \\rparen = \\int \\lbrace a  b \\rbrace</s_latex_4><s_latex_5>\\nabla = \\exp \\lparen \\psi ^ { A } t _ { A } \\rparen</s_latex_5><s_latex_6>\\Delta \\varphi = 2 R ^ { - 2 } e ^ { \\varphi }</s_latex_6><s_latex_7>m = M + \\lambda M ^ { 2 } </s_latex_7><s_latex_8>\\tilde { \\Lambda } = \\Lambda + D \\Omega</s_latex_8></s>\n",
            "Generated LaTeX for generated_template_418.jpg saved to generated_template_418.json\n",
            "<s><s><s><s_latex_1>\\delta m ^ { 2 } = n _ { \\mathrm { M } } d</s_latex_1><s_latex_2>O _ { a } \\rightarrow O _ { b } \\times O _ { c } </s_latex_2><s_latex_3>C _ { 2 } = C _ { 3 } = - \\frac { 1 } { 2 } </s_latex_3><s_latex_4>G \\lparen \\phi \\rparen = - m ^ { 2 } \\phi </s_latex_4><s_latex_5>H _ { \\hat { \\chi } } = 0  \\chi = \\pi \\rho </s_latex_5><s_latex_6>D : S \\rightarrow S + \\lambda </s_latex_6><s_latex_7>M = Z = b \\cdot g + a \\cdot q </s_latex_7><s_latex_8>\\Gamma ^ { A } i \\partial _ { A } \\Psi = 0 </s_latex_8></s>\n",
            "Generated LaTeX for generated_template_422.jpg saved to generated_template_422.json\n",
            "<s><s><s><s_latex_1>e ^ { \\prime } = e - 2 g \\theta </s_latex_1><s_latex_2>F = d x ^ { - } \\wedge \\varphi </s_latex_2><s_latex_3>c ^ { \\# } = 2 6  a ^ { \\# } = 1 </s_latex_3><s_latex_4>\\Delta \\varphi = 2 R ^ { - 2 } e ^ { \\varphi }</s_latex_4><s_latex_5>f ^ { + } = e ^ { - } f _ { - } ^ { + } </s_latex_5><s_latex_6>\\phi ^ { \\prime } = g ^ { - 1 } \\phi g </s_latex_6><s_latex_7>m = M + \\lambda M ^ { 2 } </s_latex_7><s_latex_8>\\ddot { \\pi } ^ { \\dagger } = - i \\sigma \\zeta </s_latex_8></s>\n",
            "Generated LaTeX for generated_template_428.jpg saved to generated_template_428.json\n",
            "<s><s><s><s_latex_1>N t _ { 1 1 } \\equiv k \\mathrm { m o d } N </s_latex_1><s_latex_2>\\hat { R } _ { m n } J _ { p _ { 9 } } = 0 </s_latex_2><s_latex_3>0 \\leq \\sigma \\lt 4 \\pi l  0 \\leq \\tau \\lt \\pi </s_latex_3><s_latex_4>q ^ { + } = \\sigma - \\beta i - \\gamma j - \\delta k</s_latex_4><s_latex_5>\\gamma = - 1  \\beta = \\frac { \\nu } { k } </s_latex_5><s_latex_6>\\tilde { R } _ { m n } J _ { p q } = 0 </s_latex_6><s_latex_7>D : S \\rightarrow S + \\lambda </s_latex_7><s_latex_8>w \\lparen - t \\rparen = - w \\lparen t \\rparen </s_latex_8></s>\n",
            "Generated LaTeX for generated_template_43.jpg saved to generated_template_43.json\n",
            "<s><s><s><s_latex_1>l _ { q } d K = q ^ { - 2 } d K l _ { q } </s_latex_1><s_latex_2>\\sum _ { i = 1 } l _ { i } \\geq J - n </s_latex_2><s_latex_3>\\ddot { u } = 0 ; \\ddot { z } = 0</s_latex_3><s_latex_4>V \\lparen x \\rparen = e ^ { - i q x } </s_latex_4><s_latex_5>\\nu \\rightarrow \\nu \\otimes L</s_latex_5><s_latex_6>E = \\tau \\sqrt { \\vec { p } ^ { 2 } + m ^ { 2 } } </s_latex_6><s_latex_7>u _ { 1 } = P ^ { m }  \\Omega _ { 2 } = 0</s_latex_7><s_latex_8>\\nabla _ { \\mu } \\nu ^ { \\mu } = 0 </s_latex_8></s>\n",
            "Generated LaTeX for generated_template_438.jpg saved to generated_template_438.json\n",
            "<s><s><s><s_latex_1>q \\tilde { q } = 2 \\pi p \\in Z </s_latex_1><s_latex_2>\\partial _ { 0 } A _ { 0 } = 0 </s_latex_2><s_latex_3>\\Pi _ { \\mu } = \\frac { 1 } { R } l _ { \\mu _ { 4 } }</s_latex_3><s_latex_4>\\Xi ^ { \\dagger } H \\Xi = \\bar { H } </s_latex_4><s_latex_5>\\lparen A _ { 0 } \\rparen = 2 \\pi n T / e</s_latex_5><s_latex_6>2  \\hat { g } = 0 a = i g y </s_latex_6><s_latex_7>F _ { + 1 2 3 } = \\mu  \\lparen \\mu  \\lparen \\mu \\neq 0 \\rparen</s_latex_7><s_latex_8>E : Q \\to A  E \\lparen q \\rparen = q e </s_latex_8></s>\n",
            "Generated LaTeX for generated_template_44.jpg saved to generated_template_44.json\n",
            "<s><s><s><s_latex_1>X ^ { \\prime } = U X U ^ { \\dagger } + A </s_latex_1><s_latex_2>w \\lparen - t \\rparen = - w \\lparen t \\rparen </s_latex_2><s_latex_3>\\Phi ^ { A } = g _ { B } ^ { A } \\Psi ^ { B } </s_latex_3><s_latex_4>X = \\xi ^ { i }  Z = X ^ { m } = 0 </s_latex_4><s_latex_5>V \\lparen x \\rparen = e ^ { - i q x } </s_latex_5><s_latex_6>\\omega ^ { a } \\equiv e ^ { a }</s_latex_6><s_latex_7>x ^ { i } = M ^ { i } _ { j } \\bar { x } ^ { j }</s_latex_7><s_latex_8>\\theta _ { i } : t \\rightarrow 1 - t </s_latex_8></s>\n",
            "Generated LaTeX for generated_template_477.jpg saved to generated_template_477.json\n",
            "<s><s><s><s_latex_1>z \\equiv \\gamma z  v \\equiv \\gamma ^ { - 1 } v </s_latex_1><s_latex_2>F = \\psi \\gamma _ { 2 1 } \\tilde { \\psi } </s_latex_2><s_latex_3>\\nabla _ { \\chi } \\chi = 0 </s_latex_3><s_latex_4>Q _ { B } \\vert \\psi \\rangle = 0 </s_latex_4><s_latex_5>A = g ^ { - 1 } d g + g ^ { - 1 } H g </s_latex_5><s_latex_6>E _ { 8 } \\supset G _ { 2 } \\times F _ { 4 } </s_latex_6><s_latex_7>\\ln \\omega _ { \\alpha } = \\ln \\omega _ { \\beta } </s_latex_7><s_latex_8>\\bar { \\chi } U ^ { \\dag } Y U \\chi</s_latex_8></s>\n",
            "Generated LaTeX for generated_template_487.jpg saved to generated_template_487.json\n",
            "<s><s><s><s_latex_1>\\Pi _ { \\mu } = \\frac { 1 } { R } l _ { \\mu 4 }</s_latex_1><s_latex_2>\\delta A = \\lbrack 0 + \\Delta  V \\rbrack </s_latex_2><s_latex_3>\\vec { \\partial } ^ { 2 } \\phi _ { 9 } = 0 </s_latex_3><s_latex_4>\\Gamma \\rightarrow \\Gamma + \\Omega </s_latex_4><s_latex_5>H \\equiv - \\partial _ { t } ^ { 2 } + 2 H </s_latex_5><s_latex_6>\\ddot { H } = \\frac { 1 } { 2 } \\pi ^ { 2 } + L</s_latex_6><s_latex_7>\\delta p = v _ { s } ^ { 2 } \\delta \\rho </s_latex_7><s_latex_8>d P ^ { \\mu } = p _ { \\sigma } ^ { \\mu } d \\tau </s_latex_8></s>\n",
            "Generated LaTeX for generated_template_49.jpg saved to generated_template_49.json\n",
            "<s><s><s><s_latex_1>\\frac { i \\lparen 1 - E ^ { 2 } \\rparen } { F }</s_latex_1><s_latex_2>\\Delta = C ^ { 2 } - \\frac { 1 } { 2 }</s_latex_2><s_latex_3>\\dot { \\varphi } = \\partial _ { x } \\varphi</s_latex_3><s_latex_4>H = \\sum _ { k } \\epsilon _ { k } m _ { k } </s_latex_4><s_latex_5>t \\sim v ^ { - k - k _ { \\alpha + 1 } } </s_latex_5><s_latex_6>\\frac { 4 } { g ^ { 2 } } \\geq v ^ { 2 } </s_latex_6><s_latex_7>T \\rightarrow \\frac { T } { T } </s_latex_7><s_latex_8>a \\rightarrow U _ { 0 a \\circ } U ^ { - 1 } </s_latex_8></s>\n",
            "Generated LaTeX for generated_template_498.jpg saved to generated_template_498.json\n",
            "<s><s><s><s_latex_1>\\partial _ { \\alpha \\beta } P _ { A \\alpha \\beta } = 0 </s_latex_1><s_latex_2>L _ { m } = - \\int d ^ { 4 } \\theta X K </s_latex_2><s_latex_3>\\lparen \\rho  \\rparen : \\Xi = \\tau A</s_latex_3><s_latex_4>\\partial _ { i } g = i A _ { i } \\ast g </s_latex_4><s_latex_5>k = \\sqrt { - a ^ { n } a _ { n } }</s_latex_5><s_latex_6>\\sigma _ { l } \\lparen T \\rparen = T ^ { l }</s_latex_6><s_latex_7>T \\subset S o l v</s_latex_7><s_latex_8>G _ { \\zeta } \\lparen g \\rparen =</s_latex_8></s>\n",
            "Generated LaTeX for generated_template_502.jpg saved to generated_template_502.json\n",
            "<s><s><s><s_latex_1>t \\rightarrow e ^ { 2 \\pi i / n } t </s_latex_1><s_latex_2>V \\lparen \\psi  \\phi \\rparen = i \\alpha </s_latex_2><s_latex_3>\\frac { \\pi } { \\pi + 3 N } p \\lt 1 </s_latex_3><s_latex_4>R ^ { 1 0 } = R ^ { p + 1 } \\times R ^ { 9 - p } </s_latex_4><s_latex_5>S = \\frac { A } { \\Delta G } \\hbar </s_latex_5><s_latex_6>\\chi ^ { a _ { 1 } } = \\xi ^ { a _ { 1 } } </s_latex_6><s_latex_7>\\Phi = \\Phi _ { 0 } + \\tilde { \\Phi } </s_latex_7><s_latex_8>F _ { L } ^ { 3 } = - \\frac { 1 } { g } \\omega </s_latex_8></s>\n",
            "Generated LaTeX for generated_template_508.jpg saved to generated_template_508.json\n",
            "<s><s><s><s_latex_1>\\frac { p \\rho } { p _ { \\rho } }</s_latex_1><s_latex_2>z = \\frac { \\omega \\tau } { 2 }</s_latex_2><s_latex_3>\\psi = \\psi _ { \\alpha } e ^ { \\alpha } </s_latex_3><s_latex_4>\\partial _ { \\alpha } P _ { A \\alpha \\beta } = 0 </s_latex_4><s_latex_5>\\frac { d } { d \\phi } B = - 2 \\mu \\bar { A }</s_latex_5><s_latex_6>S = - N \\ln N </s_latex_6><s_latex_7>H = \\sum _ { k } \\epsilon _ { k } n _ { k } </s_latex_7><s_latex_8>q = 1 / \\sqrt { f _ { H } } </s_latex_8></s>\n",
            "Generated LaTeX for generated_template_512.jpg saved to generated_template_512.json\n",
            "<s><s><s><s_latex_1>\\partial M = \\Omega ^ { T } M \\Omega - - \\psi </s_latex_1><s_latex_2>\\phi _ { t } - \\phi _ { x x } = - \\sin \\phi _ { x }</s_latex_2><s_latex_3>\\ell</s_latex_3><s_latex_4>s \\Gamma \\lbrack a  \\theta \\rbrack = 0 </s_latex_4><s_latex_5>\\Gamma = \\Sigma + O \\lparen \\hbar \\rparen </s_latex_5><s_latex_6>q \\tilde { q } = 2 \\pi p  p \\in Z </s_latex_6><s_latex_7>S _ { m a t e r } \\leq \\pi E h </s_latex_7><s_latex_8>\\rho ^ { 2 } = \\frac { G ^ { 2 } } { g } </s_latex_8></s>\n",
            "Generated LaTeX for generated_template_519.jpg saved to generated_template_519.json\n",
            "<s><s><s><s_latex_1>\\Delta _ { a 0 } = 1  \\Lambda _ { b 0 } = 0 </s_latex_1><s_latex_2>X ^ { i } = \\xi ^ { i }  Z = X ^ { m } = 0 </s_latex_2><s_latex_3>\\Psi : T \\rightarrow - \\frac { 1 } { 2 T } </s_latex_3><s_latex_4>\\lambda = \\Gamma / J</</s_latex_4><s_latex_5>< -</s_latex_5><s_latex_6>\\partial _ { t } \\rho + \\partial _ { x } j = 0</s_latex_6><s_latex_7>r \\rightarrow - \\frac { 1 } { \\tau } </s_latex_7><s_latex_8>\\partial _ { \\mathrm { a } }</s_latex_8></s>\n",
            "Generated LaTeX for generated_template_525.jpg saved to generated_template_525.json\n",
            "<s><s><s><s_latex_1>D \\chi = \\prod _ { n } d c ^ { n } </s_latex_1><s_latex_2>\\tilde { A } = A ^ { \\dagger } </s_latex_2><s_latex_3>X ^ { \\prime } = U X U ^ { \\dagger } + A </s_latex_3><s_latex_4>t \\rightarrow e ^ { 2 \\pi i / n t } t </s_latex_4><s_latex_5>t \\rightarrow e ^ { 2 \\pi i / n t } </s_latex_5><s_latex_6>g _ { p _ { 1 } } = \\int d t d \\theta d \\phi L _ { B }</s_latex_6><s_latex_7>\\pi _ { 1 } \\lparen C P ^ { n } \\rparen = 0 </s_latex_7><s_latex_8>\\partial _ { - } \\psi ^ { - A } = 0</s_latex_8></s>\n",
            "Generated LaTeX for generated_template_528.jpg saved to generated_template_528.json\n",
            "<s><s><s><s_latex_1>W _ { \\mu } S = 0 </s_latex_1><s_latex_2>\\tilde { \\pi } ^ { \\dagger } = - i \\sigma \\xi </s_latex_2><s_latex_3>f ^ { + } = e ^ { - } f _ { - } ^ { + } </s_latex_3><s_latex_4>d F + \\beta \\ast F - F \\ast \\beta = 0 </s_latex_4><s_latex_5>\\chi ^ { a _ { 1 } } = \\xi ^ { a _ { 1 } } </s_latex_5><s_latex_6>\\alpha  \\beta  \\ldots \\in \\lbrace 0  1 \\rbrace</s_latex_6><s_latex_7>\\tan</s_latex_7><s_latex_8>\\Xi ^ { \\dagger } M \\Xi = \\bar { H } </s_latex_8></s>\n",
            "Generated LaTeX for generated_template_540.jpg saved to generated_template_540.json\n",
            "<s><s><s><s_latex_1>a = \\frac { D - 4 - 2 p } { \\sqrt { D - 2 } } </s_latex_1><s_latex_2>\\delta _ { v } u ^ { a } = D v ^ { a } </s_latex_2><s_latex_3>\\lparen \\rho  \\rparen : \\Xi \\longrightarrow A</s_latex_3><s_latex_4>M _ { a b } M _ { c b } = \\delta _ { a c } </s_latex_4><s_latex_5>S = S _ { 0 } + \\int \\mu F ^ { 1 } + \\int \\nu </s_latex_5><s_latex_6>F _ { i j } = \\epsilon _ { i j k } D _ { k } \\phi</s_latex_6><s_latex_7> c _ { 1 } \\vert _ { y = 0 } = 0 </s_latex_7><s_latex_8>N = 4 \\sum _ { n }</s_latex_8></s>\n",
            "Generated LaTeX for generated_template_544.jpg saved to generated_template_544.json\n",
            "<s><s><s><s_latex_1>\\delta m ^ { 2 } = n _ { \\mathrm { M } } d</s_latex_1><s_latex_2>\\alpha = \\frac { 1 - \\sqrt { \\tau } } { \\gamma } </s_latex_2><s_latex_3>f \\lparen - 2 p \\rparen</s_latex_3><s_latex_4>K = \\bar { \\Phi } \\Phi + \\bar { X } X </s_latex_4><s_latex_5>f \\lparen - \\beta p \\rparen</s_latex_5><s_latex_6>p = \\int _ { 0 } ^ { r } d r f ^ { 1 / 2 } </s_latex_6><s_latex_7>\\pi _ { 2 } \\lparen S ^ { 2 } \\rparen = Z </s_latex_7><s_latex_8>p = - \\frac { Q ^ { \\ast 2 } } { 2 M } </s_latex_8></s>\n",
            "Generated LaTeX for generated_template_545.jpg saved to generated_template_545.json\n",
            "<s><s><s><s_latex_1>L _ { n } = \\oplus _ { n } L _ { n } ^ { n }</s_latex_1><s_latex_2>M = R ^ { 3 } \\times S ^ { 1 } \\times R ^ { 4 }</s_latex_2><s_latex_3>\\bar { T } = T ^ { \\dagger } </s_latex_3><s_latex_4>k _ { 1 } + k _ { 2 } = k _ { 3 } + k _ { 4 } </s_latex_4><s_latex_5>\\partial _ { \\mu } F ^ { \\mu \\nu } = n ^ { \\nu } B</s_latex_5><s_latex_6>s _ { a } \\omega ^ { \\Delta } = 0 </s_latex_6><s_latex_7>\\partial _ { t } \\rho + \\partial _ { x } j = 0</s_latex_7><s_latex_8>\\dot { \\rho } = - 3 \\gamma H \\rho </s_latex_8></s>\n",
            "Generated LaTeX for generated_template_547.jpg saved to generated_template_547.json\n",
            "<s><s><s><s_latex_1>A U - i B V - i B \\neq 0 </s_latex_1><s_latex_2>F _ { i j } \\cdot E _ { i } = 0 </s_latex_2><s_latex_3>f ^ { + } = e ^ { - } f _ { - } ^ { + } </s_latex_3><s_latex_4>c = \\frac { 2 } { \\gamma _ { 0 } m _ { \\pi } } \\ll 1 </s_latex_4><s_latex_5>\\frac { d } { d \\phi } B = - 2 \\mu \\bar { A }</s_latex_5><s_latex_6>M _ { J } \\cdot c ^ { J } = d ^ { J }</s_latex_6><s_latex_7>q A + r F _ { i } = C _ { i }  i \\equiv 1     n</s_latex_7><s_latex_8>N t _ { 1 1 } \\equiv \\mathrm { k m o d } N </s_latex_8></s>\n",
            "Generated LaTeX for generated_template_565.jpg saved to generated_template_565.json\n",
            "<s><s><s><s_latex_1>\\bar { \\chi } U ^ { \\dag }</s_latex_1><s_latex_2>c _ { 0 } ^ { 2 } + \\vec { c } ^ { 2 } = 1</s_latex_2><s_latex_3>I _ { l } \\lparen I _ { n } \\rparen = S </s_latex_3><s_latex_4>A = P _ { H } \\lparen g ^ { - 1 } d g \\rparen </s_latex_4><s_latex_5>b - 2 a = 3  \\lambda = \\frac { 3 } { 2 } </s_latex_5><s_latex_6>\\Xi ^ { \\dagger } H \\Xi = \\bar { H } </s_latex_6><s_latex_7>T \\rightarrow \\frac { 2 } { r } </s_latex_7><s_latex_8>\\xi ^ { \\lbrace a \\ast } \\lparen x \\rparen = 0 </s_latex_8></s>\n",
            "Generated LaTeX for generated_template_575.jpg saved to generated_template_575.json\n",
            "<s><s><s><s_latex_1>\\xi \\equiv \\frac { \\delta \\rho } { \\rho + p } </s_latex_1><s_latex_2>T = g ^ { - 1 } P g </s_latex_2><s_latex_3>S = \\int d ^ { 2 } x L ^ { \\mathrm { a b t m } }</s_latex_3><s_latex_4>\\exp i \\pi \\kappa = \\zeta</s_latex_4><s_latex_5>\\alpha  \\beta  \\ldots \\in \\lbrace 0  1 \\rbrace</s_latex_5><s_latex_6>d \\Delta = q \\Delta d g \\Delta = q \\Delta g</s_latex_6><s_latex_7>T ^ { + } \\Phi T = \\Phi </s_latex_7><s_latex_8>a</s_latex_8></s>\n",
            "Generated LaTeX for generated_template_579.jpg saved to generated_template_579.json\n",
            "<s><s><s><s_latex_1>A = q + p \\lparen i + r \\rparen j + s \\rparen k </s_latex_1><s_latex_2>f \\lparen - 2 p \\rparen</s_latex_2><s_latex_3>\\nu _ { \\nu } F \\wedge F = 0</s_latex_3><s_latex_4>g _ { \\alpha } = \\phi \\lparen g _ { M S } \\rparen</s_latex_4><s_latex_5>\\tau \\rightarrow \\tau + 1</s_latex_5><s_latex_6>0 _ { a } \\rightarrow 0 _ { b } \\times 0 _ { c } </s_latex_6><s_latex_7>S _ { m a x } \\simeq S _ { B H } </s_latex_7><s_latex_8>\\Pi _ { \\mu } = \\frac { 1 } { R } l _ { \\mu 4 }</s_latex_8></s>\n",
            "Generated LaTeX for generated_template_58.jpg saved to generated_template_58.json\n",
            "<s><s><s><s_latex_1>\\sin \\lambda = - \\frac { i \\rho } { 2 \\zeta } </s_latex_1><s_latex_2>\\nabla _ { a } = \\partial _ { a } + \\sigma _ { a }</s_latex_2><s_latex_3>e ^ { - \\Lambda } = i \\langle \\bar { w }  w \\rangle</s_latex_3><s_latex_4>\\lbrack P  Q \\rbrack = \\mathrm { i } \\hbar 1 </s_latex_4><s_latex_5>\\beta = \\frac { K + 2 } { K + 1 } \\beta _ { 0 } </s_latex_5><s_latex_6>S = - \\frac { T } { 2 }</s_latex_6><s_latex_7>T = \\frac { t } { \\alpha l } \\Delta \\sigma = 1 </s_latex_7><s_latex_8>\\exp i \\pi \\kappa = \\zeta</s_latex_8></s>\n",
            "Generated LaTeX for generated_template_581.jpg saved to generated_template_581.json\n",
            "<s><s><s><s_latex_1>x = R \\bar { x }  y = R ^ { \\alpha } \\bar { y } </s_latex_1><s_latex_2>d E _ { D \\Omega _ { i  j } \\eta _ { i  j } } = 0 </s_latex_2><s_latex_3>A _ { a b } = N _ { a b } ^ { i } </s_latex_3><s_latex_4>H \\lparen \\eta _ { 0 } \\rparen = \\Lambda </s_latex_4><s_latex_5>\\Omega = - \\Delta \\dot { v } = - \\Delta V / v </s_latex_5><s_latex_6>\\chi \\equiv \\partial ^ { j } A ^ { j } = 0 </s_latex_6><s_latex_7>\\theta _ { + } = \\theta _ { - } = \\theta </s_latex_7><s_latex_8>c = \\frac { 2 } { r _ { 0 } m _ { W } } \\ll 1 </s_latex_8></s>\n",
            "Generated LaTeX for generated_template_582.jpg saved to generated_template_582.json\n",
            "<s><s><s><s_latex_1>\\Delta A = - \\frac { 2 8 } { 3 } \\lambda _ { 1 } </s_latex_1><s_latex_2>\\bar { A } _ { \\mu \\nu } = A _ { \\mu } </s_latex_2><s_latex_3>M _ { s } \\sim 1 0 ^ { 1 4 } \\mathrm { G e V }</s_latex_3><s_latex_4>s _ { \\pm } \\approx \\pm \\sqrt { 2 \\kappa x }</s_latex_4><s_latex_5>\\delta A = \\lbrack D + A  V \\rbrack </s_latex_5><s_latex_6>m _ { 3 / 2 } = \\frac { 1 } { 2 \\rho } </s_latex_6><s_latex_7>S = - T</s_latex_7><s_latex_8>L = L _ { + } \\oplus L _ { - }</s_latex_8></s>\n",
            "Generated LaTeX for generated_template_602.jpg saved to generated_template_602.json\n",
            "<s><s><s><s_latex_1>d \\Omega = 0 </s_latex_1><s_latex_2>e _ { a } = \\lparen 1 / 2 \\rparen \\ w _ { a } </s_latex_2><s_latex_3>w \\lparen - t \\rparen = - w \\lparen t \\rparen</s_latex_3><s_latex_4>m _ { \\sigma } \\lparen p \\rparen</s_latex_4><s_latex_5>\\alpha + 2 \\beta + \\gamma = 2</s_latex_5><s_latex_6>E ^ { 2 } = 4 + 4 \\omega \\lparen N + 2 \\rparen </s_latex_6><s_latex_7>S = \\sum _ { k + 1 } ^ { p } X _ { i }</s_latex_7><s_latex_8>R ^ { 1 0 } = R ^ { p + 1 } \\times R ^ { 9 - p } </s_latex_8></s>\n",
            "Generated LaTeX for generated_template_609.jpg saved to generated_template_609.json\n",
            "<s><s><s><s_latex_1>x ^ { i } = M ^ { i } _ { j } \\bar { x } ^ { j }</s_latex_1><s_latex_2>\\gamma \\equiv \\frac { e ^ { 2 } N } { 2 T } </s_latex_2><s_latex_3>\\sum _ { i = 1 } ^ { n } \\lambda _ { i } = 0 </s_latex_3><s_latex_4>A ^ { \\mu } \\rightarrow - \\tilde { A } ^ { \\mu }</s_latex_4><s_latex_5>\\Gamma \\epsilon = \\epsilon </s_latex_5><s_latex_6>F = \\frac { Q } { 2 } d t \\wedge d r</s_latex_6><s_latex_7>S = S _ { b u n k } + S _ { b r a n e } </s_latex_7><s_latex_8>\\hat { H } = \\frac { 1 } { 2 } \\pi ^ { 2 } + L</s_latex_8></s>\n",
            "Generated LaTeX for generated_template_61.jpg saved to generated_template_61.json\n",
            "<s><s><s><s_latex_1>S = - N \\ln N </s_latex_1><s_latex_2>e _ { 2 } \\sigma e _ { 2 } ^ { - 1 } = - \\sigma</s_latex_2><s_latex_3>\\mathrm { d } g H _ { m } = \\deg \\tilde { \\Pi } _ { m } = m</s_latex_3><s_latex_4>\\Lambda = \\Lambda + D \\Omega</s_latex_4><s_latex_5>A = \\int d ^ { 2 } \\sigma \\eta ^ { 1 / 2 }</s_latex_5><s_latex_6>\\delta g = g i \\lambda - i \\bar { \\lambda } g</s_latex_6><s_latex_7>\\psi \\rightarrow e ^ { i \\theta / 2 } \\psi </s_latex_7><s_latex_8>\\pi _ { 2 n \\nu } ^ { \\lparen 1 \\rparen } =</s_latex_8></s>\n",
            "Generated LaTeX for generated_template_616.jpg saved to generated_template_616.json\n",
            "<s><s><s><s_latex_1>L _ { n } = \\oplus _ { h } L _ { n } ^ { h }</s_latex_1><s_latex_2>\\gamma _ { \\lambda } = \\gamma _ { c } </s_latex_2><s_latex_3>H _ { s t r } = H _ { l } \\otimes H _ { R } </s_latex_3><s_latex_4>0 \\to M \\to \\Gamma _ { 8 } \\to \\Phi \\to 0 </s_latex_4><s_latex_5>\\bar { x } M + \\bar { D } D = Q U</s_latex_5><s_latex_6>Q = \\alpha / \\sqrt { 1 - \\alpha ^ { 2 } } </s_latex_6><s_latex_7>0 \\lt T \\lt \\frac { \\nu _ { 2 } } { \\sqrt { 2 } }</s_latex_7><s_latex_8>L _ { R } = \\partial \\bar { \\partial } Z</s_latex_8></s>\n",
            "Generated LaTeX for generated_template_642.jpg saved to generated_template_642.json\n",
            "<s><s><s><s_latex_1>f \\rightarrow f + \\frac { 2 } { \\gamma } </s_latex_1><s_latex_2>F = - \\sqrt { a } \\phi ^ { \\ast } \\sigma </s_latex_2><s_latex_3>\\langle V  V \\rangle = 0 \\Rightarrow V = 0 </s_latex_3><s_latex_4>V _ { \\mathrm { m } } = V</s_latex_4><s_latex_5>H = 0  P _ { \\phi } = 0 </s_latex_5><s_latex_6>X ^ { \\prime } = U X U ^ { \\dagger } + A </s_latex_6><s_latex_7>a \\pi R + c _ { 0 } + c _ { \\pi } = m \\pi </s_latex_7><s_latex_8>\\delta M = \\Omega ^ { T } M \\Omega - M </s_latex_8></s>\n",
            "Generated LaTeX for generated_template_643.jpg saved to generated_template_643.json\n",
            "<s><s><s><s_latex_1>L = 2 P - 2 \\Phi </s_latex_1><s_latex_2>L _ { m a s s s } = H _ { 0 } ^ { T } M H _ { 0 } </s_latex_2><s_latex_3>S = S _ { b r a n e } </s_latex_3><s_latex_4>S = \\int d ^ { 2 } x L ^ { \\mathrm { a b t m } }</s_latex_4><s_latex_5>n _ { 2 } = 2 q  q = 0  1    </s_latex_5><s_latex_6>q F + \\beta \\ast F - F \\ast \\beta = 0 </s_latex_6><s_latex_7>W _ { 0 } = D \\cdot Z ^ { s t }</s_latex_7><s_latex_8>L _ { m } = - \\int d ^ { 4 } \\theta X K </s_latex_8></s>\n",
            "Generated LaTeX for generated_template_649.jpg saved to generated_template_649.json\n",
            "<s><s><s><s_latex_1>\\Phi = \\Phi _ { 0 } + \\Phi </s_latex_1><s_latex_2>\\tilde { S } _ { 1 } = \\mathrm { i } S _ { 1 } </s_latex_2><s_latex_3>\\frac { 3 } { 3 N - M } = - \\frac { 1 } { 1 2 } </s_latex_3><s_latex_4>\\bar { M } + \\bar { D } \\Omega = Q Q</s_latex_4><s_latex_5>a c = q c a b d = q d b</s_latex_5><s_latex_6>A = \\alpha \\phi  B = \\phi  A = - 2 </s_latex_6><s_latex_7>g = k \\cdot a \\cdot n \\in K \\cdot A \\cdot N </s_latex_7><s_latex_8>I _ { 1 } + I _ { 3 } = I _ { 2 } + I _ { R } </s_latex_8></s>\n",
            "Generated LaTeX for generated_template_673.jpg saved to generated_template_673.json\n",
            "<s><s><s><s_latex_1>\\tilde { \\Pi } _ { o } = 1 + \\Pi _ { o } = 0</s_latex_1><s_latex_2>F _ { + 1 2 3 } = \\mu  \\lparen \\mu \\neq 0 \\rparen</s_latex_2><s_latex_3>\\rho _ { 0 } \\sim \\frac { \\nu } { m } \\mu \\ll \\mu </s_latex_3><s_latex_4>\\sum _ { i = 1 } ^ { n } \\lambda _ { i } = 0 </s_latex_4><s_latex_5>d _ { n e w } \\sim \\xi ^ { N } </s_latex_5><s_latex_6>\\alpha _ { 2 } = \\sqrt { 2 } </s_latex_6><s_latex_7>K = i \\lparen V  \\bar { V } \\rparen </s_latex_7><s_latex_8>E _ { C } R = \\frac { 3 } { 2 \\pi } S \\Delta </s_latex_8></s>\n",
            "Generated LaTeX for generated_template_684.jpg saved to generated_template_684.json\n",
            "<s><s><s><s_latex_1>E ^ { 2 } + 4 M \\lt 0  M \\gt 0  N \\gt 0 </s_latex_1><s_latex_2>H = \\sum _ { k } \\epsilon _ { k } n _ { k } </s_latex_2><s_latex_3>\\lt T _ { \\mu \\nu } \\gt _ { f i n } ^ { \\nu n } =</s_latex_3><s_latex_4>S _ { n r } ^ { \\lparen k \\rparen } = 0  r \\gt n</s_latex_4><s_latex_5>x \\cdot X = 0  X \\cdot P = 0  P \\cdot P = 0</s_latex_5><s_latex_6>m _ { 3 / 2 } = \\frac { 1 } { 2 \\rho } </s_latex_6><s_latex_7>C _ { i } = \\sum _ { j } \\Theta _ { i j } </s_latex_7><s_latex_8>\\sigma ^ { \\mu } D _ { \\mu } \\psi = 0</s_latex_8></s>\n",
            "Generated LaTeX for generated_template_694.jpg saved to generated_template_694.json\n",
            "<s><s><s><s_latex_1>\\lambda ^ { \\ast } \\omega = K </s_latex_1><s_latex_2>A _ { a b } ^ { i } = N _ { a b } ^ { i } </s_latex_2><s_latex_3>\\frac { \\sigma } { 3 M } = - \\frac { 1 } { \\sigma } </s_latex_3><s_latex_4>\\lparen \\bar { S }  \\bar { S } \\rparen = 0 </s_latex_4><s_latex_5>X \\cdot X = 0  X \\cdot P = 0  P \\cdot P = 0 </s_latex_5><s_latex_6>W _ { \\mu } \\cdot R = 0 </s_latex_6><s_latex_7>t ^ { I } \\equiv \\text { \\ o } x ^ { I } X ^ { J }</s_latex_7><s_latex_8>\\frac { \\pi } { \\pi + g N } p \\lt 1 </s_latex_8></s>\n",
            "Generated LaTeX for generated_template_704.jpg saved to generated_template_704.json\n",
            "<s><s><s><s_latex_1>R _ { 1 1 } = g _ { s } ^ { \\frac { 2 } } </s_latex_1><s_latex_2>w _ { I } = P - \\rho </s_latex_2><s_latex_3>R _ { 1 1 } = g _ { s } ^ { \\frac { 2 } { 3 } } </s_latex_3><s_latex_4>\\nabla ^ { \\ast } g _ { 0 0 } = 8 \\pi G T _ { 0 0 } </s_latex_4><s_latex_5>L ^ { f } = \\lbrace \\nu  e \\rbrace </s_latex_5><s_latex_6>\\Pi _ { l } \\lparen \\Pi _ { n } \\rparen = S </s_latex_6><s_latex_7>H _ { L C } =</s_latex_7><s_latex_8>\\bar { a } _ { k } + b _ { l } = - 1 ; l \\lt k </s_latex_8></s>\n",
            "Generated LaTeX for generated_template_708.jpg saved to generated_template_708.json\n",
            "<s><s><s><s_latex_1>\\partial _ { i } g = i A _ { i } \\ast g </s_latex_1><s_latex_2>0 \\lt T \\leq \\frac { 1 \\eta } { 2 }</s_latex_2><s_latex_3>\\Delta M = \\lparen E + \\alpha F \\rparen / c ^ { 2 } </s_latex_3><s_latex_4>L ^ { f } = \\lbrace \\nu  e \\rbrace </s_latex_4><s_latex_5>H = \\sum _ { k } \\epsilon _ { k } n _ { k } </s_latex_5><s_latex_6>F = \\mathrm { c o n s t a n t } </s_latex_6><s_latex_7>\\vartheta = L - \\Theta _ { \\rho } s ^ { \\rho } </s_latex_7><s_latex_8>\\frac { 1 } { R } F ^ { i j } F _ { j 0 } </s_latex_8></s>\n",
            "Generated LaTeX for generated_template_724.jpg saved to generated_template_724.json\n",
            "<s><s><s><s_latex_1>i v _ { \\circ } d x ^ { \\circ }</s_latex_1><s_latex_2>g _ { 0 } = \\phi \\lparen g _ { M S } \\rparen</s_latex_2><s_latex_3>c _ { 0 } ^ { 2 } + \\vec { \\rho } ^ { 2 } = 1</s_latex_3><s_latex_4>\\ddot { \\zeta } \\subset S o l v</s_latex_4><s_latex_5>F \\equiv e ^ { - i F m \\Delta t } </s_latex_5><s_latex_6>1 0 + 1 + 1 0 + 4 5 + 2 1 0 + 2 5 2 = 5 2 8 </s_latex_6><s_latex_7>\\hat { R } _ { m n } = G _ { m n } b = 0 </s_latex_7><s_latex_8>\\Delta A = - \\frac { 2 8 } { 3 } \\lambda _ { 1 } </s_latex_8></s>\n",
            "Generated LaTeX for generated_template_73.jpg saved to generated_template_73.json\n",
            "<s><s><s><s_latex_1>\\lbrack U  B \\rbrack \\neq 0 </s_latex_1><s_latex_2>E = \\pm \\sqrt { \\vec { p } ^ { 2 } + m ^ { 2 } } </s_latex_2><s_latex_3>M = m + \\frac { 3 m } { e } q _ { m } \\sin \\beta </s_latex_3><s_latex_4>\\ddot { h } = - \\nabla _ { h } \\Phi</s_latex_4><s_latex_5>F _ { p + 2 } = d A _ { p + 1 } + \\ldots </s_latex_5><s_latex_6>A ^ { \\prime } = W \\lparen \\Phi \\rparen </s_latex_6><s_latex_7>H _ { 1 } \\otimes H _ { 2 } </s_latex_7><s_latex_8>\\tilde { H } = \\frac { 1 } { 2 } \\pi ^ { 2 } + L</s_latex_8></s>\n",
            "Generated LaTeX for generated_template_731.jpg saved to generated_template_731.json\n",
            "<s><s><s><s_latex_1>\\bar { \\partial } \\psi ^ { \\dag } + \\bar { \\psi } ^ { \\ast } 0</s_latex_1><s_latex_2>r = \\frac { \\sqrt { \\tau } } { \\beta } \\kappa </s_latex_2><s_latex_3>m v = p - \\mu \\times E</s_latex_3><s_latex_4>\\beta ^ { a b } = - z ^ { 3 } P ^ { a b } </s_latex_4><s_latex_5>\\xi ^ { 1 s } \\lparen x \\rparen = 0 </s_latex_5><s_latex_6>\\Pi _ { \\mu } = \\frac { 1 } { R } l _ { \\mu 4 }</s_latex_6><s_latex_7>\\phi _ { t t } - \\phi _ { x x } = - \\sin \\phi</s_latex_7><s_latex_8>\\lt T _ { \\mu \\nu \\nu } \\gt _ { f \\nu n } ^ { i n } =</s_latex_8></s>\n",
            "Generated LaTeX for generated_template_755.jpg saved to generated_template_755.json\n",
            "<s><s><s><s_latex_1>M _ { a b } M _ { c b } = \\delta _ { a c } </s_latex_1><s_latex_2>\\beta w = \\frac { \\beta H } { n }</s_latex_2><s_latex_3>d \\Sigma ^ { k } = 0 </s_latex_3><s_latex_4>c = \\frac { 2 } { r \\phi m _ { W } } \\ll 1 </s_latex_4><s_latex_5>I _ { 1 } + I _ { 3 } = I _ { 2 } + I _ { R } </s_latex_5><s_latex_6>x ^ { - } \\simeq x ^ { - } + 2 \\pi R </s_latex_6><s_latex_7>\\nabla ^ { \\mu } \\pi _ { \\nu \\nu } = 0  \\pi = 0 </s_latex_7><s_latex_8>\\frac { i \\lparen 1 - E ^ { 2 } \\rparen } { F }</s_latex_8></s>\n",
            "Generated LaTeX for generated_template_764.jpg saved to generated_template_764.json\n",
            "<s><s><s><s_latex_1>\\gamma \\equiv \\frac { e ^ { 2 } N } { 2 T } </s_latex_1><s_latex_2>\\partial _ { i } g = i A _ { i } \\ast g </s_latex_2><s_latex_3>\\psi \\rightarrow \\psi</s_latex_3><s_latex_4>N \\sim \\frac { 1 } { \\sqrt { 1 - e ^ { 2 } } } </s_latex_4><s_latex_5>A = \\int d ^ { 2 } \\sigma \\eta ^ { 1 / 2 }</s_latex_5><s_latex_6>\\sigma \\times _ { B } C = C </s_latex_6><s_latex_7>\\Pi \\lparen 1 _ { n } \\rparen = S </s_latex_7><s_latex_8>S _ { f } ^ { \\lparen 2 \\rparen } \\cdot \\psi = 0 </s_latex_8></s>\n",
            "Generated LaTeX for generated_template_773.jpg saved to generated_template_773.json\n",
            "<s><s><s><s_latex_1>W = W _ { o } + W _ { A B } A B </s_latex_1><s_latex_2>A = \\int d ^ { 2 } \\sigma \\eta ^ { 1 / 2 }</s_latex_2><s_latex_3>\\tilde { v } \\ll \\epsilon \\lt \\frac { 1 } { a } </s_latex_3><s_latex_4>C ^ { \\prime } = U ^ { T } C U </s_latex_4><s_latex_5>d \\Omega = 0 </s_latex_5><s_latex_6>f = 1 + a l _ { p } ^ { 2 } k ^ { 2 } </s_latex_6><s_latex_7>\\lparen X _ { 1 }  X _ { 2 } \\rparen = \\theta </s_latex_7><s_latex_8>\\partial _ { t } \\rho + \\partial _ { x } j = 0</s_latex_8></s>\n",
            "Generated LaTeX for generated_template_776.jpg saved to generated_template_776.json\n",
            "<s><s><s><s_latex_1>V = \\exp \\lparen \\psi ^ { A } t _ { A } \\rparen</s_latex_1><s_latex_2>S _ { 0 } = g i \\lambda - i \\lambda 9</s_latex_2><s_latex_3>\\delta F \\lbrack h \\rbrack =</s_latex_3><s_latex_4>d = \\frac { 1 7 2 8 } { 7 } = 2 4 6  8 6 </s_latex_4><s_latex_5>T ^ { + } \\Phi T = \\Phi </s_latex_5><s_latex_6>F ^ { \\lparen 3 \\rparen } = d S + S \\wedge S </s_latex_6><s_latex_7>r _ { n 0 } = r _ { n e } + u _ { n } </s_latex_7><s_latex_8>a + b - v = 0  \\pm 1  \\pm 2  \\ldots</s_latex_8></s>\n",
            "Generated LaTeX for generated_template_777.jpg saved to generated_template_777.json\n",
            "<s><s><s><s_latex_1>B \\leq \\Delta ^ { \\mathrm { c o u n t } } = 0 </s_latex_1><s_latex_2>D ^ { i j } = \\psi \\gamma ^ { i j } \\psi</s_latex_2><s_latex_3>a _ { D } = \\frac { \\partial F } { \\partial a }</s_latex_3><s_latex_4>\\ddot { \\pi } ^ { \\dagger } = - i \\sigma \\xi </s_latex_4><s_latex_5>S = - N \\ln N </s_latex_5><s_latex_6>O _ { a } \\rightarrow O _ { b } \\times O _ { c } </s_latex_6><s_latex_7>\\partial _ { 0 } A _ { 0 } = 0 </s_latex_7><s_latex_8>A = \\rho ^ { - 1 } v ^ { \\dagger } d v </s_latex_8></s>\n",
            "Generated LaTeX for generated_template_79.jpg saved to generated_template_79.json\n",
            "<s><s><s><s_latex_1>\\lparen F ^ { 4 } G _ { A } \\rparen = 0 </s_latex_1><s_latex_2>\\lim _ { E \\to \\infty } V = \\infty </s_latex_2><s_latex_3>I = I _ { B } + I _ { \\partial B } + I _ { c t }</s_latex_3><s_latex_4>\\beta = 0  5 4 \\pm 0  1 0 </s_latex_4><s_latex_5>\\alpha = \\sqrt { \\frac { 1 + v } { 1 - v } } } </s_latex_5><s_latex_6>\\bar { \\chi } U ^ { \\dag } Y U \\chi</s_latex_6><s_latex_7>M + \\bar { D } D = \\bar { Q } Q</s_latex_7><s_latex_8>M = m + \\frac { 3 m } { e } q _ { m 0 } \\sin \\beta ;</s_latex_8></s>\n",
            "Generated LaTeX for generated_template_8.jpg saved to generated_template_8.json\n",
            "<s><s><s><s_latex_1>X \\equiv y + v  T \\equiv z + v _ { 2 } T</s_latex_1><s_latex_2>B _ { \\Sigma } \\int \\omega _ { D } ^ { 0 } = 0</s_latex_2><s_latex_3>\\chi \\ast _ { x } \\chi ^ { - 1 } = 1 </s_latex_3><s_latex_4>- C ^ { T } = C = \\beta C \\beta C ^ { 2 } = - 1</s_latex_4><s_latex_5>A = i Q \\frac { B } { A } \\sin \\chi \\psi d \\chi </s_latex_5><s_latex_6>\\sigma _ { l } \\lparen T \\rparen = T ^ { l }</s_latex_6><s_latex_7>a + b - q = 0  \\pm 1  \\pm 2  \\ldots</s_latex_7><s_latex_8>Q = \\dot { x } _ { i } \\psi _ { i } </s_latex_8></s>\n",
            "Generated LaTeX for generated_template_807.jpg saved to generated_template_807.json\n",
            "<s><s><s><s_latex_1>\\lambda _ { - } = \\sigma \\circ \\lambda _ { + } </s_latex_1><s_latex_2>L ^ { \\dagger } = \\lbrace \\nu  e \\rbrace </s_latex_2><s_latex_3>A ^ { \\prime } = W \\lparen \\Phi \\rparen </s_latex_3><s_latex_4>\\lparen d - \\delta + m \\rparen \\Phi = 0 </s_latex_4><s_latex_5>\\lparen \\bar { S }  \\bar { S } \\rparen = 0 </s_latex_5><s_latex_6>Q = \\dot { x } _ { i } \\psi _ { i } </s_latex_6><s_latex_7>\\ddot { \\varphi } = \\dot { Q } + \\@cdots = 0</s_latex_7><s_latex_8>1  \\lparen m \\leq 1  2  \\ldots </s_latex_8></s>\n",
            "Generated LaTeX for generated_template_812.jpg saved to generated_template_812.json\n",
            "<s><s><s><s_latex_1>D _ { t } ^ { - 2 } \\Upsilon = \\Psi ^ { 2 } </s_latex_1><s_latex_2>F \\equiv e ^ { - i F m \\Delta t } </s_latex_2><s_latex_3>F _ { 1 2 } = \\frac { 1 } { R ^ { \\ast } L }</s_latex_3><s_latex_4>\\nabla ^ { A } h _ { A B } = 0  h = 0 </s_latex_4><s_latex_5>F ^ { \\dot { \\alpha } } \\dot { \\beta } _ { \\alpha } = 0 </s_latex_5><s_latex_6>Q A + \\mathrm { X } A \\star A = 0 </s_latex_6><s_latex_7>\\lbrace  \\rbrace : N \\times N \\longrightarrow N</s_latex_7><s_latex_8>\\Gamma \\epsilon = \\epsilon </s_latex_8></s>\n",
            "Generated LaTeX for generated_template_814.jpg saved to generated_template_814.json\n",
            "<s><s><s><s_latex_1>\\nu _ { 1 } = \\nu  \\nu _ { 2 } = \\nu </s_latex_1><s_latex_2>W _ { \\mathrm { t r e e } } = \\lambda M _ { 1 } </s_latex_2><s_latex_3>\\pi _ { 2 n L } ^ { \\lparen 1 \\rparen } =</s_latex_3><s_latex_4>A = P _ { H } \\lparen g ^ { - 1 } d g \\rparen </s_latex_4><s_latex_5>z \\equiv \\gamma z  v \\equiv \\gamma ^ { - 1 } v </s_latex_5><s_latex_6>A = \\alpha \\phi  B = \\phi  a = - 2 </s_latex_6><s_latex_7>2 r \\frac { \\partial _ { 0 } \\beta } { \\beta } = 0</s_latex_7><s_latex_8>\\lparen _ { q } d K = q ^ { - 2 } d K l _ { q } </s_latex_8></s>\n",
            "Generated LaTeX for generated_template_826.jpg saved to generated_template_826.json\n",
            "<s><s><s><s_latex_1>Q _ { B } \\vert \\Psi \\rangle = 0 </s_latex_1><s_latex_2>\\beta = \\sigma _ { n } \\int _ { M } E _ { 2 n } </s_latex_2><s_latex_3>H \\lparen \\eta _ { 0 } \\rparen = \\Lambda </s_latex_3><s_latex_4>f \\rightarrow f + \\frac { 2 } { \\gamma } </s_latex_4><s_latex_5>\\tilde { A } = A ^ { \\dagger } </s_latex_5><s_latex_6>d F + \\beta \\ast F - F \\ast \\beta = 0 </s_latex_6><s_latex_7>\\gamma = - 1  \\beta = \\frac { 2 \\pi } { k } </s_latex_7><s_latex_8>r _ { j } + r _ { - j }  j = 1  \\ldots  r </s_latex_8></s>\n",
            "Generated LaTeX for generated_template_831.jpg saved to generated_template_831.json\n",
            "<s><s><s><s_latex_1>d _ { \\mathrm { d \\space Z } \\Psi } \\sim \\xi ^ { \\ast 0 } </s_latex_1><s_latex_2>\\lbrack G _ { a }  \\gamma _ { b } \\rbrack = 0 </s_latex_2><s_latex_3>N = 4 \\sum _ { a } n _ { a } </s_latex_3><s_latex_4>C : 3 \\otimes \\bar { 3 } = 1 + 8</s_latex_4><s_latex_5>N \\sim \\frac { 1 } { \\sqrt { 1 - e ^ { 2 } } } </s_latex_5><s_latex_6>\\lbrace  \\rbrace : N \\times N \\longrightarrow N</s_latex_6><s_latex_7>\\vartheta \\rightarrow \\vartheta - \\alpha</s_latex_7><s_latex_8>\\delta S _ { C } = - \\int G _ { 1 0 } </s_latex_8></s>\n",
            "Generated LaTeX for generated_template_88.jpg saved to generated_template_88.json\n",
            "<s><s><s><s_latex_1>\\ddot { \\phi } \\equiv \\varphi - 3 \\alpha </s_latex_1><s_latex_2>E \\ge \\pm \\frac { v ^ { 2 } } { \\alpha } Q </s_latex_2><s_latex_3>\\nabla ^ { \\mu } \\pi _ { \\mu \\nu } = 0  \\pi = 0 </s_latex_3><s_latex_4>\\frac { \\partial \\rho } { \\partial L _ { x } } = 0</s_latex_4><s_latex_5>M = m + \\frac { 3 m } { e } q _ { m } \\sin \\beta ;</s_latex_5><s_latex_6>m _ { _ { J } } c R = \\frac { h } { 2 x }</s_latex_6><s_latex_7>= \\lparen n + \\frac { p } { 2 } \\rparen</s_latex_7><s_latex_8>\\pi \\cdot \\varepsilon = \\varepsilon </s_latex_8></s>\n",
            "Generated LaTeX for generated_template_93.jpg saved to generated_template_93.json\n"
          ]
        }
      ]
    },
    {
      "cell_type": "markdown",
      "source": [
        "## TED"
      ],
      "metadata": {
        "id": "CueOGBIzdnf_"
      }
    },
    {
      "cell_type": "code",
      "source": [
        "from donut import JSONParseEvaluator"
      ],
      "metadata": {
        "id": "zFVUIq77WZuW"
      },
      "execution_count": null,
      "outputs": []
    },
    {
      "cell_type": "code",
      "source": [
        "import os\n",
        "\n",
        "def TED_Evaluation(Json_GT_Path, Json_Predicted_Path):\n",
        "    all_scores = []\n",
        "    for x in [x for x in os.listdir(Json_GT_Path) if x.endswith('.json')]:\n",
        "        gt_file_path = os.path.join(Json_GT_Path, x)\n",
        "        pred_file_path = os.path.join(Json_Predicted_Path, x)\n",
        "\n",
        "        if os.path.exists(gt_file_path) and os.path.exists(pred_file_path):\n",
        "            with open(gt_file_path) as f1, open(pred_file_path) as f2:\n",
        "                data1 = json.load(f1)\n",
        "                data2 = json.load(f2)\n",
        "                evaluator = JSONParseEvaluator()\n",
        "                score = evaluator.cal_acc(data1, data2)\n",
        "                print(x, \":\", score)\n",
        "                all_scores.append(score)\n",
        "        else:\n",
        "            print(f\"File not found: {x}\")\n",
        "\n",
        "    if all_scores:\n",
        "        print(sum(all_scores))\n",
        "\n",
        "\n",
        "\n",
        "        print(len(all_scores))\n",
        "\n",
        "        print(\"Average Score: \", sum(all_scores) / len(all_scores))\n",
        "    else:\n",
        "        print(\"No scores calculated.\")\n"
      ],
      "metadata": {
        "id": "9EfC5gUUd4DH"
      },
      "execution_count": null,
      "outputs": []
    },
    {
      "cell_type": "code",
      "source": [
        "# with FW\n",
        "\n",
        "model_output_path = r\"E:\\Abdul_Muqtadir\\Thesis\\Dataset\\Test_Iamlatex2\\test\"\n",
        "GT_Json_Path = r\"E:\\Abdul_Muqtadir\\Thesis\\Dataset\\Test_Iamlatex2\\nougat_output\"\n",
        "\n",
        "TED_Evaluation(GT_Json_Path, model_output_path)"
      ],
      "metadata": {
        "colab": {
          "base_uri": "https://localhost:8080/"
        },
        "id": "QU7vZf-ld6iV",
        "outputId": "a2de3a84-50f7-4108-b1a2-96675c03ff2e"
      },
      "execution_count": null,
      "outputs": [
        {
          "output_type": "stream",
          "name": "stdout",
          "text": [
            "generated_template_106.json : 0.7621951219512195\n",
            "generated_template_129.json : 0.7723076923076924\n",
            "generated_template_131.json : 0.8731563421828908\n",
            "generated_template_155.json : 0.9240121580547113\n",
            "generated_template_157.json : 0.8283132530120482\n",
            "generated_template_158.json : 0.9366391184573003\n",
            "generated_template_16.json : 0.8906752411575563\n",
            "generated_template_162.json : 0.9475218658892128\n",
            "generated_template_169.json : 0.9251336898395722\n",
            "generated_template_17.json : 0.9267399267399268\n",
            "generated_template_174.json : 0.7611940298507462\n",
            "generated_template_179.json : 0.9317507418397626\n",
            "generated_template_188.json : 0.9186746987951807\n",
            "generated_template_221.json : 0.8511326860841424\n",
            "generated_template_236.json : 0.9598765432098766\n",
            "generated_template_238.json : 0.7752442996742671\n",
            "generated_template_243.json : 0.8756476683937824\n",
            "generated_template_244.json : 0.9129129129129129\n",
            "generated_template_25.json : 0.8691588785046729\n",
            "generated_template_26.json : 0.90625\n",
            "generated_template_267.json : 0.59375\n",
            "generated_template_268.json : 0.9379084967320261\n",
            "generated_template_269.json : 0.8938053097345133\n",
            "generated_template_28.json : 0.854368932038835\n",
            "generated_template_281.json : 0.9532163742690059\n",
            "generated_template_282.json : 0.8739495798319328\n",
            "generated_template_303.json : 0.9479768786127167\n",
            "generated_template_305.json : 0.8352601156069364\n",
            "generated_template_310.json : 0.9096774193548387\n",
            "generated_template_33.json : 0.9652996845425867\n",
            "generated_template_341.json : 0.9371428571428572\n",
            "generated_template_346.json : 0.9590643274853801\n",
            "generated_template_349.json : 0.9306930693069306\n",
            "generated_template_356.json : 0.9311475409836065\n",
            "generated_template_365.json : 0.9382716049382716\n",
            "generated_template_377.json : 0.8389830508474576\n",
            "generated_template_378.json : 0.9735294117647059\n",
            "generated_template_383.json : 0.9\n",
            "generated_template_389.json : 0.8961038961038961\n",
            "generated_template_394.json : 0.9103641456582633\n",
            "generated_template_395.json : 0.9269005847953217\n",
            "generated_template_40.json : 0.9113924050632911\n",
            "generated_template_403.json : 0.9238095238095239\n",
            "generated_template_409.json : 0.8333333333333334\n",
            "generated_template_412.json : 0.9012738853503185\n",
            "generated_template_418.json : 0.9461077844311377\n",
            "generated_template_422.json : 0.9467455621301775\n",
            "generated_template_428.json : 0.9288025889967637\n",
            "generated_template_43.json : 0.8693333333333333\n",
            "generated_template_438.json : 0.8235294117647058\n",
            "generated_template_44.json : 0.8606811145510835\n",
            "generated_template_477.json : 0.9217391304347826\n",
            "generated_template_487.json : 0.9186046511627907\n",
            "generated_template_49.json : 0.9267605633802817\n",
            "generated_template_498.json : 0.9441176470588235\n",
            "generated_template_502.json : 0.8825396825396825\n",
            "generated_template_508.json : 0.9166666666666666\n",
            "generated_template_512.json : 0.9072847682119205\n",
            "generated_template_519.json : 0.8344155844155844\n",
            "generated_template_525.json : 0.9035714285714286\n",
            "generated_template_528.json : 0.9006211180124224\n",
            "generated_template_540.json : 0.9446366782006921\n",
            "generated_template_544.json : 0.8668639053254438\n",
            "generated_template_545.json : 0.9365079365079365\n",
            "generated_template_547.json : 0.9707602339181287\n",
            "generated_template_565.json : 0.8303571428571428\n",
            "generated_template_575.json : 0.8990825688073394\n",
            "generated_template_579.json : 0.9479553903345725\n",
            "generated_template_58.json : 0.8481012658227848\n",
            "generated_template_581.json : 0.9504373177842566\n",
            "generated_template_582.json : 0.8698060941828255\n",
            "generated_template_602.json : 0.933993399339934\n",
            "generated_template_609.json : 0.9428571428571428\n",
            "generated_template_61.json : 0.9382022471910112\n",
            "generated_template_616.json : 0.9033232628398792\n",
            "generated_template_642.json : 0.9232954545454546\n",
            "generated_template_643.json : 0.9039735099337748\n",
            "generated_template_649.json : 0.8677419354838709\n",
            "generated_template_673.json : 0.887905604719764\n",
            "generated_template_684.json : 0.9212827988338192\n",
            "generated_template_694.json : 0.9362880886426592\n",
            "generated_template_704.json : 0.8985074626865672\n",
            "generated_template_708.json : 0.9022082018927444\n",
            "generated_template_724.json : 0.8670520231213873\n",
            "generated_template_73.json : 0.8790849673202614\n",
            "generated_template_731.json : 0.9111747851002865\n",
            "generated_template_755.json : 0.8753623188405797\n",
            "generated_template_764.json : 0.9022988505747126\n",
            "generated_template_773.json : 0.9323076923076923\n",
            "generated_template_776.json : 0.932475884244373\n",
            "generated_template_777.json : 0.8913043478260869\n",
            "generated_template_79.json : 0.8841463414634146\n",
            "generated_template_8.json : 0.9044776119402985\n",
            "generated_template_807.json : 0.9057142857142857\n",
            "generated_template_812.json : 0.8647058823529412\n",
            "generated_template_814.json : 0.9027355623100304\n",
            "generated_template_826.json : 0.9395604395604396\n",
            "generated_template_831.json : 0.8662790697674418\n",
            "generated_template_88.json : 0.8738461538461538\n",
            "generated_template_93.json : 0.9392265193370166\n",
            "89.75312071016074\n",
            "100\n",
            "Average Score:  0.8975312071016074\n"
          ]
        }
      ]
    },
    {
      "cell_type": "markdown",
      "source": [
        "# graphs"
      ],
      "metadata": {
        "id": "koPzDJyckYv3"
      }
    },
    {
      "cell_type": "code",
      "source": [
        "# Nougat Iam2Latex dataset\n",
        "import matplotlib.pyplot as plt\n",
        "\n",
        "# Data\n",
        "steps = [200, 400, 600, 800, 1000, 1200, 1400, 1600, 1800, 2000, 2200, 2400, 2600]\n",
        "\n",
        "training_loss = [0.132800, 0.098800, 0.085500, 0.052500, 0.049500, 0.039000, 0.030000, 0.029163, 0.024770, 0.022300, 0.020440, 0.019704, 0.019300]\n",
        "\n",
        "validation_loss = [0.077514, 0.060484, 0.058343, 0.053183, 0.043733, 0.030249, 0.030161, 0.027400, 0.023900, 0.021002, 0.019700, 0.019700, 0.01950]\n",
        "\n",
        "# Plot\n",
        "plt.figure(figsize=(8, 6))\n",
        "plt.plot(steps, training_loss, color='blue', label='Training Loss')\n",
        "plt.plot(steps, validation_loss, color='orange', label='Validation Loss')\n",
        "\n",
        "# Customize the plot\n",
        "plt.xlabel('Step')\n",
        "plt.ylabel('Loss')\n",
        "plt.legend(loc='upper right')\n",
        "plt.grid(False)  # Remove grid\n",
        "plt.title('Training and Validation Loss Over Steps')\n",
        "\n",
        "# Show the plot\n",
        "plt.show()\n"
      ],
      "metadata": {
        "id": "VzHMtbDCbX-A",
        "colab": {
          "base_uri": "https://localhost:8080/",
          "height": 564
        },
        "outputId": "52aba17f-706c-4247-b3f9-1ecfdb0ef483"
      },
      "execution_count": null,
      "outputs": [
        {
          "output_type": "display_data",
          "data": {
            "text/plain": [
              "<Figure size 800x600 with 1 Axes>"
            ],
            "image/png": "[encoded data removed]"
          },
          "metadata": {}
        }
      ]
    },
    {
      "cell_type": "code",
      "source": [
        "# DONUT Iam2latex dataset\n",
        "import matplotlib.pyplot as plt\n",
        "\n",
        "\n",
        "steps = [ 200, 400, 600, 800, 1000, 1200, 1400, 1600, 1800, 2000, 2200, 2400]\n",
        "\n",
        "training_loss = [ 1.26, 0.2471, 0.1402, 0.0986, 0.0786, 0.0539, 0.0357, 0.0358, 0.0347, 0.0219, 0.0221, 0.0191]\n",
        "\n",
        "validation_loss = [ 0.443, 0.316, 0.091, 0.072, 0.05101, 0.04026, 0.0489, 0.0341, 0.02822, 0.0285, 0.0251, 0.0200]\n",
        "\n",
        "\n",
        "# Plot\n",
        "plt.figure(figsize=(8, 6))\n",
        "plt.plot(steps, training_loss, color='blue', label='Training Loss')\n",
        "plt.plot(steps, validation_loss, color='orange', label='Validation Loss')\n",
        "\n",
        "# Customize the plot\n",
        "plt.xlabel('Step')\n",
        "plt.ylabel('Loss')\n",
        "plt.legend(loc='upper right')\n",
        "plt.grid(False)  # Remove grid\n",
        "plt.title('Training and Validation Loss Over Steps')\n",
        "\n",
        "# Show the plot\n",
        "plt.show()\n"
      ],
      "metadata": {
        "id": "eQn_vkRnbX4r",
        "colab": {
          "base_uri": "https://localhost:8080/",
          "height": 564
        },
        "outputId": "48317c54-5aed-45a5-a31a-955c8f640e60"
      },
      "execution_count": null,
      "outputs": [
        {
          "output_type": "display_data",
          "data": {
            "text/plain": [
              "<Figure size 800x600 with 1 Axes>"
            ],
            "image/png": "[encoded data removed]"
          },
          "metadata": {}
        }
      ]
    },
    {
      "cell_type": "code",
      "source": [],
      "metadata": {
        "id": "xN_1SdrybX1h"
      },
      "execution_count": null,
      "outputs": []
    },
    {
      "cell_type": "code",
      "source": [],
      "metadata": {
        "id": "YLTF4ypibXND"
      },
      "execution_count": null,
      "outputs": []
    },
    {
      "cell_type": "code",
      "source": [],
      "metadata": {
        "id": "zAwbxBBGbXJs"
      },
      "execution_count": null,
      "outputs": []
    },
    {
      "cell_type": "code",
      "source": [],
      "metadata": {
        "id": "RSW3CraXbXGW"
      },
      "execution_count": null,
      "outputs": []
    },
    {
      "cell_type": "code",
      "source": [],
      "metadata": {
        "id": "1knWyC1MbXC7"
      },
      "execution_count": null,
      "outputs": []
    },
    {
      "cell_type": "code",
      "source": [],
      "metadata": {
        "id": "xXNIgxv-bW_h"
      },
      "execution_count": null,
      "outputs": []
    },
    {
      "cell_type": "code",
      "source": [
        "# import os\n",
        "# import json\n",
        "# import shutil\n",
        "# import time\n",
        "\n",
        "# # Define the source directory containing JSON files\n",
        "# source_dir = r'E:\\Abdul_Muqtadir\\Thesis\\Dataset\\Iam2Latex'  # Replace with your source folder path\n",
        "# # Define the destination directory\n",
        "# destination_dir = r'E:\\Abdul_Muqtadir\\Thesis\\Dataset\\Iam2Latex\\Jsons'  # Replace with your destination folder path\n",
        "\n",
        "# def get_folder_name(length):\n",
        "#     if length < 30:  # You can adjust this threshold as needed\n",
        "#         return 'short_sequences'\n",
        "#     else:\n",
        "#         return 'long_sequences'\n",
        "\n",
        "# # Create destination folders if they don't exist\n",
        "# short_sequences_dir = os.path.join(destination_dir, 'short_sequences')\n",
        "# long_sequences_dir = os.path.join(destination_dir, 'long_sequences')\n",
        "\n",
        "# os.makedirs(short_sequences_dir, exist_ok=True)\n",
        "# os.makedirs(long_sequences_dir, exist_ok=True)\n",
        "\n",
        "# # Loop through each file in the source directory\n",
        "# for filename in os.listdir(source_dir):\n",
        "#     if filename.lower().endswith('.json'):\n",
        "#         json_path = os.path.join(source_dir, filename)\n",
        "\n",
        "#         # Read the JSON file\n",
        "#         with open(json_path, 'r') as json_file:\n",
        "#             try:\n",
        "#                 # Load the JSON data\n",
        "#                 data = json.load(json_file)\n",
        "\n",
        "#                 # Ensure that 'uuid' is present and is a string\n",
        "#                 uuid = data.get('uuid', '')\n",
        "\n",
        "#                 # Calculate the sequence length\n",
        "#                 seq_length = len(uuid)\n",
        "#                 folder_name = get_folder_name(seq_length)\n",
        "\n",
        "#                 # Attempt to move the JSON file to the respective folder\n",
        "#                 moved = False\n",
        "#                 attempts = 0\n",
        "#                 while not moved and attempts < 3:  # Retry up to 3 times\n",
        "#                     try:\n",
        "#                         shutil.move(json_path, os.path.join(destination_dir, folder_name, filename))\n",
        "#                         print(f'Moved: {filename} to {folder_name}')\n",
        "#                         moved = True\n",
        "#                     except PermissionError:  # Catch the specific error\n",
        "#                         print(f'File {filename} is in use, retrying...')\n",
        "#                         attempts += 1\n",
        "#                         time.sleep(1)  # Wait for 1 second before retrying\n",
        "\n",
        "#             except json.JSONDecodeError:\n",
        "#                 print(f'Error decoding JSON from file: {filename}')\n",
        "#             except Exception as e:\n",
        "#                 print(f'An error occurred with file {filename}: {e}')\n",
        "\n",
        "# print('JSON separation completed.')\n"
      ],
      "metadata": {
        "colab": {
          "base_uri": "https://localhost:8080/",
          "height": 812
        },
        "id": "shGaGNUiWgds",
        "outputId": "eeb9a0c8-a69a-4bff-a7df-44b0504c99f1"
      },
      "execution_count": null,
      "outputs": [
        {
          "output_type": "stream",
          "name": "stdout",
          "text": [
            "File 000000.target.json is in use, retrying...\n",
            "File 000000.target.json is in use, retrying...\n",
            "File 000000.target.json is in use, retrying...\n",
            "File 000001.target.json is in use, retrying...\n",
            "File 000001.target.json is in use, retrying...\n",
            "File 000001.target.json is in use, retrying...\n"
          ]
        },
        {
          "output_type": "error",
          "ename": "KeyboardInterrupt",
          "evalue": "",
          "traceback": [
            "\u001b[1;31m---------------------------------------------------------------------------\u001b[0m",
            "\u001b[1;31mPermissionError\u001b[0m                           Traceback (most recent call last)",
            "File \u001b[1;32mC:\\Anaconda3\\envs\\newdonut\\Lib\\shutil.py:825\u001b[0m, in \u001b[0;36mmove\u001b[1;34m(src, dst, copy_function)\u001b[0m\n\u001b[0;32m    824\u001b[0m \u001b[38;5;28;01mtry\u001b[39;00m:\n\u001b[1;32m--> 825\u001b[0m     os\u001b[38;5;241m.\u001b[39mrename(src, real_dst)\n\u001b[0;32m    826\u001b[0m \u001b[38;5;28;01mexcept\u001b[39;00m \u001b[38;5;167;01mOSError\u001b[39;00m:\n",
            "\u001b[1;31mPermissionError\u001b[0m: [WinError 32] The process cannot access the file because it is being used by another process: 'E:\\\\Abdul_Muqtadir\\\\Thesis\\\\Dataset\\\\Iam2Latex\\\\000001.target.json' -> 'E:\\\\Abdul_Muqtadir\\\\Thesis\\\\Dataset\\\\Iam2Latex\\\\Jsons\\\\long_sequences\\\\000001.target.json'",
            "\nDuring handling of the above exception, another exception occurred:\n",
            "\u001b[1;31mPermissionError\u001b[0m                           Traceback (most recent call last)",
            "Cell \u001b[1;32mIn[66], line 47\u001b[0m\n\u001b[0;32m     46\u001b[0m \u001b[38;5;28;01mtry\u001b[39;00m:\n\u001b[1;32m---> 47\u001b[0m     \u001b[43mshutil\u001b[49m\u001b[38;5;241;43m.\u001b[39;49m\u001b[43mmove\u001b[49m\u001b[43m(\u001b[49m\u001b[43mjson_path\u001b[49m\u001b[43m,\u001b[49m\u001b[43m \u001b[49m\u001b[43mos\u001b[49m\u001b[38;5;241;43m.\u001b[39;49m\u001b[43mpath\u001b[49m\u001b[38;5;241;43m.\u001b[39;49m\u001b[43mjoin\u001b[49m\u001b[43m(\u001b[49m\u001b[43mdestination_dir\u001b[49m\u001b[43m,\u001b[49m\u001b[43m \u001b[49m\u001b[43mfolder_name\u001b[49m\u001b[43m,\u001b[49m\u001b[43m \u001b[49m\u001b[43mfilename\u001b[49m\u001b[43m)\u001b[49m\u001b[43m)\u001b[49m\n\u001b[0;32m     48\u001b[0m     \u001b[38;5;28mprint\u001b[39m(\u001b[38;5;124mf\u001b[39m\u001b[38;5;124m'\u001b[39m\u001b[38;5;124mMoved: \u001b[39m\u001b[38;5;132;01m{\u001b[39;00mfilename\u001b[38;5;132;01m}\u001b[39;00m\u001b[38;5;124m to \u001b[39m\u001b[38;5;132;01m{\u001b[39;00mfolder_name\u001b[38;5;132;01m}\u001b[39;00m\u001b[38;5;124m'\u001b[39m)\n",
            "File \u001b[1;32mC:\\Anaconda3\\envs\\newdonut\\Lib\\shutil.py:846\u001b[0m, in \u001b[0;36mmove\u001b[1;34m(src, dst, copy_function)\u001b[0m\n\u001b[0;32m    845\u001b[0m         copy_function(src, real_dst)\n\u001b[1;32m--> 846\u001b[0m         os\u001b[38;5;241m.\u001b[39munlink(src)\n\u001b[0;32m    847\u001b[0m \u001b[38;5;28;01mreturn\u001b[39;00m real_dst\n",
            "\u001b[1;31mPermissionError\u001b[0m: [WinError 32] The process cannot access the file because it is being used by another process: 'E:\\\\Abdul_Muqtadir\\\\Thesis\\\\Dataset\\\\Iam2Latex\\\\000001.target.json'",
            "\nDuring handling of the above exception, another exception occurred:\n",
            "\u001b[1;31mKeyboardInterrupt\u001b[0m                         Traceback (most recent call last)",
            "Cell \u001b[1;32mIn[66], line 53\u001b[0m\n\u001b[0;32m     51\u001b[0m             \u001b[38;5;28mprint\u001b[39m(\u001b[38;5;124mf\u001b[39m\u001b[38;5;124m'\u001b[39m\u001b[38;5;124mFile \u001b[39m\u001b[38;5;132;01m{\u001b[39;00mfilename\u001b[38;5;132;01m}\u001b[39;00m\u001b[38;5;124m is in use, retrying...\u001b[39m\u001b[38;5;124m'\u001b[39m)\n\u001b[0;32m     52\u001b[0m             attempts \u001b[38;5;241m+\u001b[39m\u001b[38;5;241m=\u001b[39m \u001b[38;5;241m1\u001b[39m\n\u001b[1;32m---> 53\u001b[0m             \u001b[43mtime\u001b[49m\u001b[38;5;241;43m.\u001b[39;49m\u001b[43msleep\u001b[49m\u001b[43m(\u001b[49m\u001b[38;5;241;43m1\u001b[39;49m\u001b[43m)\u001b[49m  \u001b[38;5;66;03m# Wait for 1 second before retrying\u001b[39;00m\n\u001b[0;32m     55\u001b[0m \u001b[38;5;28;01mexcept\u001b[39;00m json\u001b[38;5;241m.\u001b[39mJSONDecodeError:\n\u001b[0;32m     56\u001b[0m     \u001b[38;5;28mprint\u001b[39m(\u001b[38;5;124mf\u001b[39m\u001b[38;5;124m'\u001b[39m\u001b[38;5;124mError decoding JSON from file: \u001b[39m\u001b[38;5;132;01m{\u001b[39;00mfilename\u001b[38;5;132;01m}\u001b[39;00m\u001b[38;5;124m'\u001b[39m)\n",
            "\u001b[1;31mKeyboardInterrupt\u001b[0m: "
          ]
        }
      ]
    },
    {
      "cell_type": "code",
      "source": [],
      "metadata": {
        "id": "cVzMiP7vyNzu"
      },
      "execution_count": null,
      "outputs": []
    }
  ]
}