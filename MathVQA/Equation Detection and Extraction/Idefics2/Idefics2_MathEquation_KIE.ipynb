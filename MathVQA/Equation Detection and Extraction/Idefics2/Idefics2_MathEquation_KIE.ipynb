{
  "nbformat": 4,
  "nbformat_minor": 0,
  "metadata": {
    "colab": {
      "provenance": [],
      "toc_visible": true
    },
    "kernelspec": {
      "name": "python3",
      "display_name": "Python 3"
    },
    "language_info": {
      "name": "python"
    }
  },
  "cells": [
    {
      "cell_type": "markdown",
      "source": [
        "# Load Processor and Model"
      ],
      "metadata": {
        "id": "LI7UBA63_UL3"
      }
    },
    {
      "cell_type": "code",
      "execution_count": null,
      "metadata": {
        "colab": {
          "base_uri": "https://localhost:8080/"
        },
        "id": "3zfzf4RR-sm2",
        "outputId": "0cfd1df3-719b-46dc-f5ca-da906a9511a5"
      },
      "outputs": [
        {
          "output_type": "stream",
          "name": "stderr",
          "text": [
            "C:\\Anaconda3\\envs\\Idefics2\\lib\\site-packages\\tqdm\\auto.py:21: TqdmWarning: IProgress not found. Please update jupyter and ipywidgets. See https://ipywidgets.readthedocs.io/en/stable/user_install.html\n",
            "  from .autonotebook import tqdm as notebook_tqdm\n"
          ]
        }
      ],
      "source": [
        "# Imports\n",
        "import torch\n",
        "from PIL import Image\n",
        "from transformers import AutoProcessor, BitsAndBytesConfig, Idefics2ForConditionalGeneration\n",
        "import json\n",
        "import time\n",
        "from distance import levenshtein\n",
        "from peft import LoraConfig\n"
      ]
    },
    {
      "cell_type": "code",
      "source": [
        "# device setup\n",
        "device = \"cuda\" if torch.cuda.is_available() else \"cpu\"\n",
        "#device = torch.device('cpu')\n",
        "device"
      ],
      "metadata": {
        "colab": {
          "base_uri": "https://localhost:8080/"
        },
        "id": "MuY21Ocb_ZO3",
        "outputId": "efd77677-91cf-45be-b10b-bc789530370a"
      },
      "execution_count": null,
      "outputs": [
        {
          "output_type": "execute_result",
          "data": {
            "text/plain": [
              "'cuda'"
            ]
          },
          "metadata": {},
          "execution_count": 2
        }
      ]
    },
    {
      "cell_type": "code",
      "source": [
        "# Load Processor\n",
        "processor = AutoProcessor.from_pretrained(\"HuggingFaceM4/idefics2-8b\", do_image_splitting = False)\n",
        "\n",
        "# Processor attributes\n",
        "processor.attributes"
      ],
      "metadata": {
        "colab": {
          "base_uri": "https://localhost:8080/"
        },
        "id": "rZ4g_F2X_iPp",
        "outputId": "71a1da7e-9233-4ff4-ef2d-f30f829bd7be"
      },
      "execution_count": null,
      "outputs": [
        {
          "output_type": "stream",
          "name": "stderr",
          "text": [
            "Special tokens have been added in the vocabulary, make sure the associated word embeddings are fine-tuned or trained.\n"
          ]
        },
        {
          "output_type": "execute_result",
          "data": {
            "text/plain": [
              "['image_processor', 'tokenizer']"
            ]
          },
          "metadata": {},
          "execution_count": 3
        }
      ]
    },
    {
      "cell_type": "code",
      "source": [
        "import torch\n",
        "from peft import LoraConfig\n",
        "from transformers import AutoProcessor, BitsAndBytesConfig, Idefics2ForConditionalGeneration\n",
        "\n",
        "DEVICE = \"cuda:0\"\n",
        "USE_LORA = False\n",
        "USE_QLORA = True\n",
        "\n",
        "\n",
        "# Three options for training, from the lowest precision training to the highest precision training:\n",
        "# - QLora\n",
        "# - Standard Lora\n",
        "# - Full fine-tuning\n",
        "if USE_QLORA or USE_LORA:\n",
        "    lora_Config = LoraConfig(\n",
        "        r=8,\n",
        "        lora_alpha=8,\n",
        "        lora_dropout=0.1,\n",
        "        target_modules='.*(text_model|modality_projection|perceiver_resampler).*(down_proj|gate_proj|up_proj|k_proj|q_proj|v_proj|o_proj).*$',\n",
        "        use_dora=False if USE_QLORA else True,\n",
        "        init_lora_weights=\"gaussian\"\n",
        "    )\n",
        "    if USE_QLORA:\n",
        "        bnb_config = BitsAndBytesConfig(\n",
        "            load_in_4bit=True,\n",
        "            bnb_4bit_quant_type=\"nf4\",\n",
        "            bnb_4bit_compute_dtype=torch.float16\n",
        "        )\n",
        "    model = Idefics2ForConditionalGeneration.from_pretrained(\n",
        "        \"HuggingFaceM4/idefics2-8b\",\n",
        "        torch_dtype=torch.float16,\n",
        "        quantization_config=bnb_config if USE_QLORA else None,\n",
        "    )\n",
        "\n",
        "\n",
        "    model.add_adapter(lora_Config)\n",
        "    model.enable_adapters()\n",
        "else:\n",
        "    model = Idefics2ForConditionalGeneration.from_pretrained(\n",
        "        \"HuggingFaceM4/idefics2-8b\",\n",
        "        torch_dtype=torch.float16,\n",
        "        _attn_implementation=\"flash_attention_2\", # Only available on A100 or H100\n",
        "    ).to(DEVICE)\n",
        "\n"
      ],
      "metadata": {
        "colab": {
          "base_uri": "https://localhost:8080/"
        },
        "id": "EPceDCCD_iIw",
        "outputId": "846bd818-46f1-46c4-d6a6-72a875f75820"
      },
      "execution_count": null,
      "outputs": [
        {
          "output_type": "stream",
          "name": "stderr",
          "text": [
            "`low_cpu_mem_usage` was None, now set to True since model is quantized.\n",
            "\n",
            "\n",
            "Loading checkpoint shards:   0%|                                                                 | 0/7 [00:00<?, ?it/s]\n",
            "\n",
            "Loading checkpoint shards:  14%|████████▏                                                | 1/7 [00:03<00:20,  3.44s/it]\n",
            "\n",
            "Loading checkpoint shards:  29%|████████████████▎                                        | 2/7 [00:07<00:17,  3.52s/it]\n",
            "\n",
            "Loading checkpoint shards:  43%|████████████████████████▍                                | 3/7 [00:10<00:13,  3.44s/it]\n",
            "\n",
            "Loading checkpoint shards:  57%|████████████████████████████████▌                        | 4/7 [00:13<00:10,  3.39s/it]\n",
            "\n",
            "Loading checkpoint shards:  71%|████████████████████████████████████████▋                | 5/7 [00:17<00:06,  3.42s/it]\n",
            "\n",
            "Loading checkpoint shards:  86%|████████████████████████████████████████████████▊        | 6/7 [00:20<00:03,  3.53s/it]\n",
            "\n",
            "Loading checkpoint shards: 100%|█████████████████████████████████████████████████████████| 7/7 [00:24<00:00,  3.45s/it]\n"
          ]
        }
      ]
    },
    {
      "cell_type": "markdown",
      "source": [
        "# Load dataset"
      ],
      "metadata": {
        "id": "PJQRm9RI_y2e"
      }
    },
    {
      "cell_type": "code",
      "source": [
        "from datasets import load_from_disk\n",
        "\n",
        "dataset = load_from_disk(r\"E:\\Abdul_Muqtadir\\Thesis\\Dataset\\Test_Iamlatex2\\iamlatex_processed_dataset2\")\n",
        "dataset"
      ],
      "metadata": {
        "colab": {
          "base_uri": "https://localhost:8080/"
        },
        "id": "z35K78jS_iA_",
        "outputId": "267462d8-60f4-4763-ad5f-1a97e107e25f"
      },
      "execution_count": null,
      "outputs": [
        {
          "output_type": "execute_result",
          "data": {
            "text/plain": [
              "DatasetDict({\n",
              "    train: Dataset({\n",
              "        features: ['image', 'text'],\n",
              "        num_rows: 600\n",
              "    })\n",
              "    valid: Dataset({\n",
              "        features: ['image', 'text'],\n",
              "        num_rows: 135\n",
              "    })\n",
              "})"
            ]
          },
          "metadata": {},
          "execution_count": 14
        }
      ]
    },
    {
      "cell_type": "code",
      "source": [
        "import random\n",
        "random_sample_train = random.randint(0, len(dataset['train']) - 1)\n",
        "print(f\"Random sample from 'train' is {random_sample_train}\")\n",
        "print(f\"Ground Truth is {dataset['train'][random_sample_train]['text']}\")\n",
        "dataset['train'][random_sample_train]['image'].resize((250, 400))"
      ],
      "metadata": {
        "colab": {
          "base_uri": "https://localhost:8080/",
          "height": 474
        },
        "id": "2pmD5XSg_h6V",
        "outputId": "77795f23-b171-44da-bc93-c45fe3ab6a98"
      },
      "execution_count": null,
      "outputs": [
        {
          "output_type": "stream",
          "name": "stdout",
          "text": [
            "Random sample from 'train' is 254\n",
            "Ground Truth is {'latex_1': 'd G _ { 4 } / 2 \\\\pi = d \\\\rho \\\\land e _ { 4 } / 2', 'latex_2': '\\\\frac { K } { \\\\Lambda } = \\\\tan \\\\beta .', 'latex_3': '\\\\sin \\\\lambda = - \\\\frac { i \\\\rho } { 2 \\\\zeta } ,', 'latex_4': 'X = y + v _ { 1 } T = z + v _ { 2 } T', 'latex_5': '0 \\\\leq \\\\sigma \\\\lt 4 \\\\pi l , 0 \\\\leq \\\\tau \\\\lt \\\\pi .', 'latex_6': '\\\\lt T _ { \\\\mu \\\\nu } \\\\gt _ { f i n } ^ { i n } =', 'latex_7': '\\\\Delta = C ^ { 2 } - \\\\frac { 1 } { 2 } \\\\lt 0 .', 'latex_8': 'S = - \\\\frac { T } { 2 }'}\n"
          ]
        },
        {
          "output_type": "execute_result",
          "data": {
            "text/plain": [
              "<PIL.Image.Image image mode=RGB size=250x400>"
            ],
            "image/png": "[encoded data removed]",
            "image/jpeg": "[encoded data removed]"
          },
          "metadata": {},
          "execution_count": 15
        }
      ]
    },
    {
      "cell_type": "code",
      "source": [
        "\n",
        "special_tokens = ['<s_latex0>', '</s_latex0>', '<s_latex1>', '</s_latex1>', '<s_latex2>', '</s_latex2>', '<s_latex3>', '</s_latex3>', '<s_latex4>', '</s_latex4>', '<s_latex5>', '</s_latex5>', '<s_latex6>', '</s_latex6>', '<s_latex7>', '</s_latex7>', '<s_latex8>', '</s_latex8>', '<s_latex9>', '</s_latex9>' ]"
      ],
      "metadata": {
        "id": "-JEBZMBF1r0g"
      },
      "execution_count": null,
      "outputs": []
    },
    {
      "cell_type": "code",
      "source": [
        "def json2token(data):\n",
        "    # Initialize an empty string to build the formatted output\n",
        "    formatted_output = ''\n",
        "\n",
        "    # Loop through each key-value pair in the dictionary\n",
        "    for key, value in data.items():\n",
        "        # Remove commas and format each pair without single quotes\n",
        "        #value = str(value).replace(',', '')  # Remove commas\n",
        "        value = str(value).replace('.', '')\n",
        "        formatted_output += f\"<s_{key}>{value}</s_{key}>\"\n",
        "\n",
        "    # Return the final formatted output string\n",
        "    return formatted_output.strip()  # Remove trailing whitespace"
      ],
      "metadata": {
        "id": "GothMYfXWwuo"
      },
      "execution_count": null,
      "outputs": []
    },
    {
      "cell_type": "code",
      "source": [
        "import json\n",
        "\n",
        "task_start_token = '<s>'\n",
        "eos_token = '</s>'\n",
        "\n",
        "def process_documents(sample):\n",
        "\n",
        "  GT_string_single_quote = sample[\"text\"]\n",
        "  GT_string_single_quote = str(GT_string_single_quote)\n",
        "  #print(type(sample[\"text\"]))\n",
        "\n",
        "  GT_string_double_quote = GT_string_single_quote.replace(\"'\", '\"')\n",
        "  text = json.loads(GT_string_double_quote)\n",
        "  d_doc = task_start_token + json2token(text) + eos_token\n",
        "  print('d_doc', d_doc)\n",
        "  image = sample[\"image\"].convert('RGB')\n",
        "  return {\"image\": image, \"text\": d_doc}"
      ],
      "metadata": {
        "id": "ftiQDEkJ1ryp"
      },
      "execution_count": null,
      "outputs": []
    },
    {
      "cell_type": "code",
      "source": [
        "class TupleDatasetWrapper:\n",
        "    def __init__(self, dataset):\n",
        "        self.dataset = dataset\n",
        "\n",
        "    def __getitem__(self, idx):\n",
        "        sample = self.dataset[idx]\n",
        "        image = sample[\"image\"]\n",
        "        target_sequence = sample[\"text\"]\n",
        "        return image, target_sequence\n",
        "\n",
        "    def __len__(self):\n",
        "        return len(self.dataset)\n",
        "\n"
      ],
      "metadata": {
        "id": "Pjpw5xlGWnhN"
      },
      "execution_count": null,
      "outputs": []
    },
    {
      "cell_type": "code",
      "source": [
        "\n",
        "valid_dataset = dataset['valid']\n",
        "\n",
        "# Apply the map function to the dataset\n",
        "proc_valid_dataset = valid_dataset.map(process_documents)\n",
        "\n",
        "# Wrap the dataset in the custom wrapper to ensure tuple-based output\n",
        "proc_valid_dataset = TupleDatasetWrapper(proc_valid_dataset)"
      ],
      "metadata": {
        "id": "BS3XFlYNWndH"
      },
      "execution_count": null,
      "outputs": []
    },
    {
      "cell_type": "code",
      "source": [
        "train_dataset = dataset['train']\n",
        "proc_train_dataset = train_dataset.map(process_documents)\n",
        "\n",
        "# Wrap the dataset in the custom wrapper to ensure tuple-based output\n",
        "proc_train_dataset = TupleDatasetWrapper(proc_train_dataset)"
      ],
      "metadata": {
        "id": "QBoQVQkIWnbJ"
      },
      "execution_count": null,
      "outputs": []
    },
    {
      "cell_type": "code",
      "source": [
        "train_example = proc_valid_dataset[0]\n",
        "image, target_sequence = train_example\n",
        "print(target_sequence)"
      ],
      "metadata": {
        "colab": {
          "base_uri": "https://localhost:8080/"
        },
        "id": "r1LCNgTkXKQk",
        "outputId": "d5982674-f0f4-4033-be2b-d888817505de"
      },
      "execution_count": null,
      "outputs": [
        {
          "output_type": "stream",
          "name": "stdout",
          "text": [
            "<s><s_latex_1>\\Phi ^ { 2 } = B ^ { - 1 } , K = C B - A ^ { 2 } </s_latex_1><s_latex_2>\\frac { \\alpha } { \\alpha ^ { 2 } + 1 } = 0 </s_latex_2><s_latex_3>\\frac { \\pi } { \\pi + g N } p \\lt 1 ,</s_latex_3><s_latex_4>x _ { \\mu } ^ { c } = x _ { \\mu } + A _ { \\mu } </s_latex_4><s_latex_5>m _ { 3 / 2 } = \\frac { \\omega } { \\rho }</s_latex_5><s_latex_6>\\lbrack p , q \\rbrack = \\frac { 2 \\pi i } { N } ,</s_latex_6><s_latex_7>\\hat { \\nabla } _ { m } \\tilde { \\eta } = 0 </s_latex_7><s_latex_8>D _ { 1 } a = \\frac { 1 } { 2 } D _ { 2 } z ,</s_latex_8></s>\n"
          ]
        }
      ]
    },
    {
      "cell_type": "code",
      "source": [
        "USE_ADD_ADAPTER = True\n",
        "\n",
        "from peft import prepare_model_for_kbit_training, LoraConfig, get_peft_model\n",
        "\n",
        "if not USE_ADD_ADAPTER:\n",
        "    lora_config = LoraConfig(\n",
        "            r=8,\n",
        "            lora_alpha=8,\n",
        "            lora_dropout=0.1,\n",
        "            target_modules=\".*(text_model|modality_projection|perceiver_resampler).*(down_proj|gate_proj|up_proj|k_proj|q_proj|v_proj|o_proj).*$\",\n",
        "            use_dora=False if USE_QLORA else True,\n",
        "            init_lora_weights=\"gaussian\",\n",
        "        )\n",
        "\n",
        "    model = prepare_model_for_kbit_training(model)\n",
        "    model = get_peft_model(model, lora_config)"
      ],
      "metadata": {
        "id": "E-sazYArXo7Q"
      },
      "execution_count": null,
      "outputs": []
    },
    {
      "cell_type": "markdown",
      "source": [
        "# token setup"
      ],
      "metadata": {
        "id": "sX8kPLiR0EKB"
      }
    },
    {
      "cell_type": "code",
      "source": [
        "print(model.get_input_embeddings().weight.shape)\n"
      ],
      "metadata": {
        "colab": {
          "base_uri": "https://localhost:8080/"
        },
        "id": "js3rlLZFYGbZ",
        "outputId": "92091067-93ee-4fee-c1bb-91d5eb13b102"
      },
      "execution_count": null,
      "outputs": [
        {
          "output_type": "stream",
          "name": "stdout",
          "text": [
            "torch.Size([32003, 4096])\n"
          ]
        }
      ]
    },
    {
      "cell_type": "code",
      "source": [
        "processor.tokenizer.add_special_tokens({\"additional_special_tokens\": special_tokens + [task_start_token] + [eos_token]})"
      ],
      "metadata": {
        "colab": {
          "base_uri": "https://localhost:8080/"
        },
        "id": "Q8jWf2OAYGXk",
        "outputId": "73b88220-7901-4ad6-a808-a1f3f1e38e93"
      },
      "execution_count": null,
      "outputs": [
        {
          "output_type": "execute_result",
          "data": {
            "text/plain": [
              "20"
            ]
          },
          "metadata": {},
          "execution_count": 22
        }
      ]
    },
    {
      "cell_type": "code",
      "source": [
        "model.resize_token_embeddings(len(processor.tokenizer))"
      ],
      "metadata": {
        "colab": {
          "base_uri": "https://localhost:8080/"
        },
        "id": "aUXWYW5TYGVz",
        "outputId": "bc1b8cd2-e56b-4f94-841a-6599fcf096fc"
      },
      "execution_count": null,
      "outputs": [
        {
          "output_type": "execute_result",
          "data": {
            "text/plain": [
              "Embedding(32023, 4096)"
            ]
          },
          "metadata": {},
          "execution_count": 45
        }
      ]
    },
    {
      "cell_type": "markdown",
      "source": [
        "# dataset processed"
      ],
      "metadata": {
        "id": "kY0pifxlEXW7"
      }
    },
    {
      "cell_type": "code",
      "source": [
        "processor.tokenizer.add_special_tokens({\"additional_special_tokens\": [\"<image>\"]})"
      ],
      "metadata": {
        "colab": {
          "base_uri": "https://localhost:8080/"
        },
        "id": "W8-GL22MaUTP",
        "outputId": "14845c9c-3cac-4fe5-baeb-1d86e91ec86c"
      },
      "execution_count": null,
      "outputs": [
        {
          "output_type": "execute_result",
          "data": {
            "text/plain": [
              "0"
            ]
          },
          "metadata": {},
          "execution_count": 30
        }
      ]
    },
    {
      "cell_type": "code",
      "source": [
        "image_token_id = processor.tokenizer.additional_special_tokens_ids[processor.tokenizer.additional_special_tokens.index(\"<image>\")]\n",
        "print(f\"<image> token ID: {image_token_id}\")\n"
      ],
      "metadata": {
        "colab": {
          "base_uri": "https://localhost:8080/"
        },
        "id": "AKLU9OJHZlL6",
        "outputId": "8d3fd6e2-f062-4e14-f5de-dbf8c2bb8fca"
      },
      "execution_count": null,
      "outputs": [
        {
          "output_type": "stream",
          "name": "stdout",
          "text": [
            "<image> token ID: 32001\n"
          ]
        }
      ]
    },
    {
      "cell_type": "code",
      "source": [
        "image_token_id = processor.tokenizer.additional_special_tokens_ids[processor.tokenizer.additional_special_tokens.index(\"<image>\")]\n",
        "MAX_LENGTH = 768\n",
        "\n",
        "def train_collate_fn(examples):\n",
        "    texts = []\n",
        "    images = []\n",
        "    for example in examples:\n",
        "        image, ground_truth = example\n",
        "        messages = [\n",
        "            {\n",
        "                \"role\": \"user\",\n",
        "                \"content\": [\n",
        "                    {\"type\": \"text\", \"text\": \"Extract JSON.\"},\n",
        "                    {\"type\": \"image\"},\n",
        "                ]\n",
        "            },\n",
        "            {\n",
        "                \"role\": \"assistant\",\n",
        "                \"content\": [\n",
        "                    {\"type\": \"text\", \"text\": ground_truth}\n",
        "                ]\n",
        "            }\n",
        "        ]\n",
        "        text = processor.apply_chat_template(messages, add_generation_prompt=False)\n",
        "        texts.append(text.strip())\n",
        "        images.append([image])\n",
        "\n",
        "    batch = processor(text=texts, images=images, padding=True, truncation=True, max_length=MAX_LENGTH, return_tensors=\"pt\")\n",
        "\n",
        "    labels = batch[\"input_ids\"].clone()\n",
        "    labels[labels == processor.tokenizer.pad_token_id] = -100\n",
        "    labels[labels == model.config.image_token_id] = -100\n",
        "    batch[\"labels\"] = labels\n",
        "\n",
        "    input_ids = batch[\"input_ids\"]\n",
        "    attention_mask = batch[\"attention_mask\"]\n",
        "    pixel_values = batch[\"pixel_values\"]\n",
        "    pixel_attention_mask = batch[\"pixel_attention_mask\"]\n",
        "    labels = batch[\"labels\"]\n",
        "\n",
        "    return input_ids, attention_mask, pixel_values, pixel_attention_mask, labels\n",
        "\n",
        "\n",
        "def eval_collate_fn(examples):\n",
        "\n",
        "    # we feed the prompt to the model\n",
        "    images = []\n",
        "    texts = []\n",
        "    answers = []\n",
        "    for example in examples:\n",
        "        image, ground_truth = example\n",
        "        messages = [\n",
        "            {\n",
        "                \"role\": \"user\",\n",
        "                \"content\": [\n",
        "                    {\"type\": \"text\", \"text\": \"Extract JSON.\"},\n",
        "                    {\"type\": \"image\"},\n",
        "                ]\n",
        "            },\n",
        "        ]\n",
        "        text = processor.apply_chat_template(messages, add_generation_prompt=True)\n",
        "        images.append([image])\n",
        "        texts.append(text.strip())\n",
        "        answers.append(ground_truth)\n",
        "\n",
        "    batch = processor(text=texts, images=images, return_tensors=\"pt\", padding=True)\n",
        "\n",
        "    input_ids = batch[\"input_ids\"]\n",
        "    attention_mask = batch[\"attention_mask\"]\n",
        "    pixel_values = batch[\"pixel_values\"]\n",
        "    pixel_attention_mask = batch[\"pixel_attention_mask\"]\n",
        "\n",
        "    return input_ids, attention_mask, pixel_values, pixel_attention_mask, answers\n"
      ],
      "metadata": {
        "id": "QzHSpt-aEgrN"
      },
      "execution_count": null,
      "outputs": []
    },
    {
      "cell_type": "code",
      "source": [
        "import lightning as L\n",
        "from torch.utils.data import DataLoader\n",
        "import re\n",
        "from nltk import edit_distance\n",
        "import numpy as np\n",
        "\n",
        "\n",
        "class Idefics2ModelPLModule(L.LightningModule):\n",
        "    def __init__(self, config, processor, model):\n",
        "        super().__init__()\n",
        "        self.config = config\n",
        "        self.processor = processor\n",
        "        self.model = model\n",
        "\n",
        "        self.batch_size = config.get(\"batch_size\")\n",
        "\n",
        "    def training_step(self, batch, batch_idx):\n",
        "\n",
        "        input_ids, attention_mask, pixel_values, pixel_attention_mask, labels = batch\n",
        "\n",
        "        outputs = self.model(input_ids=input_ids,\n",
        "                                attention_mask=attention_mask,\n",
        "                                pixel_values=pixel_values,\n",
        "                                pixel_attention_mask=pixel_attention_mask,\n",
        "                                labels=labels)\n",
        "        loss = outputs.loss\n",
        "\n",
        "        self.log(\"train_loss\", loss)\n",
        "\n",
        "        return loss\n",
        "\n",
        "    def validation_step(self, batch, batch_idx, dataset_idx=0):\n",
        "\n",
        "        input_ids, attention_mask, pixel_values, pixel_attention_mask, answers = batch\n",
        "\n",
        "        # autoregressively generate token IDs\n",
        "        generated_ids = model.generate(input_ids=input_ids, attention_mask=attention_mask,\n",
        "                                       pixel_values=pixel_values, pixel_attention_mask=pixel_attention_mask,\n",
        "                                       max_new_tokens=768)\n",
        "        # turn them back into text, chopping of the prompt\n",
        "        # important: we don't skip special tokens here, because we want to see them in the output\n",
        "        predictions = self.processor.batch_decode(generated_ids[:, input_ids.size(1):], skip_special_tokens=True)\n",
        "\n",
        "        scores = []\n",
        "        for pred, answer in zip(predictions, answers):\n",
        "            pred = re.sub(r\"(?:(?<=>) | (?=</s_))\", \"\", pred)\n",
        "            scores.append(edit_distance(pred, answer) / max(len(pred), len(answer)))\n",
        "\n",
        "            if self.config.get(\"verbose\", False) and len(scores) == 1:\n",
        "                print(f\"Prediction: {pred}\")\n",
        "                print(f\"    Answer: {answer}\")\n",
        "                print(f\" Normed ED: {scores[0]}\")\n",
        "\n",
        "        self.log(\"val_edit_distance\", np.mean(scores))\n",
        "\n",
        "        return scores\n",
        "\n",
        "    def configure_optimizers(self):\n",
        "        # you could also add a learning rate scheduler if you want\n",
        "        optimizer = torch.optim.AdamW(self.parameters(), lr=self.config.get(\"lr\"))\n",
        "\n",
        "        return optimizer\n",
        "\n",
        "    def train_dataloader(self):\n",
        "        return DataLoader(proc_train_dataset, collate_fn=train_collate_fn, batch_size=self.batch_size, shuffle=True)\n",
        "\n",
        "    # def val_dataloader(self):\n",
        "    #     return DataLoader(proc_valid_dataset, collate_fn=eval_collate_fn, batch_size=self.batch_size, shuffle=False)\n"
      ],
      "metadata": {
        "id": "VOUH3ouhEgiS"
      },
      "execution_count": null,
      "outputs": []
    },
    {
      "cell_type": "code",
      "source": [
        "config = {\"max_epochs\": 4,\n",
        "          # \"val_check_interval\": 0.2, # how many times we want to validate during an epoch\n",
        "          \"check_val_every_n_epoch\": 1,\n",
        "          \"gradient_clip_val\": 1.0,\n",
        "          \"accumulate_grad_batches\": 8,\n",
        "          \"lr\": 1e-4,\n",
        "          \"batch_size\": 2,\n",
        "          \"precision\": \"16-mixed\", # we'll use mixed precision\n",
        "          # \"seed\":2022, # can be used for reproducibility\n",
        "          \"warmup_steps\": 50,\n",
        "          \"result_path\": \"./result\",\n",
        "          \"verbose\": True,\n",
        "}\n",
        "\n",
        "model_module = Idefics2ModelPLModule(config, processor, model)\n"
      ],
      "metadata": {
        "id": "yCSzKfL3Eggv"
      },
      "execution_count": null,
      "outputs": []
    },
    {
      "cell_type": "code",
      "source": [
        "# import os\n",
        "# from lightning.pytorch.callbacks import Callback\n",
        "# from lightning.pytorch.callbacks.early_stopping import EarlyStopping\n",
        "\n",
        "# # Define the directory to save the model\n",
        "# SAVE_DIR = r\"E:\\Abdul_Muqtadir\\Thesis\\Idefics2_KIE\\model_save_directory\"\n",
        "\n",
        "# class SaveToLocalCallback(Callback):\n",
        "#     def __init__(self, save_dir):\n",
        "#         super().__init__()\n",
        "#         self.save_dir = save_dir\n",
        "#         os.makedirs(self.save_dir, exist_ok=True)  # Ensure directory exists\n",
        "\n",
        "#     def on_train_epoch_end(self, trainer, pl_module):\n",
        "#         save_path = os.path.join(self.save_dir, f\"model_epoch_{trainer.current_epoch}\")\n",
        "#         print(f\"Saving model to {save_path}, epoch {trainer.current_epoch}\")\n",
        "#         # Save model using save_pretrained\n",
        "#         pl_module.model.save_pretrained(save_path)\n",
        "\n",
        "#     def on_train_end(self, trainer, pl_module):\n",
        "#         save_path = os.path.join(self.save_dir, \"final_model\")\n",
        "#         print(f\"Saving final model to {save_path}\")\n",
        "#         # Save final model using save_pretrained\n",
        "#         pl_module.model.save_pretrained(save_path)\n",
        "\n",
        "# # Initialize the callback\n",
        "# save_callback = SaveToLocalCallback(SAVE_DIR)\n",
        "\n",
        "# # Early stopping callback\n",
        "# early_stop_callback = EarlyStopping(monitor=\"val_edit_distance\", patience=3, verbose=False, mode=\"min\")\n"
      ],
      "metadata": {
        "id": "IhMX4VMkE31f"
      },
      "execution_count": null,
      "outputs": []
    },
    {
      "cell_type": "code",
      "source": [
        "import wandb\n",
        "wandb.finish()"
      ],
      "metadata": {
        "id": "fihY60lHuHa0"
      },
      "execution_count": null,
      "outputs": []
    },
    {
      "cell_type": "code",
      "source": [
        "from lightning.pytorch.loggers import WandbLogger\n",
        "\n",
        "wandb_logger = WandbLogger(project=\"Idefics2\", name=\"MathEquation_KIE6\")\n",
        "\n",
        "trainer = L.Trainer(\n",
        "        accelerator=\"gpu\",\n",
        "        devices=[0],\n",
        "        max_epochs=config.get(\"max_epochs\"),\n",
        "        check_val_every_n_epoch=config.get(\"check_val_every_n_epoch\"),\n",
        "        gradient_clip_val=config.get(\"gradient_clip_val\"),\n",
        "        accumulate_grad_batches=config.get(\"accumulate_grad_batches\"),\n",
        "        precision=config.get(\"precision\"),\n",
        "        num_sanity_val_steps=0,\n",
        "        logger=wandb_logger,\n",
        "        #callbacks=[save_callback, early_stop_callback],\n",
        ")\n"
      ],
      "metadata": {
        "colab": {
          "base_uri": "https://localhost:8080/"
        },
        "id": "0HjFAgGTE3x8",
        "outputId": "a9360ca0-e28b-4257-b06e-40ac38bfe866"
      },
      "execution_count": null,
      "outputs": [
        {
          "output_type": "stream",
          "name": "stderr",
          "text": [
            "Using 16bit Automatic Mixed Precision (AMP)\n",
            "GPU available: True (cuda), used: True\n",
            "TPU available: False, using: 0 TPU cores\n",
            "HPU available: False, using: 0 HPUs\n"
          ]
        }
      ]
    },
    {
      "cell_type": "code",
      "source": [
        "\n",
        "trainer.fit(model_module)"
      ],
      "metadata": {
        "colab": {
          "base_uri": "https://localhost:8080/",
          "height": 437
        },
        "id": "6Wm9ab5OE3wB",
        "outputId": "114ce182-a715-4a5a-97eb-497be6e52023"
      },
      "execution_count": null,
      "outputs": [
        {
          "output_type": "stream",
          "name": "stderr",
          "text": [
            "C:\\Anaconda3\\envs\\Idefics2\\lib\\site-packages\\lightning\\pytorch\\trainer\\configuration_validator.py:70: You defined a `validation_step` but have no `val_dataloader`. Skipping val loop.\n"
          ]
        },
        {
          "output_type": "display_data",
          "data": {
            "text/plain": [
              "<IPython.core.display.HTML object>"
            ],
            "text/html": [
              "wandb version 0.18.7 is available!  To upgrade, please run:\n",
              " $ pip install wandb --upgrade"
            ]
          },
          "metadata": {}
        },
        {
          "output_type": "display_data",
          "data": {
            "text/plain": [
              "<IPython.core.display.HTML object>"
            ],
            "text/html": [
              "Tracking run with wandb version 0.17.5"
            ]
          },
          "metadata": {}
        },
        {
          "output_type": "display_data",
          "data": {
            "text/plain": [
              "<IPython.core.display.HTML object>"
            ],
            "text/html": [
              "Run data is saved locally in <code>.\\wandb\\run-20241115_063658-jtva7wq5</code>"
            ]
          },
          "metadata": {}
        },
        {
          "output_type": "display_data",
          "data": {
            "text/plain": [
              "<IPython.core.display.HTML object>"
            ],
            "text/html": [
              "Syncing run <strong><a href='https://wandb.ai/abdul1/Idefics2/runs/jtva7wq5' target=\"_blank\">MathEquation_KIE6</a></strong> to <a href='https://wandb.ai/abdul1/Idefics2' target=\"_blank\">Weights & Biases</a> (<a href='https://wandb.me/run' target=\"_blank\">docs</a>)<br/>"
            ]
          },
          "metadata": {}
        },
        {
          "output_type": "display_data",
          "data": {
            "text/plain": [
              "<IPython.core.display.HTML object>"
            ],
            "text/html": [
              " View project at <a href='https://wandb.ai/abdul1/Idefics2' target=\"_blank\">https://wandb.ai/abdul1/Idefics2</a>"
            ]
          },
          "metadata": {}
        },
        {
          "output_type": "display_data",
          "data": {
            "text/plain": [
              "<IPython.core.display.HTML object>"
            ],
            "text/html": [
              " View run at <a href='https://wandb.ai/abdul1/Idefics2/runs/jtva7wq5' target=\"_blank\">https://wandb.ai/abdul1/Idefics2/runs/jtva7wq5</a>"
            ]
          },
          "metadata": {}
        },
        {
          "output_type": "stream",
          "name": "stderr",
          "text": [
            "LOCAL_RANK: 0 - CUDA_VISIBLE_DEVICES: [0]\n",
            "\n",
            "  | Name  | Type                             | Params | Mode\n",
            "------------------------------------------------------------------\n",
            "0 | model | Idefics2ForConditionalGeneration | 4.4 B  | eval\n",
            "------------------------------------------------------------------\n",
            "23.3 M    Trainable params\n",
            "4.3 B     Non-trainable params\n",
            "4.4 B     Total params\n",
            "17,438.418Total estimated model params size (MB)\n",
            "2482      Modules in train mode\n",
            "835       Modules in eval mode\n",
            "C:\\Anaconda3\\envs\\Idefics2\\lib\\site-packages\\lightning\\pytorch\\trainer\\connectors\\data_connector.py:424: The 'train_dataloader' does not have many workers which may be a bottleneck. Consider increasing the value of the `num_workers` argument` to `num_workers=31` in the `DataLoader` to improve performance.\n"
          ]
        },
        {
          "output_type": "stream",
          "name": "stdout",
          "text": [
            "Epoch 3: 100%|███████████████████████████████████████████████████████████| 300/300 [04:37<00:00,  1.08it/s, v_num=7wq5]"
          ]
        },
        {
          "output_type": "stream",
          "name": "stderr",
          "text": [
            "`Trainer.fit` stopped: `max_epochs=4` reached.\n"
          ]
        },
        {
          "output_type": "stream",
          "name": "stdout",
          "text": [
            "\rEpoch 3: 100%|███████████████████████████████████████████████████████████| 300/300 [05:01<00:00,  1.00it/s, v_num=7wq5]\n"
          ]
        }
      ]
    },
    {
      "cell_type": "markdown",
      "source": [
        "# inference"
      ],
      "metadata": {
        "id": "eG8JMXauf2u3"
      }
    },
    {
      "cell_type": "code",
      "source": [
        "model.save_pretrained(r\"E:\\Abdul_Muqtadir\\Thesis\\Idefics2_KIE\\model\")"
      ],
      "metadata": {
        "colab": {
          "base_uri": "https://localhost:8080/"
        },
        "id": "vY6Vrb8KkJ95",
        "outputId": "63e8a26a-4da1-46aa-b5b7-2aeca897af00"
      },
      "execution_count": null,
      "outputs": [
        {
          "output_type": "stream",
          "name": "stderr",
          "text": [
            "C:\\Anaconda3\\envs\\Idefics2\\lib\\site-packages\\transformers\\integrations\\peft.py:399: FutureWarning: The `active_adapter` method is deprecated and will be removed in a future version.\n",
            "  warnings.warn(\n"
          ]
        }
      ]
    },
    {
      "cell_type": "code",
      "source": [
        "model = Idefics2ForConditionalGeneration.from_pretrained(\n",
        "    r\"E:\\Abdul_Muqtadir\\Thesis\\Idefics2_KIE\\model\",\n",
        "    torch_dtype=torch.float16,\n",
        ")"
      ],
      "metadata": {
        "colab": {
          "base_uri": "https://localhost:8080/"
        },
        "id": "MkzCW3lCkd5D",
        "outputId": "c4e9c024-f1cf-474d-be51-772367b31af2"
      },
      "execution_count": null,
      "outputs": [
        {
          "output_type": "stream",
          "name": "stderr",
          "text": [
            "Loading checkpoint shards: 100%|█████████████████████████████████████████████████████████| 7/7 [00:57<00:00,  8.15s/it]\n"
          ]
        }
      ]
    },
    {
      "cell_type": "code",
      "source": [
        "model.to(device)"
      ],
      "metadata": {
        "id": "kIitWT4Hkzn3"
      },
      "execution_count": null,
      "outputs": []
    },
    {
      "cell_type": "code",
      "source": [
        "messages = [\n",
        "    {\n",
        "        \"role\": \"user\",\n",
        "        \"content\": [\n",
        "            {\"type\": \"text\", \"text\": \"Extract JSON.\"},\n",
        "            {\"type\": \"image\"},\n",
        "        ]\n",
        "    },\n",
        "]\n",
        "prompt = processor.apply_chat_template(messages, add_generation_prompt=True)\n",
        "print(prompt)\n"
      ],
      "metadata": {
        "id": "5vRDRtBEE3vq",
        "colab": {
          "base_uri": "https://localhost:8080/"
        },
        "outputId": "87c31b57-6553-4b62-b1bc-42662494e450"
      },
      "execution_count": null,
      "outputs": [
        {
          "output_type": "stream",
          "name": "stdout",
          "text": [
            "User: Extract JSON.<image><end_of_utterance>\n",
            "Assistant:\n"
          ]
        }
      ]
    },
    {
      "cell_type": "code",
      "source": [
        "from PIL import Image\n",
        "test_image_path = r\"E:\\Abdul_Muqtadir\\Thesis\\Dataset\\Test_Iamlatex2\\test\\Images\\generated_template_8.jpg\"\n",
        "\n",
        "test_image = Image.open(test_image_path)\n"
      ],
      "metadata": {
        "id": "AruxLf9Gf-YM"
      },
      "execution_count": null,
      "outputs": []
    },
    {
      "cell_type": "code",
      "source": [
        "model.to(DEVICE)"
      ],
      "metadata": {
        "id": "pT4SVzqAjVgh"
      },
      "execution_count": null,
      "outputs": []
    },
    {
      "cell_type": "code",
      "source": [
        "inputs = processor(text=prompt, images=[test_image], return_tensors=\"pt\").to(device)\n"
      ],
      "metadata": {
        "id": "hpXLX0CBf-Us"
      },
      "execution_count": null,
      "outputs": []
    },
    {
      "cell_type": "code",
      "source": [
        "\n",
        "# Generate token IDs\n",
        "generated_ids = model.generate(**inputs, max_new_tokens=768)\n"
      ],
      "metadata": {
        "id": "HdkGAc1pf-SY"
      },
      "execution_count": null,
      "outputs": []
    },
    {
      "cell_type": "code",
      "source": [
        "\n",
        "# Decode back into text\n",
        "generated_texts = processor.batch_decode(generated_ids, skip_special_tokens=True)\n",
        "\n",
        "generated_texts"
      ],
      "metadata": {
        "colab": {
          "base_uri": "https://localhost:8080/"
        },
        "id": "egTLFwfNf-Qv",
        "outputId": "b7b09fa3-01a3-47a6-e286-864062d12055"
      },
      "execution_count": null,
      "outputs": [
        {
          "output_type": "execute_result",
          "data": {
            "text/plain": [
              "['User: Extract JSON. \\nAssistant:  <s_latex_1>\\\\langle \\\\Gamma ^ { 4 } G _ { a } \\\\rangle = 0 </s_latex_1><s_latex_2>\\\\lim _ { E \\\\to \\\\infty } V = \\\\infty </s_latex_2><s_latex_3>I = I _ { B } + I _ { \\\\partial B } + I _ { c t }</s_latex_3><s_latex_4>\\\\rho = 0  5 4 = 0  1 0 ,</s_latex_4><s_latex_5>\\\\alpha = \\\\sqrt { \\\\frac { 1 + v } { 1 - v } } </s_latex_5><s_latex_6>\\\\bar { \\\\chi } U ^ { \\\\dag } Y U \\\\chi</s_latex_6><s_latex_7>\\\\bar { M } M + \\\\bar { D } D = \\\\bar { Q } Q</s_latex_7><s_latex_8>M = m + \\\\frac { 3 m } { e } \\\\ln \\\\sin \\\\beta ;</s_latex_8>']"
            ]
          },
          "metadata": {},
          "execution_count": 74
        }
      ]
    },
    {
      "cell_type": "code",
      "source": [
        "generated_texts[0]"
      ],
      "metadata": {
        "colab": {
          "base_uri": "https://localhost:8080/"
        },
        "id": "i2OFcLv7mBS5",
        "outputId": "2c5c743d-a667-49e8-990b-24d8f03f1a03"
      },
      "execution_count": null,
      "outputs": [
        {
          "output_type": "execute_result",
          "data": {
            "text/plain": [
              "'User: Extract JSON. \\nAssistant:  <s_latex_1>\\\\langle \\\\Gamma ^ { 4 } G _ { a } \\\\rangle = 0 </s_latex_1><s_latex_2>\\\\lim _ { E \\\\to \\\\infty } V = \\\\infty </s_latex_2><s_latex_3>I = I _ { B } + I _ { \\\\partial B } + I _ { c t }</s_latex_3><s_latex_4>\\\\rho = 0  5 4 = 0  1 0 ,</s_latex_4><s_latex_5>\\\\alpha = \\\\sqrt { \\\\frac { 1 + v } { 1 - v } } </s_latex_5><s_latex_6>\\\\bar { \\\\chi } U ^ { \\\\dag } Y U \\\\chi</s_latex_6><s_latex_7>\\\\bar { M } M + \\\\bar { D } D = \\\\bar { Q } Q</s_latex_7><s_latex_8>M = m + \\\\frac { 3 m } { e } \\\\ln \\\\sin \\\\beta ;</s_latex_8>'"
            ]
          },
          "metadata": {},
          "execution_count": 75
        }
      ]
    },
    {
      "cell_type": "code",
      "source": [
        "def Inference(img):\n",
        "  inputs = processor(text=prompt, images=[img], return_tensors=\"pt\").to(device)\n",
        "\n",
        "  generated_ids = model.generate(**inputs, max_new_tokens=768)\n",
        "\n",
        "  generated_texts = processor.batch_decode(generated_ids, skip_special_tokens=True)\n",
        "\n",
        "  return generated_texts[0]\n",
        "\n",
        "\n"
      ],
      "metadata": {
        "id": "sC3BGINolHSm"
      },
      "execution_count": null,
      "outputs": []
    },
    {
      "cell_type": "code",
      "source": [
        "import re\n",
        "import json\n",
        "\n",
        "import re\n",
        "\n",
        "def extract_latex_equations(input_str):\n",
        "\n",
        "    #input_str\n",
        "    # Regular expression to match both numbered and unknown latex tags\n",
        "    matches = re.findall(r'<s_latex(?:_(\\d+|<unk>))>(.*?)</s_latex(?:_\\1)>', input_str)\n",
        "\n",
        "    # Create the dictionary with formatted keys and LaTeX content\n",
        "    latex_dict = {}\n",
        "    for num, content in matches:\n",
        "        if num == \"<unk>\":\n",
        "            latex_dict[\"latex_1\"] = content.strip() # Map unknown tag to latex_1\n",
        "        else:\n",
        "            latex_dict[f\"latex_{num}\"] = content.strip()\n",
        "\n",
        "    return latex_dict\n",
        "\n"
      ],
      "metadata": {
        "id": "qiGk9CG2mHHE"
      },
      "execution_count": null,
      "outputs": []
    },
    {
      "cell_type": "code",
      "source": [
        "import os\n",
        "import json\n",
        "from PIL import Image\n",
        "\n",
        "# Define the directory containing images and JSON output directory\n",
        "image_dir = r'E:\\Abdul_Muqtadir\\Thesis\\Dataset\\Test_Iamlatex2\\test\\Images'\n",
        "json_output_dir = r'E:\\Abdul_Muqtadir\\Thesis\\Dataset\\Test_Iamlatex2/Idefics2_output'\n",
        "\n",
        "# Create the output directory if it doesn't exist\n",
        "os.makedirs(json_output_dir, exist_ok=True)\n",
        "\n",
        "# Loop through each file in the image directory\n",
        "for filename in os.listdir(image_dir):\n",
        "    # Check if the file is an image (e.g., .jpg or .png)\n",
        "    if filename.lower().endswith(('.jpg', '.jpeg', '.png')):  # Convert to lowercase for consistent matching\n",
        "        image_path = os.path.join(image_dir, filename)\n",
        "\n",
        "        # Open the image using PIL\n",
        "        img = Image.open(image_path)\n",
        "\n",
        "        # Perform inference and extract LaTeX equations\n",
        "        inference_text = Inference(img)\n",
        "        print(inference_text)\n",
        "        generated_text = extract_latex_equations(inference_text)\n",
        "\n",
        "        # Prepare the data to be saved in JSON format\n",
        "        data = generated_text\n",
        "        #print(generated_text)\n",
        "\n",
        "        # Define the output JSON file path with the same name as the image but with a .json extension\n",
        "        json_filename = os.path.splitext(filename)[0] + '.json'\n",
        "        json_path = os.path.join(json_output_dir, json_filename)\n",
        "\n",
        "        # Save the generated LaTeX equation to the JSON file\n",
        "        with open(json_path, 'w') as json_file:\n",
        "            json.dump(data, json_file, indent=4)\n",
        "\n",
        "        print(f\"Generated LaTeX for {filename} saved to {json_filename}\")\n"
      ],
      "metadata": {
        "colab": {
          "base_uri": "https://localhost:8080/"
        },
        "id": "vbmJRkAkmlBO",
        "outputId": "425276b8-ecc4-43ea-b5c2-d196b279a8fa"
      },
      "execution_count": null,
      "outputs": [
        {
          "output_type": "stream",
          "name": "stdout",
          "text": [
            "User: Extract JSON. \n",
            "Assistant:  <s_latex_1>\\delta p = \\frac { 2 } { \\sqrt { S } } \\delta S ,</s_latex_1><s_latex_2>E ^ { 2 } = 4 + 4 \\omega \\lparen N + 2 \\rparen </s_latex_2><s_latex_3>n _ { 2 } \\simeq 2 1 - 2 \\simeq - 2 5 </s_latex_3><s_latex_4>0 \\leq \\tau _ { i } \\lt \\pi / 2</s_latex_4><s_latex_5>E _ { C } R = \\frac { 2 \\pi } { e } S _ { \\Delta } ,</s_latex_5><s_latex_6>\\omega _ { k } = \\frac { k + 1 } { R }</s_latex_6><s_latex_7>\\tilde { g } _ { m \\parallel } \\geq \\delta _ { 0 } </s_latex_7><s_latex_8>A U - i B V = U E ,</s_latex_8>\n",
            "Generated LaTeX for generated_template_106.jpg saved to generated_template_106.json\n",
            "User: Extract JSON. \n",
            "Assistant:  <s_latex_1>\\partial ^ { \\ast M } = D ^ { M } \\eta ^ { \\ast } = 0</s_latex_1><s_latex_2>L _ { T } = L _ { F } + L _ { I }</s_latex_2><s_latex_3>\\psi \\rightarrow - \\psi</s_latex_3><s_latex_4>\\Omega = P ^ { m } , \\Omega ^ { 2 } = Q </s_latex_4><s_latex_5>R = 1 \\otimes j \\otimes \\bar { k } ,</s_latex_5><s_latex_6>\\delta A = \\lbrack D + A , V \\rbrack </s_latex_6><s_latex_7>\\lparen A , B \\rparen = \\int \\lbrace a , b \\rbrace</s_latex_7><s_latex_8>\\int \\Omega _ { K } = \\pi - \\frac { 1 } { 2 } \\lt \\pi </s_latex_8>\n",
            "Generated LaTeX for generated_template_129.jpg saved to generated_template_129.json\n",
            "User: Extract JSON. \n",
            "Assistant:  <s_latex_1>d E _ { R } = \\frac { 1 } { 2 \\pi } d S _ { R } ,</s_latex_1><s_latex_2>M = R ^ { 3 } \\times S ^ { 1 } \\times R ^ { 4 }</s_latex_2><s_latex_3>S = x i f \\int j d x d y d z ,</s_latex_3><s_latex_4>\\Delta f + \\star ^ { - 1 } p _ { m } = 0 ,</s_latex_4><s_latex_5>\\sigma \\times _ { B } C = C ,</s_latex_5><s_latex_6>\\lbrace \\Pi _ { 1 } , N \\rbrace \\longleftrightarrow N \\longleftrightarrow \\Pi _ { 1 }</s_latex_6><s_latex_7>q \\tilde { q } = 2 \\pi p , p \\in Z </s_latex_7><s_latex_8>\\bar { T } = T ^ { \\dagger } ,</s_latex_8>\n",
            "Generated LaTeX for generated_template_131.jpg saved to generated_template_131.json\n",
            "User: Extract JSON. \n",
            "Assistant:  <s_latex_1>A = g ^ { - 1 } d g + g ^ { - 1 } H g ,</s_latex_1><s_latex_2>\\Omega = d u \\wedge \\frac { d x } { y } ,</s_latex_2><s_latex_3>M _ { i j } = i \\int _ { B } E _ { j } + i \\int _ { \\tilde { B } } E _ { j } ,</s_latex_3><s_latex_4>S = - \\lparen r - q \\rparen \\times m u ,</s_latex_4><s_latex_5>\\frac { 1 } { 2 } B = - 2 \\mu \\bar { A }</s_latex_5><s_latex_6>\\gamma _ { \\lambda } = \\gamma _ { \\lambda } ^ { \\mathrm { a b t m } }</s_latex_6><s_latex_7>F = e ^ { - i F m \\Delta t } </s_latex_7><s_latex_8>\\Pi _ { \\sigma } \\lparen p \\rparen</s_latex_8>\n",
            "Generated LaTeX for generated_template_155.jpg saved to generated_template_155.json\n",
            "User: Extract JSON. \n",
            "Assistant:  <s_latex_1>\\langle \\rho , \\rangle : \\Xi \\longrightarrow A</s_latex_1><s_latex_2>\\delta A = \\lbrack D + A , V \\rbrack </s_latex_2><s_latex_3>\\lbrace , \\rbrace : N \\times N \\longrightarrow N</s_latex_3><s_latex_4>k _ { \\mu } \\varepsilon ^ { \\mu \\nu } = 0</s_latex_4><s_latex_5>\\ast \\gamma = \\gamma \\ast \\gamma = \\gamma </s_latex_5><s_latex_6>G = Q ^ { \\dagger } \\bar { G } Q ,</s_latex_6><s_latex_7>\\omega ^ { a } \\equiv e ^ { a }</s_latex_7><s_latex_8>W = W _ { - 2 / 3 } + W _ { 0 } + W _ { 2 / 3 } ,</s_latex_8>\n",
            "Generated LaTeX for generated_template_157.jpg saved to generated_template_157.json\n",
            "User: Extract JSON. \n",
            "Assistant:  <s_latex_1>\\epsilon : = \\sqrt { - E } , \\epsilon \\gt 0</s_latex_1><s_latex_2>b - 2 a = 3 , \\lambda = \\frac { 3 } { 2 } </s_latex_2><s_latex_3>b - 2 a = 3 , \\lambda = \\frac { 3 } { 2 } </s_latex_3><s_latex_4>\\partial _ { \\mu } F ^ { \\mu \\nu } = J ^ { \\nu }</s_latex_4><s_latex_5>\\pi _ { 2 } \\lparen S ^ { 2 } \\rparen = Z ,</s_latex_5><s_latex_6>\\int \\mathrm { d } g \\lbrace F , G \\rbrace = 0 ,</s_latex_6><s_latex_7>\\nabla _ { a } = \\partial _ { a } + \\sigma _ { a }</s_latex_7><s_latex_8>E \\rightarrow B , B \\rightarrow - E </s_latex_8>\n",
            "Generated LaTeX for generated_template_158.jpg saved to generated_template_158.json\n",
            "User: Extract JSON. \n",
            "Assistant:  <s_latex_1>\\int \\eta ^ { n } = 0 , \\int \\eta \\eta = 1 </s_latex_1><s_latex_2>f = 1 + a l _ { p } ^ { 2 } k ^ { 2 } </s_latex_2><s_latex_3>\\sigma _ { \\mathrm { a b s } } = 0</s_latex_3><s_latex_4>\\partial ^ { 2 } \\eta = 0 </s_latex_4><s_latex_5>x ^ { - } \\simeq x ^ { - } + 2 \\pi R ,</s_latex_5><s_latex_6>g m _ { I } = a _ { I } / 2 r _ { 1 1 } </s_latex_6><s_latex_7>\\tilde { R } _ { \\mu \\nu } ^ { i j } F _ { i j } =</s_latex_7><s_latex_8>L = L _ { + } \\oplus L _ { - } = L _ { + } \\otimes L _ { - } ,</s_latex_8>\n",
            "Generated LaTeX for generated_template_16.jpg saved to generated_template_16.json\n",
            "User: Extract JSON. \n",
            "Assistant:  <s_latex_1>E = C _ { 0 } \\lparen \\Sigma , K \\rparen </s_latex_1><s_latex_2>\\# \\beta = \\# \\gamma , \\# \\alpha _ { i } = 0 </s_latex_2><s_latex_3>\\alpha = 1 , u = J _ { 0 } , h = J _ { 1 }</s_latex_3><s_latex_4>\\Phi = - \\frac { 2 Y } { k } + c o n s t </s_latex_4><s_latex_5>d \\theta + \\theta \\wedge \\theta = 0 </s_latex_5><s_latex_6>\\sum _ { i = 1 } ^ { 4 } z _ { i } ^ { 2 } =</s_latex_6><s_latex_7>\\# \\beta = \\# \\gamma , \\# \\alpha _ { i } = 0 </s_latex_7><s_latex_8>S = \\frac { A } { 4 G \\hbar } ,</s_latex_8>\n",
            "Generated LaTeX for generated_template_162.jpg saved to generated_template_162.json\n",
            "User: Extract JSON. \n",
            "Assistant:  <s_latex_1>\\frac { H } { 2 } =</s_latex_1><s_latex_2>F _ { i j } + i E _ { i j } = 0 ,</s_latex_2><s_latex_3>H _ { s t r } = H _ { L } \\otimes H _ { R } ,</s_latex_3><s_latex_4>\\# \\mathrm { z e r o \\space m o d e s } = 2 N k ,</s_latex_4><s_latex_5>d = d _ { 1 } + d _ { 2 } + d _ { 3 } \\in 5 Z ,</s_latex_5><s_latex_6>e _ { a 0 } = \\lparen 1 + \\omega \\rparen ,</s_latex_6><s_latex_7>\\Delta _ { a 0 } = 1 , \\Lambda _ { b 0 } = 0 </s_latex_7><s_latex_8>\\lparen A _ { \\pm } + \\alpha C _ { \\pm } \\rparen</s_latex_8>\n",
            "Generated LaTeX for generated_template_169.jpg saved to generated_template_169.json\n",
            "User: Extract JSON. \n",
            "Assistant:  <s_latex_1>W = W _ { o } + W _ { A B } A B </s_latex_1><s_latex_2>\\Omega = \\Omega ^ { + } + i \\Omega ^ { - } ,</s_latex_2><s_latex_3>\\alpha = m ^ { - 1 } d m ,</s_latex_3><s_latex_4>Q \\vert \\Phi \\rangle = 0 ,</s_latex_4><s_latex_5>\\omega ^ { \\ast } \\equiv \\ e ^ { \\ast }</s_latex_5><s_latex_6>k _ { 0 } \\sim \\frac { \\hbar } { \\lambda } </s_latex_6><s_latex_7>d \\Delta = d q \\Delta d g \\Delta = d q \\Delta g</s_latex_7><s_latex_8>L = - 2 P - 2 \\Phi ,</s_latex_8>\n",
            "Generated LaTeX for generated_template_17.jpg saved to generated_template_17.json\n",
            "User: Extract JSON. \n",
            "Assistant:  <s_latex_1>\\# \\mathrm { z e r o \\space m o d e s } = 2 N k ,</s_latex_1><s_latex_2>\\nabla ^ { \\mu } \\pi _ { \\mu \\nu } = 0 , \\pi = 0 </s_latex_2><s_latex_3></s_latex_3><s_latex_4>d = \\frac { 1 7 2 8 } { 7 } = 2 4 6  8 6 </s_latex_4><s_latex_5>\\chi = p _ { + } \\chi _ { + } = 0</s_latex_5><s_latex_6>0 \\leq \\sigma \\lt 4 \\pi , 0 \\leq \\tau \\lt \\pi </s_latex_6><s_latex_7>x = y + v _ { 1 } t , x = z + v _ { 2 } t</s_latex_7><s_latex_8>\\mathrm { c o t } \\alpha = B , \\theta = 0 - 1</s_latex_8>\n",
            "Generated LaTeX for generated_template_174.jpg saved to generated_template_174.json\n",
            "User: Extract JSON. \n",
            "Assistant:  <s_latex_1>W = - \\nu ^ { - 1 } + W _ { + } ,</s_latex_1><s_latex_2>\\partial _ { 0 } A _ { 0 } = 0 ,</s_latex_2><s_latex_3>A = g ^ { - 1 } d g + g ^ { - 1 } H g ,</s_latex_3><s_latex_4>F _ { 1 } ^ { 2 } = R ^ { \\frac { 1 } { 2 } }</s_latex_4><s_latex_5>H _ { p } = H _ { c } + u ^ { i } \\omega _ { i } ,</s_latex_5><s_latex_6>T ^ { + } \\Phi T = \\Phi </s_latex_6><s_latex_7>\\sigma _ { l } \\lparen T \\rparen = T ^ { l - 1 }</s_latex_7><s_latex_8>\\chi \\equiv \\partial ^ { j } A ^ { j } = 0 ,</s_latex_8>\n",
            "Generated LaTeX for generated_template_179.jpg saved to generated_template_179.json\n",
            "User: Extract JSON. \n",
            "Assistant:  <s_latex_1>S _ { \\mathrm { t o p } } = \\int _ { M } B d C ,</s_latex_1><s_latex_2>f _ { a } = f _ { a } ^ { \\mu } d y _ { \\mu } </s_latex_2><s_latex_3>U = \\sum _ { r } U _ { r } ,</s_latex_3><s_latex_4>\\gamma _ { i j } = \\frac { 1 } { c } g _ { i j }</s_latex_4><s_latex_5>P ^ { \\prime } = \\sqrt { 2 } C ,</s_latex_5><s_latex_6>S _ { \\eta F } = S _ { \\eta F } ^ { \\lparen n \\rparen } ,</s_latex_6><s_latex_7>\\lambda ^ { \\ast } \\omega = K </s_latex_7><s_latex_8>d F = \\frac { 1 } { 2 \\pi } F _ { \\mu } d x ^ { \\mu } </s_latex_8>\n",
            "Generated LaTeX for generated_template_188.jpg saved to generated_template_188.json\n",
            "User: Extract JSON. \n",
            "Assistant:  <s_latex_1>x = x _ { 0 } + \\delta </s_latex_1><s_latex_2>N _ { 3 } = 2 \\times N _ { 4 }</s_latex_2><s_latex_3>\\Gamma = - K \\frac { 1 } { \\gamma } K </s_latex_3><s_latex_4>\\hat { \\nabla } _ { m } \\tilde { \\eta } = 0 </s_latex_4><s_latex_5>\\eta = O \\lparen r \\rparen ,</s_latex_5><s_latex_6>\\Psi ^ { \\dagger } = g ^ { \\ast } \\Psi ,</s_latex_6><s_latex_7>H \\lparen \\eta _ { 0 } \\rparen = \\lambda </s_latex_7><s_latex_8>\\lambda ^ { \\ast } \\omega = K </s_latex_8>\n",
            "Generated LaTeX for generated_template_221.jpg saved to generated_template_221.json\n",
            "User: Extract JSON. \n",
            "Assistant:  <s_latex_1>\\nabla _ { \\partial _ { \\alpha } \\abs } = 0</s_latex_1><s_latex_2>A = \\int d ^ { 2 } d \\theta _ { 1 / 2 }</s_latex_2><s_latex_3>M = R ^ { 3 } \\times S ^ { 1 } \\times R ^ { 4 }</s_latex_3><s_latex_4>\\Lambda = \\frac { d Y } { d G } G - Y</s_latex_4><s_latex_5>\\lparen k + 1 \\rparen = 2 p \\frac { m } { n }</s_latex_5><s_latex_6>\\delta _ { \\nu } M = D _ { \\nu } \\eta = 0</s_latex_6><s_latex_7>\\Delta _ { 2 } = 2 q , q = 0 , 1 ,   </s_latex_7><s_latex_8>D \\chi = \\Pi _ { n } d \\chi </s_latex_8>\n",
            "Generated LaTeX for generated_template_236.jpg saved to generated_template_236.json\n",
            "User: Extract JSON. \n",
            "Assistant:  <s_latex_1>\\delta F \\lbrack h \\rbrack =</s_latex_1><s_latex_2>\\int d \\eta = 0 , \\int d \\eta \\eta = 1 </s_latex_2><s_latex_3>L = \\frac { 2 \\pi } { k } - \\frac { 2 \\pi } { p } ,</s_latex_3><s_latex_4>\\partial _ { + } \\partial _ { - } \\Omega = - z ^ { 3 } P ^ { \\ast } </s_latex_4><s_latex_5>\\partial _ { + } \\eta = - \\eta + h ,</s_latex_5><s_latex_6>S _ { t o p } = \\int _ { M } B d C ,</s_latex_6><s_latex_7>F _ { + 1 2 3 } = \\mu , \\lparen \\mu \\neq 0 \\rparen</s_latex_7><s_latex_8>B _ { i } ^ { a } = D _ { i } \\Phi ^ { a }</s_latex_8>\n",
            "Generated LaTeX for generated_template_238.jpg saved to generated_template_238.json\n",
            "User: Extract JSON. \n",
            "Assistant:  <s_latex_1>x _ { M } = x _ { \\mu } + A _ { \\mu } </s_latex_1><s_latex_2>O _ { \\Delta S } \\geq J _ { \\Delta }</s_latex_2><s_latex_3>0 \\leq \\sigma \\lt 4 \\pi l , 0 \\leq \\tau \\lt \\pi </s_latex_3><s_latex_4>S _ { \\alpha \\beta } = \\int d t d x d y B _ { \\alpha \\beta }</s_latex_4><s_latex_5>\\lbrace Q , O _ { A } \\rbrace = - Q _ { \\mathrm { d } } ,</s_latex_5><s_latex_6>1 , \\cos 2 n \\sigma , n = 1 , 2 ,   </s_latex_6><s_latex_7>B _ { \\Sigma } \\int \\omega _ { D } ^ { 0 } = 0</s_latex_7><s_latex_8>\\partial _ { \\alpha } P _ { A \\alpha \\beta } = 0 </s_latex_8>\n",
            "Generated LaTeX for generated_template_243.jpg saved to generated_template_243.json\n",
            "User: Extract JSON. \n",
            "Assistant:  <s_latex_1>\\tilde { A } _ { 0 } = 4 \\lambda J \\Delta</s_latex_1><s_latex_2>S _ { B } = - \\int d t H _ { B }</s_latex_2><s_latex_3>\\langle P , \\rangle : \\Gamma \\rightarrow A</s_latex_3><s_latex_4>\\frac { 2 4 } { 7 } \\vert X \\rangle = \\frac { 1 } { 4 }</s_latex_4><s_latex_5>S _ { \\Theta } = i \\Theta n </s_latex_5><s_latex_6>e _ { j } - e _ { k } , j \\neq k </s_latex_6><s_latex_7>\\deg \\Pi _ { m } = \\deg \\tilde { \\Pi } _ { m } = m</s_latex_7><s_latex_8>a \\pi R + c _ { 0 } + c _ { \\pi } = \\pi n ,</s_latex_8>\n",
            "Generated LaTeX for generated_template_244.jpg saved to generated_template_244.json\n",
            "User: Extract JSON. \n",
            "Assistant:  <s_latex_1>\\tilde { R } = p \\gamma + 2 p \\nu ,</s_latex_1><s_latex_2>\\vec { x } = \\frac { \\vec { \\beta } } { \\alpha }</s_latex_2><s_latex_3>1 \\rightleftharpoons \\frac { 0 } { \\alpha } </s_latex_3><s_latex_4>E = e \\lparen 1 + 4 \\theta _ { 1 } e \\rparen ,</s_latex_4><s_latex_5>\\chi ^ { a _ { 1 } } = \\xi ^ { a _ { 1 } } </s_latex_5><s_latex_6>\\hat { H } \\varphi = \\hat { H } \\psi </s_latex_6><s_latex_7>\\tau \\pi + \\pi \\lt 0 , \\pi \\gt 0 ,</s_latex_7><s_latex_8>\\chi = \\chi \\star \\chi</s_latex_8>\n",
            "Generated LaTeX for generated_template_25.jpg saved to generated_template_25.json\n",
            "User: Extract JSON. \n",
            "Assistant:  <s_latex_1>\\Phi = \\pi - \\frac { \\alpha } { 2 }</s_latex_1><s_latex_2>\\psi = \\psi _ { \\alpha } e ^ { \\alpha } ,</s_latex_2><s_latex_3>\\dot { L } = \\frac { 1 } { 4 } \\bar { K } d ,</s_latex_3><s_latex_4>r _ { I } x ^ { I } + r _ { J } x ^ { J } + \\ldots = 0 ,</s_latex_4><s_latex_5>M _ { J } \\cdot c ^ { J } = d ^ { J }</s_latex_5><s_latex_6 \\lim _ { E \\to \\infty } V = \\infty ,</s_latex_6><s_latex_7>\\delta C = 0 ,</s_latex_7><s_latex_8>u \\geq 0 , v \\geq \\pi / 2 ,</s_latex_8>\n",
            "Generated LaTeX for generated_template_26.jpg saved to generated_template_26.json\n",
            "User: Extract JSON. \n",
            "Assistant:  <s_latex_1>\\lbrace X _ { 1 } , X _ { 2 } \\rbrace = \\theta ,</s_latex_1><s_latex_2>C _ { 1 } = C , C _ { 2 } = - \\frac { 1 } { 2 } </s_latex_2><s_latex_3>A \\geq T , T \\geq 4 \\sigma , \\sigma = 0 \\ldots </s_latex_3><s_latex_4>v \\mapsto v \\otimes L</s_latex_4><s_latex_5>K = \\bar { \\Phi } \\Phi + \\bar { X } X </s_latex_5><s_latex_6>q = i \\sqrt { f } h </s_latex_6><s_latex_7>0 = \\gamma _ { + + } = \\gamma _ { - - }</s_latex_7><s_latex_8>\\Psi ^ { A } = g ^ { A } _ { B } \\Psi ^ { B } ,</s_latex_8>\n",
            "Generated LaTeX for generated_template_267.jpg saved to generated_template_267.json\n",
            "User: Extract JSON. \n",
            "Assistant:  <s_latex_1>D _ { \\Psi ^ { \\prime } } = e ^ { \\phi } D _ { \\Psi }</s_latex_1><s_latex_2>\\cdot , \\cdot : G \\times G \\rightarrow G </s_latex_2><s_latex_3>\\delta X = Z \\delta ^ { \\ast } X = Y</s_latex_3><s_latex_4>q A = Z L _ { p } , p \\in Z </s_latex_4><s_latex_5>\\int d \\eta = 0 , \\int d \\eta \\eta = 1 </s_latex_5><s_latex_6>\\pi _ { 1 } \\lparen C P ^ { n } \\rparen = 0 ,</s_latex_6><s_latex_7>N = 4 \\sum _ { a } n _ { a } </s_latex_7><s_latex_8>L = L _ { + } \\oplus L _ { - } ,</s_latex_8>\n",
            "Generated LaTeX for generated_template_268.jpg saved to generated_template_268.json\n",
            "User: Extract JSON. \n",
            "Assistant:  <s_latex_1>\\lambda = 8 + 2 \\pi \\lt T \\geq N </s_latex_1><s_latex_2>E = \\pm \\sqrt { p ^ { 2 } + m ^ { 2 } } ,</s_latex_2><s_latex_3>\\partial _ { + } \\partial _ { - } \\psi = 0 , \\partial _ { + } \\psi = 0 </s_latex_3><s_latex_4>\\sigma ^ { 2 } \\lparen \\Phi \\rparen = 2 \\lambda ^ { 2 } </s_latex_4><s_latex_5>\\nabla _ { \\hat { \\chi } } \\hat { \\chi } = 0 </s_latex_5><s_latex_6>\\Pi \\lparen H \\rparen \\eta ^ { \\star } = 0</s_latex_6><s_latex_7>\\ast \\gamma = \\gamma _ { 5 } \\gamma </s_latex_7><s_latex_8>\\mu = R \\vert a \\vert</s_latex_8>\n",
            "Generated LaTeX for generated_template_269.jpg saved to generated_template_269.json\n",
            "User: Extract JSON. \n",
            "Assistant:  <s_latex_1>I = - I </s_latex_1><s_latex_2>\\Omega = \\Omega ^ { - 1 } ,</s_latex_2><s_latex_3>0 = \\gamma _ { + + } = \\gamma _ { - - }</s_latex_3><s_latex_4>\\Phi \\rightarrow e ^ { 2 i \\alpha } \\Phi ,</s_latex_4><s_latex_5>\\int \\omega ^ { n } = n + 1 ,</s_latex_5><s_latex_6>x : = \\bar { x } , y : = \\bar { y } ,</s_latex_6><s_latex_7>n \\sigma + m \\tau = 0 ,</s_latex_7><s_latex_8>L _ { 2 } - 4 M N K \\lt 0 , M \\gt 0 , N \\gt 0 , K \\gt 0 ,</s_latex_8><s_latex_9>L ^ { 2 } - 4 M N K \\lt 0 , M \\gt 0 , N \\gt 0 , K \\gt 0 ,</s_latex_9>\n",
            "Generated LaTeX for generated_template_28.jpg saved to generated_template_28.json\n",
            "User: Extract JSON. \n",
            "Assistant:  <s_latex_1>0 \\to M \\to \\Gamma _ { 8 } \\to \\Phi \\to 0 ,</s_latex_1><s_latex_2>G \\equiv S U \\lparen N \\rparen \\times Z _ { 2 } ,</s_latex_2><s_latex_3>d ^ { \\mu } = d x ^ { \\mu } </s_latex_3><s_latex_4>M _ { a b } M _ { c b } = \\delta _ { a c } ,</s_latex_4><s_latex_5>\\omega : T M \\rightarrow T ^ { \\ast } M ,</s_latex_5><s_latex_6>f \\vert _ { Y = 0 } = f _ { 0 } </s_latex_6><s_latex_7>\\mathrm { D i v } E = 4 \\pi \\rho </s_latex_7><s_latex_8>S = S _ { 0 } + s _ { \\mu } T ^ { \\mu \\nu } g _ { \\nu } ,</s_latex_8>\n",
            "Generated LaTeX for generated_template_281.jpg saved to generated_template_281.json\n",
            "User: Extract JSON. \n",
            "Assistant:  <s_latex_1>\\langle I \\vert 0 \\rangle = 1 ,</s_latex_1><s_latex_2>0 \\int \\eta + \\int \\bar { \\eta } = 0</s_latex_2><s_latex_3>F _ { 1 2 } = \\frac { 1 } { R } l</s_latex_3><s_latex_4>\\xi ^ { 1 \\ast } \\lparen x \\rparen = 0 ,</s_latex_4><s_latex_5>F = \\frac { d } { d t } \\tau ^ { \\mu } d r ^ { \\mu }</s_latex_5><s_latex_6>- k _ { + } ^ { \\ast } = k _ { - } ^ { \\ast }</s_latex_6><s_latex_7>\\lbrack G _ { a } , \\gamma _ { b } \\rbrack = 0 ,</s_latex_7><s_latex_8>S \\lparen f ^ { 2 } \\rparen = 0 </s_latex_8>\n",
            "Generated LaTeX for generated_template_282.jpg saved to generated_template_282.json\n",
            "User: Extract JSON. \n",
            "Assistant:  <s_latex_1>w _ { I } = P - \\rho ,</s_latex_1><s_latex_2>\\pi _ { + } = - i \\alpha ,</s_latex_2><s_latex_3>\\alpha , \\beta , \\ldots \\in \\lbrace 0 , 1 \\rbrace</s_latex_3><s_latex_4>k _ { \\mu } \\varepsilon ^ { \\mu \\nu } = 0</s_latex_4><s_latex_5>d = 2 i \\int d ^ { 2 } x d ^ { 2 } \\theta E H S ,</s_latex_5><s_latex_6>e \\int j \\wedge A \\equiv e \\oint _ { C } Q A ,</s_latex_6><s_latex_7>\\rho _ { 0 } \\sim \\frac { \\hbar } { \\lambda } ,</s_latex_7><s_latex_8>E ^ { 2 } = E , E ^ { \\dagger } = E ,</s_latex_8>\n",
            "Generated LaTeX for generated_template_303.jpg saved to generated_template_303.json\n",
            "User: Extract JSON. \n",
            "Assistant:  <s_latex_1>D _ { t } ^ { - 2 } \\Upsilon = \\Psi ^ { 2 } ,</s_latex_1><s_latex_2>H = p _ { \\mu } \\star \\dot { q } ^ { \\mu } - L</s_latex_2><s_latex_3>\\dot { \\Sigma } _ { + } = \\dot { \\Sigma } _ { - }</s_latex_3><s_latex_4>\\int \\Omega _ { K } = \\pi Q , Q \\in Z </s_latex_4><s_latex_5>\\Gamma = - K \\frac { 1 } { \\gamma } K </s_latex_5><s_latex_6>\\lambda = 8 + t , t = 0 , 1 , 2 , \\ldots </s_latex_6><s_latex_7>L _ { m a s s } = H _ { 0 } ^ { T } M H _ { 0 } ,</s_latex_7><s_latex_8>R _ { \\Sigma _ { + } } J _ { \\Sigma _ { - } } = 0 ,</s_latex_8>\n",
            "Generated LaTeX for generated_template_305.jpg saved to generated_template_305.json\n",
            "User: Extract JSON. \n",
            "Assistant:  <s_latex_1>Q = \\alpha / \\sqrt { 1 - \\alpha ^ { 2 } } </s_latex_1><s_latex_2>d : x ^ { i } \\rightarrow d x ^ { i }</s_latex_2><s_latex_3>\\delta _ { v } u ^ { \\mu } = D v ^ { \\mu } </s_latex_3><s_latex_4>k = h _ { 3 } - h _ { 1 } - h _ { 2 } ,</s_latex_4><s_latex_5>\\bar { \\partial } _ { t } \\psi + \\bar { \\partial } _ { x } \\phi + 0</s_latex_5><s_latex_6>Z _ { \\Psi ^ { \\prime } } = Z </s_latex_6><s_latex_7>I = - I </s_latex_7><s_latex_8>c _ { 0 } + c _ { \\pm 2 } = 1</s_latex_8>\n",
            "Generated LaTeX for generated_template_310.jpg saved to generated_template_310.json\n",
            "User: Extract JSON. \n",
            "Assistant:  <s_latex_1>G = Q ^ { \\dagger } , G Q ,</s_latex_1><s_latex_2>m = M - \\lambda M ^ { 2 } </s_latex_2><s_latex_3>H = - \\partial _ { t } ^ { 2 } + 2 H ,</s_latex_3><s_latex_4>u \\rightarrow \\underline { \\theta } ^ { - 1 } u</s_latex_4><s_latex_5>F = F _ { t } + F _ { l }</s_latex_5><s_latex_6>L \\sim \\sqrt { - \\det G _ { \\mu \\nu } }</s_latex_6><s_latex_7>L = - \\frac { T } { 2 } \\eta _ { \\mu \\nu }</s_latex_7><s_latex_8>u \\rightarrow \\underline { \\theta } ^ { - 1 } u</s_latex_8>\n",
            "Generated LaTeX for generated_template_33.jpg saved to generated_template_33.json\n",
            "User: Extract JSON. \n",
            "Assistant:  <s_latex_1>f _ { a } = f _ { a } ^ { \\mu } d y _ { \\mu } </s_latex_1><s_latex_2>\\sigma ^ { n } \\lparen x \\rparen = x + n \\alpha </s_latex_2><s_latex_3>\\int \\mathrm { d } e \\lbrace F , G \\rbrace = 0 </s_latex_3><s_latex_4>\\partial _ { \\mu } F ^ { \\mu \\nu } = J ^ { \\nu }</s_latex_4><s_latex_5>d _ { 2 } = 2 p , d _ { 3 } = 3 q + 1 ,</s_latex_5><s_latex_6>\\delta x _ { i } = \\delta y _ { i } = \\eta _ { i }</s_latex_6><s_latex_7>R = 1 + \\eta ^ { - 1 } \\oplus \\bar { h } ^ { - 1 } ,</s_latex_7><s_latex_8>A _ { 0 , 1 , 2 , 3 } \\in R </s_latex_8>\n",
            "Generated LaTeX for generated_template_341.jpg saved to generated_template_341.json\n",
            "User: Extract JSON. \n",
            "Assistant:  <s_latex_1>V \\lparen a _ { \\pm } b \\rparen = 0 </s_latex_1><s_latex_2>m _ { _ { J } } c R = \\frac { h } { 2 \\pi }</s_latex_2><s_latex_3>\\varepsilon = \\varepsilon _ { \\infty }</s_latex_3><s_latex_4>T \\rightarrow \\frac { 1 } { T } </s_latex_4><s_latex_5>E = e \\lparen 1 + 4 \\pi g \\rparen ,</s_latex_5><s_latex_6>\\oint _ { \\Sigma _ { I } } B = 2 \\pi n ^ { I }</s_latex_6><s_latex_7>\\Phi = \\pi - \\frac { 1 } { 2 } \\phi _ { x }</s_latex_7><s_latex_8>L \\sim \\sqrt { - \\det G _ { \\alpha \\beta } }</s_latex_8>\n",
            "Generated LaTeX for generated_template_346.jpg saved to generated_template_346.json\n",
            "User: Extract JSON. \n",
            "Assistant:  <s_latex_1>\\partial _ { + } \\rightarrow - \\partial _ { - } , A \\rightarrow A ,</s_latex_1><s_latex_2>c \\# = 2 6 , a \\# = 1 ,</s_latex_2><s_latex_3> m _ { 3 / 2 } = \\frac { \\omega } { \\alpha }</s_latex_3><s_latex_4>\\Delta A = - \\frac { 2 8 } { 3 } \\lambda _ { 1 } </s_latex_4><s_latex_5>H _ { L C } =</s_latex_5><s_latex_6>\\partial _ { \\lbrack i } \\partial _ { j k \\rbrack } = 0 </s_latex_6><s_latex_7>\\Omega = \\Omega ^ { + } + i \\Omega ^ { - } ,</s_latex_7><s_latex_8>T _ { + } \\Phi T _ { - } = \\Phi ,</s_latex_8>\n",
            "Generated LaTeX for generated_template_349.jpg saved to generated_template_349.json\n",
            "User: Extract JSON. \n",
            "Assistant:  <s_latex_1>A =</s_latex_1><s_latex_2>\\phi _ { + + } = \\phi _ { - - } = \\pi / 2</s_latex_2><s_latex_3>\\tilde { A } _ { 0 } = 4 \\lambda J \\Delta</s_latex_3><s_latex_4>\\tilde { \\Phi } = \\rho - 3 a </s_latex_4><s_latex_5>W _ { m } = - \\frac { m ^ { 3 } } { 1 2 \\pi } </s_latex_5><s_latex_6>\\alpha \\hat { b } \\rightarrow \\alpha \\hat { b } + \\beta ,</s_latex_6><s_latex_7>\\Delta \\to M \\Delta M ^ { - 1 } \\Delta ,</s_latex_7><s_latex_8>A _ { \\mathrm { n e w } } \\sim E _ { \\mathrm { N } } ,</s_latex_8>\n",
            "Generated LaTeX for generated_template_356.jpg saved to generated_template_356.json\n",
            "User: Extract JSON. \n",
            "Assistant:  <s_latex_1>\\phi _ { t t } - \\phi _ { x x } = - \\sin \\phi</s_latex_1><s_latex_2>j \\vert a \\vert \\le \\vert n \\vert + k ,</s_latex_2><s_latex_3>P Q _ { A } P = - Q _ { A } , A = 0 , 1 , 2 , 3 </s_latex_3><s_latex_4>S _ { \\eta F } \\leq \\pi E h </s_latex_4><s_latex_5>N = 4 \\sum _ { a } n _ { a } </s_latex_5><s_latex_6>A \\subset M \\subset B</s_latex_6><s_latex_7>d : x ^ { i } \\rightarrow d x ^ { i }</s_latex_7><s_latex_8>\\tilde { \\Phi } = e ^ { - p K / 2 } \\Phi</s_latex_8>\n",
            "Generated LaTeX for generated_template_365.jpg saved to generated_template_365.json\n",
            "User: Extract JSON. \n",
            "Assistant:  <s_latex_1>\\frac { m } { m _ { _ { J } } } = \\frac { h } { 2 }</s_latex_1><s_latex_2>\\langle a _ { k } , a _ { l } \\rangle = \\delta _ { k } ,</s_latex_2><s_latex_3>L = - \\frac { 1 } { 2 } \\eta _ { \\mu \\nu }</s_latex_3><s_latex_4>\\lbrack P , Q \\rbrack = \\mathrm { i } \\hbar 1 </s_latex_4><s_latex_5>\\alpha = 1 / \\sqrt { f _ { H } } </s_latex_5><s_latex_6>e \\cdot g = g \\cdot e \\chi \\lparen g \\rparen</s_latex_6><s_latex_7>2 r \\frac { \\partial \\sigma } { \\partial r } - \\sigma = 0</s_latex_7><s_latex_8>u \\rightarrow \\bar { u } - \\bar { u }</s_latex_8>\n",
            "Generated LaTeX for generated_template_377.jpg saved to generated_template_377.json\n",
            "User: Extract JSON. \n",
            "Assistant:  <s_latex_1>\\vartheta \\rightarrow \\vartheta - \\alpha</s_latex_1><s_latex_2>J ^ { M } = 2 \\pi \\lbrack D - \\Omega \\rbrack </s_latex_2><s_latex_3>e ^ { \\prime } = e - 2 g \\theta </s_latex_3><s_latex_4>\\tilde { \\zeta } = K = i \\langle \\bar { w } , w \\rangle</s_latex_4><s_latex_5>\\sigma _ { l } \\lparen T \\rparen = T ^ { l }</s_latex_5><s_latex_6>S = - \\frac { T } { 2 }</s_latex_6><s_latex_7>\\deg \\Pi _ { m } = \\deg \\tilde { \\Pi } _ { m } = m</s_latex_7><s_latex_8>M = m + \\int \\mu ^ { - 1 } sm \\mu ;</s_latex_8>\n",
            "Generated LaTeX for generated_template_378.jpg saved to generated_template_378.json\n",
            "User: Extract JSON. \n",
            "Assistant:  <s_latex_1>F _ { L } ^ { 3 } = - \\frac { 1 } { 4 } \\omega ,</s_latex_1><s_latex_2>Q = \\alpha / \\sqrt { 1 - \\alpha ^ { 2 } } </s_latex_2><s_latex_3>\\lim _ { \\beta \\to \\infty } V = \\infty </s_latex_3><s_latex_4>S _ { \\eta F } = \\int \\lt \\eta , F \\gt </s_latex_4><s_latex_5>S _ { \\eta F } = \\int _ { M } B _ { \\eta } ,</s_latex_5><s_latex_6>N U V = - \\frac { 2 } { \\gamma } ,</s_latex_6><s_latex_7>\\lim _ { \\gamma \\to \\infty } S = \\frac { 2 } { \\gamma } \\int S _ { V } ,</s_latex_7><s_latex_8>\\rho = \\sum _ { j } H _ { j } \\otimes h ^ { j } </s_latex_8>\n",
            "Generated LaTeX for generated_template_383.jpg saved to generated_template_383.json\n",
            "User: Extract JSON. \n",
            "Assistant:  <s_latex_1>D ^ { \\dagger } D = H + V</s_latex_1><s_latex_2>\\delta m ^ { 2 } = n _ { \\mathrm { M } }</s_latex_2><s_latex_3>a \\rightarrow \\nu a \\nu ^ { - 1 } ,</s_latex_3><s_latex_4>\\partial _ { + } = g _ { i } \\partial _ { i } - \\frac { 1 } { 2 } \\partial _ { \\jmath }</s_latex_4><s_latex_5>\\Pi \\lparen H \\rparen \\eta ^ { \\star } = 0</s_latex_5><s_latex_6>l _ { q } d K = q ^ { - 2 } d K l _ { q } </s_latex_6><s_latex_7>\\bar { T } = \\frac { T } { 2 } </s_latex_7><s_latex_8>E = - i Q e ,</s_latex_8>\n",
            "Generated LaTeX for generated_template_389.jpg saved to generated_template_389.json\n",
            "User: Extract JSON. \n",
            "Assistant:  <s_latex_1>\\tilde { H } = \\frac { 1 } { 2 } \\pi ^ { 2 } + L</s_latex_1><s_latex_2>\\Delta \\varphi = 2 R ^ { - 2 } e ^ { \\varphi }</s_latex_2><s_latex_3>\\tilde { \\Phi } = - \\partial _ { x } \\varphi ,</s_latex_3><s_latex_4>H _ { R } = 0 \\times \\Pi / 2 ,</s_latex_4><s_latex_5>\\partial _ { - - }</s_latex_5><s_latex_6>L _ { + } L _ { - } = \\Omega ^ { + } ,</s_latex_6><s_latex_7>\\lbrace Q _ { 0 } , A \\rbrace = - \\partial _ { \\alpha } d \\alpha </s_latex_7><s_latex_8>\\Delta M = \\lparen B _ { + } + b _ { - } \\rparen ,</s_latex_8>\n",
            "Generated LaTeX for generated_template_394.jpg saved to generated_template_394.json\n",
            "User: Extract JSON. \n",
            "Assistant:  <s_latex_1>\\chi \\equiv \\partial ^ { j } A ^ { j } = 0 </s_latex_1><s_latex_2>\\mathrm { D i v } E = 4 \\pi \\rho </s_latex_2><s_latex_3>\\sum _ { d H = 0 } 1 \\geq \\sum _ { n } B _ { n } ,</s_latex_3><s_latex_4>\\int d \\Omega = 0 , \\int d \\Omega \\rho = 1 </s_latex_4><s_latex_5>c _ { 2 } ^ { + } + c _ { 2 } ^ { - } = 1</s_latex_5><s_latex_6>\\vec { \\mu } \\cdot \\vec { k } = d </s_latex_6><s_latex_7>\\phi ^ { 6 } \\leftrightarrow - \\phi ^ { 6 } </s_latex_7><s_latex_8>s \\pm n \\approx \\pm \\sqrt { 2 \\kappa }</s_latex_8>\n",
            "Generated LaTeX for generated_template_395.jpg saved to generated_template_395.json\n",
            "User: Extract JSON. \n",
            "Assistant:  <s_latex_1>Q A + \\mathrm { X } A \\star A = 0 </s_latex_1><s_latex_2>\\mu _ { + } = \\frac { 1 } { R } ,</s_latex_2><s_latex_3>\\frac { \\pi } { \\pi + g N } p \\lt 1 ,</s_latex_3><s_latex_4>\\delta P = 0 ,</s_latex_4><s_latex_5>\\delta \\psi _ { M } = D _ { M } \\eta = 0</s_latex_5><s_latex_6>\\Psi = L - \\Theta ,</s_latex_6><s_latex_7>\\tilde { A } _ { 0 } = A _ { 0 } + \\Delta A ,</s_latex_7><s_latex_8>a + b \\rightarrow R \\rightarrow c + d</s_latex_8>\n",
            "Generated LaTeX for generated_template_40.jpg saved to generated_template_40.json\n",
            "User: Extract JSON. \n",
            "Assistant:  <s_latex_1>D = - \\frac { \\kappa } { 2 } L _ { \\eta } ,</s_latex_1><s_latex_2>\\Phi = \\Phi _ { + } \\Phi _ { - }</s_latex_2><s_latex_3>J _ { - k } \\equiv \\bar { J } _ { k } , k \\gt 0</s_latex_3><s_latex_4>\\Xi ^ { \\dagger } H \\Xi = \\bar { H } </s_latex_4><s_latex_5>D = - \\frac { Q ^ { \\ast 2 } } { 2 M } </s_latex_5><s_latex_6>a + b - q \\neq 0 , \\pm 1 , \\pm 2 , \\ldots</s_latex_6><s_latex_7>\\cdot : G \\times G \\rightarrow G </s_latex_7><s_latex_8>p \\to m - p - 2 ,</s_latex_8>\n",
            "Generated LaTeX for generated_template_403.jpg saved to generated_template_403.json\n",
            "User: Extract JSON. \n",
            "Assistant:  <s_latex_1>\\langle I \\vert 0 \\rangle = 1 ,</s_latex_1><s_latex_2>\\partial _ { \\alpha } A _ { \\mu } = 0 , A _ { \\mu } = 0 </s_latex_2><s_latex_3>\\alpha = 1 , u = J _ { 0 } , h = J _ { 1 }</s_latex_3><s_latex_4>\\rho _ { \\chi } ^ { \\prime } = \\rho _ { \\chi } </s_latex_4><s_latex_5>\\int \\omega ^ { n } = n + 1 ,</s_latex_5><s_latex_6>R \\vert 0 \\rangle = \\pm \\vert 0 \\rangle </s_latex_6><s_latex_7>\\bar { M } M + \\bar { D } D = \\bar { Q } Q</s_latex_7><s_latex_8>M _ { E } \\cdot c ^ { E } = d ^ { E }</s_latex_8>\n",
            "Generated LaTeX for generated_template_409.jpg saved to generated_template_409.json\n",
            "User: Extract JSON. \n",
            "Assistant:  <s_latex_1>G \\equiv S U \\lparen N \\rparen \\otimes Z _ { 2 } ,</s_latex_1><s_latex_2>T \\equiv 2 n + m \\geq A _ { 0 } </s_latex_2><s_latex_3>\\tilde { S } _ { \\mathrm { t o p } } = \\int _ { M } B d C ,</s_latex_3><s_latex_4>B = - \\frac { \\alpha } { 2 n } </s_latex_4><s_latex_5>\\lparen C _ { 0 } - C _ { \\mu } \\rparen \\psi = 0 </s_latex_5><s_latex_6>H _ { \\rho } = E _ { \\rho } </s_latex_6><s_latex_7>\\nabla _ { a } P ^ { a \\mu } = 0 ,</s_latex_7><s_latex_8>F = \\mathrm { c o n s t a n t } </s_latex_8>\n",
            "Generated LaTeX for generated_template_412.jpg saved to generated_template_412.json\n",
            "User: Extract JSON. \n",
            "Assistant:  <s_latex_1>L = - \\frac { T } { 2 } \\eta _ { \\mu \\nu }</s_latex_1><s_latex_2>A = \\int _ { M ^ { 4 } \\subset K } L</s_latex_2><s_latex_3>\\lambda = \\frac { 1 - 3 } { 1 + 3 } </s_latex_3><s_latex_4>\\lparen A , B \\rparen = \\int \\lbrace a , b \\rbrace</s_latex_4><s_latex_5>\\nu = \\exp \\lparen \\psi \\rparen ,</s_latex_5><s_latex_6>\\Delta \\varphi = 2 R ^ { - 2 } e ^ { \\varphi }</s_latex_6><s_latex_7>m = M + \\lambda M ^ { 2 } </s_latex_7><s_latex_8>\\Lambda = \\Lambda _ { + } D \\Lambda _ { - }</s_latex_8>\n",
            "Generated LaTeX for generated_template_418.jpg saved to generated_template_418.json\n",
            "User: Extract JSON. \n",
            "Assistant:  <s_latex_1>\\delta _ { \\Omega } ^ { \\ast } = \\eta ^ { \\ast }</s_latex_1><s_latex_2>U _ { a } \\rightarrow U _ { a } \\otimes \\Omega _ { 0 } </s_latex_2><s_latex_3>C _ { 2 } = C _ { 3 } = - \\frac { 1 } { 2 } </s_latex_3><s_latex_4>G \\lparen \\Phi \\rparen = - m ^ { 2 } \\Phi ,</s_latex_4><s_latex_5>\\dot { \\chi } = \\partial _ { x } \\chi = \\partial _ { y } \\chi</s_latex_5><s_latex_6>D : S \\rightarrow S + \\lambda ,</s_latex_6><s_latex_7>M = M _ { - 2 } = M _ { + 2 } ,</s_latex_7><s_latex_8>\\Gamma ^ { A } i \\partial _ { A } \\Psi = 0 ,</s_latex_8>\n",
            "Generated LaTeX for generated_template_422.jpg saved to generated_template_422.json\n",
            "User: Extract JSON. \n",
            "Assistant:  <s_latex_1>e ^ { \\prime } = e - 2 g \\theta </s_latex_1><s_latex_2>F = d x ^ { - } \\wedge \\varphi ,</s_latex_2><s_latex_3>c ^ { \\# } = 2 6 , a ^ { \\# } = 1 </s_latex_3><s_latex_4>\\Delta \\varphi = 2 R ^ { - 2 } e ^ { \\sigma }</s_latex_4><s_latex_5>f ^ { + } = e ^ { - } f _ { + } ,</s_latex_5><s_latex_6>\\Phi ^ { \\prime } = g ^ { - 1 } \\Phi g </s_latex_6><s_latex_7>m = M + \\lambda M ^ { 2 } </s_latex_7><s_latex_8>\\tilde { \\pi } _ { 1 } = - i \\bar { \\pi } _ { 1 } ,</s_latex_8>\n",
            "Generated LaTeX for generated_template_428.jpg saved to generated_template_428.json\n",
            "User: Extract JSON. \n",
            "Assistant:  <s_latex_1>N _ { 1 1 } \\equiv k \\mathrm { m o d } N </s_latex_1><s_latex_2>R _ { m n } ^ { p q } J _ { p q } = 0 ,</s_latex_2><s_latex_3>0 \\leq \\sigma \\lt 4 \\pi l , 0 \\leq \\tau \\lt \\pi </s_latex_3><s_latex_4>q ^ { + } = \\alpha - \\beta i - j + k j _ { j } - k _ { j } ^ { 2 }</s_latex_4><s_latex_5>\\Xi ^ { \\dagger } = 1 - \\frac { 1 } { 2 } \\beta = \\frac { 1 } { \\kappa } ,</s_latex_5><s_latex_6>\\tilde { R } _ { m n } ^ { p q } J _ { p q } = 0 ,</s_latex_6><s_latex_7>D : S ^ { + } \\rightarrow S ^ { + } ,</s_latex_7><s_latex_8>w \\lparen - t \\rparen = - w \\lparen t \\rparen ,</s_latex_8>\n",
            "Generated LaTeX for generated_template_43.jpg saved to generated_template_43.json\n",
            "User: Extract JSON. \n",
            "Assistant:  <s_latex_1>l _ { q } d K = q ^ { - 2 } d K l _ { q } </s_latex_1><s_latex_2>\\sum _ { i = 1 } ^ { n } l _ { i } \\geq J - n </s_latex_2><s_latex_3>\\dot { \\varphi } = O _ { \\zeta } ^ { \\ast } = U</s_latex_3><s_latex_4>V \\lparen x \\rparen = e ^ { - i q x } </s_latex_4><s_latex_5>Y \\rightarrow Y \\otimes L</s_latex_5><s_latex_6>E = \\pm \\sqrt { \\vec { p } ^ { 2 } + m ^ { 2 } } ,</s_latex_6><s_latex_7>x _ { I } = P ^ { \\mu } _ { I } d x ^ { \\mu } = 0</s_latex_7><s_latex_8>\\nabla _ { \\mu } h _ { \\nu } ^ { \\mu } = 0 </s_latex_8>\n",
            "Generated LaTeX for generated_template_438.jpg saved to generated_template_438.json\n",
            "User: Extract JSON. \n",
            "Assistant:  <s_latex_1>q \\tilde { q } = 2 \\pi p , p \\in Z </s_latex_1><s_latex_2>\\partial _ { 0 } A _ { 0 } = 0 ,</s_latex_2><s_latex_3>\\Pi _ { + } = \\Pi _ { - } = \\frac { 1 } { 2 } \\mu </s_latex_3><s_latex_4>\\Sigma \\equiv H \\Sigma H = \\bar { H } </s_latex_4><s_latex_5>\\langle A _ { 0 } \\rangle = 2 \\pi n T / e</s_latex_5><s_latex_6>2  \\hat { g } = 0 a = i g y ,</s_latex_6><s_latex_7>F _ { + 1 2 } g _ { + 1 2 } = 0</s_latex_7><s_latex_8>E : Q \\to A , E \\lparen q \\rparen = q e </s_latex_8>\n",
            "Generated LaTeX for generated_template_44.jpg saved to generated_template_44.json\n",
            "User: Extract JSON. \n",
            "Assistant:  <s_latex_1>X ^ { \\prime } = U X U ^ { \\dagger } + A ,</s_latex_1><s_latex_2>\\omega \\lparen - t \\rparen = - u \\lparen t \\rparen ,</s_latex_2><s_latex_3>\\Psi ^ { A } = g ^ { A } _ { B } \\Psi ^ { B } ,</s_latex_3><s_latex_4>X ^ { \\prime } = \\xi , Z = X ^ { \\ast } = 0 </s_latex_4><s_latex_5>V \\lparen x \\rparen = e ^ { - i q x } </s_latex_5><s_latex_6>\\omega ^ { a } \\equiv e ^ { a }</s_latex_6><s_latex_7>x ^ { i } = \\bar { x } ^ { i } ,</s_latex_7><s_latex_8>\\theta _ { l } : t \\rightarrow 1 - t </s_latex_8>\n",
            "Generated LaTeX for generated_template_477.jpg saved to generated_template_477.json\n",
            "User: Extract JSON. \n",
            "Assistant:  <s_latex_1>z \\equiv \\zeta , v \\equiv \\nu ,</s_latex_1><s_latex_2>F = \\psi \\gamma _ { 2 1 } \\tilde { \\psi } ,</s_latex_2><s_latex_3>\\nabla _ { x } \\cdot \\dot { x } = 0 </s_latex_3><s_latex_4>Q _ { \\mathrm { B I } } \\vert \\Psi \\rangle = 0 ,</s_latex_4><s_latex_5>A = g ^ { - 1 } d g + g ^ { - 1 } H g ,</s_latex_5><s_latex_6>E _ { 8 } \\supset G _ { 2 } \\times F _ { 4 } ,</s_latex_6><s_latex_7>\\ln \\omega _ { \\alpha } = \\ln \\omega _ { \\alpha } ^ { - 1 } </s_latex_7><s_latex_8>\\bar { \\chi } U ^ { \\dag } Y U X</s_latex_8>\n",
            "Generated LaTeX for generated_template_487.jpg saved to generated_template_487.json\n",
            "User: Extract JSON. \n",
            "Assistant:  <s_latex_1>\\Pi _ { + + } = \\frac { 1 } { R } l _ { \\mu 4 }</s_latex_1><s_latex_2>S _ { A } = i \\int A _ { \\mu } J _ { \\mu } ,</s_latex_2><s_latex_3>\\vec { \\partial } ^ { 2 } \\phi _ { 9 } = 0 ,</s_latex_3><s_latex_4>\\Gamma \\rightarrow G ^ { T } + \\Omega ,</s_latex_4><s_latex_5>H = - \\partial _ { t } ^ { 2 } + 2 H ,</s_latex_5><s_latex_6>\\hat { H } = \\pi / 2 + L +</s_latex_6><s_latex_7>\\delta p = v _ { s } ^ { 2 } \\delta \\rho ,</s_latex_7><s_latex_8>d ^ { D } p ^ { \\mu } = p ^ { \\mu } d \\tau ,</s_latex_8>\n",
            "Generated LaTeX for generated_template_49.jpg saved to generated_template_49.json\n",
            "User: Extract JSON. \n",
            "Assistant:  <s_latex_1>\\frac { i \\lparen 1 - E ^ { 2 } \\rparen } { F }</s_latex_1><s_latex_2>\\Delta = C ^ { 2 } - \\frac { 1 } { 2 }</s_latex_2><s_latex_3>\\dot { \\varphi } = \\partial _ { x } \\varphi</s_latex_3><s_latex_4>H = \\sum _ { k } \\epsilon _ { k } n _ { k } </s_latex_4><s_latex_5>t \\sim v ^ { - k - k _ { \\alpha + 1 } } ,</s_latex_5><s_latex_6>\\frac { 4 } { g ^ { 2 } } \\geq v ^ { 2 } </s_latex_6><s_latex_7>\\Gamma \\rightarrow \\Gamma </s_latex_7><s_latex_8>a \\rightarrow U \\circ a \\circ U ^ { - 1 } ,</s_latex_8>\n",
            "Generated LaTeX for generated_template_498.jpg saved to generated_template_498.json\n",
            "User: Extract JSON. \n",
            "Assistant:  <s_latex_1>\\partial _ { - - } P _ { A \\mu } \\partial _ { - - } = 0 </s_latex_1><s_latex_2>L _ { m } = - \\int d ^ { - } t d x ^ { + } X K ,</s_latex_2><s_latex_3>\\langle \\langle \\Pi \\rangle : = \\Pi \\longrightarrow A</s_latex_3><s_latex_4>O _ { a } \\rightarrow i A _ { a } \\star G _ { a } ,</s_latex_4><s_latex_5>k = \\sqrt { - a ^ { n } a _ { n } }</s_latex_5><s_latex_6>\\sigma _ { l } \\lparen T \\rparen = T ^ { l }</s_latex_6><s_latex_7>T \\subset S o l v</s_latex_7><s_latex_8>G _ { \\zeta } \\lparen q \\rparen =</s_latex_8>\n",
            "Generated LaTeX for generated_template_502.jpg saved to generated_template_502.json\n",
            "User: Extract JSON. \n",
            "Assistant:  <s_latex_1>t \\rightarrow e ^ { 2 \\pi i / 3 } t </s_latex_1><s_latex_2>V \\lparen \\Psi , \\Phi \\rparen = i \\alpha </s_latex_2><s_latex_3>\\frac { x } { y } \\lt p _ { 1 } ,</s_latex_3><s_latex_4>R ^ { 1 0 } = R ^ { p + 1 } \\times R ^ { 9 - p } ,</s_latex_4><s_latex_5>S = \\frac { A } { 4 G \\hbar } ,</s_latex_5><s_latex_6>\\bar { \\chi } _ { \\alpha } = \\xi _ { \\alpha } </s_latex_6><s_latex_7>\\Phi = \\Phi _ { 0 } + \\tilde { \\Phi } </s_latex_7><s_latex_8>F _ { L } ^ { 3 } = - \\frac { 1 } { g } \\omega ,</s_latex_8>\n",
            "Generated LaTeX for generated_template_508.jpg saved to generated_template_508.json\n",
            "User: Extract JSON. \n",
            "Assistant:  <s_latex_1>\\delta \\overline { P } = \\frac { \\delta P } { \\partial L }</s_latex_1><s_latex_2>\\bar { \\rho } = \\frac { \\omega \\tau } { 9 }</s_latex_2><s_latex_3>\\psi = \\psi _ { \\alpha } e ^ { \\alpha } ,</s_latex_3><s_latex_4>\\partial _ { \\mu } P _ { \\mu \\nu } = 0 </s_latex_4><s_latex_5>\\frac { d } { d \\phi } B = - 2 \\mu \\bar { A }</s_latex_5><s_latex_6>S = - N \\ln N ,</s_latex_6><s_latex_7>H = \\sum _ { k } \\tau ^ { k } d _ { k } ,</s_latex_7><s_latex_8>q = 1 / \\sqrt { f _ { + } f _ { - } } </s_latex_8>\n",
            "Generated LaTeX for generated_template_512.jpg saved to generated_template_512.json\n",
            "User: Extract JSON. \n",
            "Assistant:  <s_latex_1>\\partial _ { 0 } \\eta = S ^ { T } \\eta S - \\eta ,</s_latex_1><s_latex_2>\\partial _ { + } \\eta = \\eta , \\partial _ { - } \\eta = \\sin \\eta</s_latex_2><s_latex_3>\\langle</s_latex_3><s_latex_4>s \\lbrack a , \\theta \\rbrack = 0 </s_latex_4><s_latex_5>I = I _ { + } \\oplus I _ { - } ,</s_latex_5><s_latex_6>i \\tilde { \\Psi } = \\Psi + i \\epsilon Z ,</s_latex_6><s_latex_7>\\langle</s_latex_7><s_latex_8>\\rho ^ { 2 } = \\frac { G ^ { 2 } } { g } </s_latex_8>\n",
            "Generated LaTeX for generated_template_519.jpg saved to generated_template_519.json\n",
            "User: Extract JSON. \n",
            "Assistant:  <s_latex_1>\\Delta _ { a 0 } = 1 , A _ { b 0 } = 0 ,</s_latex_1><s_latex_2>X ^ { i } = \\xi ^ { i } , Z = X ^ { m } = 0 ,</s_latex_2><s_latex_3>W : T \\rightarrow - \\frac { 1 } { 2 T } </s_latex_3><s_latex_4>\\lambda = \\Gamma / J</s_latex_4><s_latex_5></s_latex_5><s_latex_6>\\partial _ { + } \\partial _ { - } \\lambda = 0</s_latex_6><s_latex_7>\\tau \\rightarrow - \\frac { 1 } { \\tau } ,</s_latex_7><s_latex_8>\\partial _ { \\alpha }</s_latex_8>\n",
            "Generated LaTeX for generated_template_525.jpg saved to generated_template_525.json\n",
            "User: Extract JSON. \n",
            "Assistant:  <s_latex_1>D \\chi = \\prod _ { n } d c ^ { n } </s_latex_1><s_latex_2>\\bar { A } = A ^ { \\dagger } ,</s_latex_2><s_latex_3>\\chi ^ { \\prime } = U X U ^ { \\dagger } + A ,</s_latex_3><s_latex_4>t \\rightarrow e ^ { 2 \\pi i / n } t </s_latex_4><s_latex_5>t \\rightarrow e ^ { 2 \\pi i / n } t </s_latex_5><s_latex_6>S _ { \\mathrm { b a t } } = \\int d t d \\theta d \\phi L _ { \\mathrm { b a t } }</s_latex_6><s_latex_7>T _ { 1 } \\vert T _ { 1 } \\rangle = 0 ,</s_latex_7><s_latex_8>\\partial _ { - - } \\psi ^ { - A } = 0</s_latex_8>\n",
            "Generated LaTeX for generated_template_528.jpg saved to generated_template_528.json\n",
            "User: Extract JSON. \n",
            "Assistant:  <s_latex_1>W _ { \\mathrm { S } } = 0 ,</s_latex_1><s_latex_2>\\pi _ { + } = - i \\alpha f _ { + } ,</s_latex_2><s_latex_3>f ^ { + } = e ^ { - } f _ { - } ^ { + } ,</s_latex_3><s_latex_4>d F + \\beta \\ast F - F \\ast \\beta = 0 </s_latex_4><s_latex_5>\\chi ^ { a _ { 1 } } = \\xi ^ { a _ { 1 } } </s_latex_5><s_latex_6>\\alpha , \\beta , \\ldots \\in \\lbrace 0 , 1 \\rbrace</s_latex_6><s_latex_7>\\tan</s_latex_7><s_latex_8>- E _ { H } = - H </s_latex_8>\n",
            "Generated LaTeX for generated_template_540.jpg saved to generated_template_540.json\n",
            "User: Extract JSON. \n",
            "Assistant:  <s_latex_1>a = \\frac { D - 4 - 2 p } { \\sqrt { D - 2 } } </s_latex_1><s_latex_2>\\partial _ { \\mu } u ^ { \\mu \\nu } = D v ^ { \\nu } ,</s_latex_2><s_latex_3>\\langle \\rho , \\rangle : \\Xi \\longrightarrow A</s_latex_3><s_latex_4>\\mathrm { M a t } \\mathrm { M } \\mathrm { C } _ { b } = \\frac { \\delta \\beta } { \\delta c } ,</s_latex_4><s_latex_5>S = S _ { 0 } + \\int \\mu d x ^ { - } ,</s_latex_5><s_latex_6>f _ { i j } = \\epsilon _ { i j k } D _ { k } \\tau ^ { 0 }</s_latex_6><s_latex_7> c _ { 1 } \\vert _ { Y = 0 } = 0 ,</s_latex_7><s_latex_8>\\Gamma _ { W } = \\sum _ { k } \\lambda _ { k } </s_latex_8>\n",
            "Generated LaTeX for generated_template_544.jpg saved to generated_template_544.json\n",
            "User: Extract JSON. \n",
            "Assistant:  <s_latex_1>\\delta m ^ { 2 } = n _ { \\mathrm { M } } d</s_latex_1><s_latex_2>\\alpha = \\frac { 1 - \\sqrt { \\tau } } { \\gamma } ,</s_latex_2><s_latex_3>f \\lparen - 2 p \\rparen</s_latex_3><s_latex_4>K = \\bar { \\Phi } \\Phi + \\bar { X } X </s_latex_4><s_latex_5>f \\lparen - 2 p \\rparen</s_latex_5><s_latex_6>\\rho = s \\int d f + \\int \\frac { d f } { \\rho } </s_latex_6><s_latex_7>\\pi _ { 2 } \\lparen S ^ { 2 } \\rparen = Z </s_latex_7><s_latex_8>D = - \\frac { 1 } { 2 } \\frac { \\mu } { R } </s_latex_8>\n",
            "Generated LaTeX for generated_template_545.jpg saved to generated_template_545.json\n",
            "User: Extract JSON. \n",
            "Assistant:  <s_latex_1>L _ { n } = \\oplus _ { h } L _ { n } ^ { h }</s_latex_1><s_latex_2>M = R ^ { 3 } \\times S ^ { 1 } \\times R ^ { 4 }</s_latex_2><s_latex_3>\\tilde { T } = T ^ { \\dagger } ,</s_latex_3><s_latex_4>k _ { 1 } + k _ { 2 } = k _ { 3 } + k _ { 4 } ,</s_latex_4><s_latex_5>\\partial _ { \\mu } F ^ { \\mu \\nu } = n ^ { \\nu } B</s_latex_5><s_latex_6>\\Omega \\omega = \\Delta ^ { 0 } ,</s_latex_6><s_latex_7>\\partial _ { + } \\partial _ { - } \\Omega ^ { 2 } = 0</s_latex_7><s_latex_8>\\dot { \\rho } = - 3 \\eta H \\rho ,</s_latex_8>\n",
            "Generated LaTeX for generated_template_547.jpg saved to generated_template_547.json\n",
            "User: Extract JSON. \n",
            "Assistant:  <s_latex_1>A U - i B V = U E ^ { - 1 } ,</s_latex_1><s_latex_2>F _ { i } \\dot { z } ^ { j } + E _ { i } ^ { j } = 0 ,</s_latex_2><s_latex_3>f ^ { + } = e ^ { - } f _ { - } ^ { + } ,</s_latex_3><s_latex_4>c = \\frac { 2 } { r _ { 0 } m _ { _ { W } } } \\ll 1 </s_latex_4><s_latex_5>\\frac { \\partial B } { \\partial J } = - 2 \\mu \\bar { A }</s_latex_5><s_latex_6>M _ { J } \\cdot c ^ { J } = d ^ { J }</s_latex_6><s_latex_7>Q A + r F _ { i } = C _ { i } , i = 1 ,    n</s_latex_7><s_latex_8>N t _ { 1 1 } \\equiv k \\mathrm { m o d } N </s_latex_8>\n",
            "Generated LaTeX for generated_template_565.jpg saved to generated_template_565.json\n",
            "User: Extract JSON. \n",
            "Assistant:  <s_latex_1>\\bar { \\chi } \\nu ^ { \\dagger } + \\bar { \\nu } Y \\chi</s_latex_1><s_latex_2>c _ { 0 } ^ { + } + c _ { 2 } ^ { + } = J</s_latex_2><s_latex_3>\\vert a \\vert \\vert n \\rangle = \\vert S \\rangle </s_latex_3><s_latex_4>A = P _ { H } \\lparen g ^ { - 1 } d g \\rparen </s_latex_4><s_latex_5>b - 2 i \\neq 0 ,</s_latex_5><s_latex_6>\\tilde { \\Pi } _ { + } = H _ { + } ,</s_latex_6><s_latex_7>T \\rightarrow \\frac { 1 } { 2 } </s_latex_7><s_latex_8>\\xi ^ { \\ast M } \\lparen x \\rparen = 0 ,</s_latex_8>\n",
            "Generated LaTeX for generated_template_575.jpg saved to generated_template_575.json\n",
            "User: Extract JSON. \n",
            "Assistant:  <s_latex_1>\\tilde { S } = \\frac { \\partial \\Omega } { \\partial J _ { + } } </s_latex_1><s_latex_2>T = g ^ { - 1 } P g </s_latex_2><s_latex_3>S = \\int d ^ { 2 } x L ^ { \\mathrm { a b t m } }</s_latex_3><s_latex_4>\\exp i \\pi \\eta = \\zeta</s_latex_4><s_latex_5>\\alpha , \\beta , \\ldots \\in \\lbrace 0 , 1 \\rbrace</s_latex_5><s_latex_6>d \\Delta = q \\Delta d g \\Delta = q \\Delta g</s_latex_6><s_latex_7>T ^ { + } \\Phi T = \\Phi </s_latex_7><s_latex_8></s_latex_8>\n",
            "Generated LaTeX for generated_template_579.jpg saved to generated_template_579.json\n",
            "User: Extract JSON. \n",
            "Assistant:  <s_latex_1>A = q + p \\vert i + j \\vert + r \\vert j + k \\vert</s_latex_1><s_latex_2>f \\lparen - 2 p \\rparen</s_latex_2><s_latex_3>\\tilde { \\Psi } \\equiv \\Psi ,</s_latex_3><s_latex_4>g _ { 0 } = \\phi \\lparen g _ { M S } \\rparen</s_latex_4><s_latex_5>\\tau \\rightarrow \\tau + 1</s_latex_5><s_latex_6>0 \\rightarrow 0 \\rightarrow \\beta \\rightarrow 0 </s_latex_6><s_latex_7>S _ { m a x } \\simeq S _ { B H } ^ { 3 / 4 } ,</s_latex_7><s_latex_8>\\Pi _ { \\mu } = \\frac { 1 } { R } l _ { \\mu 4 }</s_latex_8>\n",
            "Generated LaTeX for generated_template_58.jpg saved to generated_template_58.json\n",
            "User: Extract JSON. \n",
            "Assistant:  <s_latex_1>\\sin \\lambda = - \\frac { i \\rho } { 2 \\zeta } ,</s_latex_1><s_latex_2>\\nabla _ { a } = \\partial _ { a } + \\sigma _ { a }</s_latex_2><s_latex_3>e ^ { - a } = i \\langle \\bar { w } , w \\rangle</s_latex_3><s_latex_4>\\lbrack P , Q \\rbrack = \\mathrm { i } \\hbar 1 </s_latex_4><s_latex_5>\\beta = \\frac { K + 1 } { K } \\beta _ { 0 } ,</s_latex_5><s_latex_6>\\tilde { S } = - \\frac { T } { 2 }</s_latex_6><s_latex_7>T = \\frac { t } { \\alpha l } \\Delta \\sigma = 1 </s_latex_7><s_latex_8>\\exp i \\pi \\kappa = \\zeta</s_latex_8>\n",
            "Generated LaTeX for generated_template_581.jpg saved to generated_template_581.json\n",
            "User: Extract JSON. \n",
            "Assistant:  <s_latex_1>x = R \\bar { x } , y = R ^ { - 1 } \\bar { y } </s_latex_1><s_latex_2>J \\wedge E \\wedge D _ { \\alpha } = 0 </s_latex_2><s_latex_3>A _ { a b } ^ { i } = N _ { a b } ^ { i } </s_latex_3><s_latex_4>H \\lparen \\eta _ { 0 } \\rparen = \\Lambda </s_latex_4><s_latex_5>\\Delta p = - \\Delta \\dot { v } = - \\Delta \\nu v </s_latex_5><s_latex_6>\\chi = 8 j \\bar { j } = 0 ,</s_latex_6><s_latex_7>\\partial _ { + } = \\partial _ { - } = 0 ,</s_latex_7><s_latex_8>s _ { \\Theta } \\approx \\sum _ { k } l _ { k } ,</s_latex_8>\n",
            "Generated LaTeX for generated_template_582.jpg saved to generated_template_582.json\n",
            "User: Extract JSON. \n",
            "Assistant:  <s_latex_1>\\Delta A = - \\frac { 2 8 } { 3 } \\lambda _ { 1 } </s_latex_1><s_latex_2>\\tilde { A } _ { \\mu } = A _ { \\mu } </s_latex_2><s_latex_3>M _ { s } \\cdot r ^ { 1 0 } \\approx 1 4 \\pi G _ { \\mathrm { M } }</s_latex_3><s_latex_4>s \\pm \\eta \\approx \\pm \\sqrt { 2 } k</s_latex_4><s_latex_5>\\delta A = \\lbrack D + A , V \\rbrack </s_latex_5><s_latex_6>m _ { 3 } \\tilde { \\eta } = \\frac { 1 } { 2 } </s_latex_6><s_latex_7>S = - T</s_latex_7><s_latex_8>L = L _ { + } \\oplus L _ { - }</s_latex_8>\n",
            "Generated LaTeX for generated_template_602.jpg saved to generated_template_602.json\n",
            "User: Extract JSON. \n",
            "Assistant:  <s_latex_1>d \\Omega ^ { 2 } = 0 </s_latex_1><s_latex_2>e _ { 0 } = \\lparen 1 / 2 \\rparen w _ { 0 } ,</s_latex_2><s_latex_3>w \\lparen - t \\rparen = - w \\lparen t \\rparen ,</s_latex_3><s_latex_4>\\eta _ { a } \\lparen p \\rparen</s_latex_4><s_latex_5>\\alpha + 2 \\beta + \\gamma = 2</s_latex_5><s_latex_6>E ^ { 2 } = 4 + 4 \\omega \\lparen N + 2 \\rparen </s_latex_6><s_latex_7>\\Xi = \\sum _ { k + 1 } ^ { p } X _ { i }</s_latex_7><s_latex_8>R ^ { 1 0 } = R ^ { p + 1 } \\times R ^ { 9 - p } ,</s_latex_8>\n",
            "Generated LaTeX for generated_template_609.jpg saved to generated_template_609.json\n",
            "User: Extract JSON. \n",
            "Assistant:  <s_latex_1>x ^ { i } = M ^ { i } _ { j } \\bar { x } ^ { j }</s_latex_1><s_latex_2>\\gamma \\equiv \\frac { e ^ { 2 } N } { 2 T } </s_latex_2><s_latex_3>\\sum _ { i = 1 } ^ { n } \\lambda _ { i } = 0 </s_latex_3><s_latex_4>A ^ { \\mu } \\rightarrow - A ^ { \\mu }</s_latex_4><s_latex_5>\\tilde { \\Lambda } \\equiv \\Lambda + s \\vert i</s_latex_5><s_latex_6>F = \\frac { e ^ { 2 } } { 2 \\pi } d t \\wedge d r</s_latex_6><s_latex_7>S = S _ { b u l k } + S _ { b r a n e } ,</s_latex_7><s_latex_8>\\hat { H } = \\frac { 1 } { 2 } \\pi ^ { 2 } + L</s_latex_8>\n",
            "Generated LaTeX for generated_template_61.jpg saved to generated_template_61.json\n",
            "User: Extract JSON. \n",
            "Assistant:  <s_latex_1>S = - N \\ln N ,</s_latex_1><s_latex_2>e _ { 2 } \\sigma e _ { 2 } = - \\sigma</s_latex_2><s_latex_3>\\deg \\Pi _ { n } = \\deg \\tilde { \\Pi } _ { n } = n</s_latex_3><s_latex_4>\\tilde { A } = A + D -</s_latex_4><s_latex_5>A = \\int d ^ { 2 } \\sigma \\lbrace 1 / 2 \\rbrace</s_latex_5><s_latex_6>d g = g _ { i } d x ^ { i }</s_latex_6><s_latex_7>u \\rightarrow e ^ { i \\theta / 2 } u ,</s_latex_7><s_latex_8>\\langle L ^ { \\dagger } \\rangle =</s_latex_8>\n",
            "Generated LaTeX for generated_template_616.jpg saved to generated_template_616.json\n",
            "User: Extract JSON. \n",
            "Assistant:  <s_latex_1>L _ { n } = 0 _ { H } L _ { n }</s_latex_1><s_latex_2>\\gamma _ { \\lambda } = \\gamma _ { \\lambda } </s_latex_2><s_latex_3>H _ { s t r } = H _ { L } \\otimes H _ { R } ,</s_latex_3><s_latex_4>Y _ { N M } , M = 1 \\ldots K - 1 , N = 1 \\ldots K</s_latex_4><s_latex_5>W _ { n } \\cdot D = D \\cdot W _ { n } = 0 ,</s_latex_5><s_latex_6>Q = \\alpha / \\sqrt { 1 - b ^ { 2 } } </s_latex_6><s_latex_7>\\sigma _ { k } ^ { \\lparen 1 \\rparen } = 0 ,</s_latex_7><s_latex_8>L _ { \\mu } = 0 _ { \\mu \\nu }</s_latex_8>\n",
            "Generated LaTeX for generated_template_642.jpg saved to generated_template_642.json\n",
            "User: Extract JSON. \n",
            "Assistant:  <s_latex_1>f \\rightarrow f + \\frac { 2 } { \\gamma } </s_latex_1><s_latex_2>F = - \\sqrt { a } \\phi ^ { \\ast } \\sigma ,</s_latex_2><s_latex_3>\\langle V , V \\rangle = 0 \\Rightarrow V = 0 </s_latex_3><s_latex_4>V = V _ { + } V _ { - }</s_latex_4><s_latex_5>H = 0 , P _ { \\phi } = 0 </s_latex_5><s_latex_6>x ^ { \\prime } = U x U ^ { - 1 } + A ,</s_latex_6><s_latex_7>a \\pi R + c _ { 0 } + c _ { \\pi } = m \\pi ,</s_latex_7><s_latex_8>\\delta M = 0 , N \\neq 0 , M \\neq 0 </s_latex_8>\n",
            "Generated LaTeX for generated_template_643.jpg saved to generated_template_643.json\n",
            "User: Extract JSON. \n",
            "Assistant:  <s_latex_1>L = 2 P - 2 \\Phi ,</s_latex_1><s_latex_2>L _ { m a s s } = H _ { 0 } ^ { T } M H _ { 0 } ,</s_latex_2><s_latex_3>S = S _ { f } + S _ { b } + S _ { b } ^ { - 1 } ,</s_latex_3><s_latex_4>S = \\int d ^ { 2 } x d ^ { 2 } \\theta m</s_latex_4><s_latex_5>n _ { 2 } = 2 q - q ^ { - 1 } ,</s_latex_5><s_latex_6>q A + B = q B + A ,</s_latex_6><s_latex_7>W _ { 0 } = D \\cdot Z ^ { s t }</s_latex_7><s_latex_8>L _ { m } = - \\int d ^ { 4 } \\theta N K ,</s_latex_8>\n",
            "Generated LaTeX for generated_template_649.jpg saved to generated_template_649.json\n",
            "User: Extract JSON. \n",
            "Assistant:  <s_latex_1>\\Phi = \\Phi _ { + } \\Phi _ { - } ,</s_latex_1><s_latex_2>\\tilde { S } _ { 1 } = \\mathrm { i } S _ { 1 } ,</s_latex_2><s_latex_3>\\frac { 3 } { 3 N - m } = - \\frac { 1 } { 1 2 } </s_latex_3><s_latex_4>\\hat { M } _ { I } \\hat { M } _ { I } + \\hat { D } _ { I } \\hat { D } _ { I } = \\bar { Q } Q ,</s_latex_4><s_latex_5>q \\cdot q = q \\cdot q = q \\cdot q = 0</s_latex_5><s_latex_6>A = \\alpha \\gamma , B = \\gamma , \\alpha = - 2 </s_latex_6><s_latex_7>q \\cdot k = q \\cdot k , k \\cdot N = 0 , N \\cdot k = 0 ,</s_latex_7><s_latex_8>I _ { 1 } + I _ { 3 } = I _ { 2 } + I _ { R } ,</s_latex_8>\n",
            "Generated LaTeX for generated_template_673.jpg saved to generated_template_673.json\n",
            "User: Extract JSON. \n",
            "Assistant:  <s_latex_1>\\tilde { \\Pi } _ { o } = 1 + \\Pi _ { o } = 0</s_latex_1><s_latex_2>F _ { + 1 2 3 } = \\mu , \\lparen \\mu \\neq 0 \\rparen</s_latex_2><s_latex_3>\\rho _ { 0 } \\sim \\frac { \\mu } { \\lambda } ,</s_latex_3><s_latex_4>\\sum _ { i = 1 } ^ { n } l _ { i } = 0 </s_latex_4><s_latex_5>\\langle n _ { \\mu } \\rangle _ { \\sum _ { \\mu } } = 0 ,</s_latex_5><s_latex_6>\\alpha _ { 2 } = \\sqrt { 2 } ,</s_latex_6><s_latex_7>K = i \\langle V , \\bar { V } \\rangle ,</s_latex_7><s_latex_8>E \\cdot R = \\frac { 3 } { 2 \\pi } S \\Delta </s_latex_8>\n",
            "Generated LaTeX for generated_template_684.jpg saved to generated_template_684.json\n",
            "User: Extract JSON. \n",
            "Assistant:  <s_latex_1>J _ { - 1 } \\sim \\mu K \\lbrack \\Sigma , K \\rbrack ,</s_latex_1><s_latex_2>H = \\sum _ { k } \\epsilon _ { k } n _ { k } </s_latex_2><s_latex_3>\\lt T _ { \\mu \\nu } \\gt _ { f i n } ^ { i n } =</s_latex_3><s_latex_4>S _ { \\eta F } = 0 , \\eta \\gt n</s_latex_4><s_latex_5>\\kappa : = \\kappa _ { - 1 } , P = P _ { - 1 } ,</s_latex_5><s_latex_6>m _ { 3 / 2 } = \\frac { 1 } { 2 \\rho } </s_latex_6><s_latex_7>\\dot { C } = \\sum _ { j } \\partial _ { j } O _ { j } ,</s_latex_7><s_latex_8>\\sigma ^ { \\mu } D _ { \\mu } \\psi = 0</s_latex_8>\n",
            "Generated LaTeX for generated_template_694.jpg saved to generated_template_694.json\n",
            "User: Extract JSON. \n",
            "Assistant:  <s_latex_1>\\lambda ^ { \\ast } \\omega = K </s_latex_1><s_latex_2>A _ { \\mu } = N _ { \\mu } ,</s_latex_2><s_latex_3>\\frac { 3 } { 3 N - \\frac { 3 } { 2 } } = - \\frac { 1 } { 2 } </s_latex_3><s_latex_4>\\lparen \\Sigma , \\Sigma \\cup E \\rparen = 0 </s_latex_4><s_latex_5>X \\cdot X = 0 , X \\cdot P = 0 , P \\cdot P = 0 </s_latex_5><s_latex_6>W _ { \\cdot } \\cdot K = 0 </s_latex_6><s_latex_7>t \\equiv \\frac { \\bar { t } } { \\sqrt { 1 - t } } ,</s_latex_7><s_latex_8>\\sigma _ { + } = \\frac { \\sigma _ { - } } { 2 } ,</s_latex_8>\n",
            "Generated LaTeX for generated_template_704.jpg saved to generated_template_704.json\n",
            "User: Extract JSON. \n",
            "Assistant:  <s_latex_1>R _ { 1 1 } = g _ { s } ^ { \\frac { 2 } { 3 } } </s_latex_1><s_latex_2>w _ { I } = P - \\rho ,</s_latex_2><s_latex_3>R _ { 1 1 } = g _ { s } ^ { \\frac { 2 } { 3 } } </s_latex_3><s_latex_4>V ^ { \\ast } = 6 0 0 = 8 \\pi G T 0 0 </s_latex_4><s_latex_5>L ^ { \\dagger } = \\lbrace \\nu , e \\rbrace </s_latex_5><s_latex_6>I _ { l } \\lparen I _ { n } \\rparen = S </s_latex_6><s_latex_7>H _ { L } \\sigma =</s_latex_7><s_latex_8>a _ { k } + b _ { l } = 1 , l \\lt k </s_latex_8>\n",
            "Generated LaTeX for generated_template_708.jpg saved to generated_template_708.json\n",
            "User: Extract JSON. \n",
            "Assistant:  <s_latex_1>\\partial _ { i } g = i A _ { i } \\ast g </s_latex_1><s_latex_2>0 \\lt T \\leq \\frac { T _ { 0 } } { \\sqrt { 2 } }</s_latex_2><s_latex_3>\\Delta M = \\lparen E + a F \\rparen / c ^ { 2 } ,</s_latex_3><s_latex_4>L _ { + } = \\mu , \\ \\ L _ { - } = \\nu e ^ { 2 } </s_latex_4><s_latex_5>H = \\sum _ { k } \\epsilon _ { k } n _ { k } </s_latex_5><s_latex_6>F = \\mathrm { c o n s t a n t } </s_latex_6><s_latex_7>\\Psi = L - \\Theta _ { \\rho } s ^ { \\rho } </s_latex_7><s_latex_8>\\frac { 1 } { R } f ^ { i j } F _ { j 0 } </s_latex_8>\n",
            "Generated LaTeX for generated_template_724.jpg saved to generated_template_724.json\n",
            "User: Extract JSON. \n",
            "Assistant:  <s_latex_1>i v _ { b } d x ^ { b }</s_latex_1><s_latex_2>g _ { 0 } = \\phi \\lparen g _ { M S } \\rparen</s_latex_2><s_latex_3>C ^ { 2 } _ { 3 } + \\vec { c } ^ { 2 } = 1</s_latex_3><s_latex_4>\\Omega \\subset S \\vert _ { \\mathrm { S o l v } }</s_latex_4><s_latex_5>F \\equiv e ^ { - i F m \\Delta x } </s_latex_5><s_latex_6>f \\vert _ { y = 0 } = 2 \\pi e ^ { 2 } \\vert z \\vert </s_latex_6><s_latex_7>\\hat { R } _ { m n } = G _ { m n } b = 0 ,</s_latex_7><s_latex_8>\\Delta A = - \\frac { 2 8 } { 7 } \\lambda _ { 1 } </s_latex_8>\n",
            "Generated LaTeX for generated_template_73.jpg saved to generated_template_73.json\n",
            "User: Extract JSON. \n",
            "Assistant:  <s_latex_1>\\lbrack U , B \\rbrack \\neq 0 ,</s_latex_1><s_latex_2>E = \\pm \\sqrt { p ^ { + } m ^ { - } } ,</s_latex_2><s_latex_3>M = m + \\frac { 3 m } { e } q _ { m } \\sin \\beta ;</s_latex_3><s_latex_4>\\ddot { h } = - \\nabla _ { h } \\Phi</s_latex_4><s_latex_5>F _ { + + } = d A _ { + + } + \\ldots ,</s_latex_5><s_latex_6>\\Delta ^ { \\prime } = W \\lparen \\Phi \\rparen </s_latex_6><s_latex_7>H _ { \\mathrm { i n t } } = \\sum _ { d } H _ { d } ,</s_latex_7><s_latex_8>\\hat { H } = \\frac { 1 } { 2 } \\pi ^ { 2 } + L</s_latex_8>\n",
            "Generated LaTeX for generated_template_731.jpg saved to generated_template_731.json\n",
            "User: Extract JSON. \n",
            "Assistant:  <s_latex_1>\\partial _ { t } \\dot { y } + \\dot { y } + \\partial _ { x } y = 0 ,</s_latex_1><s_latex_2>\\tau = \\sqrt { \\frac { 1 + k } { 1 - k } } </s_latex_2><s_latex_3>m v = p - \\mu \\times E</s_latex_3><s_latex_4>\\theta ^ { a b } = - z ^ { 3 } p ^ { a b } </s_latex_4><s_latex_5>\\xi ^ { 1 } \\lparen x \\rparen = 0 ,</s_latex_5><s_latex_6>\\Pi = \\frac { 1 } { R } l _ { \\mu } ^ { \\mu }</s_latex_6><s_latex_7>\\partial _ { + - } \\tau ^ { - 1 } = \\sin \\beta</s_latex_7><s_latex_8>\\lt T _ { \\mu \\nu } \\gt _ { f i n } ^ { i n } =</s_latex_8>\n",
            "Generated LaTeX for generated_template_755.jpg saved to generated_template_755.json\n",
            "User: Extract JSON. \n",
            "Assistant:  <s_latex_1>M _ { a b } M _ { c b } = \\delta _ { a c } ,</s_latex_1><s_latex_2>\\beta _ { W } = \\frac { \\beta _ { H } } { n }</s_latex_2><s_latex_3>d \\Sigma ^ { k } = 0 </s_latex_3><s_latex_4>c = \\frac { e ^ { 2 } } { 2 \\pi } \\lt 1 </s_latex_4><s_latex_5>I _ { 1 } + I _ { 1 } = I _ { 2 } + I _ { 2 } ,</s_latex_5><s_latex_6>x ^ { - } \\simeq x ^ { - } + 2 \\pi R ,</s_latex_6><s_latex_7>\\nabla ^ { \\mu } \\nu _ { \\mu } = 0 , \\pi = 0 </s_latex_7><s_latex_8>\\frac { i \\lparen 1 - E ^ { 2 } \\rparen } { F }</s_latex_8>\n",
            "Generated LaTeX for generated_template_764.jpg saved to generated_template_764.json\n",
            "User: Extract JSON. \n",
            "Assistant:  <s_latex_1>\\gamma \\equiv \\frac { e ^ { 2 } N } { 2 T } </s_latex_1><s_latex_2>\\partial _ { + } g = i \\bar { A } \\star g </s_latex_2><s_latex_3>\\psi \\rightarrow \\psi</s_latex_3><s_latex_4>N \\sim \\frac { 1 } { \\sqrt { 1 - b ^ { 2 } } } ,</s_latex_4><s_latex_5>A = \\int d ^ { 2 } \\sigma \\eta ^ { 1 / 2 }</s_latex_5><s_latex_6>\\sigma \\times _ { B } C = C ,</s_latex_6><s_latex_7>I _ { l } \\lparen I _ { n } \\rparen = S </s_latex_7><s_latex_8>S _ { f } ^ { \\lparen 2 \\rparen } \\cdot \\psi = 0 </s_latex_8>\n",
            "Generated LaTeX for generated_template_773.jpg saved to generated_template_773.json\n",
            "User: Extract JSON. \n",
            "Assistant:  <s_latex_1>W = W _ { - 2 / 3 } + W _ { 0 } + W _ { 2 / 3 } ,</s_latex_1><s_latex_2>A = \\int d ^ { 2 } \\sigma \\frac { 1 } { 2 } \\Omega ^ { 1 / 2 }</s_latex_2><s_latex_3>\\tilde { v } \\ll \\epsilon \\lt \\frac { 1 } { a } ,</s_latex_3><s_latex_4>C ^ { \\prime } = U ^ { T } C U </s_latex_4><s_latex_5>d \\Omega = 0 </s_latex_5><s_latex_6>f = 1 + a \\phi ^ { 2 } + h \\phi ^ { 3 } </s_latex_6><s_latex_7>\\lbrace X _ { 1 } , X _ { 2 } \\rbrace = \\theta ,</s_latex_7><s_latex_8>\\partial _ { + } \\partial _ { - } x ^ { j } = 0</s_latex_8>\n",
            "Generated LaTeX for generated_template_776.jpg saved to generated_template_776.json\n",
            "User: Extract JSON. \n",
            "Assistant:  <s_latex_1>V = \\exp \\lparen \\psi ^ { A } t _ { A } \\rparen</s_latex_1><s_latex_2>\\delta _ { 0 } = g ^ { - 1 } i \\lambda g</s_latex_2><s_latex_3>\\delta F \\lbrack h \\rbrack =</s_latex_3><s_latex_4>d = \\frac { 1 7 2 8 } { 7 } = 2 4 6  8 6 </s_latex_4><s_latex_5>T ^ { + } \\Phi T = \\Phi </s_latex_5><s_latex_6>F ^ { \\dagger } = d S + S \\wedge S ,</s_latex_6><s_latex_7>r _ { n 0 } = r _ { n e } + U _ { n } ,</s_latex_7><s_latex_8>a + b \\neq 0 , \\pm 1 , \\pm 2 , \\ldots</s_latex_8>\n",
            "Generated LaTeX for generated_template_777.jpg saved to generated_template_777.json\n",
            "User: Extract JSON. \n",
            "Assistant:  <s_latex_1>B _ { \\Sigma } ^ { \\Delta } \\count = 0 </s_latex_1><s_latex_2>\\ast _ { J } = \\psi \\gamma _ { J } \\psi</s_latex_2><s_latex_3>a _ { D } = \\frac { \\partial F } { \\partial a }</s_latex_3><s_latex_4>\\tilde { \\pi } ^ { \\dagger } = - i \\sigma \\pi </s_latex_4><s_latex_5>S = - N \\ln N ,</s_latex_5><s_latex_6>O _ { a } \\rightarrow O _ { b } \\times O _ { c } </s_latex_6><s_latex_7>\\partial _ { 0 } A _ { 0 } = 0 ,</s_latex_7><s_latex_8>A = \\rho ^ { - 1 } v _ { d } d u </s_latex_8>\n",
            "Generated LaTeX for generated_template_79.jpg saved to generated_template_79.json\n",
            "User: Extract JSON. \n",
            "Assistant:  <s_latex_1>\\langle \\Gamma ^ { 4 } G _ { \\alpha } \\rangle = 0 </s_latex_1><s_latex_2>\\lim _ { E \\to \\infty } V = \\infty </s_latex_2><s_latex_3>I = I _ { B } + I _ { \\partial B } + I _ { c t }</s_latex_3><s_latex_4>\\rho = 0  5 4 \\pm 0  1 0 ,</s_latex_4><s_latex_5>\\alpha = \\sqrt { \\frac { 1 + v } { 1 - v } } </s_latex_5><s_latex_6>\\bar { \\chi } U ^ { \\dag } Y U \\chi</s_latex_6><s_latex_7>\\bar { M } M + \\bar { D } D = \\bar { Q } Q</s_latex_7><s_latex_8>M = m + 3 \\int _ { 0 } ^ { r } \\sin h ,</s_latex_8>\n",
            "Generated LaTeX for generated_template_8.jpg saved to generated_template_8.json\n",
            "User: Extract JSON. \n",
            "Assistant:  <s_latex_1>X = y + v _ { 1 } t , X = z + v _ { 2 } t</s_latex_1><s_latex_2>B _ { \\Sigma } \\int \\omega _ { D } ^ { 0 } = 0</s_latex_2><s_latex_3>\\chi \\ast _ { \\Xi } \\tilde { \\chi } = 1 ,</s_latex_3><s_latex_4>C T = C - \\alpha P \\alpha C ^ { - 1 } = - 1</s_latex_4><s_latex_5>A = i Q \\frac { B } { A } \\sin \\chi \\psi d \\chi </s_latex_5><s_latex_6>\\sigma _ { l } \\lparen T \\rparen = T ^ { l }</s_latex_6><s_latex_7>a + b - q \\neq 0 , q \\neq 1 ,</s_latex_7><s_latex_8>Q = \\dot { x } _ { i } \\psi _ { i } </s_latex_8>\n",
            "Generated LaTeX for generated_template_807.jpg saved to generated_template_807.json\n",
            "User: Extract JSON. \n",
            "Assistant:  <s_latex_1>\\lambda _ { - } = \\infty \\oplus + </s_latex_1><s_latex_2>L ^ { f } = \\lbrace \\nu , e \\rbrace </s_latex_2><s_latex_3>A ^ { \\prime } = W \\lparen \\Phi \\rparen </s_latex_3><s_latex_4>d _ { - } \\delta + \\delta \\circ \\Phi = 0 ,</s_latex_4><s_latex_5>\\langle \\Sigma , \\Sigma \\rangle = 0 </s_latex_5><s_latex_6>Q = \\dot { x } _ { i } \\psi _ { i } + \\dot { y } _ { j } \\psi _ { j } </s_latex_6><s_latex_7>\\tilde { \\Phi } = \\dot { Q } + \\@cdots = 0</s_latex_7><s_latex_8>u \\ast \\Omega = 0 \\Rightarrow \\Omega = 0 </s_latex_8>\n",
            "Generated LaTeX for generated_template_812.jpg saved to generated_template_812.json\n",
            "User: Extract JSON. \n",
            "Assistant:  <s_latex_1>D _ { t } ^ { 2 } \\Upsilon = \\Psi ^ { \\ast } ,</s_latex_1><s_latex_2>F \\equiv e ^ { - i F m \\Delta t }</s_latex_2><s_latex_3>F _ { 1 } ^ { 2 } = R ^ { \\prime } L</s_latex_3><s_latex_4>\\nabla _ { a } h _ { b } = 0 , h = 0 </s_latex_4><s_latex_5>F _ { a } ^ { \\mu } = 0 ,</s_latex_5><s_latex_6>Q A + \\mathrm { X } A \\star A = 0 </s_latex_6><s_latex_7>\\lbrace 1 , N \\rbrace \\propto N \\lt N + N</s_latex_7><s_latex_8>\\Gamma \\epsilon = \\epsilon ,</s_latex_8>\n",
            "Generated LaTeX for generated_template_814.jpg saved to generated_template_814.json\n",
            "User: Extract JSON. \n",
            "Assistant:  <s_latex_1>V _ { 1 } = V _ { 1 } , V _ { 2 } = V _ { 2 } ,</s_latex_1><s_latex_2>W _ { \\mathrm { t r e e } } = \\lambda M _ { 1 } </s_latex_2><s_latex_3>\\pi _ { \\lparen 1 \\rparen } =</s_latex_3><s_latex_4>A = P _ { a } g ^ { - 1 } d g </s_latex_4><s_latex_5>z \\equiv \\gamma z , \\gamma \\equiv \\sqrt { 1 - v ^ { 2 } } ,</s_latex_5><s_latex_6>A = \\alpha \\phi , B = \\phi , a = - 2 </s_latex_6><s_latex_7>2 r \\frac { \\partial _ { 0 } \\beta } { \\beta } = 0</s_latex_7><s_latex_8>\\lbrack d k = g ^ { - 2 } d k \\rbrack </s_latex_8>\n",
            "Generated LaTeX for generated_template_826.jpg saved to generated_template_826.json\n",
            "User: Extract JSON. \n",
            "Assistant:  <s_latex_1>Q _ { \\mathrm { B R } } \\vert \\Psi \\rangle = \\Lambda ,</s_latex_1><s_latex_2>\\delta = \\partial _ { + } \\eta ,</s_latex_2><s_latex_3>H \\lparen \\eta _ { 0 } \\rparen = \\Lambda </s_latex_3><s_latex_4>f \\rightarrow f + \\frac { 2 } { \\gamma } </s_latex_4><s_latex_5>\\bar { A } = A ^ { \\dagger } ,</s_latex_5><s_latex_6>d F + F \\wedge F = 0 </s_latex_6><s_latex_7>\\gamma = - 1 , \\beta = \\frac { 1 } { 2 } ,</s_latex_7><s_latex_8>r _ { j } + r _ { - j } , j = 1 , \\ldots , r ,</s_latex_8>\n",
            "Generated LaTeX for generated_template_831.jpg saved to generated_template_831.json\n",
            "User: Extract JSON. \n",
            "Assistant:  <s_latex_1>\\partial _ { 0 } \\partial _ { \\mu } \\Psi = 0 </s_latex_1><s_latex_2>\\lbrack G _ { a } , G _ { b } \\rbrack = 0 ,</s_latex_2><s_latex_3>N = 4 \\sum _ { a } \\eta _ { a } </s_latex_3><s_latex_4>C : S ^ { 3 } \\times = 1 + 8</s_latex_4><s_latex_5>N \\sim \\frac { 1 } { \\sqrt { 1 - e ^ { 2 } } } ,</s_latex_5><s_latex_6>\\lbrace \\mu \\rbrace : N \\longrightarrow N</s_latex_6><s_latex_7>\\vartheta \\rightarrow \\vartheta - \\alpha</s_latex_7><s_latex_8>\\delta S _ { C } = - \\int G _ { 1 0 } ,</s_latex_8>\n",
            "Generated LaTeX for generated_template_88.jpg saved to generated_template_88.json\n",
            "User: Extract JSON. \n",
            "Assistant:  <s_latex_1>\\bar { \\Phi } = \\varphi - 3 \\alpha </s_latex_1><s_latex_2>E \\ge \\pm \\sqrt { 2 \\vdot { v } } </s_latex_2><s_latex_3>\\nabla ^ { \\mu } \\pi _ { \\mu \\nu } = 0 , \\pi = 0 </s_latex_3><s_latex_4>\\frac { \\partial W } { \\partial \\phi } \\pm = 0</s_latex_4><s_latex_5>\\bar { M } = m + 3 m \\frac { q } { q + 1 } ,</s_latex_5><s_latex_6>\\frac { m } { m _ { _ { J } } } \\cr = \\frac { h } { 2 }</s_latex_6><s_latex_7>= \\lparen n + \\frac { 2 } { \\gamma } \\rparen</s_latex_7><s_latex_8>\\pi \\cdot \\varepsilon = \\varepsilon ,</s_latex_8>\n",
            "Generated LaTeX for generated_template_93.jpg saved to generated_template_93.json\n"
          ]
        }
      ]
    },
    {
      "cell_type": "code",
      "source": [
        "from donut import JSONParseEvaluator\n",
        "import os\n",
        "import json\n",
        "\n",
        "def strip_spaces(data):\n",
        "    \"\"\"\n",
        "    Recursively strip spaces from strings in a dictionary or list.\n",
        "    \"\"\"\n",
        "    if isinstance(data, dict):\n",
        "        return {k.strip(): strip_spaces(v) if isinstance(v, (dict, list)) else v.strip() if isinstance(v, str) else v for k, v in data.items()}\n",
        "    elif isinstance(data, list):\n",
        "        return [strip_spaces(item) for item in data]\n",
        "    return data\n",
        "\n",
        "def TED_Evaluation(Json_GT_Path, Json_Predicted_Path):\n",
        "    all_scores = []\n",
        "    for x in [x for x in os.listdir(Json_GT_Path) if x.endswith('.json')]:\n",
        "        gt_file_path = os.path.join(Json_GT_Path, x)\n",
        "        pred_file_path = os.path.join(Json_Predicted_Path, x)\n",
        "\n",
        "        if os.path.exists(gt_file_path) and os.path.exists(pred_file_path):\n",
        "            with open(gt_file_path) as f1, open(pred_file_path) as f2:\n",
        "                data1 = json.load(f1)\n",
        "                data2 = json.load(f2)\n",
        "\n",
        "                # Remove spaces in keys and string values\n",
        "                data1 = strip_spaces(data1)\n",
        "                data2 = strip_spaces(data2)\n",
        "\n",
        "                evaluator = JSONParseEvaluator()\n",
        "                score = evaluator.cal_acc(data1, data2)\n",
        "                print(x, \":\", score)\n",
        "                all_scores.append(score)\n",
        "        else:\n",
        "            print(f\"File not found: {x}\")\n",
        "\n",
        "    if all_scores:\n",
        "        print(sum(all_scores))\n",
        "        print(len(all_scores))\n",
        "        print(\"Average Score: \", sum(all_scores) / len(all_scores))\n",
        "    else:\n",
        "        print(\"No scores calculated.\")\n"
      ],
      "metadata": {
        "id": "d1oq7JSJmr5p"
      },
      "execution_count": null,
      "outputs": []
    },
    {
      "cell_type": "code",
      "source": [
        "# Donut on final dataset\n",
        "\n",
        "model_output_path = r\"E:\\Abdul_Muqtadir\\Thesis\\Dataset\\Test_Iamlatex2\\test\"\n",
        "GT_Json_Path = r\"E:\\Abdul_Muqtadir\\Thesis\\Dataset\\Test_Iamlatex2/Idefics2_output\"\n",
        "\n",
        "TED_Evaluation(GT_Json_Path, model_output_path)"
      ],
      "metadata": {
        "colab": {
          "base_uri": "https://localhost:8080/"
        },
        "id": "6YTTVucPoNKE",
        "outputId": "38c0582c-060e-4890-f177-c3fadf961177"
      },
      "execution_count": null,
      "outputs": [
        {
          "output_type": "stream",
          "name": "stdout",
          "text": [
            "generated_template_106.json : 0.6890243902439024\n",
            "generated_template_129.json : 0.7107692307692308\n",
            "generated_template_131.json : 0.7640117994100295\n",
            "generated_template_155.json : 0.7416413373860182\n",
            "generated_template_157.json : 0.9548192771084337\n",
            "generated_template_158.json : 0.9807162534435262\n",
            "generated_template_16.json : 0.7395498392282958\n",
            "generated_template_162.json : 0.9533527696793003\n",
            "generated_template_169.json : 0.8262032085561497\n",
            "generated_template_17.json : 0.9340659340659341\n",
            "generated_template_174.json : 0.8686567164179104\n",
            "generated_template_179.json : 0.8427299703264095\n",
            "generated_template_188.json : 0.6746987951807228\n",
            "generated_template_221.json : 0.8220064724919094\n",
            "generated_template_236.json : 0.7808641975308642\n",
            "generated_template_238.json : 0.6612377850162867\n",
            "generated_template_243.json : 0.7461139896373057\n",
            "generated_template_244.json : 0.8468468468468469\n",
            "generated_template_25.json : 0.7725856697819314\n",
            "generated_template_26.json : 0.571875\n",
            "generated_template_267.json : 0.828125\n",
            "generated_template_268.json : 0.8366013071895425\n",
            "generated_template_269.json : 0.56047197640118\n",
            "generated_template_28.json : 0.540453074433657\n",
            "generated_template_281.json : 0.8450292397660819\n",
            "generated_template_282.json : 0.6890756302521008\n",
            "generated_template_303.json : 0.8583815028901733\n",
            "generated_template_305.json : 0.7803468208092486\n",
            "generated_template_310.json : 0.7580645161290323\n",
            "generated_template_33.json : 0.917981072555205\n",
            "generated_template_341.json : 0.9057142857142857\n",
            "generated_template_346.json : 0.8918128654970761\n",
            "generated_template_349.json : 0.7755775577557755\n",
            "generated_template_356.json : 0.6065573770491803\n",
            "generated_template_365.json : 0.8395061728395061\n",
            "generated_template_377.json : 0.6864406779661016\n",
            "generated_template_378.json : 0.8676470588235294\n",
            "generated_template_383.json : 0.7294117647058824\n",
            "generated_template_389.json : 0.6363636363636364\n",
            "generated_template_394.json : 0.6330532212885154\n",
            "generated_template_395.json : 0.8888888888888888\n",
            "generated_template_40.json : 0.7721518987341772\n",
            "generated_template_403.json : 0.8634920634920635\n",
            "generated_template_409.json : 0.9315476190476191\n",
            "generated_template_412.json : 0.786624203821656\n",
            "generated_template_418.json : 0.8413173652694611\n",
            "generated_template_422.json : 0.7189349112426036\n",
            "generated_template_428.json : 0.8414239482200647\n",
            "generated_template_43.json : 0.7226666666666667\n",
            "generated_template_438.json : 0.7441176470588236\n",
            "generated_template_44.json : 0.7585139318885449\n",
            "generated_template_477.json : 0.8521739130434782\n",
            "generated_template_487.json : 0.8255813953488372\n",
            "generated_template_49.json : 0.7295774647887324\n",
            "generated_template_498.json : 0.9205882352941177\n",
            "generated_template_502.json : 0.7333333333333334\n",
            "generated_template_508.json : 0.8452380952380952\n",
            "generated_template_512.json : 0.7185430463576159\n",
            "generated_template_519.json : 0.474025974025974\n",
            "generated_template_525.json : 0.8535714285714285\n",
            "generated_template_528.json : 0.8136645962732919\n",
            "generated_template_540.json : 0.754325259515571\n",
            "generated_template_544.json : 0.6272189349112426\n",
            "generated_template_545.json : 0.8539682539682539\n",
            "generated_template_547.json : 0.8625730994152047\n",
            "generated_template_565.json : 0.8452380952380952\n",
            "generated_template_575.json : 0.6055045871559632\n",
            "generated_template_579.json : 0.8327137546468402\n",
            "generated_template_58.json : 0.7784810126582279\n",
            "generated_template_581.json : 0.9387755102040817\n",
            "generated_template_582.json : 0.6952908587257618\n",
            "generated_template_602.json : 0.7491749174917492\n",
            "generated_template_609.json : 0.9333333333333333\n",
            "generated_template_61.json : 0.8202247191011236\n",
            "generated_template_616.json : 0.6737160120845922\n",
            "generated_template_642.json : 0.5539772727272727\n",
            "generated_template_643.json : 0.8278145695364238\n",
            "generated_template_649.json : 0.7612903225806451\n",
            "generated_template_673.json : 0.5899705014749262\n",
            "generated_template_684.json : 0.80466472303207\n",
            "generated_template_694.json : 0.6759002770083102\n",
            "generated_template_704.json : 0.6029850746268657\n",
            "generated_template_708.json : 0.8138801261829653\n",
            "generated_template_724.json : 0.8843930635838151\n",
            "generated_template_73.json : 0.7581699346405228\n",
            "generated_template_731.json : 0.833810888252149\n",
            "generated_template_755.json : 0.6811594202898551\n",
            "generated_template_764.json : 0.9137931034482758\n",
            "generated_template_773.json : 0.9476923076923077\n",
            "generated_template_776.json : 0.7395498392282958\n",
            "generated_template_777.json : 0.8664596273291926\n",
            "generated_template_79.json : 0.8597560975609756\n",
            "generated_template_8.json : 0.8626865671641791\n",
            "generated_template_807.json : 0.8228571428571428\n",
            "generated_template_812.json : 0.5529411764705883\n",
            "generated_template_814.json : 0.7629179331306991\n",
            "generated_template_826.json : 0.7197802197802198\n",
            "generated_template_831.json : 0.7848837209302326\n",
            "generated_template_88.json : 0.7815384615384615\n",
            "generated_template_93.json : 0.7044198895027625\n",
            "77.78219147717533\n",
            "100\n",
            "Average Score:  0.7778219147717533\n"
          ]
        }
      ]
    },
    {
      "cell_type": "code",
      "source": [],
      "metadata": {
        "id": "vh7Dq7wiojRn"
      },
      "execution_count": null,
      "outputs": []
    }
  ]
}